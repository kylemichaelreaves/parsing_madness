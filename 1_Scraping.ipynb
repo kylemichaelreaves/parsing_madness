{
 "cells": [
  {
   "cell_type": "markdown",
   "id": "statistical-suffering",
   "metadata": {},
   "source": [
    "# 1. Scraping qdrops.online with BeautifulSoup and parsing its content\n",
    "## 1.1 capturing\n",
    "the text we want is contained within this tag hiearcharchy: \n",
    "- div message -> text -> string if not None & p \n",
    "- div message -> div op -> string \n",
    "- div message -> abbr title, abbr.text\n",
    "- meta lar -> span: time, name, source, num\n",
    "\n",
    "### prematurely calling text or get_text() on div_text will render unnecessary text, text we'd later have to clean\n",
    "\n",
    "### tags to extract():\n",
    "- hyperlinks: https?\\S+\\b, www, twitter, instagram, etc (inevitably will have to regex)\n",
    "- a href\n",
    "- figure\n",
    "- figcaption\n",
    "- images\n",
    "- div op containing no text or string\n",
    "- replace punct with a single space, then replace spaces longer than 1 space with a single space\n",
    "- it also might make things easier tokenizing them before hand\n",
    "### cleaning \n",
    "- sub hyperlinks\n",
    "- lower text\n",
    "- split text \n",
    "- sub punctuation\n",
    "- sub digits \n",
    "- join split words back into string\n",
    "- append strings to list if strings \n",
    "- return list of cleaned strings \n",
    "## Recurring Problems\n",
    "### inconsistent tag use: br, p, text, abbr \n",
    "- many more tags could have been abbreviated or propertied with its value\n",
    "- pickling exceeds maximum recursion; solved by sys.get and set a higher recursion limit\n",
    "- runtime of requests is > 1 min: solved by loading the pickled object\n",
    "- unwanted text from hyperlinks, figcaptions, etc; solved by using BeautifulSoup extract() on unwanted objects"
   ]
  },
  {
   "cell_type": "code",
   "execution_count": 1,
   "id": "ready-layer",
   "metadata": {},
   "outputs": [],
   "source": [
    "import requests\n",
    "import nltk\n",
    "import os, sys\n",
    "import itertools\n",
    "import re, string\n",
    "import pandas as pd\n",
    "import pickle\n",
    "import timeit\n",
    "\n",
    "from string import punctuation, digits\n",
    "from collections import Counter\n",
    "from bs4 import BeautifulSoup, NavigableString, Tag\n",
    "from string import punctuation, digits\n",
    "from nltk.stem import WordNetLemmatizer\n",
    "from nltk.corpus import stopwords\n",
    "from nltk.cluster.util import cosine_distance\n",
    "from nltk import RegexpParser, Tree\n",
    "from nltk.util import ngrams\n",
    "\n",
    "punctuation += str('’‘–…“”')\n",
    "pd.set_option('display.max_colwidth', None)"
   ]
  },
  {
   "source": [
    "We don't have to execute the following cell, we can skip to opening the pickled object"
   ],
   "cell_type": "markdown",
   "metadata": {}
  },
  {
   "cell_type": "code",
   "execution_count": 3,
   "metadata": {},
   "outputs": [
    {
     "output_type": "execute_result",
     "data": {
      "text/plain": [
       "\"%%time\\nbase_url = 'https://qposts.online/page/' \\nurls = [base_url+str(i) for i in range(1, 105)]\\npage_requests = [requests.get(url) for url in urls]\\nsoups = [BeautifulSoup(page.text, 'html.parser') for page in page_requests]\\nmessages_original = [soups[i].findAll('div', 'message') for i in range(0, len(soups))]\\nmessages_flat = list(itertools.chain.from_iterable(messages))\\nmeta_lar = [soups[i].findAll('div', 'meta lar') for i in range(0, len(soups))]\""
      ]
     },
     "metadata": {},
     "execution_count": 3
    }
   ],
   "source": [
    "'''%%time\n",
    "base_url = 'https://qposts.online/page/' \n",
    "urls = [base_url+str(i) for i in range(1, 105)]\n",
    "page_requests = [requests.get(url) for url in urls]\n",
    "soups = [BeautifulSoup(page.text, 'html.parser') for page in page_requests]\n",
    "messages_original = [soups[i].findAll('div', 'message') for i in range(0, len(soups))]\n",
    "messages_flat = list(itertools.chain.from_iterable(messages))\n",
    "meta_lar = [soups[i].findAll('div', 'meta lar') for i in range(0, len(soups))]'''"
   ]
  },
  {
   "cell_type": "code",
   "execution_count": 2,
   "metadata": {},
   "outputs": [
    {
     "output_type": "execute_result",
     "data": {
      "text/plain": [
       "'/Users/kylereaves/Documents/GitHub/parsing_madness'"
      ]
     },
     "metadata": {},
     "execution_count": 2
    }
   ],
   "source": [
    "os.getcwd()"
   ]
  },
  {
   "cell_type": "code",
   "execution_count": 3,
   "metadata": {},
   "outputs": [],
   "source": [
    "index_df = pd.read_pickle('index_df.pkl')\n",
    "index_df.number = index_df.number.astype('int')\n",
    "date = [index_df.datetime[i].date() for i in range(0, len(index_df.datetime))]\n",
    "time = [index_df.datetime[i].time() for i in range(0, len(index_df.datetime))]\n",
    "dt_index = pd.MultiIndex.from_arrays([date, time])"
   ]
  },
  {
   "cell_type": "code",
   "execution_count": 139,
   "metadata": {},
   "outputs": [
    {
     "output_type": "stream",
     "name": "stdout",
     "text": [
      "CPU times: user 15.8 s, sys: 428 ms, total: 16.3 s\nWall time: 16.4 s\n"
     ]
    }
   ],
   "source": [
    "%%time \n",
    "with open('messages_flat.pkl', 'rb') as f:\n",
    "    messages = pickle.load(f)\n",
    "with open('meta_flat.pkl', 'rb') as f:\n",
    "    meta_lar = pickle.load(f)"
   ]
  },
  {
   "cell_type": "code",
   "execution_count": 5,
   "metadata": {},
   "outputs": [
    {
     "output_type": "stream",
     "name": "stdout",
     "text": [
      "CPU times: user 1.84 ms, sys: 1.36 ms, total: 3.2 ms\nWall time: 8.14 ms\n"
     ]
    }
   ],
   "source": [
    "%%time\n",
    "with open('names_joined.pkl', 'rb') as f:\n",
    "    names = pickle.load(f)\n",
    "with open('sources_joined.pkl', 'rb') as f:\n",
    "    sources = pickle.load(f)"
   ]
  },
  {
   "cell_type": "code",
   "execution_count": 8,
   "metadata": {},
   "outputs": [],
   "source": [
    "# if an item in Messages.split(i) is in replace_dict.keys(), replace i (the key) with its value\n",
    "replace_dict = {' w ': 'with',\n",
    " '&': 'and',\n",
    " 'AUTH': 'authorization',\n",
    " 'BRENNAN': 'John Brennan',\n",
    " 'COVID19': 'covid',\n",
    " 'D': 'Democrats',\n",
    " 'GOOG': 'Google',\n",
    " \"Gov't\": 'government',\n",
    " 'HUSSEIN': 'Barack Obama',\n",
    " 'ID': 'identification',\n",
    " 'KERRY': 'John Kerry',\n",
    " \"M's\": 'marshalls',\n",
    " 'MERKEL': 'Angela Merkel',\n",
    " 'MS-13': 'ms thirteen',\n",
    " 'MSM': 'mainstream media',\n",
    " 'No Such Agency': 'NSA',\n",
    " 'Russia>D': 'Russia Democrats',\n",
    " 'SA': 'Saudi Arabia',\n",
    " 'U S Gov t': 'United States government',\n",
    " 'U.S.': 'United States',\n",
    " 'US': 'United States',\n",
    " '[D]': 'Democratic',\n",
    " 'comms': 'communications',\n",
    " \"d's\": 'democrats',\n",
    " 'ds': 'democrats',\n",
    " 'financial T': 'financial transactions',\n",
    " 'r v d': 'republicans vs democrats',\n",
    " \"r's\": 'republicans',\n",
    " 'rs': 'republicans',\n",
    " 'v': 'versus',\n",
    " 'v2': 'version two',\n",
    " 'w/': 'with'}"
   ]
  },
  {
   "cell_type": "code",
   "execution_count": 7,
   "metadata": {},
   "outputs": [],
   "source": [
    "class Spans:\n",
    "    def __init__(self):\n",
    "        pass\n",
    "\n",
    "    def nums():\n",
    "        nums = [meta_lar[i].find('span', 'num').get_text() for i in range(0, len(meta_lar))]\n",
    "        return nums\n",
    "                \n",
    "    def sources():\n",
    "        sources = [meta_lar[i].find('span', 'source').get_text() for i in range(0, len(meta_lar))]\n",
    "        links = [meta_lar[i].find('span', 'source').contents[-1].get('href') for i in range(0, len(meta_lar))]\n",
    "        return sources\n",
    "    \n",
    "    def names():\n",
    "        names = [meta_lar[i].find('span', 'name').get_text() for i in range(0, len(meta_lar))]\n",
    "        return names\n",
    "                      \n",
    "    def dates():\n",
    "        date_list = [meta_lar[i].find('span', 'time').get_text()for i in range(0, len(meta_lar))]\n",
    "        dt_idx = pd.to_datetime(date_list, origin='unix', unit='s')\n",
    "        return dt_idx"
   ]
  },
  {
   "cell_type": "code",
   "execution_count": 462,
   "metadata": {},
   "outputs": [],
   "source": [
    "class Messages(object):\n",
    "    def __init__(self):\n",
    "        pass\n",
    "\n",
    "    def get(integer: int):\n",
    "        msg_list = []\n",
    "\n",
    "        for item in messages[integer]:\n",
    "            \n",
    "            if isinstance(item, NavigableString) and item.name is None:\n",
    "                msg_list.append(item)\n",
    "            \n",
    "            if isinstance(item, Tag) and item.name == 'p':\n",
    "                msg_list.append(item.string)\n",
    "            \n",
    "            if isinstance(item, Tag) and item.name == 'div' and item.attrs == {'class': ['text']}:\n",
    "                msg_list.append(item.text)\n",
    "\n",
    "            if isinstance(item, Tag) and item.name == 'abbr':\n",
    "                msg_list.append(item.text)\n",
    "            \n",
    "            for div_images in messages[integer].findAll('div', class_='images'):\n",
    "                div_images.extract()\n",
    "            for a_ref in messages[integer].findAll('a', class_='ref'):\n",
    "                a_ref.extract()\n",
    "            for a_href in messages[integer].findAll('a', class_='href'):\n",
    "                a_ref.extract()\n",
    "            for empty_line in messages[integer].findAll('p', class_='body-line empty'):\n",
    "                empty_line.extract()\n",
    "            for br_tag in messages[integer].findAll('br'):\n",
    "                br_tag.replace_with(' ')\n",
    "\n",
    "        cleaned = [item for item in msg_list if item != ' ' and item is not None]\n",
    "        cleaned2x = [item for item in cleaned if not item.startswith('https') and not item.startswith('in.') and not item.startswith('www')]\n",
    "        return cleaned2x\n",
    "\n",
    "    def dataframe(integer: int):\n",
    "        df = pd.DataFrame({'type': [type(i) for i in messages[integer]],\n",
    "                           'name': [i.name for i in messages[integer]],\n",
    "                           'content': [i for i in messages[integer]]})\n",
    "        return df\n",
    "\n",
    "    def get_abbr(integer:int): \n",
    "        return Messages.dataframe(integer)[Messages.dataframe(integer).name == 'abbr']\n",
    "    \n",
    "    def info(integer:int):\n",
    "        return index_df[index_df.number == integer]\n",
    "\n",
    "    def sents(integer: int):\n",
    "        return nltk.sent_tokenize(' '.join(Messages.get(integer))) \n",
    "      \n",
    "    def joined(integer: int):\n",
    "        return ' '.join(Messages.get(integer))\n",
    "        \n",
    "    def split(integer: int):\n",
    "        return Messages.joined(integer).split()"
   ]
  },
  {
   "source": [
    "### using string with p tags saves us subing hyperlinks\n",
    "### add a conditional statement on the end to pop None from list"
   ],
   "cell_type": "markdown",
   "metadata": {}
  },
  {
   "cell_type": "code",
   "execution_count": 340,
   "metadata": {},
   "outputs": [],
   "source": [
    "def flatten(integer: int):\n",
    "    outter_list, cleaned_list = [], []\n",
    "    for items in Messages.split(integer):\n",
    "        if items.startswith('https') or items.startswith('in.') or items.startswith('www'):\n",
    "            continue\n",
    "        for char in items:\n",
    "            if char == '/' or char == '-' or char == '][' or char == '>':\n",
    "                items = re.sub(char, ' ', items)\n",
    "        else:\n",
    "            outter_list.append(items)\n",
    "\n",
    "    for i in nltk.sent_tokenize(' '.join(outter_list)):\n",
    "        i = re.sub('[%s]' % re.escape(string.punctuation), '', i)\n",
    "        i = re.sub('[%s]' % re.escape(string.digits), '', i)\n",
    "        cleaned_list.append(i)\n",
    "    words = [nltk.word_tokenize(i.strip()) for i in cleaned_list]\n",
    "    flat = list(itertools.chain.from_iterable(words))\n",
    "    return flat"
   ]
  },
  {
   "cell_type": "code",
   "execution_count": 335,
   "metadata": {},
   "outputs": [],
   "source": [
    "def clean(integer: int):\n",
    "    cleaned = [re.sub('/', ' ', item) for item in Messages.get(integer)]\n",
    "    cleaned = [re.sub('-', ' ', item) for item in cleaned]\n",
    "    cleaned = [re.sub('\\]\\[', ' ', item) for item in cleaned]\n",
    "    cleaned = [re.sub('[%s]' % re.escape(string.punctuation), '', item) for item in cleaned]\n",
    "    cleaned = [re.sub('[%s]' % re.escape(string.digits), '', item) for item in cleaned]\n",
    "    cleaned = [item.strip() for item in cleaned]\n",
    "    cleaned = [item for item in cleaned if item]\n",
    "    cleaned = [nltk.word_tokenize(item) for item in cleaned]\n",
    "    cleaned = [' '.join(item) for item in cleaned]\n",
    "    return cleaned"
   ]
  },
  {
   "cell_type": "code",
   "execution_count": 338,
   "metadata": {},
   "outputs": [
    {
     "output_type": "execute_result",
     "data": {
      "text/plain": [
       "['HRC  extradition already in motion effective yesterday with several countries in case of cross border run.',\n",
       " 'Passport approved to be flagged effective 10/30 @ 12:01am.',\n",
       " 'Expect massive riots organized in defiance and others fleeing the US to occur.',\n",
       " 'US M’s will conduct the operation while  NG  activated.',\n",
       " 'Proof check: Locate a  NG  member and ask if activated for duty 10/30 across most major cities.']"
      ]
     },
     "metadata": {},
     "execution_count": 338
    }
   ],
   "source": [
    "Messages.sents(4952)"
   ]
  },
  {
   "cell_type": "code",
   "execution_count": 447,
   "metadata": {},
   "outputs": [
    {
     "output_type": "execute_result",
     "data": {
      "text/plain": [
       "['Look HERE [RUSSIA]',\n",
       " 'DO NOT LOOK HERE [CHINA]',\n",
       " 'Worth 43 minutes of your time.',\n",
       " 'FAKE NEWS WILL NEVER REPORT.',\n",
       " 'Important to understand going forward.',\n",
       " 'FACTS MATTER.',\n",
       " 'Q']"
      ]
     },
     "metadata": {},
     "execution_count": 447
    }
   ],
   "source": [
    "Messages.get(2602)"
   ]
  },
  {
   "cell_type": "code",
   "execution_count": 355,
   "metadata": {},
   "outputs": [
    {
     "output_type": "execute_result",
     "data": {
      "text/plain": [
       "['Shall',\n",
       " 'we',\n",
       " 'play',\n",
       " 'a',\n",
       " 'game',\n",
       " 'Nothing',\n",
       " 'Can',\n",
       " 'Stop',\n",
       " 'What',\n",
       " 'Is',\n",
       " 'Coming',\n",
       " 'NCSWIC',\n",
       " 'Who',\n",
       " 'stepped',\n",
       " 'down',\n",
       " 'today',\n",
       " 'forced',\n",
       " 'More',\n",
       " 'coming',\n",
       " 'Why',\n",
       " 'is',\n",
       " 'this',\n",
       " 'relevant',\n",
       " 'How',\n",
       " 'do',\n",
       " 'you',\n",
       " 'show',\n",
       " 'the',\n",
       " 'public',\n",
       " 'the',\n",
       " 'truth',\n",
       " 'How',\n",
       " 'do',\n",
       " 'you',\n",
       " 'safeguard',\n",
       " 'US',\n",
       " 'elections',\n",
       " 'post',\n",
       " 'POTUS',\n",
       " 'How',\n",
       " 'do',\n",
       " 'you',\n",
       " 'remove',\n",
       " 'foreign',\n",
       " 'interference',\n",
       " 'and',\n",
       " 'corruption',\n",
       " 'and',\n",
       " 'install',\n",
       " 'US',\n",
       " 'owned',\n",
       " 'voter',\n",
       " 'ID',\n",
       " 'laws',\n",
       " 'and',\n",
       " 'other',\n",
       " 'safeguards',\n",
       " 'It',\n",
       " 'had',\n",
       " 'to',\n",
       " 'be',\n",
       " 'this',\n",
       " 'way',\n",
       " 'Sometimes',\n",
       " 'you',\n",
       " 'must',\n",
       " 'walk',\n",
       " 'through',\n",
       " 'the',\n",
       " 'darkness',\n",
       " 'before',\n",
       " 'you',\n",
       " 'see',\n",
       " 'the',\n",
       " 'light',\n",
       " 'Q']"
      ]
     },
     "metadata": {},
     "execution_count": 355
    }
   ],
   "source": [
    "swap(2)"
   ]
  },
  {
   "cell_type": "code",
   "execution_count": 284,
   "metadata": {},
   "outputs": [],
   "source": [
    "def alt_swap(integer: int):\n",
    "    \n",
    "    for item_list in [nltk.word_tokenize(word) for word in clean(integer)]:\n",
    "        for item in item_list:\n",
    "            if item in replace_dict.keys():\n",
    "                item = replace_dict.get(item)\n",
    "            elif item not in replace_dict.keys():\n",
    "                item = item\n",
    "\n",
    "            print(item)"
   ]
  },
  {
   "cell_type": "code",
   "execution_count": 357,
   "metadata": {},
   "outputs": [
    {
     "output_type": "stream",
     "name": "stdout",
     "text": [
      "Shall\nwe\nplay\na\ngame\nNothing\nCan\nStop\nWhat\nIs\nComing\nNCSWIC\nWho\nstepped\ndown\ntoday\nforced\nMore\ncoming\nWhy\nis\nthis\nrelevant\nHow\ndo\nyou\nshow\nthe\npublic\nthe\ntruth\nHow\ndo\nyou\nsafeguard\nUnited States\nelections\npost\nPOTUS\nHow\ndo\nyou\nremove\nforeign\ninterference\nand\ncorruption\nand\ninstall\nUnited States\nowned\nvoter\nidentification\nlaws\nand\nother\nsafeguards\nIt\nhad\nto\nbe\nthis\nway\nSometimes\nyou\nmust\nwalk\nthrough\nthe\ndarkness\nbefore\nyou\nsee\nthe\nlight\nQ\n"
     ]
    }
   ],
   "source": [
    "alt_swap(2)"
   ]
  },
  {
   "cell_type": "code",
   "execution_count": 193,
   "metadata": {},
   "outputs": [],
   "source": [
    "replace_dict.update({'U S Gov t': 'United States government'})"
   ]
  },
  {
   "cell_type": "code",
   "execution_count": 41,
   "metadata": {},
   "outputs": [
    {
     "output_type": "execute_result",
     "data": {
      "text/plain": [
       "['Fact checkers created in effort to reinforce propaganda [digestion]?',\n",
       " 'The battle to prevent truth from reaching the people.',\n",
       " 'The battle to maintain and push division.',\n",
       " 'Divided you are weak.',\n",
       " 'Divided you fight each other.',\n",
       " 'Divided you pose no threat.',\n",
       " 'System of control.',\n",
       " 'Information warfare.',\n",
       " 'Q']"
      ]
     },
     "metadata": {},
     "execution_count": 41
    }
   ],
   "source": [
    "[i.string for i in messages[10].div if i.string is not None]"
   ]
  },
  {
   "cell_type": "code",
   "execution_count": 342,
   "metadata": {},
   "outputs": [
    {
     "output_type": "stream",
     "name": "stdout",
     "text": [
      "True\nTrue\nTrue\nTrue\nTrue\nTrue\nTrue\nTrue\nTrue\nTrue\n"
     ]
    }
   ],
   "source": [
    "for i in messages[10].div:\n",
    "    print(i.name == 'p')"
   ]
  },
  {
   "cell_type": "code",
   "execution_count": 343,
   "metadata": {},
   "outputs": [
    {
     "output_type": "execute_result",
     "data": {
      "text/plain": [
       "[True, True, True, True, True, True, True, True, True, True]"
      ]
     },
     "metadata": {},
     "execution_count": 343
    }
   ],
   "source": [
    "[i.name == 'p' for i in messages[10].div]"
   ]
  },
  {
   "cell_type": "code",
   "execution_count": 344,
   "metadata": {},
   "outputs": [
    {
     "output_type": "execute_result",
     "data": {
      "text/plain": [
       "[True, True, True, True, True, True, True, True, True, True]"
      ]
     },
     "metadata": {},
     "execution_count": 344
    }
   ],
   "source": [
    "[i.name == 'p' for i in messages[10].div.children]"
   ]
  },
  {
   "cell_type": "code",
   "execution_count": 345,
   "metadata": {},
   "outputs": [
    {
     "output_type": "execute_result",
     "data": {
      "text/plain": [
       "['Fact checkers created in effort to reinforce propaganda [digestion]?',\n",
       " 'The battle to prevent truth from reaching the people.',\n",
       " 'The battle to maintain and push division.',\n",
       " 'Divided you are weak.',\n",
       " 'Divided you fight each other.',\n",
       " 'Divided you pose no threat.',\n",
       " 'System of control.',\n",
       " 'Information warfare.',\n",
       " 'Q']"
      ]
     },
     "metadata": {},
     "execution_count": 345
    }
   ],
   "source": [
    "[i.string for i in messages[10].div if i.string is not None]"
   ]
  },
  {
   "cell_type": "code",
   "execution_count": 346,
   "metadata": {},
   "outputs": [
    {
     "output_type": "execute_result",
     "data": {
      "text/plain": [
       "['Shall we play a game?',\n",
       " '[N]othing [C]an [S]top [W]hat [I]s [C]oming',\n",
       " 'NCSWIC',\n",
       " 'Who stepped down today [forced]?',\n",
       " 'More coming?',\n",
       " 'Why is this relevant?',\n",
       " \"How do you 'show' the public the truth?\",\n",
       " \"How do you 'safeguard' US elections post-POTUS?\",\n",
       " \"How do you 'remove' foreign interference and corruption and install US-owned voter ID law(s) and other safeguards? \",\n",
       " 'It had to be this way.',\n",
       " 'Sometimes you must walk through the darkness before you see the light. ',\n",
       " 'Q']"
      ]
     },
     "metadata": {},
     "execution_count": 346
    }
   ],
   "source": [
    "[i.string for i in messages[2].div if i.string is not None]"
   ]
  },
  {
   "cell_type": "code",
   "execution_count": 347,
   "metadata": {},
   "outputs": [
    {
     "output_type": "execute_result",
     "data": {
      "text/plain": [
       "['Shall we play a game?',\n",
       " '[N]othing [C]an [S]top [W]hat [I]s [C]oming NCSWIC Who stepped down today [forced]?',\n",
       " 'More coming?',\n",
       " 'Why is this relevant?',\n",
       " \"How do you 'show' the public the truth?\",\n",
       " \"How do you 'safeguard' US elections post-POTUS?\",\n",
       " \"How do you 'remove' foreign interference and corruption and install US-owned voter ID law(s) and other safeguards?\",\n",
       " 'It had to be this way.',\n",
       " 'Sometimes you must walk through the darkness before you see the light.',\n",
       " 'Q']"
      ]
     },
     "metadata": {},
     "execution_count": 347
    }
   ],
   "source": [
    "Messages.sents(2)"
   ]
  },
  {
   "source": [
    "## It might be necessary to do a target swap in the case of this line which has caused a lot of problems\n"
   ],
   "cell_type": "markdown",
   "metadata": {}
  },
  {
   "cell_type": "code",
   "execution_count": 352,
   "metadata": {},
   "outputs": [
    {
     "output_type": "execute_result",
     "data": {
      "text/plain": [
       "'Nothing Can Stop What Is Coming'"
      ]
     },
     "metadata": {},
     "execution_count": 352
    }
   ],
   "source": [
    "re.sub('[%s]'% re.escape(string.punctuation), '', Messages.get(2)[1])"
   ]
  },
  {
   "cell_type": "code",
   "execution_count": 349,
   "metadata": {},
   "outputs": [
    {
     "output_type": "execute_result",
     "data": {
      "text/plain": [
       "                                      type  name  \\\n",
       "0    <class 'bs4.element.NavigableString'>  None   \n",
       "1                <class 'bs4.element.Tag'>    em   \n",
       "2    <class 'bs4.element.NavigableString'>  None   \n",
       "3    <class 'bs4.element.NavigableString'>  None   \n",
       "4    <class 'bs4.element.NavigableString'>  None   \n",
       "..                                     ...   ...   \n",
       "127  <class 'bs4.element.NavigableString'>  None   \n",
       "128  <class 'bs4.element.NavigableString'>  None   \n",
       "129  <class 'bs4.element.NavigableString'>  None   \n",
       "130  <class 'bs4.element.NavigableString'>  None   \n",
       "131  <class 'bs4.element.NavigableString'>  None   \n",
       "\n",
       "                                                                                                                                  content  \n",
       "0                                                                                                                                  https:  \n",
       "1                                                                                                                                    [//]  \n",
       "2    in.reuters.com/article/iran-economy-rouhani-sanctions/iran-parliament-censures-rouhani-in-sign-pragmatists-losing-sway-idINKCN1LD0DL  \n",
       "3                                                                                                                                          \n",
       "4                                                                                                                        [Hassan Rouhani]  \n",
       "..                                                                                                                                    ...  \n",
       "127                                                                                                                                        \n",
       "128                                                                                                                  Nothing to See Here.  \n",
       "129                                                                                                                                        \n",
       "130                                                                                                                                     Q  \n",
       "131                                                                                                                                        \n",
       "\n",
       "[132 rows x 3 columns]"
      ],
      "text/html": "<div>\n<style scoped>\n    .dataframe tbody tr th:only-of-type {\n        vertical-align: middle;\n    }\n\n    .dataframe tbody tr th {\n        vertical-align: top;\n    }\n\n    .dataframe thead th {\n        text-align: right;\n    }\n</style>\n<table border=\"1\" class=\"dataframe\">\n  <thead>\n    <tr style=\"text-align: right;\">\n      <th></th>\n      <th>type</th>\n      <th>name</th>\n      <th>content</th>\n    </tr>\n  </thead>\n  <tbody>\n    <tr>\n      <th>0</th>\n      <td>&lt;class 'bs4.element.NavigableString'&gt;</td>\n      <td>None</td>\n      <td>https:</td>\n    </tr>\n    <tr>\n      <th>1</th>\n      <td>&lt;class 'bs4.element.Tag'&gt;</td>\n      <td>em</td>\n      <td>[//]</td>\n    </tr>\n    <tr>\n      <th>2</th>\n      <td>&lt;class 'bs4.element.NavigableString'&gt;</td>\n      <td>None</td>\n      <td>in.reuters.com/article/iran-economy-rouhani-sanctions/iran-parliament-censures-rouhani-in-sign-pragmatists-losing-sway-idINKCN1LD0DL</td>\n    </tr>\n    <tr>\n      <th>3</th>\n      <td>&lt;class 'bs4.element.NavigableString'&gt;</td>\n      <td>None</td>\n      <td></td>\n    </tr>\n    <tr>\n      <th>4</th>\n      <td>&lt;class 'bs4.element.NavigableString'&gt;</td>\n      <td>None</td>\n      <td>[Hassan Rouhani]</td>\n    </tr>\n    <tr>\n      <th>...</th>\n      <td>...</td>\n      <td>...</td>\n      <td>...</td>\n    </tr>\n    <tr>\n      <th>127</th>\n      <td>&lt;class 'bs4.element.NavigableString'&gt;</td>\n      <td>None</td>\n      <td></td>\n    </tr>\n    <tr>\n      <th>128</th>\n      <td>&lt;class 'bs4.element.NavigableString'&gt;</td>\n      <td>None</td>\n      <td>Nothing to See Here.</td>\n    </tr>\n    <tr>\n      <th>129</th>\n      <td>&lt;class 'bs4.element.NavigableString'&gt;</td>\n      <td>None</td>\n      <td></td>\n    </tr>\n    <tr>\n      <th>130</th>\n      <td>&lt;class 'bs4.element.NavigableString'&gt;</td>\n      <td>None</td>\n      <td>Q</td>\n    </tr>\n    <tr>\n      <th>131</th>\n      <td>&lt;class 'bs4.element.NavigableString'&gt;</td>\n      <td>None</td>\n      <td></td>\n    </tr>\n  </tbody>\n</table>\n<p>132 rows × 3 columns</p>\n</div>"
     },
     "metadata": {},
     "execution_count": 349
    }
   ],
   "source": [
    " # dropping rows with the index accessor if their name == 'br\n",
    " Messages.dataframe(3005).drop(Messages.dataframe(3005)[Messages.dataframe(3005).name == 'br'].index)"
   ]
  },
  {
   "cell_type": "code",
   "execution_count": 358,
   "metadata": {},
   "outputs": [
    {
     "output_type": "execute_result",
     "data": {
      "text/plain": [
       "['Fact checkers created in effort to reinforce propaganda [digestion]?',\n",
       " 'The battle to prevent truth from reaching the people.',\n",
       " 'The battle to maintain and push division.',\n",
       " 'Divided you are weak.',\n",
       " 'Divided you fight each other.',\n",
       " 'Divided you pose no threat.',\n",
       " 'System of control.',\n",
       " 'Information warfare.',\n",
       " 'Q']"
      ]
     },
     "metadata": {},
     "execution_count": 358
    }
   ],
   "source": [
    "Messages.get(10)"
   ]
  },
  {
   "cell_type": "code",
   "execution_count": 97,
   "metadata": {},
   "outputs": [
    {
     "output_type": "execute_result",
     "data": {
      "text/plain": [
       "['Fact checkers created in effort to reinforce propaganda [digestion]?',\n",
       " 'The battle to prevent truth from reaching the people.',\n",
       " 'The battle to maintain and push division.',\n",
       " 'Divided you are weak.',\n",
       " 'Divided you fight each other.',\n",
       " 'Divided you pose no threat.',\n",
       " 'System of control.',\n",
       " 'Information warfare.',\n",
       " 'Q']"
      ]
     },
     "metadata": {},
     "execution_count": 97
    }
   ],
   "source": [
    "list(itertools.chain.from_iterable([nltk.sent_tokenize(i) for i in Messages.get(10)]))"
   ]
  },
  {
   "cell_type": "code",
   "execution_count": 297,
   "metadata": {},
   "outputs": [
    {
     "output_type": "execute_result",
     "data": {
      "text/plain": [
       "['strong', None]"
      ]
     },
     "metadata": {},
     "execution_count": 297
    }
   ],
   "source": [
    "[i.name for i in meta_lar[1].find('span', 'name').children]"
   ]
  },
  {
   "cell_type": "code",
   "execution_count": 298,
   "metadata": {},
   "outputs": [
    {
     "output_type": "stream",
     "name": "stdout",
     "text": [
      "MSM\nID\nID\nSA\n"
     ]
    }
   ],
   "source": [
    "for item in clean(4800):\n",
    "    if item in replace_dict.keys():\n",
    "        print(item)"
   ]
  },
  {
   "cell_type": "code",
   "execution_count": 299,
   "metadata": {},
   "outputs": [
    {
     "output_type": "execute_result",
     "data": {
      "text/plain": [
       "[18, 24, 27, 33]"
      ]
     },
     "metadata": {},
     "execution_count": 299
    }
   ],
   "source": [
    "[i for i,e in enumerate(clean(4800)) if e in replace_dict.keys()]"
   ]
  },
  {
   "cell_type": "code",
   "execution_count": 300,
   "metadata": {},
   "outputs": [],
   "source": [
    "index_list = [i for i,e in enumerate(Messages.split(4800)) if e in replace_dict.keys()]"
   ]
  },
  {
   "cell_type": "code",
   "execution_count": 301,
   "metadata": {},
   "outputs": [
    {
     "output_type": "execute_result",
     "data": {
      "text/plain": [
       "['&', 'MSM', 'ID', 'ID', 'SA']"
      ]
     },
     "metadata": {},
     "execution_count": 301
    }
   ],
   "source": [
    "[e for i,e in enumerate(Messages.split(4800)) if i in index_list]"
   ]
  },
  {
   "cell_type": "code",
   "execution_count": 302,
   "metadata": {},
   "outputs": [
    {
     "output_type": "stream",
     "name": "stdout",
     "text": [
      "How\nbad\nis\nthe\ncorruption?\nFBI\n(past/present)\n#1\n#1\n#2\n+29\n(16)\nDOJ\n(past/present)\n#1\n#1\n#2\n+18\nSTATE\n(past/present)\n#1\n#1\n+41\nRemoval\nis\nthe\nleast\nof\ntheir\nproblems.\nProjection.\nRussia>D/\nHRC\nTwitter\nBots>\nGoogle\noperated\n(not\nRussia)/Narrative\nand\nPolitical\nSLANT\nBIDEN\n/\nCHINA.\nBIG\nDEVELOPMENT.\nTRAITORS\nEVERYWHERE.\nAMERICA\nFOR\nSALE.\nFLYNN.\nTargeted.\nWhy?\nWho\nknows\nwhere\nthe\nbodies\nare\nburied?\nCLEARED\nOF\nALL\nCHARGES.\nTRUMP\nADMIN\nv2?\nElection\ntheft.\nLast\nhope.\nCongressional\nfocus.\nImpeach.\nThey\nthink\nyou\nare\nSTUPID.\nThey\nthink\nyou\nwill\nfollow\nthe\nSTARS.\nThey\nopenly\ncall\nyou\nSHEEP/CATTLE.\nTHERE\nWILL\nCOME\nA\nTIME\nNONE\nOF\nTHEM\nWILL\nBE\nABLE\nTO\nWALK\nDOWN\nTHE\nSTREET.\nBIGGEST\nFEAR.\nPUBLIC\nAWAKENING.\nQ\n"
     ]
    }
   ],
   "source": [
    "# How we will implement the swap when the words are broken down as far as they can go, ie when there aren't any - or / separating words\n",
    "for item in Messages.split(4000):\n",
    "    if item in replace_dict.keys():\n",
    "        item =  replace_dict.get(item)\n",
    "        print(item)\n",
    "    else:\n",
    "        print(item)"
   ]
  },
  {
   "cell_type": "code",
   "execution_count": 303,
   "metadata": {},
   "outputs": [
    {
     "output_type": "stream",
     "name": "stdout",
     "text": [
      "Hassan\nRouhani\nWho\npaid\nBarack Obama\nto\nattend\nHARVARD\nLAW\nSCHOOL\nWho\nis\nPrince\nAlwaleed\nbin\nTalal\nWhy\nwould\nPrince\nAlwaleed\nbin\nTalal\nSaudi\nRoyal\npay\nBarack Obama\nto\nattend\nHARVARD\nLAW\nSCHOOL\nWas\nBarack Obama\na\nprominent\npolitical\nfigure\nor\na\nperson\nof\ninfluence\nat\nthe\ntime\nNo\nWho\nis\nValerie\nJarrett\nWhere\nwas\nshe\nborn\nWhen\ndid\nValerie\nJarrett\nhire\nMichelle\nRobinson\nTimeline\nWho\nis\nMayor\nformer\nRichard\nDaley\nWho\nis\nMayor\ncurrent\nRahm\nEmanuel\nBarack Obama\nshould\nbe\nVERY\nnervous\nJohn Brennan\nshould\nbe\nVERY\nnervous\nJohn Kerry\nshould\nbe\nVERY\nnervous\nAngela Merkel\nshould\nbe\nVERY\nnervous\nHow\nwere\nthe\npallets\nof\ncash\ndivided\nHow\nmany\nplanes\nwere\nused\nto\ntransport\nWho\noperated\nthe\nplanes\nWhat\nshadow\nagency\ndirected\noperations\nWhy\nwasnt\nthe\nmoney\nsimply\nwire\ntransferred\nUnited States\nhad\nauthorization\nto\nopen\nbank\nto\nbank\ntransfers\nHow\ndo\nyou\nprevent\nfinancial\nT\nlogs\nHow\nwere\nthe\ncash\nwithdrawals\nin\nEU\ncategorized\nlabeled\nWhere\ndid\nthe\ncash\noriginate\nfrom\nWhat\ntime\nof\nday\ndid\nthe\nwithdrawals\noccur\nWho\nprovided\nSECURITY\nWhy\nwasnt\nCongress\nnotified\nWhy\nwas\nthe\nUnited States\nGovt\nkept\nin\nthe\nDARK\nUnited States\nlaw\nbroken\nDid\nALL\nplanes\nland\nin\nthe\nsame\nlocation\nairport\nWhy\ndid\nparticular\nplane\nland\noutside\nof\nIran\nWhy\nwas\na\nhelicopter\ninvolved\nWHO\ndid\nthe\nmoney\ngo\nto\nHOW\nDO\nYOU\nAUDIT\nA\nFOREIGN\nAID\nBIG\nBLOCK\nTRANSFER\nDid\nRouhani\nkeep\nunknown\ncommunications\nas\ninsurance\nWhat\nagency\ncollects\nALL\nFORMS\nOF\nDATA\nWhat\nagency\ndid\nSnowden\nwork\nfor\norig\nDid\nhe\ntrain\non\nTHE\nFARM\nWhen\ndid\nSnowden\njoin\nNo\nSuch\nAgency\nDefine\nContractor\nDefine\nthe\nPRISM\nprogram\nWhat\nyear\ndid\nSnowden\nrelease\nspec\ndetails\nof\nPRISM\nMid\nIMPACT\nLIMIT\nNSA\ns\nability\nto\nutilize\ncollect\nFAKE\nNEWS\npush\nfor\nCongressional\nrestrictions\nOPEN\nSOURCE\nPUSH\nto\ncreate\nCOUNTER\nDEF\nPURPOSE\nBLUE\nSKIES\nFOR\nCLOWN\nOP\nWhen\nwas\nthe\nJoint\nPlan\nof\nAction\nIRAN\nDEAL\nexecuted\nLate\nDo\nyou\nbelieve\nin\ncoincidences\nNothing\nto\nSee\nHere\nQ\n"
     ]
    }
   ],
   "source": [
    "for item in swap(3005):\n",
    "    if item in replace_dict.keys():\n",
    "        item =  replace_dict.get(item)\n",
    "        print(item)\n",
    "    else:\n",
    "        print(item)"
   ]
  },
  {
   "cell_type": "code",
   "execution_count": 304,
   "metadata": {},
   "outputs": [
    {
     "output_type": "execute_result",
     "data": {
      "text/plain": [
       "     number            datetime            name                 source\n",
       "953    4000 2020-04-29 00:58:18  Q !!Hs1Jq13jV6  8kun/qresearch8953725"
      ],
      "text/html": "<div>\n<style scoped>\n    .dataframe tbody tr th:only-of-type {\n        vertical-align: middle;\n    }\n\n    .dataframe tbody tr th {\n        vertical-align: top;\n    }\n\n    .dataframe thead th {\n        text-align: right;\n    }\n</style>\n<table border=\"1\" class=\"dataframe\">\n  <thead>\n    <tr style=\"text-align: right;\">\n      <th></th>\n      <th>number</th>\n      <th>datetime</th>\n      <th>name</th>\n      <th>source</th>\n    </tr>\n  </thead>\n  <tbody>\n    <tr>\n      <th>953</th>\n      <td>4000</td>\n      <td>2020-04-29 00:58:18</td>\n      <td>Q !!Hs1Jq13jV6</td>\n      <td>8kun/qresearch8953725</td>\n    </tr>\n  </tbody>\n</table>\n</div>"
     },
     "metadata": {},
     "execution_count": 304
    }
   ],
   "source": [
    "index_df[index_df.number == 4000]"
   ]
  },
  {
   "cell_type": "code",
   "execution_count": 305,
   "metadata": {},
   "outputs": [
    {
     "output_type": "execute_result",
     "data": {
      "text/plain": [
       "59           EU\n",
       "89     @Snowden\n",
       "95     @Snowden\n",
       "103    @Snowden\n",
       "109         NSA\n",
       "119          OP\n",
       "Name: content, dtype: object"
      ]
     },
     "metadata": {},
     "execution_count": 305
    }
   ],
   "source": [
    "Messages.get_abbr(3005)['content'].explode()"
   ]
  },
  {
   "source": [
    "this should be the new split logic; what happens otherwise is that the link will be broken up\n",
    "\n",
    "this way, we can edit it out in one pass \n"
   ],
   "cell_type": "markdown",
   "metadata": {}
  },
  {
   "cell_type": "code",
   "execution_count": 308,
   "metadata": {},
   "outputs": [
    {
     "output_type": "execute_result",
     "data": {
      "text/plain": [
       "[['Fact',\n",
       "  'checkers',\n",
       "  'created',\n",
       "  'in',\n",
       "  'effort',\n",
       "  'to',\n",
       "  'reinforce',\n",
       "  'propaganda',\n",
       "  '[digestion]?'],\n",
       " ['The',\n",
       "  'battle',\n",
       "  'to',\n",
       "  'prevent',\n",
       "  'truth',\n",
       "  'from',\n",
       "  'reaching',\n",
       "  'the',\n",
       "  'people.'],\n",
       " ['The', 'battle', 'to', 'maintain', 'and', 'push', 'division.'],\n",
       " ['Divided', 'you', 'are', 'weak.'],\n",
       " ['Divided', 'you', 'fight', 'each', 'other.'],\n",
       " ['Divided', 'you', 'pose', 'no', 'threat.'],\n",
       " ['System', 'of', 'control.'],\n",
       " ['Information', 'warfare.'],\n",
       " ['Q']]"
      ]
     },
     "metadata": {},
     "execution_count": 308
    }
   ],
   "source": [
    "[i.split() for i in Messages.get(10)]"
   ]
  },
  {
   "cell_type": "code",
   "execution_count": 309,
   "metadata": {},
   "outputs": [],
   "source": [
    "# Messages.split() should return a flat list of words that've been split\n",
    "# Tokenize the sentences into words\n",
    "# are any of the items in the list also in replace_dict.keys()? If they are, swap out?"
   ]
  },
  {
   "cell_type": "code",
   "execution_count": 310,
   "metadata": {},
   "outputs": [
    {
     "output_type": "execute_result",
     "data": {
      "text/plain": [
       "['FISA  (ABCs) v INSCOM NOFORN NSA  INSCOM BRIDGE FISA  = FISC Who is accountable to Congress (civilian body)?',\n",
       " \"Define 'State Secrets'.\",\n",
       " 'Process of obtaining a  FISA  warrant?',\n",
       " 'What must be DEMONSTRATED to be GRANTED?',\n",
       " 'Who must SIGN OFF?',\n",
       " \"Can 'select' individuals in senior positions of power be SHADOW BANNED from ACTIVE  FISA  WARRANTS / SURV?\",\n",
       " 'NAT  SEC Sufficient evidence shown to demonstrate rogue elements of intelligence apparatus illegally violated  FISA  law (tenets) in coordinated effort w/ d+foreign allies to impact/mod the outcome of the 2016 Presidential election & safeguard against future uncover / criminal prosecution?',\n",
       " 'Who must sign off on  FISA  warrants?',\n",
       " 'Who directs the signers?',\n",
       " 'Given magnitude of spy campaign (U.S. Presidential Election Republican Party Nominee Candidate + President Elect + President of the United States) would HUSSEIN be required to DIRECT ORDER?',\n",
       " 'How would updates occur?',\n",
       " 'PDB?',\n",
       " 'Who has access to the PDB?',\n",
       " 'On-site CLAS briefings / SIT ROOM / OO / PEOC / N_C?',\n",
       " 'How often does a President use PEOC?',\n",
       " \"Could  FISA  warrants be issued/active for numerous 'in-the-news now/future' U.S. targets?\",\n",
       " \"'Foreign' tangent req to obtain warrant to spy on U.S. ORIG?\",\n",
       " \"Define 'Projection'.\",\n",
       " 'What is Known?',\n",
       " 'Connections (them) to Russia/other F assets?',\n",
       " 'Who commands INSCOM?',\n",
       " 'Who commands No Such Agency?',\n",
       " 'Who has ULTIMATE command?',\n",
       " 'Q']"
      ]
     },
     "metadata": {},
     "execution_count": 310
    }
   ],
   "source": [
    "[i for i in Messages.sents(3009) if not i.startswith('https')]"
   ]
  },
  {
   "cell_type": "code",
   "execution_count": 354,
   "metadata": {},
   "outputs": [
    {
     "output_type": "execute_result",
     "data": {
      "text/plain": [
       "['US', 'US', 'ID']"
      ]
     },
     "metadata": {},
     "execution_count": 354
    }
   ],
   "source": [
    "[i for i in swap(2) if i in replace_dict.keys()]"
   ]
  },
  {
   "source": [
    "index of characters in the string which are punctuation"
   ],
   "cell_type": "markdown",
   "metadata": {}
  },
  {
   "cell_type": "code",
   "execution_count": 316,
   "metadata": {},
   "outputs": [
    {
     "output_type": "execute_result",
     "data": {
      "text/plain": [
       "[4, 25, 32, 74, 79, 84, 89, 124, 126, 173, 179, 224]"
      ]
     },
     "metadata": {},
     "execution_count": 316
    }
   ],
   "source": [
    "[i for i,e in enumerate(swap(3005)) if e in replace_dict.keys()]"
   ]
  },
  {
   "cell_type": "code",
   "execution_count": 317,
   "metadata": {},
   "outputs": [
    {
     "output_type": "execute_result",
     "data": {
      "text/plain": [
       "['HUSSEIN',\n",
       " 'HUSSEIN',\n",
       " 'HUSSEIN',\n",
       " 'HUSSEIN',\n",
       " 'BRENNAN',\n",
       " 'KERRY',\n",
       " 'MERKEL',\n",
       " 'US',\n",
       " 'AUTH',\n",
       " 'US',\n",
       " 'US',\n",
       " 'comms']"
      ]
     },
     "metadata": {},
     "execution_count": 317
    }
   ],
   "source": [
    "[e for i,e in enumerate(swap(3005)) if e in replace_dict.keys()]"
   ]
  },
  {
   "source": [
    "index and characters on the first string as a tuple"
   ],
   "cell_type": "markdown",
   "metadata": {}
  },
  {
   "cell_type": "code",
   "execution_count": 107,
   "metadata": {},
   "outputs": [
    {
     "output_type": "execute_result",
     "data": {
      "text/plain": [
       "[(5, ':'),\n",
       " (6, '/'),\n",
       " (7, '/'),\n",
       " (10, '.'),\n",
       " (18, '.'),\n",
       " (22, '/'),\n",
       " (30, '/'),\n",
       " (35, '-'),\n",
       " (43, '-'),\n",
       " (51, '-'),\n",
       " (61, '/'),\n",
       " (66, '-'),\n",
       " (77, '-'),\n",
       " (86, '-'),\n",
       " (94, '-'),\n",
       " (97, '-'),\n",
       " (102, '-'),\n",
       " (114, '-'),\n",
       " (121, '-'),\n",
       " (126, '-')]"
      ]
     },
     "metadata": {},
     "execution_count": 107
    }
   ],
   "source": [
    "[(i,e) for i,e in enumerate(Messages.split(3005)[0]) if e in string.punctuation]"
   ]
  },
  {
   "cell_type": "code",
   "execution_count": 218,
   "metadata": {},
   "outputs": [
    {
     "output_type": "execute_result",
     "data": {
      "text/plain": [
       "True"
      ]
     },
     "metadata": {},
     "execution_count": 218
    }
   ],
   "source": [
    "'ID' in replace_dict.keys()"
   ]
  },
  {
   "cell_type": "code",
   "execution_count": 321,
   "metadata": {},
   "outputs": [
    {
     "output_type": "execute_result",
     "data": {
      "text/plain": [
       "{' w ': 'with',\n",
       " '&': 'and',\n",
       " 'AUTH': 'authorization',\n",
       " 'BRENNAN': 'John Brennan',\n",
       " 'COVID19': 'covid',\n",
       " 'D': 'Democrats',\n",
       " 'GOOG': 'Google',\n",
       " \"Gov't\": 'government',\n",
       " 'HUSSEIN': 'Barack Obama',\n",
       " 'ID': 'identification',\n",
       " 'KERRY': 'John Kerry',\n",
       " \"M's\": 'marshalls',\n",
       " 'MERKEL': 'Angela Merkel',\n",
       " 'MS-13': 'ms thirteen',\n",
       " 'MSM': 'mainstream media',\n",
       " 'No Such Agency': 'NSA',\n",
       " 'Russia>D': 'Russia Democrats',\n",
       " 'SA': 'Saudi Arabia',\n",
       " 'U S Gov t': 'United States government',\n",
       " 'U.S.': 'United States',\n",
       " 'US': 'United States',\n",
       " '[D]': 'Democratic',\n",
       " 'comms': 'communications',\n",
       " \"d's\": 'democrats',\n",
       " 'ds': 'democrats',\n",
       " 'financial T': 'financial transactions',\n",
       " 'r v d': 'republicans vs democrats',\n",
       " \"r's\": 'republicans',\n",
       " 'rs': 'republicans',\n",
       " 'v': 'versus',\n",
       " 'v2': 'version two',\n",
       " 'w/': 'with'}"
      ]
     },
     "metadata": {},
     "execution_count": 321
    }
   ],
   "source": [
    "# sorted dict by creating a dict comprehension\n",
    "{k:v for k,v in zip(sorted(replace_dict.keys()), [replace_dict.get(i) for i in sorted(replace_dict.keys())])}"
   ]
  },
  {
   "cell_type": "code",
   "execution_count": 367,
   "metadata": {},
   "outputs": [
    {
     "output_type": "execute_result",
     "data": {
      "text/plain": [
       "'>>146981635 Hillary Clinton will be arrested between 7:45 AM - 8:30 AM EST on Monday - the morning on Oct 30, 2017.'"
      ]
     },
     "metadata": {},
     "execution_count": 367
    }
   ],
   "source": [
    "messages[-1].find('div', class_='op').text"
   ]
  },
  {
   "cell_type": "code",
   "execution_count": 373,
   "metadata": {},
   "outputs": [
    {
     "output_type": "execute_result",
     "data": {
      "text/plain": [
       "[<div class=\"text\">Some of us come here to drop crumbs, just crumbs.<br/><abbr title=\"President of the United States\">POTUS</abbr> is 100% insulated - any discussion suggesting he’s even a target is false.<br/><abbr title=\"President of the United States\">POTUS</abbr> will not be addressing nation on any of these issues as people begin to be indicted and must remain neutral for pure optical reasons. To suggest this is the plan is false and should be common sense.<br/>Focus on Military Intellingence/ State Secrets and why might that be used vs any three letter agency <br/>What <abbr title=\"Supreme Court, Special Counsel\">SC</abbr> decision opened the door for a sitting President to activate - what must be showed?<br/>Why is <abbr title=\"President of the United States\">POTUS</abbr> surrounded by generals ^^<br/>Again, there are a lot more good people than bad so have faith. This was a hostile takeover from an evil corrupt network of players (not just Democrats).<br/>Don’t fool yourself into thinking Obama, Soros, Roth’s, Clinton’s etc have more power present day than <abbr title=\"President of the United States\">POTUS</abbr>. <br/>Operation Mockingbird <br/>Patriots are in control. Sit back and enjoy the show.</div>]"
      ]
     },
     "metadata": {},
     "execution_count": 373
    }
   ],
   "source": [
    "messages[-4].contents"
   ]
  },
  {
   "source": [
    "## When do the p's start? "
   ],
   "cell_type": "markdown",
   "metadata": {}
  },
  {
   "cell_type": "code",
   "execution_count": 456,
   "metadata": {},
   "outputs": [
    {
     "output_type": "execute_result",
     "data": {
      "text/plain": [
       "['Justice K >>> Highest Court in the Land.',\n",
       " 'Law & Order [majority] [U.S. Constitution] safeguarded. ',\n",
       " 'IT WAS OUR LAST CHANCE TO SAVE IT [Non-Force]',\n",
       " 'Now comes the real PAIN.',\n",
       " 'Now comes the real TRUTH.',\n",
       " 'BOOM',\n",
       " '\\u2002\\u2002\\u2002\\u2002\\u2002\\u2002\\u2002\\u2002BOOM',\n",
       " '\\u2002\\u2002\\u2002\\u2002\\u2002\\u2002\\u2002\\u2002\\u2002\\u2002\\u2002\\u2002\\u2002\\u2002\\u2002\\u2002BOOM',\n",
       " '\\u2002\\u2002\\u2002\\u2002\\u2002\\u2002\\u2002\\u2002\\u2002\\u2002\\u2002\\u2002\\u2002\\u2002\\u2002\\u2002\\u2002\\u2002\\u2002\\u2002\\u2002\\u2002\\u2002\\u2002BOOM',\n",
       " 'They want you DIVIDED.',\n",
       " 'DIVIDED by RACE.',\n",
       " 'DIVIDED by RELIGION.',\n",
       " 'DIVIDED by CULTURE.',\n",
       " 'DIVIDED by CLASS.',\n",
       " 'DIVIDED by POLITICAL AFFILIATION. ',\n",
       " 'DIVIDED YOU ARE WEAK.',\n",
       " 'TOGETHER YOU ARE STRONG.',\n",
       " 'This movement challenges their ‘forced’ narrative. ',\n",
       " 'This movement challenges people to not simply trust what is being reported.',\n",
       " 'Research for yourself.',\n",
       " 'Think for yourself.',\n",
       " 'Trust yourself.',\n",
       " 'This movement is not about one person or a group of people.',\n",
       " 'WE, the PEOPLE.',\n",
       " 'Save the Republic!',\n",
       " 'Hatred and Dissension in the Nation will Heal.',\n",
       " 'WHERE WE GO ONE, WE GO ALL.',\n",
       " 'Q']"
      ]
     },
     "metadata": {},
     "execution_count": 456
    }
   ],
   "source": [
    "Messages.get(2601)"
   ]
  },
  {
   "cell_type": "code",
   "execution_count": 458,
   "metadata": {},
   "outputs": [
    {
     "output_type": "execute_result",
     "data": {
      "text/plain": [
       "['The Party of threats violence intimidation name calling racism fascism division …',\n",
       " 'WALKAWAY',\n",
       " 'VOTEREPUBLICAN',\n",
       " 'Q']"
      ]
     },
     "metadata": {},
     "execution_count": 458
    }
   ],
   "source": [
    "clean(2600)"
   ]
  },
  {
   "cell_type": "code",
   "execution_count": 461,
   "metadata": {},
   "outputs": [
    {
     "output_type": "execute_result",
     "data": {
      "text/plain": [
       "['WELCOME TO THE DEMOCRAT PARTY.',\n",
       " 'The Party of threats, violence, intimidation, name-calling, racism, fascism, division, …..',\n",
       " '#WALKAWAY',\n",
       " '#VOTEREPUBLICAN',\n",
       " 'Q']"
      ]
     },
     "metadata": {},
     "execution_count": 461
    }
   ],
   "source": [
    "[i.string for i in messages[2600]]"
   ]
  },
  {
   "cell_type": "code",
   "execution_count": 464,
   "metadata": {},
   "outputs": [
    {
     "output_type": "execute_result",
     "data": {
      "text/plain": [
       "                         type name  \\\n",
       "0   <class 'bs4.element.Tag'>    p   \n",
       "1   <class 'bs4.element.Tag'>    p   \n",
       "2   <class 'bs4.element.Tag'>    p   \n",
       "3   <class 'bs4.element.Tag'>    p   \n",
       "4   <class 'bs4.element.Tag'>    p   \n",
       "5   <class 'bs4.element.Tag'>    p   \n",
       "6   <class 'bs4.element.Tag'>    p   \n",
       "7   <class 'bs4.element.Tag'>    p   \n",
       "8   <class 'bs4.element.Tag'>    p   \n",
       "9   <class 'bs4.element.Tag'>    p   \n",
       "10  <class 'bs4.element.Tag'>    p   \n",
       "11  <class 'bs4.element.Tag'>    p   \n",
       "12  <class 'bs4.element.Tag'>    p   \n",
       "13  <class 'bs4.element.Tag'>    p   \n",
       "14  <class 'bs4.element.Tag'>    p   \n",
       "15  <class 'bs4.element.Tag'>    p   \n",
       "16  <class 'bs4.element.Tag'>    p   \n",
       "17  <class 'bs4.element.Tag'>    p   \n",
       "18  <class 'bs4.element.Tag'>    p   \n",
       "19  <class 'bs4.element.Tag'>    p   \n",
       "20  <class 'bs4.element.Tag'>    p   \n",
       "21  <class 'bs4.element.Tag'>    p   \n",
       "22  <class 'bs4.element.Tag'>    p   \n",
       "23  <class 'bs4.element.Tag'>    p   \n",
       "24  <class 'bs4.element.Tag'>    p   \n",
       "25  <class 'bs4.element.Tag'>    p   \n",
       "26  <class 'bs4.element.Tag'>    p   \n",
       "27  <class 'bs4.element.Tag'>    p   \n",
       "28  <class 'bs4.element.Tag'>    p   \n",
       "29  <class 'bs4.element.Tag'>    p   \n",
       "\n",
       "                                                                                     content  \n",
       "0                                                 [Justice K >>> Highest Court in the Land.]  \n",
       "1                                 [Law & Order [majority] [U.S. Constitution] safeguarded. ]  \n",
       "2                                            [IT WAS OUR LAST CHANCE TO SAVE IT [Non-Force]]  \n",
       "3                                            [[https://www.youtube.com/watch?v=G2qIXXafxCQ]]  \n",
       "4   [Think , [HRC],  win >> , [SC],  appointments >> , [SC],  'Corrupt' TILT [ex: , [LL], ]]  \n",
       "5                                                                 [Now comes the real PAIN.]  \n",
       "6                                                                [Now comes the real TRUTH.]  \n",
       "7                                                                                     [BOOM]  \n",
       "8                                                                             [        BOOM]  \n",
       "9                                                                     [                BOOM]  \n",
       "10                                                            [                        BOOM]  \n",
       "11                                                                  [They want you DIVIDED.]  \n",
       "12                                                                        [DIVIDED by RACE.]  \n",
       "13                                                                    [DIVIDED by RELIGION.]  \n",
       "14                                                                     [DIVIDED by CULTURE.]  \n",
       "15                                                                       [DIVIDED by CLASS.]  \n",
       "16                                                      [DIVIDED by POLITICAL AFFILIATION. ]  \n",
       "17                                                                   [DIVIDED YOU ARE WEAK.]  \n",
       "18                                                                [TOGETHER YOU ARE STRONG.]  \n",
       "19                                     [This movement challenges their ‘forced’ narrative. ]  \n",
       "20             [This movement challenges people to not simply trust what is being reported.]  \n",
       "21                                                                  [Research for yourself.]  \n",
       "22                                                                     [Think for yourself.]  \n",
       "23                                                                         [Trust yourself.]  \n",
       "24                             [This movement is not about one person or a group of people.]  \n",
       "25                                                                         [WE, the PEOPLE.]  \n",
       "26                                                                      [Save the Republic!]  \n",
       "27                                          [Hatred and Dissension in the Nation will Heal.]  \n",
       "28                                                             [WHERE WE GO ONE, WE GO ALL.]  \n",
       "29                                                                                       [Q]  "
      ],
      "text/html": "<div>\n<style scoped>\n    .dataframe tbody tr th:only-of-type {\n        vertical-align: middle;\n    }\n\n    .dataframe tbody tr th {\n        vertical-align: top;\n    }\n\n    .dataframe thead th {\n        text-align: right;\n    }\n</style>\n<table border=\"1\" class=\"dataframe\">\n  <thead>\n    <tr style=\"text-align: right;\">\n      <th></th>\n      <th>type</th>\n      <th>name</th>\n      <th>content</th>\n    </tr>\n  </thead>\n  <tbody>\n    <tr>\n      <th>0</th>\n      <td>&lt;class 'bs4.element.Tag'&gt;</td>\n      <td>p</td>\n      <td>[Justice K &gt;&gt;&gt; Highest Court in the Land.]</td>\n    </tr>\n    <tr>\n      <th>1</th>\n      <td>&lt;class 'bs4.element.Tag'&gt;</td>\n      <td>p</td>\n      <td>[Law &amp; Order [majority] [U.S. Constitution] safeguarded. ]</td>\n    </tr>\n    <tr>\n      <th>2</th>\n      <td>&lt;class 'bs4.element.Tag'&gt;</td>\n      <td>p</td>\n      <td>[IT WAS OUR LAST CHANCE TO SAVE IT [Non-Force]]</td>\n    </tr>\n    <tr>\n      <th>3</th>\n      <td>&lt;class 'bs4.element.Tag'&gt;</td>\n      <td>p</td>\n      <td>[[https://www.youtube.com/watch?v=G2qIXXafxCQ]]</td>\n    </tr>\n    <tr>\n      <th>4</th>\n      <td>&lt;class 'bs4.element.Tag'&gt;</td>\n      <td>p</td>\n      <td>[Think , [HRC],  win &gt;&gt; , [SC],  appointments &gt;&gt; , [SC],  'Corrupt' TILT [ex: , [LL], ]]</td>\n    </tr>\n    <tr>\n      <th>5</th>\n      <td>&lt;class 'bs4.element.Tag'&gt;</td>\n      <td>p</td>\n      <td>[Now comes the real PAIN.]</td>\n    </tr>\n    <tr>\n      <th>6</th>\n      <td>&lt;class 'bs4.element.Tag'&gt;</td>\n      <td>p</td>\n      <td>[Now comes the real TRUTH.]</td>\n    </tr>\n    <tr>\n      <th>7</th>\n      <td>&lt;class 'bs4.element.Tag'&gt;</td>\n      <td>p</td>\n      <td>[BOOM]</td>\n    </tr>\n    <tr>\n      <th>8</th>\n      <td>&lt;class 'bs4.element.Tag'&gt;</td>\n      <td>p</td>\n      <td>[        BOOM]</td>\n    </tr>\n    <tr>\n      <th>9</th>\n      <td>&lt;class 'bs4.element.Tag'&gt;</td>\n      <td>p</td>\n      <td>[                BOOM]</td>\n    </tr>\n    <tr>\n      <th>10</th>\n      <td>&lt;class 'bs4.element.Tag'&gt;</td>\n      <td>p</td>\n      <td>[                        BOOM]</td>\n    </tr>\n    <tr>\n      <th>11</th>\n      <td>&lt;class 'bs4.element.Tag'&gt;</td>\n      <td>p</td>\n      <td>[They want you DIVIDED.]</td>\n    </tr>\n    <tr>\n      <th>12</th>\n      <td>&lt;class 'bs4.element.Tag'&gt;</td>\n      <td>p</td>\n      <td>[DIVIDED by RACE.]</td>\n    </tr>\n    <tr>\n      <th>13</th>\n      <td>&lt;class 'bs4.element.Tag'&gt;</td>\n      <td>p</td>\n      <td>[DIVIDED by RELIGION.]</td>\n    </tr>\n    <tr>\n      <th>14</th>\n      <td>&lt;class 'bs4.element.Tag'&gt;</td>\n      <td>p</td>\n      <td>[DIVIDED by CULTURE.]</td>\n    </tr>\n    <tr>\n      <th>15</th>\n      <td>&lt;class 'bs4.element.Tag'&gt;</td>\n      <td>p</td>\n      <td>[DIVIDED by CLASS.]</td>\n    </tr>\n    <tr>\n      <th>16</th>\n      <td>&lt;class 'bs4.element.Tag'&gt;</td>\n      <td>p</td>\n      <td>[DIVIDED by POLITICAL AFFILIATION. ]</td>\n    </tr>\n    <tr>\n      <th>17</th>\n      <td>&lt;class 'bs4.element.Tag'&gt;</td>\n      <td>p</td>\n      <td>[DIVIDED YOU ARE WEAK.]</td>\n    </tr>\n    <tr>\n      <th>18</th>\n      <td>&lt;class 'bs4.element.Tag'&gt;</td>\n      <td>p</td>\n      <td>[TOGETHER YOU ARE STRONG.]</td>\n    </tr>\n    <tr>\n      <th>19</th>\n      <td>&lt;class 'bs4.element.Tag'&gt;</td>\n      <td>p</td>\n      <td>[This movement challenges their ‘forced’ narrative. ]</td>\n    </tr>\n    <tr>\n      <th>20</th>\n      <td>&lt;class 'bs4.element.Tag'&gt;</td>\n      <td>p</td>\n      <td>[This movement challenges people to not simply trust what is being reported.]</td>\n    </tr>\n    <tr>\n      <th>21</th>\n      <td>&lt;class 'bs4.element.Tag'&gt;</td>\n      <td>p</td>\n      <td>[Research for yourself.]</td>\n    </tr>\n    <tr>\n      <th>22</th>\n      <td>&lt;class 'bs4.element.Tag'&gt;</td>\n      <td>p</td>\n      <td>[Think for yourself.]</td>\n    </tr>\n    <tr>\n      <th>23</th>\n      <td>&lt;class 'bs4.element.Tag'&gt;</td>\n      <td>p</td>\n      <td>[Trust yourself.]</td>\n    </tr>\n    <tr>\n      <th>24</th>\n      <td>&lt;class 'bs4.element.Tag'&gt;</td>\n      <td>p</td>\n      <td>[This movement is not about one person or a group of people.]</td>\n    </tr>\n    <tr>\n      <th>25</th>\n      <td>&lt;class 'bs4.element.Tag'&gt;</td>\n      <td>p</td>\n      <td>[WE, the PEOPLE.]</td>\n    </tr>\n    <tr>\n      <th>26</th>\n      <td>&lt;class 'bs4.element.Tag'&gt;</td>\n      <td>p</td>\n      <td>[Save the Republic!]</td>\n    </tr>\n    <tr>\n      <th>27</th>\n      <td>&lt;class 'bs4.element.Tag'&gt;</td>\n      <td>p</td>\n      <td>[Hatred and Dissension in the Nation will Heal.]</td>\n    </tr>\n    <tr>\n      <th>28</th>\n      <td>&lt;class 'bs4.element.Tag'&gt;</td>\n      <td>p</td>\n      <td>[WHERE WE GO ONE, WE GO ALL.]</td>\n    </tr>\n    <tr>\n      <th>29</th>\n      <td>&lt;class 'bs4.element.Tag'&gt;</td>\n      <td>p</td>\n      <td>[Q]</td>\n    </tr>\n  </tbody>\n</table>\n</div>"
     },
     "metadata": {},
     "execution_count": 464
    }
   ],
   "source": [
    "Messages.dataframe(2601)"
   ]
  },
  {
   "cell_type": "code",
   "execution_count": null,
   "metadata": {},
   "outputs": [],
   "source": []
  }
 ],
 "metadata": {
  "kernelspec": {
   "name": "python3",
   "display_name": "Python 3.9.2 64-bit",
   "metadata": {
    "interpreter": {
     "hash": "aee8b7b246df8f9039afb4144a1f6fd8d2ca17a180786b69acc140d282b71a49"
    }
   }
  },
  "language_info": {
   "codemirror_mode": {
    "name": "ipython",
    "version": 3
   },
   "file_extension": ".py",
   "mimetype": "text/x-python",
   "name": "python",
   "nbconvert_exporter": "python",
   "pygments_lexer": "ipython3",
   "version": "3.9.2-final"
  }
 },
 "nbformat": 4,
 "nbformat_minor": 5
}