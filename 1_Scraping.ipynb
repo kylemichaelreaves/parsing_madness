{
 "cells": [
  {
   "cell_type": "markdown",
   "id": "statistical-suffering",
   "metadata": {},
   "source": [
    "# 1. Scraping qdrops.online with BeautifulSoup and parsing its content\n",
    "## 1.1 capturing\n",
    "the text we want is contained within this tag hiearcharchy: \n",
    "- div message -> text -> string if not None & p \n",
    "- div message -> div op -> string \n",
    "- div message -> abbr title, abbr.text\n",
    "- meta lar -> span: time, name, source, num\n",
    "\n",
    "### prematurely calling text or get_text() on div_text will render unnecessary text, text we'd later have to clean\n",
    "\n",
    "### tags to extract():\n",
    "- hyperlinks: https?\\S+\\b, www, twitter, instagram, etc (inevitably will have to regex)\n",
    "- a href\n",
    "- figure\n",
    "- figcaption\n",
    "- images\n",
    "- div op containing no text or string\n",
    "- replace punct with a single space, then replace spaces longer than 1 space with a single space\n",
    "- it also might make things easier tokenizing them before hand\n",
    "### cleaning \n",
    "- sub hyperlinks\n",
    "- lower text\n",
    "- split text \n",
    "- sub punctuation\n",
    "- sub digits \n",
    "- join split words back into string\n",
    "- append strings to list if strings \n",
    "- return list of cleaned strings \n",
    "## Recurring Problems\n",
    "### inconsistent tag use: br, p, text, abbr \n",
    "- many more tags could have been abbreviated or propertied with its value\n",
    "- pickling exceeds maximum recursion; solved by sys.get and set a higher recursion limit\n",
    "- runtime of requests is > 1 min: solved by loading the pickled object\n",
    "- unwanted text from hyperlinks, figcaptions, etc; solved by using BeautifulSoup extract() on unwanted objects"
   ]
  },
  {
   "cell_type": "code",
   "execution_count": 1,
   "id": "ready-layer",
   "metadata": {},
   "outputs": [],
   "source": [
    "import requests\n",
    "import nltk\n",
    "import os, sys\n",
    "import itertools\n",
    "import re, string\n",
    "import pandas as pd\n",
    "import pickle\n",
    "import timeit\n",
    "\n",
    "from string import punctuation, digits\n",
    "from collections import Counter\n",
    "from bs4 import BeautifulSoup, NavigableString, Tag\n",
    "from string import punctuation, digits\n",
    "from nltk.stem import WordNetLemmatizer\n",
    "from nltk.corpus import stopwords\n",
    "from nltk.cluster.util import cosine_distance\n",
    "from nltk import RegexpParser, Tree\n",
    "from nltk.util import ngrams\n",
    "\n",
    "punctuation += str('’‘–…“”')\n",
    "pd.set_option('display.max_colwidth', None)"
   ]
  },
  {
   "cell_type": "code",
   "execution_count": 39,
   "metadata": {},
   "outputs": [
    {
     "output_type": "execute_result",
     "data": {
      "text/plain": [
       "'/Users/kylereaves/Documents/GitHub/parsing_madness'"
      ]
     },
     "metadata": {},
     "execution_count": 39
    }
   ],
   "source": [
    "os.getcwd()"
   ]
  },
  {
   "source": [
    "We don't have to execute the following cell, we can skip to opening the pickled object"
   ],
   "cell_type": "markdown",
   "metadata": {}
  },
  {
   "cell_type": "code",
   "execution_count": 8,
   "metadata": {},
   "outputs": [
    {
     "output_type": "stream",
     "name": "stdout",
     "text": [
      "CPU times: user 18.6 s, sys: 333 ms, total: 18.9 s\nWall time: 1min 11s\n"
     ]
    }
   ],
   "source": [
    "%%time\n",
    "base_url = 'https://qposts.online/page/' \n",
    "urls = [base_url+str(i) for i in range(1, 105)]\n",
    "page_requests = [requests.get(url) for url in urls]\n",
    "soups = [BeautifulSoup(page.text, 'html.parser') for page in page_requests]\n",
    "messages_original = [soups[i].findAll('div', 'message') for i in range(0, len(soups))]\n",
    "messages_flat = list(itertools.chain.from_iterable(messages))\n",
    "meta_lar = [soups[i].findAll('div', 'meta lar') for i in range(0, len(soups))]"
   ]
  },
  {
   "cell_type": "code",
   "execution_count": 2,
   "metadata": {},
   "outputs": [
    {
     "output_type": "stream",
     "name": "stdout",
     "text": [
      "CPU times: user 4.69 s, sys: 212 ms, total: 4.9 s\nWall time: 4.92 s\n"
     ]
    }
   ],
   "source": [
    "%%time \n",
    "with open('messages_flat.pkl', 'rb') as f:\n",
    "    messages = pickle.load(f)"
   ]
  },
  {
   "cell_type": "code",
   "execution_count": 3,
   "metadata": {},
   "outputs": [
    {
     "output_type": "stream",
     "name": "stdout",
     "text": [
      "CPU times: user 7.47 s, sys: 174 ms, total: 7.65 s\nWall time: 7.68 s\n"
     ]
    }
   ],
   "source": [
    "%%time\n",
    "with open('meta_flat.pkl', 'rb') as f:\n",
    "    meta_lar = pickle.load(f)"
   ]
  },
  {
   "cell_type": "code",
   "execution_count": 5,
   "metadata": {},
   "outputs": [
    {
     "output_type": "stream",
     "name": "stdout",
     "text": [
      "CPU times: user 961 µs, sys: 773 µs, total: 1.73 ms\nWall time: 1.12 ms\n"
     ]
    }
   ],
   "source": [
    "%%time\n",
    "with open('names_joined.pkl', 'rb') as f:\n",
    "    names = pickle.load(f)"
   ]
  },
  {
   "cell_type": "code",
   "execution_count": 7,
   "metadata": {},
   "outputs": [
    {
     "output_type": "stream",
     "name": "stdout",
     "text": [
      "CPU times: user 1.3 ms, sys: 976 µs, total: 2.27 ms\nWall time: 1.57 ms\n"
     ]
    }
   ],
   "source": [
    "%%time\n",
    "with open('sources_joined.pkl', 'rb') as f:\n",
    "    sources = pickle.load(f)"
   ]
  },
  {
   "cell_type": "code",
   "execution_count": 8,
   "metadata": {},
   "outputs": [],
   "source": [
    "class Messages(object):\n",
    "    def __init__(self):\n",
    "        pass\n",
    "\n",
    "    def get(integer: int):\n",
    "        msg_list = []\n",
    "        for item in messages[integer]:\n",
    "            \n",
    "            if isinstance(item, NavigableString) and item.name is None:\n",
    "                msg_list.append(item.lower())\n",
    "            \n",
    "            if isinstance(item, Tag) and item.name == 'p':\n",
    "                msg_list.append(item.string)\n",
    "            \n",
    "            if isinstance(item, Tag) and item.name == 'div' and item.has_attr('class'):\n",
    "                contents = item.contents\n",
    "                for content in contents:\n",
    "                    if content.name == 'p':\n",
    "                        msg_list.append(content.string)\n",
    "                    if content.name == 'div':\n",
    "                        msg_list.append(content.text)\n",
    "                    if content.name == 'abbr':\n",
    "                        msg_list.append(content.text)\n",
    "                    if isinstance(content, NavigableString):\n",
    "                        msg_list.append(content.lower())\n",
    "            \n",
    "            for div_images in messages[integer].findAll('div', class_='images'):\n",
    "                div_images.extract()\n",
    "            for a_ref in messages[integer].findAll('a', class_='ref'):\n",
    "                a_ref.extract()\n",
    "            for a_href in messages[integer].findAll('a', class_='href'):\n",
    "                a_ref.extract()\n",
    "            for empty_line in messages[integer].findAll('p', class_='body-line empty'):\n",
    "                empty_line.extract()\n",
    "            for br_tag in messages[integer].findAll('br'):\n",
    "                br_tag.replace_with(' ')\n",
    "\n",
    "        cleaned = [item for item in msg_list if item !=\n",
    "                   ' ' and item is not None]\n",
    "\n",
    "        return cleaned\n",
    "\n",
    "    def dataframe(integer: int):\n",
    "        bs_df = pd.DataFrame({'type': [type(i) for i in messages[integer].div.children],\n",
    "                              'name': [i.name for i in messages[integer].div.children],\n",
    "                              'content': [i for i in messages[integer].div.children]})\n",
    "        return bs_df\n",
    "    \n",
    "    def sents(integer: int):\n",
    "        return nltk.sent_tokenize(' '.join(Messages.get(integer)))\n",
    "\n",
    "    def joined(integer: int):\n",
    "        return ' '.join(Messages.get(integer))\n",
    "\n",
    "    def split(integer: int):\n",
    "        return Messages.joined(integer).split()"
   ]
  },
  {
   "cell_type": "code",
   "execution_count": 9,
   "metadata": {},
   "outputs": [],
   "source": [
    "class Spans:\n",
    "    def __init__(self):\n",
    "        pass\n",
    "\n",
    "    def nums():\n",
    "        nums = [meta_lar[i].find('span', 'num').get_text() for i in range(0, len(meta_lar))]\n",
    "        return nums\n",
    "                \n",
    "    def sources():\n",
    "        sources = [meta_lar[i].find('span', 'source').get_text() for i in range(0, len(meta_lar))]\n",
    "        links = [meta_lar[i].find('span', 'source').contents[-1].get('href') for i in range(0, len(meta_lar))]\n",
    "        return sources\n",
    "    \n",
    "    def names():\n",
    "        names = [meta_lar[i].find('span', 'name').get_text() for i in range(0, len(meta_lar))]\n",
    "        return names\n",
    "                      \n",
    "    def dates():\n",
    "        date_list = [meta_lar[i].find('span', 'time').get_text()for i in range(0, len(meta_lar))]\n",
    "        dt_idx = pd.to_datetime(date_list, origin='unix', unit='s')\n",
    "        return dt_idx"
   ]
  },
  {
   "cell_type": "code",
   "execution_count": 114,
   "metadata": {},
   "outputs": [
    {
     "output_type": "execute_result",
     "data": {
      "text/plain": [
       "4953"
      ]
     },
     "metadata": {},
     "execution_count": 114
    }
   ],
   "source": [
    "len([name.text for name in meta_lar[i] if name.attrs == {'class': ['name']} for i in range(0, len(meta_lar))])"
   ]
  },
  {
   "cell_type": "code",
   "execution_count": 33,
   "metadata": {},
   "outputs": [],
   "source": [
    "replace_dict = {\n",
    "    'r v d': 'republicans vs democrats',\n",
    "    'rs': 'republicans',\n",
    "    \"r's\": 'republicans',\n",
    "    \"d's\": 'democrats',\n",
    "    'ds': 'democrats',\n",
    "    '[D]': 'Democratic',\n",
    "    ' w ': 'with',\n",
    "    'president of the united states': 'potus',\n",
    "    'federal bureau of investigation': 'fbi',\n",
    "    'MS-13': 'ms-thirteen',\n",
    "    'COVID19': 'covid',\n",
    "    \"M's\": 'marshalls'\n",
    "}"
   ]
  },
  {
   "source": [
    "### using string with p tags saves us subing hyperlinks\n",
    "### add a conditional statement on the end to pop None from list"
   ],
   "cell_type": "markdown",
   "metadata": {}
  },
  {
   "cell_type": "code",
   "execution_count": 29,
   "metadata": {},
   "outputs": [
    {
     "output_type": "execute_result",
     "data": {
      "text/plain": [
       "['https://twitter.com/BrentScher/status/1322015793593360384',\n",
       " 'Fact checkers created in effort to reinforce propaganda [digestion]?',\n",
       " 'The battle to prevent truth from reaching the people.',\n",
       " 'The battle to maintain and push division.',\n",
       " 'Divided you are weak.',\n",
       " 'Divided you fight each other.',\n",
       " 'Divided you pose no threat.',\n",
       " 'System of control.',\n",
       " 'Information warfare.',\n",
       " 'Q']"
      ]
     },
     "metadata": {},
     "execution_count": 29
    }
   ],
   "source": [
    "[i.text for i in messages[10].div.children]"
   ]
  },
  {
   "cell_type": "code",
   "execution_count": 32,
   "metadata": {},
   "outputs": [
    {
     "output_type": "execute_result",
     "data": {
      "text/plain": [
       "['Fact checkers created in effort to reinforce propaganda [digestion]?',\n",
       " 'The battle to prevent truth from reaching the people.',\n",
       " 'The battle to maintain and push division.',\n",
       " 'Divided you are weak.',\n",
       " 'Divided you fight each other.',\n",
       " 'Divided you pose no threat.',\n",
       " 'System of control.',\n",
       " 'Information warfare.',\n",
       " 'Q']"
      ]
     },
     "metadata": {},
     "execution_count": 32
    }
   ],
   "source": [
    "[i.string for i in messages[10].div.children if i.string is not None]"
   ]
  },
  {
   "cell_type": "code",
   "execution_count": 80,
   "metadata": {},
   "outputs": [
    {
     "output_type": "execute_result",
     "data": {
      "text/plain": [
       "['strong', None]"
      ]
     },
     "metadata": {},
     "execution_count": 80
    }
   ],
   "source": [
    "[i.name for i in meta_lar[1].find('span', 'name').children]"
   ]
  },
  {
   "cell_type": "code",
   "execution_count": 70,
   "metadata": {},
   "outputs": [
    {
     "output_type": "execute_result",
     "data": {
      "text/plain": [
       "[('span', {'class': ['num']}),\n",
       " ('span', {'class': ['time']}),\n",
       " ('span', {'class': ['name']}),\n",
       " ('span', {'class': ['source']}),\n",
       " ('span', {'class': ['copy']})]"
      ]
     },
     "metadata": {},
     "execution_count": 70
    }
   ],
   "source": [
    "[(i.name, i.attrs) for i in meta_lar[0].children]"
   ]
  },
  {
   "cell_type": "code",
   "execution_count": 32,
   "metadata": {},
   "outputs": [
    {
     "output_type": "execute_result",
     "data": {
      "text/plain": [
       "pandas.core.frame.DataFrame"
      ]
     },
     "metadata": {},
     "execution_count": 32
    }
   ],
   "source": [
    "#drop entire row if name == br?\n",
    "type(Messages.dataframe(4950))"
   ]
  },
  {
   "cell_type": "code",
   "execution_count": 37,
   "metadata": {},
   "outputs": [
    {
     "output_type": "execute_result",
     "data": {
      "text/plain": [
       "                                     type  name  \\\n",
       "0   <class 'bs4.element.NavigableString'>  None   \n",
       "2   <class 'bs4.element.NavigableString'>  None   \n",
       "4   <class 'bs4.element.NavigableString'>  None   \n",
       "5               <class 'bs4.element.Tag'>  abbr   \n",
       "6   <class 'bs4.element.NavigableString'>  None   \n",
       "8   <class 'bs4.element.NavigableString'>  None   \n",
       "9               <class 'bs4.element.Tag'>  abbr   \n",
       "10  <class 'bs4.element.NavigableString'>  None   \n",
       "11              <class 'bs4.element.Tag'>  abbr   \n",
       "12  <class 'bs4.element.NavigableString'>  None   \n",
       "14  <class 'bs4.element.NavigableString'>  None   \n",
       "16  <class 'bs4.element.NavigableString'>  None   \n",
       "18              <class 'bs4.element.Tag'>  abbr   \n",
       "19  <class 'bs4.element.NavigableString'>  None   \n",
       "21  <class 'bs4.element.NavigableString'>  None   \n",
       "23  <class 'bs4.element.NavigableString'>  None   \n",
       "25  <class 'bs4.element.NavigableString'>  None   \n",
       "27  <class 'bs4.element.NavigableString'>  None   \n",
       "29  <class 'bs4.element.NavigableString'>  None   \n",
       "31  <class 'bs4.element.NavigableString'>  None   \n",
       "33  <class 'bs4.element.NavigableString'>  None   \n",
       "34              <class 'bs4.element.Tag'>  abbr   \n",
       "35  <class 'bs4.element.NavigableString'>  None   \n",
       "37  <class 'bs4.element.NavigableString'>  None   \n",
       "38              <class 'bs4.element.Tag'>  abbr   \n",
       "39  <class 'bs4.element.NavigableString'>  None   \n",
       "41  <class 'bs4.element.NavigableString'>  None   \n",
       "43  <class 'bs4.element.NavigableString'>  None   \n",
       "\n",
       "                                                                                  content  \n",
       "0                                                                         Open your eyes.  \n",
       "2              It finally came out that Rod/Bob were key players in the Uranium scandal.   \n",
       "4                                                                        Don’t you think   \n",
       "5                                                                                 [POTUS]  \n",
       "6                                  would be tweeting about removal given clear conflict.   \n",
       "8                                                                                Why did   \n",
       "9                                                                                 [POTUS]  \n",
       "10                                                           meet Bob under the cover of   \n",
       "11                                                                                  [FBI]  \n",
       "12                                                                         Dir interview?  \n",
       "14                                             Bob is unable to serve as Dir per the law.  \n",
       "16                                            Gowdy comments on Comey (history will ....)  \n",
       "18                                                                                [POTUS]  \n",
       "19                                                                        has everything.  \n",
       "21                                        Not everyone is corrupt (fewer than you think).  \n",
       "23                                                                           Follow Huma.  \n",
       "25                                                                 Operation Mockingbird.  \n",
       "27  Priority to clean out the bad actors to unite people behind the America First agenda.  \n",
       "29                                                        Many in our govt worship Satan.  \n",
       "31                                       Not about Republicans v Democrats at this stage.  \n",
       "33                                                                              Where is   \n",
       "34                                                                                  [HRC]  \n",
       "35                                                                                      ?  \n",
       "37                                                                            Why is the   \n",
       "38                                                                                   [NG]  \n",
       "39                                                            called up across 12 cities?  \n",
       "41                                                               Trust in your President.  \n",
       "43                                                                   God bless, Patriots.  "
      ],
      "text/html": "<div>\n<style scoped>\n    .dataframe tbody tr th:only-of-type {\n        vertical-align: middle;\n    }\n\n    .dataframe tbody tr th {\n        vertical-align: top;\n    }\n\n    .dataframe thead th {\n        text-align: right;\n    }\n</style>\n<table border=\"1\" class=\"dataframe\">\n  <thead>\n    <tr style=\"text-align: right;\">\n      <th></th>\n      <th>type</th>\n      <th>name</th>\n      <th>content</th>\n    </tr>\n  </thead>\n  <tbody>\n    <tr>\n      <th>0</th>\n      <td>&lt;class 'bs4.element.NavigableString'&gt;</td>\n      <td>None</td>\n      <td>Open your eyes.</td>\n    </tr>\n    <tr>\n      <th>2</th>\n      <td>&lt;class 'bs4.element.NavigableString'&gt;</td>\n      <td>None</td>\n      <td>It finally came out that Rod/Bob were key players in the Uranium scandal.</td>\n    </tr>\n    <tr>\n      <th>4</th>\n      <td>&lt;class 'bs4.element.NavigableString'&gt;</td>\n      <td>None</td>\n      <td>Don’t you think</td>\n    </tr>\n    <tr>\n      <th>5</th>\n      <td>&lt;class 'bs4.element.Tag'&gt;</td>\n      <td>abbr</td>\n      <td>[POTUS]</td>\n    </tr>\n    <tr>\n      <th>6</th>\n      <td>&lt;class 'bs4.element.NavigableString'&gt;</td>\n      <td>None</td>\n      <td>would be tweeting about removal given clear conflict.</td>\n    </tr>\n    <tr>\n      <th>8</th>\n      <td>&lt;class 'bs4.element.NavigableString'&gt;</td>\n      <td>None</td>\n      <td>Why did</td>\n    </tr>\n    <tr>\n      <th>9</th>\n      <td>&lt;class 'bs4.element.Tag'&gt;</td>\n      <td>abbr</td>\n      <td>[POTUS]</td>\n    </tr>\n    <tr>\n      <th>10</th>\n      <td>&lt;class 'bs4.element.NavigableString'&gt;</td>\n      <td>None</td>\n      <td>meet Bob under the cover of</td>\n    </tr>\n    <tr>\n      <th>11</th>\n      <td>&lt;class 'bs4.element.Tag'&gt;</td>\n      <td>abbr</td>\n      <td>[FBI]</td>\n    </tr>\n    <tr>\n      <th>12</th>\n      <td>&lt;class 'bs4.element.NavigableString'&gt;</td>\n      <td>None</td>\n      <td>Dir interview?</td>\n    </tr>\n    <tr>\n      <th>14</th>\n      <td>&lt;class 'bs4.element.NavigableString'&gt;</td>\n      <td>None</td>\n      <td>Bob is unable to serve as Dir per the law.</td>\n    </tr>\n    <tr>\n      <th>16</th>\n      <td>&lt;class 'bs4.element.NavigableString'&gt;</td>\n      <td>None</td>\n      <td>Gowdy comments on Comey (history will ....)</td>\n    </tr>\n    <tr>\n      <th>18</th>\n      <td>&lt;class 'bs4.element.Tag'&gt;</td>\n      <td>abbr</td>\n      <td>[POTUS]</td>\n    </tr>\n    <tr>\n      <th>19</th>\n      <td>&lt;class 'bs4.element.NavigableString'&gt;</td>\n      <td>None</td>\n      <td>has everything.</td>\n    </tr>\n    <tr>\n      <th>21</th>\n      <td>&lt;class 'bs4.element.NavigableString'&gt;</td>\n      <td>None</td>\n      <td>Not everyone is corrupt (fewer than you think).</td>\n    </tr>\n    <tr>\n      <th>23</th>\n      <td>&lt;class 'bs4.element.NavigableString'&gt;</td>\n      <td>None</td>\n      <td>Follow Huma.</td>\n    </tr>\n    <tr>\n      <th>25</th>\n      <td>&lt;class 'bs4.element.NavigableString'&gt;</td>\n      <td>None</td>\n      <td>Operation Mockingbird.</td>\n    </tr>\n    <tr>\n      <th>27</th>\n      <td>&lt;class 'bs4.element.NavigableString'&gt;</td>\n      <td>None</td>\n      <td>Priority to clean out the bad actors to unite people behind the America First agenda.</td>\n    </tr>\n    <tr>\n      <th>29</th>\n      <td>&lt;class 'bs4.element.NavigableString'&gt;</td>\n      <td>None</td>\n      <td>Many in our govt worship Satan.</td>\n    </tr>\n    <tr>\n      <th>31</th>\n      <td>&lt;class 'bs4.element.NavigableString'&gt;</td>\n      <td>None</td>\n      <td>Not about Republicans v Democrats at this stage.</td>\n    </tr>\n    <tr>\n      <th>33</th>\n      <td>&lt;class 'bs4.element.NavigableString'&gt;</td>\n      <td>None</td>\n      <td>Where is</td>\n    </tr>\n    <tr>\n      <th>34</th>\n      <td>&lt;class 'bs4.element.Tag'&gt;</td>\n      <td>abbr</td>\n      <td>[HRC]</td>\n    </tr>\n    <tr>\n      <th>35</th>\n      <td>&lt;class 'bs4.element.NavigableString'&gt;</td>\n      <td>None</td>\n      <td>?</td>\n    </tr>\n    <tr>\n      <th>37</th>\n      <td>&lt;class 'bs4.element.NavigableString'&gt;</td>\n      <td>None</td>\n      <td>Why is the</td>\n    </tr>\n    <tr>\n      <th>38</th>\n      <td>&lt;class 'bs4.element.Tag'&gt;</td>\n      <td>abbr</td>\n      <td>[NG]</td>\n    </tr>\n    <tr>\n      <th>39</th>\n      <td>&lt;class 'bs4.element.NavigableString'&gt;</td>\n      <td>None</td>\n      <td>called up across 12 cities?</td>\n    </tr>\n    <tr>\n      <th>41</th>\n      <td>&lt;class 'bs4.element.NavigableString'&gt;</td>\n      <td>None</td>\n      <td>Trust in your President.</td>\n    </tr>\n    <tr>\n      <th>43</th>\n      <td>&lt;class 'bs4.element.NavigableString'&gt;</td>\n      <td>None</td>\n      <td>God bless, Patriots.</td>\n    </tr>\n  </tbody>\n</table>\n</div>"
     },
     "metadata": {},
     "execution_count": 37
    }
   ],
   "source": [
    "Messages.dataframe(4950).drop(Messages.dataframe(4950)[Messages.dataframe(4950).name == 'br'].index)"
   ]
  }
 ],
 "metadata": {
  "kernelspec": {
   "name": "python3",
   "display_name": "Python 3.9.2 64-bit",
   "metadata": {
    "interpreter": {
     "hash": "aee8b7b246df8f9039afb4144a1f6fd8d2ca17a180786b69acc140d282b71a49"
    }
   }
  },
  "language_info": {
   "codemirror_mode": {
    "name": "ipython",
    "version": 3
   },
   "file_extension": ".py",
   "mimetype": "text/x-python",
   "name": "python",
   "nbconvert_exporter": "python",
   "pygments_lexer": "ipython3",
   "version": "3.9.2-final"
  }
 },
 "nbformat": 4,
 "nbformat_minor": 5
}