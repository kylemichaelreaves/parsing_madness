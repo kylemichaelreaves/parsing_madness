{
 "cells": [
  {
   "cell_type": "markdown",
   "id": "statistical-suffering",
   "metadata": {},
   "source": [
    "# 1. Scraping qdrops.online with BeautifulSoup and parsing its content\n",
    "## 1.1 capturing\n",
    "the text we want is contained within this tag hiearcharchy: \n",
    "- div message -> text -> string if not None & p \n",
    "- div message -> div op -> string \n",
    "- div message -> abbr title, abbr.text\n",
    "- meta lar -> span: time, name, source, num\n",
    "\n",
    "### prematurely calling text or get_text() on div_text will render unnecessary text, text we'd later have to clean\n",
    "\n",
    "### tags to extract():\n",
    "- hyperlinks: https?\\S+\\b, www, twitter, instagram, etc (inevitably will have to regex)\n",
    "- a href\n",
    "- figure\n",
    "- figcaption\n",
    "- images\n",
    "- div op containing no text or string\n",
    "- replace punct with a single space, then replace spaces longer than 1 space with a single space\n",
    "- it also might make things easier tokenizing them before hand\n",
    "### cleaning \n",
    "- sub hyperlinks\n",
    "- lower text\n",
    "- split text \n",
    "- sub punctuation\n",
    "- sub digits \n",
    "- join split words back into string\n",
    "- append strings to list if strings \n",
    "- return list of cleaned strings \n",
    "## Recurring Problems\n",
    "### inconsistent tag use: br, p, text, abbr \n",
    "- many more tags could have been abbreviated or propertied with its value\n",
    "- pickling exceeds maximum recursion; solved by sys.get and set a higher recursion limit\n",
    "- runtime of requests is > 1 min: solved by loading the pickled object\n",
    "- unwanted text from hyperlinks, figcaptions, etc; solved by using BeautifulSoup extract() on unwanted objects"
   ]
  },
  {
   "cell_type": "code",
   "execution_count": 1,
   "id": "ready-layer",
   "metadata": {},
   "outputs": [],
   "source": [
    "import requests\n",
    "import nltk\n",
    "import os, sys\n",
    "import itertools\n",
    "import re, string\n",
    "import pandas as pd\n",
    "import pickle\n",
    "\n",
    "from string import punctuation, digits\n",
    "from collections import Counter\n",
    "from bs4 import BeautifulSoup, NavigableString, Tag\n",
    "from string import punctuation, digits\n",
    "from nltk.stem import WordNetLemmatizer\n",
    "from nltk.corpus import stopwords\n",
    "\n",
    "punctuation += str('’‘–…“”')\n",
    "pd.set_option('display.max_colwidth', None)"
   ]
  },
  {
   "source": [
    "We don't have to execute the following cell, we can skip to opening the pickled object"
   ],
   "cell_type": "markdown",
   "metadata": {}
  },
  {
   "cell_type": "code",
   "execution_count": 3,
   "metadata": {},
   "outputs": [
    {
     "output_type": "execute_result",
     "data": {
      "text/plain": [
       "\"%%time\\nbase_url = 'https://qposts.online/page/' \\nurls = [base_url+str(i) for i in range(1, 105)]\\npage_requests = [requests.get(url) for url in urls]\\nsoups = [BeautifulSoup(page.text, 'html.parser') for page in page_requests]\\nmessages_original = [soups[i].findAll('div', 'message') for i in range(0, len(soups))]\\nmessages_flat = list(itertools.chain.from_iterable(messages))\\nmeta_lar = [soups[i].findAll('div', 'meta lar') for i in range(0, len(soups))]\""
      ]
     },
     "metadata": {},
     "execution_count": 3
    }
   ],
   "source": [
    "'''%%time\n",
    "base_url = 'https://qposts.online/page/' \n",
    "urls = [base_url+str(i) for i in range(1, 105)]\n",
    "page_requests = [requests.get(url) for url in urls]\n",
    "soups = [BeautifulSoup(page.text, 'html.parser') for page in page_requests]\n",
    "messages_original = [soups[i].findAll('div', 'message') for i in range(0, len(soups))]\n",
    "messages_flat = list(itertools.chain.from_iterable(messages))\n",
    "meta_lar = [soups[i].findAll('div', 'meta lar') for i in range(0, len(soups))]'''"
   ]
  },
  {
   "cell_type": "code",
   "execution_count": 2,
   "metadata": {},
   "outputs": [],
   "source": [
    "index_df = pd.read_pickle('index_df.pkl')\n",
    "index_df.number = index_df.number.astype('int')\n",
    "date = [index_df.datetime[i].date() for i in range(0, len(index_df.datetime))]\n",
    "time = [index_df.datetime[i].time() for i in range(0, len(index_df.datetime))]\n",
    "dt_index = pd.MultiIndex.from_arrays([date, time])"
   ]
  },
  {
   "cell_type": "code",
   "execution_count": 2,
   "metadata": {},
   "outputs": [
    {
     "output_type": "stream",
     "name": "stdout",
     "text": [
      "CPU times: user 12.1 s, sys: 419 ms, total: 12.6 s\nWall time: 12.6 s\n"
     ]
    }
   ],
   "source": [
    "%%time \n",
    "with open('messages_flat.pkl', 'rb') as f:\n",
    "    messages = pickle.load(f)\n",
    "with open('meta_flat.pkl', 'rb') as f:\n",
    "    meta_lar = pickle.load(f)"
   ]
  },
  {
   "cell_type": "code",
   "execution_count": 3,
   "metadata": {},
   "outputs": [
    {
     "output_type": "stream",
     "name": "stdout",
     "text": [
      "CPU times: user 7.32 s, sys: 195 ms, total: 7.52 s\nWall time: 7.7 s\n"
     ]
    }
   ],
   "source": [
    "%%time\n",
    "with open('names_joined.pkl', 'rb') as f:\n",
    "    names = pickle.load(f)\n",
    "with open('sources_joined.pkl', 'rb') as f:\n",
    "    sources = pickle.load(f)\n",
    "with open('flat_df_list.pkl', 'rb') as f:\n",
    "    flat_df_list = pickle.load(f)"
   ]
  },
  {
   "cell_type": "code",
   "execution_count": 3,
   "metadata": {},
   "outputs": [
    {
     "output_type": "stream",
     "name": "stdout",
     "text": [
      "CPU times: user 7.25 s, sys: 182 ms, total: 7.43 s\nWall time: 7.46 s\n"
     ]
    }
   ],
   "source": []
  },
  {
   "cell_type": "code",
   "execution_count": 4,
   "metadata": {},
   "outputs": [],
   "source": []
  },
  {
   "cell_type": "code",
   "execution_count": 6,
   "metadata": {},
   "outputs": [
    {
     "output_type": "execute_result",
     "data": {
      "text/plain": [
       "                                                                                                                                                                                                                                                                                                                                                                                                                                                                                                                                                                                                                                                                                                                                                            drop_contents\n",
       "238                                                                                                                                                                                                                                                                                                                                                                                                                                                                                                                                                                                                                                                                        ['www.instagram.com/antwiththecuts/', 'www.instagram.com/p/CFFgGxylzLm/', '@FBIPortland', 'Q']\n",
       "332                                                                                                                                                                                                                                                                                                                                                                                                                                                                                      ['[Placeholder - Indictments Tracking > Non_Civ]', '[Set 1]', '1. Kevin Clinesmith [KC][11.3]', '2.', '3.', '4.', '5.', '6.', '[Placeholder - Indictments Tracking > Civ]', 'https://www.justice.gov/archives/jm/criminal-resource-manual-923-18-usc-371-conspiracy-defraud-us']\n",
       "726                                                                                                                                                                                                                                                                                                                                                                                                                                                                                                                                                                                                                         ['https://www.breitbart.com/national-security/2020/05/12/fox-news-john-brennan-russia-hillary-clinton/', '[Russia] narrative ALL FAKE?', 'Q']\n",
       "1294                                                                                                                                                                                                                                                                                                                                                                                           ['https://www.foxnews.com/us/naval-air-station-shooter-manifesto-us-nation-of-evil', 'Posted on Twitter prior to shooting?', 'Calls to ban/remove Twitter?', 'Calls to ban/remove 8ch for same reason?', 'Congressional hearing?', 'Why was there a coordinated effort to ban/remove 8ch?', 'What was the reason?', 'What was the REAL reason?', 'Logical thinking.', 'Q']\n",
       "1295                                                                                                                                                                                                                                                                                                                                                                                                                                                                                                                                                                                     ['Where is George Soros?', 'Ukraine?', 'Who else recently traveled to Ukraine?', 'PANIC is real.', 'ALL HANDS ON DECK.', 'https://www.merriam-webster.com/dictionary/evil', 'Q']\n",
       "...                                                                                                                                                                                                                                                                                                                                                                                                                                                                                                                                                                                                                                                                                                                                                                   ...\n",
       "4806                                                                                                                                                                                                                                              ['::::WARNING::::', 'This is not a game!', 'DIRECT ATTACK TODAY BY NYT/CLOWNS IN AMERICA:', 'https://www.nytimes.com/2017/11/12/us/nsa-shadow-brokers.html', 'Do you believe in coincidences? ', 'How many coincidences do you need before you believe?', 'This is the biggest insider drop in the history of the world. ', 'Pray.', 'Q', 'This is a direct attack.', 'The article is disinfo but made to send a message to ', 'POTUS', '.', 'You are witnessing history.', 'Coincidence?', 'God be with us all.', 'Q']\n",
       "4807                                                                                                                                                                                                                                                                                                                                                                                                                            ['::::WARNING::::', 'This is not a game!', 'DIRECT ATTACK TODAY BY NYT/CLOWNS IN AMERICA:', 'https://www.nytimes.com/2017/11/12/us/nsa-shadow-brokers.html', 'Do you believe in coincidences? ', 'How many coincidences do you need before you believe?', 'This is the biggest insider drop in the history of the world. ', 'Pray.', 'Q']\n",
       "4808                                                                                                                                                                                                                                                                                                                                                                                                                            ['::::WARNING::::', 'This is not a game!', 'DIRECT ATTACK TODAY BY NYT/CLOWNS IN AMERICA:', 'https://www.nytimes.com/2017/11/12/us/nsa-shadow-brokers.html', 'Do you believe in coincidences? ', 'How many coincidences do you need before you believe?', 'This is the biggest insider drop in the history of the world. ', 'Pray.', 'Q']\n",
       "4857  ['Obama sent 221 million to Palestinians right before leaving office. The payout..', 'http://www.breitbart.com/big-government/2017/01/23/report-obama-gave-221-million-palestinians-last-hours/', 'Amazing how things make sense once you are asked a question. ', \"That's the entire point of this operation.\", \"It's up to you all to collect, archive (safely), and distribute in a graphic that is in order with the crumb dumbs. \", 'It will all make sense.', 'Once it does, we look to you to spread and get the word out. ', 'Time stamps will help you validate authenticity. ', 'Your President needs your help.', 'He wants full transparency for the great people of this country.', 'Everything stated is for a reason.', 'God bless, Patriots.', 'Q']\n",
       "4867                                                                                                                                                                                                                                                                                                                                                                                                                                        ['https://www.amazon.in/Hillary-Clinton-Wonderland-Quotes-Campaign-ebook/dp/B01HOM8AV2', 'https://www.amazon.in/Hillary-Clinton-Wonderland-Quotes-Campaign-ebook/dp/B01HOM8AV2', 'Finally. ', 'Correct reference.', 'Saudi Arabia - The Bloody Wonderland. ', '=Alice & Wonderland signatures ', 'Study.', 'Important.', 'Q']\n",
       "\n",
       "[401 rows x 1 columns]"
      ],
      "text/html": "<div>\n<style scoped>\n    .dataframe tbody tr th:only-of-type {\n        vertical-align: middle;\n    }\n\n    .dataframe tbody tr th {\n        vertical-align: top;\n    }\n\n    .dataframe thead th {\n        text-align: right;\n    }\n</style>\n<table border=\"1\" class=\"dataframe\">\n  <thead>\n    <tr style=\"text-align: right;\">\n      <th></th>\n      <th>drop_contents</th>\n    </tr>\n  </thead>\n  <tbody>\n    <tr>\n      <th>238</th>\n      <td>['www.instagram.com/antwiththecuts/', 'www.instagram.com/p/CFFgGxylzLm/', '@FBIPortland', 'Q']</td>\n    </tr>\n    <tr>\n      <th>332</th>\n      <td>['[Placeholder - Indictments Tracking &gt; Non_Civ]', '[Set 1]', '1. Kevin Clinesmith [KC][11.3]', '2.', '3.', '4.', '5.', '6.', '[Placeholder - Indictments Tracking &gt; Civ]', 'https://www.justice.gov/archives/jm/criminal-resource-manual-923-18-usc-371-conspiracy-defraud-us']</td>\n    </tr>\n    <tr>\n      <th>726</th>\n      <td>['https://www.breitbart.com/national-security/2020/05/12/fox-news-john-brennan-russia-hillary-clinton/', '[Russia] narrative ALL FAKE?', 'Q']</td>\n    </tr>\n    <tr>\n      <th>1294</th>\n      <td>['https://www.foxnews.com/us/naval-air-station-shooter-manifesto-us-nation-of-evil', 'Posted on Twitter prior to shooting?', 'Calls to ban/remove Twitter?', 'Calls to ban/remove 8ch for same reason?', 'Congressional hearing?', 'Why was there a coordinated effort to ban/remove 8ch?', 'What was the reason?', 'What was the REAL reason?', 'Logical thinking.', 'Q']</td>\n    </tr>\n    <tr>\n      <th>1295</th>\n      <td>['Where is George Soros?', 'Ukraine?', 'Who else recently traveled to Ukraine?', 'PANIC is real.', 'ALL HANDS ON DECK.', 'https://www.merriam-webster.com/dictionary/evil', 'Q']</td>\n    </tr>\n    <tr>\n      <th>...</th>\n      <td>...</td>\n    </tr>\n    <tr>\n      <th>4806</th>\n      <td>['::::WARNING::::', 'This is not a game!', 'DIRECT ATTACK TODAY BY NYT/CLOWNS IN AMERICA:', 'https://www.nytimes.com/2017/11/12/us/nsa-shadow-brokers.html', 'Do you believe in coincidences? ', 'How many coincidences do you need before you believe?', 'This is the biggest insider drop in the history of the world. ', 'Pray.', 'Q', 'This is a direct attack.', 'The article is disinfo but made to send a message to ', 'POTUS', '.', 'You are witnessing history.', 'Coincidence?', 'God be with us all.', 'Q']</td>\n    </tr>\n    <tr>\n      <th>4807</th>\n      <td>['::::WARNING::::', 'This is not a game!', 'DIRECT ATTACK TODAY BY NYT/CLOWNS IN AMERICA:', 'https://www.nytimes.com/2017/11/12/us/nsa-shadow-brokers.html', 'Do you believe in coincidences? ', 'How many coincidences do you need before you believe?', 'This is the biggest insider drop in the history of the world. ', 'Pray.', 'Q']</td>\n    </tr>\n    <tr>\n      <th>4808</th>\n      <td>['::::WARNING::::', 'This is not a game!', 'DIRECT ATTACK TODAY BY NYT/CLOWNS IN AMERICA:', 'https://www.nytimes.com/2017/11/12/us/nsa-shadow-brokers.html', 'Do you believe in coincidences? ', 'How many coincidences do you need before you believe?', 'This is the biggest insider drop in the history of the world. ', 'Pray.', 'Q']</td>\n    </tr>\n    <tr>\n      <th>4857</th>\n      <td>['Obama sent 221 million to Palestinians right before leaving office. The payout..', 'http://www.breitbart.com/big-government/2017/01/23/report-obama-gave-221-million-palestinians-last-hours/', 'Amazing how things make sense once you are asked a question. ', \"That's the entire point of this operation.\", \"It's up to you all to collect, archive (safely), and distribute in a graphic that is in order with the crumb dumbs. \", 'It will all make sense.', 'Once it does, we look to you to spread and get the word out. ', 'Time stamps will help you validate authenticity. ', 'Your President needs your help.', 'He wants full transparency for the great people of this country.', 'Everything stated is for a reason.', 'God bless, Patriots.', 'Q']</td>\n    </tr>\n    <tr>\n      <th>4867</th>\n      <td>['https://www.amazon.in/Hillary-Clinton-Wonderland-Quotes-Campaign-ebook/dp/B01HOM8AV2', 'https://www.amazon.in/Hillary-Clinton-Wonderland-Quotes-Campaign-ebook/dp/B01HOM8AV2', 'Finally. ', 'Correct reference.', 'Saudi Arabia - The Bloody Wonderland. ', '=Alice &amp; Wonderland signatures ', 'Study.', 'Important.', 'Q']</td>\n    </tr>\n  </tbody>\n</table>\n<p>401 rows × 1 columns</p>\n</div>"
     },
     "metadata": {},
     "execution_count": 6
    }
   ],
   "source": [
    "drop_df[drop_df.drop_contents.str.contains('www')]"
   ]
  },
  {
   "source": [
    "removing needless tags from messages"
   ],
   "cell_type": "markdown",
   "metadata": {}
  },
  {
   "cell_type": "code",
   "execution_count": 8,
   "metadata": {},
   "outputs": [
    {
     "output_type": "stream",
     "name": "stderr",
     "text": [
      "<ipython-input-8-6e5162ce29e2>:1: FutureWarning: The default value of regex will change from True to False in a future version.\n  drop_df['drop_contents'] = drop_df['drop_contents'].str.replace(r'(www|https)\\S+\\b', '')\n"
     ]
    }
   ],
   "source": [
    "drop_df['drop_contents'] = drop_df['drop_contents'].str.replace(r'(www|https)\\S+\\b', '')"
   ]
  },
  {
   "cell_type": "code",
   "execution_count": 5,
   "metadata": {},
   "outputs": [],
   "source": [
    "for message in messages:\n",
    "    for a_ref in message.findAll('a', class_='ref'):\n",
    "        a_ref.extract()\n",
    "    for images in message.findAll('div', class_='images'):\n",
    "        images.extract()\n",
    "    for br_tags in message.findAll('br'):\n",
    "        br_tags.extract()"
   ]
  },
  {
   "source": [
    "replacements dictionary"
   ],
   "cell_type": "markdown",
   "metadata": {}
  },
  {
   "cell_type": "code",
   "execution_count": 6,
   "metadata": {},
   "outputs": [],
   "source": [
    "# if an item in Messages.split(i) is in replace_dict.keys(), replace i (the key) with its value\n",
    "replace_dict = {' w ': 'with',\n",
    " '&': 'and',\n",
    " 'AUTH': 'authorization',\n",
    " 'BRENNAN': 'John Brennan',\n",
    " 'COVID19': 'covid',\n",
    " 'D': 'Democrats',\n",
    " 'GOOG': 'Google',\n",
    " \"Gov't\": 'government',\n",
    " 'HUSSEIN': 'Barack Obama',\n",
    " 'ID': 'identification',\n",
    " 'KERRY': 'John Kerry',\n",
    " \"M's\": 'marshalls',\n",
    " 'MERKEL': 'Angela Merkel',\n",
    " 'MS-13': 'ms thirteen',\n",
    " 'MSM': 'mainstream media',\n",
    " 'No Such Agency': 'NSA',\n",
    " 'Russia>D': 'Russia Democrats',\n",
    " 'SA': 'Saudi Arabia',\n",
    " 'U S Gov t': 'United States government',\n",
    " 'U.S.': 'United States',\n",
    " 'US': 'United States',\n",
    " '[D]': 'Democratic',\n",
    " 'comms': 'communications',\n",
    " \"d's\": 'democrats',\n",
    " 'ds': 'democrats',\n",
    " 'financial T': 'financial transactions',\n",
    " 'r v d': 'republicans vs democrats',\n",
    " \"r's\": 'republicans',\n",
    " 're': 'regarding',\n",
    " 'rs': 'republicans',\n",
    " 'v': 'versus',\n",
    " 'v2': 'version two',\n",
    " 'w/': 'with'}"
   ]
  },
  {
   "cell_type": "code",
   "execution_count": 7,
   "metadata": {},
   "outputs": [],
   "source": [
    "class Spans:\n",
    "    def __init__(self):\n",
    "        pass\n",
    "\n",
    "    def nums():\n",
    "        nums = [meta_lar[i].find('span', 'num').get_text() for i in range(0, len(meta_lar))]\n",
    "        return nums\n",
    "                \n",
    "    def sources():\n",
    "        sources = [meta_lar[i].find('span', 'source').get_text() for i in range(0, len(meta_lar))]\n",
    "        links = [meta_lar[i].find('span', 'source').contents[-1].get('href') for i in range(0, len(meta_lar))]\n",
    "        return sources\n",
    "    \n",
    "    def names():\n",
    "        names = [meta_lar[i].find('span', 'name').get_text() for i in range(0, len(meta_lar))]\n",
    "        return names\n",
    "                      \n",
    "    def dates():\n",
    "        date_list = [meta_lar[i].find('span', 'time').get_text()for i in range(0, len(meta_lar))]\n",
    "        dt_idx = pd.to_datetime(date_list, origin='unix', unit='s')\n",
    "        return dt_idx"
   ]
  },
  {
   "cell_type": "code",
   "execution_count": 8,
   "metadata": {},
   "outputs": [],
   "source": [
    "class Messages(object):\n",
    "    def __init__(self):\n",
    "        pass\n",
    "    \n",
    "    def get(integer: int):\n",
    "        inner = []\n",
    "        for items in messages[integer]:\n",
    "            # creating this exception made the function iterable\n",
    "            if isinstance(items, NavigableString):\n",
    "                continue\n",
    "            else:\n",
    "                for div_op in items.findAll('div', class_='op'):\n",
    "                    for ops_content in div_op.contents:  \n",
    "                        inner.append(ops_content.string)\n",
    "                else:\n",
    "                    if items.string is not None:\n",
    "                        inner.append(items.string)\n",
    "                    else:\n",
    "                        for item_content in items.contents:\n",
    "                            if item_content.string is not None:\n",
    "                                inner.append(item_content.string)\n",
    "        cleaned = [item for item in inner if item and item != ' ']\n",
    "        return cleaned \n",
    "\n",
    "\n",
    "    def dataframe(integer: int):\n",
    "        df = pd.DataFrame({'type': [type(i) for i in messages[integer]],\n",
    "                           'name': [i.name for i in messages[integer]],\n",
    "                           'attrs': [i.attrs for i in messages[integer]],\n",
    "                           'content': [i for i in messages[integer]]})\n",
    "        return df\n",
    "\n",
    "    def get_abbr(integer:int): \n",
    "        return Messages.dataframe(integer)[Messages.dataframe(integer).name == 'abbr']\n",
    "    \n",
    "    def info(integer:int):\n",
    "        return index_df[index_df.number == integer]\n",
    "\n",
    "    def sents(integer: int):\n",
    "        return nltk.sent_tokenize(' '.join(Messages.get(integer))) \n",
    "      \n",
    "    def joined(integer: int):\n",
    "        return ' '.join(Messages.get(integer))\n",
    "        \n",
    "    def split(integer: int):\n",
    "        return Messages.joined(integer).split()\n",
    "    \n",
    "    def children(integer: int): \n",
    "        name = messages[integer].div.name\n",
    "        attr = messages[integer].div.attrs\n",
    "        parent = name, attr\n",
    "        children = [i.name for i in messages[integer].div.children]\n",
    "        return parent, children"
   ]
  },
  {
   "cell_type": "code",
   "execution_count": 12,
   "metadata": {},
   "outputs": [],
   "source": [
    "'''def clean(integer: str):\n",
    "    cleaned = [re.sub('/', ' ', item) for item in integer]\n",
    "    cleaned = [re.sub('-', ' ', item) for item in cleaned]\n",
    "    cleaned = [re.sub('\\]\\[', ' ', item) for item in cleaned]\n",
    "    cleaned = [re.sub('[%s]' % re.escape(string.punctuation), '', item) for item in cleaned]\n",
    "    cleaned = [re.sub('[%s]' % re.escape(string.digits), '', item) for item in cleaned]\n",
    "    cleaned = [item.strip() for item in cleaned]\n",
    "    cleaned = [item for item in cleaned if item]\n",
    "    #cleaned = [nltk.word_tokenize(item) for item in cleaned]\n",
    "    #cleaned = [' '.join(item) for item in cleaned]\n",
    "    return cleaned'''"
   ]
  },
  {
   "cell_type": "code",
   "execution_count": 13,
   "metadata": {},
   "outputs": [],
   "source": [
    "'''def get(integer: int):\n",
    "    inner_list = []\n",
    "    if messages[integer].attrs == {'class': ['message']}:\n",
    "     \n",
    "        for item in messages[integer].contents:\n",
    "       \n",
    "            for div_op in item.findAll('div', class_='op'):\n",
    "                for itm in div_op.contents:\n",
    "                    if itm not in inner_list:\n",
    "                        inner_list.append(itm.string)\n",
    "            for abbr_tag in item.findAll('abbr'):\n",
    "                abbr_tag.replace_with(abbr_tag.text)\n",
    "        if messages[integer].div.name == 'div' and messages[integer].div.attrs == {'class': ['text']}:\n",
    "            if messages[integer].div.next_element.name == 'p':\n",
    "                for p_tag in messages[integer].div.findAll('p'):\n",
    "                    if p_tag.string is not None:\n",
    "                        inner_list.append(p_tag.string)\n",
    "            \n",
    "            else:\n",
    "                for content in item.contents:\n",
    "                    if isinstance(content, NavigableString):\n",
    "                        if content in inner_list:\n",
    "                            continue\n",
    "                        else:\n",
    "                            inner_list.append(content)\n",
    "\n",
    "    return inner_list'''              "
   ]
  },
  {
   "cell_type": "code",
   "execution_count": 56,
   "metadata": {},
   "outputs": [],
   "source": [
    "def clean_string(integer: int):\n",
    "    inner = []\n",
    "    for line in Messages.get(integer):\n",
    "        if line.startswith('https'):\n",
    "            continue\n",
    "        else:\n",
    "            cleaned = re.sub('/', ' ', line)\n",
    "            cleaned = re.sub('-', ' ', cleaned)\n",
    "            cleaned = re.sub('_', ' ', cleaned)\n",
    "            cleaned = re.sub('\\]\\[', ' ', cleaned)\n",
    "            cleaned = re.sub('…', '', cleaned)\n",
    "            cleaned = re.sub('[%s]' % re.escape(string.punctuation), '', cleaned)\n",
    "            cleaned = re.sub('[%s]' % re.escape(string.digits), '', cleaned)\n",
    "            inner.append(cleaned.strip())\n",
    "    stripped = [item for item in inner if item]\n",
    "    words = [nltk.word_tokenize(word) for word in stripped]\n",
    "    joined = [' '.join(inner_list) for inner_list in words]\n",
    "    return joined"
   ]
  },
  {
   "cell_type": "code",
   "execution_count": 54,
   "metadata": {},
   "outputs": [
    {
     "output_type": "execute_result",
     "data": {
      "text/plain": [
       "['DOITQ',\n",
       " 'honored at the you Q we are at the ready and the anon morale is very very high lets do this',\n",
       " 'UNITED WE STAND',\n",
       " 'STRONG TOGETHER',\n",
       " 'We are honored',\n",
       " 'ANONS are selfless nameless faceless fameless and FEARLESS',\n",
       " 'We are grateful',\n",
       " 'Q']"
      ]
     },
     "metadata": {},
     "execution_count": 54
    }
   ],
   "source": [
    "clean_string(2624)"
   ]
  },
  {
   "cell_type": "code",
   "execution_count": 63,
   "metadata": {},
   "outputs": [],
   "source": [
    "flat_cleaned_list = list(itertools.chain.from_iterable(pd.DataFrame({'cleaned_strings': [clean_string(i) for i in range(0, len(messages))]})['cleaned_strings'].tolist()))"
   ]
  },
  {
   "cell_type": "code",
   "execution_count": 107,
   "metadata": {},
   "outputs": [
    {
     "output_type": "execute_result",
     "data": {
      "text/plain": [
       "['Durham',\n",
       " 'Shall we play a game',\n",
       " 'Nothing Can Stop What Is Coming',\n",
       " 'NCSWIC',\n",
       " 'Who stepped down today forced',\n",
       " 'More coming',\n",
       " 'Why is this relevant',\n",
       " 'How do you show the public the truth',\n",
       " 'How do you safeguard US elections post POTUS',\n",
       " 'How do you remove foreign interference and corruption and install US owned voter ID laws and other safeguards',\n",
       " 'It had to be this way',\n",
       " 'Sometimes you must walk through the darkness before you see the light',\n",
       " 'Nothing can stop what is coming',\n",
       " 'Nothing',\n",
       " 'Together we win',\n",
       " 'Are you ready to take back control of this Country',\n",
       " 'Are you ready to hold the political elite protected accountable',\n",
       " 'Are you ready to finish what we started',\n",
       " 'Nothing can stop what is coming is not just a catch phrase',\n",
       " 'Fact checkers created in effort to reinforce propaganda digestion',\n",
       " 'The battle to prevent truth from reaching the people',\n",
       " 'The battle to maintain and push division',\n",
       " 'Divided you are weak',\n",
       " 'Divided you fight each other',\n",
       " 'Divided you pose no threat',\n",
       " 'System of control',\n",
       " 'Information warfare',\n",
       " 'This is not about R v D',\n",
       " 'This is about preserving our way of life',\n",
       " 'If America falls the World falls',\n",
       " 'Patriots on guard',\n",
       " 'Q you magnificent bastard',\n",
       " 'Q you magnificent bastard',\n",
       " 'Only the beginning Padawan',\n",
       " 'They can no longer hide in the shadows big tech big media D party being exposed for all to see',\n",
       " 'This is not going away',\n",
       " 'Corruption at highest levels of gov',\n",
       " 'DOJ FBI MSDNC political elite protection struggles during BRIGHT SUNNY days',\n",
       " 'PLEASE FIX THE BREAD AND TIDY UP THE SHIP',\n",
       " 'Tonight at the debate when they push death count vs POTUS remember this simple fact',\n",
       " '“ Key domestic contacts for phase one target projects ”',\n",
       " 'Harris D Calif',\n",
       " 'Senate Minority Leader Chuck Schumer D NY',\n",
       " 'Sen Amy Klobuchar D Minn',\n",
       " 'Sen Dianne Feinstein D Calif',\n",
       " 'Sen Kirsten Gillibrand D NY',\n",
       " 'Gov Andrew Cuomo D NY',\n",
       " 'Mayor Bill de Blasio D NYC',\n",
       " 'former Virginia Gov Terry McCauliffe among others',\n",
       " 'Pandoras political elite box',\n",
       " 'Did Hussein contact Matt Murray in attempt to persuade not to publish',\n",
       " 'Will Murray follow the truth or buckle to pressure',\n",
       " 'DC civil war',\n",
       " 'Watergate x',\n",
       " 'Non CIA background next',\n",
       " 'BOOMS EN ROUTE TOMORROW',\n",
       " 'This is not a drill',\n",
       " 'Dearest Virginia',\n",
       " 'We stand with you',\n",
       " 'Now and always',\n",
       " 'Find peace through prayer',\n",
       " 'Never give up the good fight',\n",
       " 'God bless you',\n",
       " 'Do you remember when MeToo lost all credibility when they refused to support Tara Reade coming forward re claims of sexual assault by Joe Biden',\n",
       " 'Political movement',\n",
       " 'Client',\n",
       " 'Political pundit pollster for sale',\n",
       " 'Do you see how it works',\n",
       " 'ENEMY OF THE PEOPLE',\n",
       " 'Underage family member',\n",
       " 'FBI can no longer attempt to shelter protect the Bidens',\n",
       " 'Public awareness kills all protections',\n",
       " 'Inappropriate sick to you',\n",
       " 'Normal to them',\n",
       " 'Dark secrets',\n",
       " 'A deep dark world is being exposed',\n",
       " 'The truth wont be for everyone',\n",
       " 'Have faith in Humanity',\n",
       " 'Freedom of information truth END',\n",
       " 'Sometimes you cant TELL the public the truth',\n",
       " 'YOU MUST SHOW THEM',\n",
       " 'ONLY THEN WILL PEOPLE FIND THE WILL TO CHANGE',\n",
       " 'Crimes against children unite all humanity cross party lines',\n",
       " 'Difficult truths',\n",
       " 'All movies playing simultaneously',\n",
       " 'Do you find it interesting that everything discussed in the past is somehow making news as of late',\n",
       " 'Buckle up',\n",
       " 'Do you see a pattern',\n",
       " 'Do you see a pattern',\n",
       " 'Do you see a pattern',\n",
       " 'Why is the FBIs top child porn lawyer involved in the H Biden laptop case special agent Joshua Wilson',\n",
       " 'Do you see a pattern',\n",
       " 'HOW IS THE GAME PLAYED',\n",
       " 'HOW IS THE GAME PLAYED',\n",
       " 'Now that you know how Judge Ronnie Abrams and Greg Andres are connected',\n",
       " 'Who is Dan Abrams',\n",
       " 'Brother of Judge Ronnie Abrams',\n",
       " 'Chief Legal Affairs anchor for ABC News and is the host of The Dan Abrams Show Where Politics Meets The Law',\n",
       " 'System of control',\n",
       " 'Apply logic and common sense',\n",
       " 'Panic',\n",
       " 'Who is Alexandra Chalupa',\n",
       " 'HOW IS THE GAME PLAYED',\n",
       " 'Example',\n",
       " 'Unanimous convicted by Jury',\n",
       " 'Overturn of conviction by Judge Ronnie Abrams of the Southern District of New York attempt to free provide shade H Biden',\n",
       " 'Federal Appeals Court reinstates conviction',\n",
       " 'Background Judge Ronnie Abrams',\n",
       " 'Married to Greg Andres',\n",
       " 'Who is Greg Andres',\n",
       " 'DRAIN THE SWAMP',\n",
       " 'How do you inform your targets business partners what you have',\n",
       " 'Why would H Biden have such material on his laptop',\n",
       " 'How was the content originally received',\n",
       " 'Email',\n",
       " 'Why would H Biden risk turning over such material to a computer repair shop contents unrestricted',\n",
       " 'On purpose years of being treated poorly by Pop or simple negligence',\n",
       " 'If such information existed on laptop why wouldnt contents be claimed',\n",
       " 'Several attempts made to contact to claim',\n",
       " 'Messages left',\n",
       " 'Why wouldnt H Biden want to reclaim knowing the contents on the drive could bury Pops family',\n",
       " 'A troubled life',\n",
       " 'A troubled family',\n",
       " 'Looks can be deceiving',\n",
       " 'Those who provided Hunter w underage girls trafficked same people who also took the pictures',\n",
       " 'If large sums of money are being paid by foreign state actors to protected in powerful positions US pols would they want assurances the deal will be kept',\n",
       " 'Bribes blackmail',\n",
       " 'Dark secrets',\n",
       " 'America ’ s Founders believed that corruption and foreign influence were among the gravest threats to our nation',\n",
       " 'Subpoena of all H Bidens financial records',\n",
       " 'Death blow',\n",
       " 'Pandoras political elite box',\n",
       " 'Worth remembering',\n",
       " 'Ukraine China Iraq Iran opens the door far beyond the BIDEN family',\n",
       " 'How do you protect your interests shelter from prosecution public awareness',\n",
       " 'Control infiltrate DOJ FBI State Intel News',\n",
       " 'How many fired FBI Russia Midyear received a book deal',\n",
       " 'Book deals can be lucrative',\n",
       " 'Follow the family',\n",
       " 'US taxpayers paid for it all',\n",
       " 'INFORMATION WARFARE',\n",
       " 'Past Hours',\n",
       " 'Do you see how it works',\n",
       " 'WHY ARE THEY SO HEAVILY INVESTED IN ATTACKING FORCING POTUS TO DENOUNCE attempt x',\n",
       " 'When do you expend ammunition',\n",
       " 'Enjoy the show',\n",
       " 'PANIC IN DC',\n",
       " 'THE BEST IS YET TO COME',\n",
       " 'There is Q',\n",
       " 'There are Anons',\n",
       " 'There is no Qanon',\n",
       " 'Media labeling as Qanon is a method deliberate to combine attach Q to comments theories suggestions statements and ACTIONS made by',\n",
       " 'WHAT HAPPENS WHEN YOU CAN NOT ATTACK THE INFORMATION primary source',\n",
       " 'DO YOU ATTACK TYPECAST THROUGH USE OF OTHERS',\n",
       " 'Not all Anons are authentic injected',\n",
       " 'You are correct CJ',\n",
       " 'Retweet had meaning mathematical probability day after',\n",
       " 'Do you believe it was a coincidence surgical removal of You Tube accounts occurred same day as Hunter drop',\n",
       " 'Welcome to the Digital Battlefield',\n",
       " 'Without you collectively there would have been no way to bypass their control',\n",
       " 'They werent about to repeat the mistakes of',\n",
       " 'You are what matters most',\n",
       " 'UNITED NOT DIVIDED',\n",
       " 'You awake thinking for yourself is their greatest fear',\n",
       " 'WELCOME TO THE DIGITAL BATTLEFIELD',\n",
       " 'WWGWGA',\n",
       " 'Underage obsessions is a gentle way of putting it',\n",
       " 'Remember its just a conspiracy',\n",
       " 'Thats why they are throwing everything they can at it',\n",
       " 'Q YOU BROKE TWAT',\n",
       " 'Q YOU BROKE TWAT',\n",
       " 'No Anon You did collectively',\n",
       " 'Do you get it yet',\n",
       " 'They are afraid of you reach uncontrolled anti narrative free thought',\n",
       " 'Dont forget about the House Intel Committee meeting re Qanon today',\n",
       " 'More conspiracy fact less base less claims pushed re violent extremist racist dangerous anti gov nazism white supremacy anti religion anti American',\n",
       " 'attacked topic POTUS',\n",
       " 'INFORMATION WARFARE',\n",
       " 'Would you like to send anything else on over during the House Intel Committee hearing',\n",
       " 'Nothing can stop this',\n",
       " 'Anons were warned years ago of pending China communist style tactic approaching re censor and terminate any all dissenting views',\n",
       " 'They are not in control of their own platforms',\n",
       " 'EVERY ASSET DEPLOYED',\n",
       " 'You didnt think it was just a conspiracy did you',\n",
       " 'Why was POTUS framed re Russia collusion',\n",
       " 'Protect truth re Hillary DNC Russia collusion',\n",
       " 'Why was POTUS impeached re Ukraine',\n",
       " 'Protect truth re Biden CLAS Ukraine collusion',\n",
       " 'Blame opponent for what they themselves are guilty of DNC media push echo submitted talking points generate false narrative',\n",
       " 'NAT SEC concerns re blackmail gain control of J Biden by Russia China and or other foreign or domestic entities',\n",
       " 'US Intel apparatus reports',\n",
       " 'Clear and Present Danger',\n",
       " 'Worth remembering',\n",
       " 'Underage women young girls sexually exploited context for future',\n",
       " 'After today make more sense',\n",
       " 'Buckle up',\n",
       " 'Past Days',\n",
       " 'House resolution passed condemning Qanon',\n",
       " 'House intel committee meeting tomorrow re Qanon',\n",
       " 'Gauge for yourself Anon',\n",
       " 'Information warfare',\n",
       " 'They can no longer hide in the shadows',\n",
       " 'How does one agency attach itself to another',\n",
       " 'Read both carefully',\n",
       " 'If the FBI has confirmed that Hackers have gained access to the US voting systemwhat exactly does that do to the election',\n",
       " 'If the FBI has confirmed that Hackers have gained access to the US voting systemwhat exactly does that do to the election',\n",
       " 'FAKE NEWS',\n",
       " 'Dont believe everything you read',\n",
       " 'Your ability to spread information across the digital battlefield and bypass their control is what they fear narrative failure and why they are doing everything in their power to disrupt false labeling daily attacks censorship termination gov hearings foundation to term censor etc',\n",
       " 'Keep charging Midnight Riders',\n",
       " 'Information Warfare',\n",
       " 'Hunters become the Hunted',\n",
       " 'Wife CIA',\n",
       " 'Husband DOJ',\n",
       " 'How does one agency attach itself to another',\n",
       " 'Lets keep the party going',\n",
       " 'FBI possession since late',\n",
       " 'No FBI interviews J H Biden due to optics re attack political opponent',\n",
       " 'Lesson of the Day If you run for POTUS all your past crimes magically disappear',\n",
       " 'Sometimes it takes transparency to force action',\n",
       " 'Lets see what happens',\n",
       " 'In this case does having early stage dementia help you re previous deniability harmful politically',\n",
       " 'DRAIN THE SWAMP',\n",
       " 'What happens when too many people dont buy what they are selling',\n",
       " 'What happens when too many people wake up',\n",
       " 'What happens when they lose control of the digital battlefield',\n",
       " 'Mr Russia collusion pusher himself now involved',\n",
       " 'knowingly',\n",
       " 'Sometimes public awareness of certain events prevents occurrence',\n",
       " 'Sometimes public awareness of certain events forces accountability',\n",
       " 'Stage being set',\n",
       " 'Thank you to our Justice Department and our federal law enforcement agencies for protecting our Governors and all the rest of our people without regard to politics',\n",
       " 'Do you trust your sources RR',\n",
       " 'Do you believe the election will be successfully rigged to avoid accountability',\n",
       " 'What do they have on you',\n",
       " 'Dark secrets',\n",
       " 'Roger that Madam Secretary',\n",
       " 'C classified State',\n",
       " 'Clinton Foundation Soros journalists dir Africa SA SAPs China Russia U Hussein dir Benghazi MB CIA assets crimes against humanity route Huma cc Weiner backup',\n",
       " 'Nothing is ever truly deleted',\n",
       " 'Threats blackmail and bribes',\n",
       " 'Wasnt referring to Kansas statement re Clinton emails',\n",
       " 'Dont believe everything you read',\n",
       " 'TOTAL US DEATHS ALL CAUSES',\n",
       " 'Total Deaths US month',\n",
       " 'Total Deaths US month',\n",
       " 'Total Deaths US month',\n",
       " 'Total Deaths US jan week month',\n",
       " 'month x Oct Nov Dec assumption based on monthly avg',\n",
       " 'month assumption insert',\n",
       " 'Why did select D govs push C infected patients into nursing homes',\n",
       " 'of total C deaths attributed to nursing homes',\n",
       " 'Who is most susceptible',\n",
       " 'Same D govs who pushed C infected patients into nursing homes attempting to keep States closed',\n",
       " 'Why',\n",
       " 'Keep firing Nancy',\n",
       " 'Why did Brennan endorse',\n",
       " 'Why did POTUS select as Dir',\n",
       " 'Buckle up',\n",
       " 'Who was DNI',\n",
       " 'Who was AG',\n",
       " 'CIA leads to the top',\n",
       " 'What happens if CIA was actively involved in domestic targeting and surv of US persons direct indirect',\n",
       " 'How does one agency attach itself to another',\n",
       " 'the CIA is restricted in the collection of intelligence information directed against US citizens Collection is allowed only for an authorized intelligence purpose for example if there is a reason to believe that an individual is involved in espionage or international terrorist activities The CIAs procedures require senior approval for any such collection that is allowed and depending on the collection technique employed the sanction of the Director of National Intelligence and Attorney General may be required',\n",
       " 'Look here FBI',\n",
       " 'Look here DOJ',\n",
       " 'DO NOT LOOK HERE CIA',\n",
       " 'Did you notice the missile within the drop re th amendment',\n",
       " 'Was the th amendment arrow in the quiver planned',\n",
       " 'How long ago',\n",
       " 'Was it expected POTUS would be in a critical health state re C',\n",
       " 'Recovery unexpected',\n",
       " 'Impossible to unwind',\n",
       " 'Next mentally incapacitated re C language people are dying safety and security to the well being',\n",
       " 'Combat tactics Mr Ryan',\n",
       " 'Nothing is random',\n",
       " 'Everything has meaning',\n",
       " 'SHADOW PRESIDENT',\n",
       " 'SHADOW GOVERNMENT',\n",
       " 'INFORMATION WARFARE',\n",
       " 'IRREGULAR WARFARE',\n",
       " 'COLOR REVOLUTION',\n",
       " 'INSURGENCY',\n",
       " 'Why did Paul Ryan refuse block all subpoena requests by R committee chairs',\n",
       " 'What is the going rate for THE SPEAKER OF THE HOUSE to obstruct Congressional investigations for the purposes of delaying and or eliminating its findings protect',\n",
       " 'Why did Paul Ryan initially refuse to be Speaker',\n",
       " 'What was coming',\n",
       " 'Why did Paul Ryan retire at such a young age',\n",
       " 'How much was McCain McCaine Institute paid to peddle the Steele dossier',\n",
       " 'What is the going rate for a UNITED STATES SENATOR to knowingly push false unverified intel to the FBI lend credibility',\n",
       " 'Do you remember when they told you this was a helicopter',\n",
       " 'Do you remember when the media had wall to wall live in fear coverage re NK',\n",
       " 'Do you remember when Hawaii accidentally sounded the incoming missile alarm',\n",
       " 'What happened',\n",
       " 'NK no longer a nuclear threat',\n",
       " 'Mountain collapse',\n",
       " 'China seeking NK commitment to fire shortlong range ballistic missiles pre election',\n",
       " 'Can music be healing',\n",
       " 'Joe',\n",
       " 'Arbitrary',\n",
       " 'What is current year divided by',\n",
       " 'Symbolism will be their downfall',\n",
       " 'This Executive order shall remain in effect until November',\n",
       " 'Was this ever about the virus',\n",
       " 'Combat tactics Mr Ryan',\n",
       " 'ONLY THE ILLUSION OF DEMOCRACY',\n",
       " 'ONLY THE ILLUSION OF FOR THE PEOPLE',\n",
       " 'FOR THE FIRST TIME IN A LONG TIME OUR POTUS STANDS WITH AND FOR THE PEOPLE',\n",
       " 'ALL ASSETS DEPLOYED',\n",
       " 'WHAT HAPPENS IF BIDEN BECAME POTUS KNOWING HE THROUGH HUNTER TOOK MASSIVE AMOUNTS OF BRIBES TO CHANGE LOOK THE OTHER WAY US POLICY TOWARDS UKRAINE IN FAVOR OF UKRAINE',\n",
       " 'WOULD UKRAINE OWN AND CONTROL THE WHITE HOUSE',\n",
       " 'WHAT HAPPENS IF BIDEN BECAME POTUS KNOWING HE THROUGH HUNTER TOOK MASSIVE AMOUNTS OF BRIBES TO CHANGE LOOK THE OTHER WAY US POLICY TOWARDS CHINA IN FAVOR OF CHINA',\n",
       " 'WOULD CHINA OWN AND CONTROL THE WHITE HOUSE',\n",
       " 'THE CLINTON FOUNDATION',\n",
       " 'WHITE HOUSE FOR SALE',\n",
       " 'How many people in DC does Clinton have dirt on',\n",
       " 'How many people in DC does Clinton have had on payroll',\n",
       " 'Dark secrets',\n",
       " 'Threats bribes blackmail being deployed unseen levels',\n",
       " 'Dirty laundry blackmail controls DC',\n",
       " 'Why are they protected',\n",
       " 'Threats bribes blackmail or sharing of like beliefs',\n",
       " 'Dark Secrets',\n",
       " 'Lets see what happens',\n",
       " 'January',\n",
       " 'USA CHINA Phase I deal executed China bad day',\n",
       " 'Impeachment articles released by Pelosi walked delivered to Senate attack v POTUS coordinated planned for a specific day',\n",
       " 'st C case lands Seattle Tacoma Airport attack v POTUS',\n",
       " 'Mathematical probability same day natural vs controlled',\n",
       " 'WHO BENEFITS THE MOST',\n",
       " 'Evil surrounds us',\n",
       " 'Think drop today re Sen Johnson re redactions GSA v FBI',\n",
       " 'Lets see what happens',\n",
       " 'Think POTUS today No redactions',\n",
       " 'Do you see what happened',\n",
       " 'RED OCTOBER',\n",
       " 'Why are we being censored',\n",
       " 'Why are we being attacked daily',\n",
       " 'Why are we being condemned by Congress',\n",
       " 'thoughtcrime',\n",
       " 'What happens when people are no longer allowed to think freely',\n",
       " 'What happens when people are no longer allowed to challenge their authority',\n",
       " 'What happens when people no longer fight back',\n",
       " 'How close did we come to losing it',\n",
       " 'What if she got in',\n",
       " 'What if she got SC Justices',\n",
       " 'What if she got Judges',\n",
       " 'What if rogue elements remained more added within FBI CIA NSA State DNI WH IRS DHS ICE WHO CDC',\n",
       " 'What if our MIL remained financially starved',\n",
       " 'What if Foreign backers continued to control Americas policies',\n",
       " 'What if our borders remained open',\n",
       " 'What if China was given the keys',\n",
       " 'What if',\n",
       " 'This is not about R vs D',\n",
       " 'He gave up everything',\n",
       " 'He knew his life and the lives of his family would forever change',\n",
       " 'He knew knows the consequences',\n",
       " 'A man who had everything',\n",
       " 'Why do it',\n",
       " 'INFORMATION WARFARE',\n",
       " 'Lets see what happens',\n",
       " 'Lets see what happens',\n",
       " 'Keep charging Midnight Riders',\n",
       " 'Nightwatch',\n",
       " 'Time for a change',\n",
       " 'Lets see what happens',\n",
       " 'D party con',\n",
       " 'D party playbook',\n",
       " 'Who are the real racists',\n",
       " 'THE WORLD IS WAKING UP',\n",
       " 'How many times must it be said',\n",
       " 'Pushed every election',\n",
       " 'Why',\n",
       " 'Divided we fall',\n",
       " 'D party con projection',\n",
       " 'Fake doctored image video dropped here re Epstein cell cam explicity designed to ban terminate any TWIT users reposting',\n",
       " 'Do not take the bait',\n",
       " 'Use discernment',\n",
       " 'Spy campaign failed',\n",
       " 'Russia Russia Russia failed',\n",
       " 'Weissmann Mueller failed',\n",
       " 'Leaks failed',\n",
       " 'Fake news reports failed',\n",
       " 'Impeachment failed',\n",
       " 'CDC WHO recommend do not close border failed',\n",
       " 'What if C didnt exist',\n",
       " 'Economy today',\n",
       " 'Unemployment today',\n",
       " 'Trade today China phase II held accountable',\n",
       " 'Rally POTUS v BIDEN attendance',\n",
       " 'BIDEN interviews non basement',\n",
       " 'BIDEN questions non basement',\n",
       " 'Removal of delays re Durham GJ interviews testimony DECLAS',\n",
       " 'Removal of BIDEN ammunition P Debate and k dead down economy unemployment debt',\n",
       " 'Removal of mail in ballot harvesting fraud normal in person voting',\n",
       " 'Removal of tech tyranny censorship WHO foundation anti WHO suspend terminate C basis',\n",
       " 'Removal of bailout attempt re CA NY debt solution',\n",
       " 'MATHEMATICAL PROBABILITY OF C EVENT AS SOLUTION TO ABOVE PERFECTLY TIMED WINDOW OF OPPORTUNITY START RE IMPACT NOV P ELECTION ADV D',\n",
       " 'WHO BENEFITS THE MOST',\n",
       " 'WHY DID WH STRIP CDC CONTROL OF C DATA',\n",
       " 'BIGGER THAN YOU CAN IMAGINE',\n",
       " 'Steve Scully moderator nd Presidential Debate',\n",
       " 'While attending college he served as an intern in the office of Delaware Sen Joseph R Biden',\n",
       " 'Rigged system',\n",
       " 'RED OCTOBER',\n",
       " 'When does a Church become a playground',\n",
       " 'When does a Church become a business',\n",
       " 'When does a Church become political',\n",
       " 'When does a Church become corrupt',\n",
       " 'When does a Church become willfully blind',\n",
       " 'When does a Church become controlled',\n",
       " 'Information warfare',\n",
       " 'Do you believe in coincidences',\n",
       " 'Eyes on',\n",
       " 'Follow the family',\n",
       " 'Marathon end',\n",
       " 'Some believe the protection of Agency is what matters most',\n",
       " 'Some believe the declassification public exposure of truth and rebuilding of Agency is what matters most',\n",
       " 'Apply same to FBI',\n",
       " 'Apply same to State',\n",
       " 'Any attempt to buck the system no matter severity of crime and they will fight back self preservation',\n",
       " 'SHADOW GAME',\n",
       " 'Prevent public exposure of truth',\n",
       " 'Why',\n",
       " 'PEOPLE UNITED HAVE THE POWER',\n",
       " 'That to secure these rights Governments are instituted among Men deriving their just powers from the consent of the governed –That whenever any Form of Government becomes destructive of these ends it is the Right of the People to alter or to abolish it and to institute new Government laying its foundation on such principles and organizing its powers in such form as to them shall seem most likely to effect their Safety and Happiness Prudence indeed will dictate that Governments long established should not be changed for light and transient causes and accordingly all experience hath shewn that mankind are more disposed to suffer while evils are sufferable than to right themselves by abolishing the forms to which they are accustomed But when a long train of abuses and usurpations pursuing invariably the same Object evinces a design to reduce them under absolute Despotism it is their right it is their duty to throw off such Government and to provide new Guards for their future security',\n",
       " 'Tyranny like hell is not easily conquered yet we have this consolation with us that the harder the conflict the more glorious the triumph',\n",
       " 'Trump Swift Boat Project Clinton OP',\n",
       " 'Podcast yesterday',\n",
       " 'Intentional or careless',\n",
       " 'Those who scream the loudest',\n",
       " 'RR Tax Division DOJ',\n",
       " 'Clinton Foundation investigation',\n",
       " 'GJ empaneled',\n",
       " 'Clinton Foundation failure to declare foreign donations',\n",
       " 'Comey takeover of investigation',\n",
       " 'Dir of FBI Robert Mueller',\n",
       " 'Dont bite the hand that feeds you',\n",
       " 'Lisa Barsoomian former Bill Clinton attorney',\n",
       " 'Hamburg vs Clinton appeal scrubbed from net',\n",
       " 'Wife of Rod Rosenstein',\n",
       " 'Worth remembering',\n",
       " 'Simple process',\n",
       " 'Family of supporter hired CF engaged law firms',\n",
       " 'CF donated funds primary influx foreign under legal payments to engaged law firm Dla Piper',\n",
       " 'Dla Piper payment salary bonus other to family member of supporter',\n",
       " 'Family member transfer to supporter campaign foundation gift asset home other',\n",
       " 'Follow the expenses',\n",
       " 'Follow salaries benefits',\n",
       " 'Follow professional consulting',\n",
       " 'Follow cost of sales',\n",
       " 'Follow other',\n",
       " 'FUNDS EXPENSES V PAYOUTS for causes analyze how much of the actual donated money actually goes to help select causes',\n",
       " 'Less than TTM year historical',\n",
       " 'Gifts Grants',\n",
       " 'loss of power POTUS win start of PAY TO PLAY collapse',\n",
       " 'total revenue total expenses',\n",
       " 'CLINTON FOUNDATION AT THE CENTER',\n",
       " 'Shaping the narrative takes work',\n",
       " 'Trial date July',\n",
       " 'Unusual to have a year gap from arrest to trial',\n",
       " 'What might be the purpose',\n",
       " 'Peter Comey brother James Comey',\n",
       " 'Clinton Foundation',\n",
       " 'Dla Piper',\n",
       " 'Conflict of interest',\n",
       " 'Follow the family',\n",
       " 'Think McCabes wife',\n",
       " 'Focus here East Africa Operations',\n",
       " 'The money never flows directly',\n",
       " 'What did we learn this week',\n",
       " 'Check Gmail',\n",
       " 'What did we learn this week',\n",
       " 'Durham true start',\n",
       " 'Durham take over Huber select parts re CF i',\n",
       " 'What if theres another prosecutor outside of DC assigned by SESSIONS w the same mandate authority',\n",
       " 'Never bring an arrow in a quiver to a LOSBR missile fight',\n",
       " 'OVER THE TARGET',\n",
       " 'What is the over under done in months',\n",
       " 'What is the over under Sullivan retires steps down by March based on public info re possible coordinated efforts w OSC Mueller',\n",
       " 'Worth remembering',\n",
       " 'Think what you now know',\n",
       " 'Judgement is coming',\n",
       " 'Some will take the easy path and exit early',\n",
       " 'designates the KKK and Antifa as terrorist organizations',\n",
       " 'D founded financially legally backed orgs',\n",
       " 'DA set free blockade post terrorist designate',\n",
       " 'DA no proof individual linked to Antifa argument coming',\n",
       " 'Antifa mapping began long ago',\n",
       " 'Midnight Riders Ride',\n",
       " 'INFORMATION WARFARE',\n",
       " 'These people are stupid',\n",
       " 'PANDEMIC DEM PANIC',\n",
       " 'Not long now',\n",
       " 'Tracking events',\n",
       " 'Timing can be derived from picture',\n",
       " 'Anons have always known',\n",
       " 'Have faith in your research',\n",
       " 'Never forget those in the background',\n",
       " 'It is the only way',\n",
       " 'Make your depth ft',\n",
       " 'Zero bubble',\n",
       " 'Tracking events',\n",
       " 'Scope exceeds illegal spy campaign',\n",
       " 'Why',\n",
       " 'th floor FBI team removed terminated th floor is no more',\n",
       " 'Normal',\n",
       " 'What other investigations same team touch alter outcome',\n",
       " 'How are other investigations bridged to illegal spy campaign',\n",
       " 'BIGGER THAN YOU CAN IMAGINE',\n",
       " 'There is a reason why this was leaked today',\n",
       " 'The Election Infection can not stop what is coming',\n",
       " 'The World is Waking Up',\n",
       " 'Virus or Election',\n",
       " 'SYSTEM OF CONTROL',\n",
       " 'Who controls wields significant influence re the Clinton D party',\n",
       " 'Who controls wields significant influence re the Hussein D party',\n",
       " 'Different factions of foreign primary control',\n",
       " 'Who paid Husseins Harvard Law Degree',\n",
       " 'Who financed Husseins political life',\n",
       " 'Who is Prince Al Waleed bin Talal',\n",
       " 'Why are Husseins school records under seal',\n",
       " 'Competing factions each with a horse in the race seeking direct WH control USMIL Trillions overseas transfer of US taxpayer funds',\n",
       " 'All working together coordinated infiltration not invasion VJ HA',\n",
       " 'What happens to US taxpayer funds transferred overseas under guise of AID MIL CLIMATE etc',\n",
       " 'US taxpayers funding the destruction of America',\n",
       " 'Everyone has a choice to make',\n",
       " 'AGAINST ALL ENEMIES FOREIGN AND DOMESTIC',\n",
       " 'No media coverage',\n",
       " 'Why',\n",
       " 'The same people who control the media are the same people who are part of the evil and corrupt system',\n",
       " 'SYSTEM OF CONTROL',\n",
       " 'Crimes against Humanity',\n",
       " 'You are not meant to think for yourself',\n",
       " 'You are not meant to challenge their power control',\n",
       " 'Obey and accept',\n",
       " 'Illusion of Democracy',\n",
       " 'Illusion of Freedom',\n",
       " 'Why does the media push division',\n",
       " 'Why does the media incite violence',\n",
       " 'Why does the media pit race v race',\n",
       " 'Why does the media pit religion v religion',\n",
       " 'Why does the media pit sex v sex',\n",
       " 'Why does the media pit class v class',\n",
       " 'Divided you are weak',\n",
       " 'Divided you fight each other',\n",
       " 'Divided you pose no threat to their system of control',\n",
       " 'UNITY IS STRENGTH',\n",
       " 'UNITY IS POWER',\n",
       " 'UNITY IS HUMANITY',\n",
       " 'Controlled media plays a major role in shaping the narratives to keep you powerless helpless and asleep unaware of truth',\n",
       " 'ENEMY OF THE PEOPLE',\n",
       " 'ENEMY OF HUMANITY',\n",
       " 'Let the truth be told',\n",
       " 'Political spying illegal less than',\n",
       " 'Have faith in Humanity',\n",
       " 'CRIMES AGAINST HUMANITY',\n",
       " 'Political leaders family follow w possible ties to sex trafficking',\n",
       " 'Attacks barrage by media signify what',\n",
       " 'Sex trafficking safeguarding women children topics that unite all political factions against a common enemy faith in Humanity',\n",
       " 'Those you are taught to trust the most',\n",
       " 'past days',\n",
       " 'Have you ever witnessed a full blown international mainstream media constant barrage counterattack re a conspiracy',\n",
       " 'Simple logic answers the question',\n",
       " 'Strengthen my faith Lord Forgive my sins so that I may be clean in your righteousness Make me brave so I can stand and fight the spiritual battles in my life and in our world Give me your wisdom and discernment so I wont be caught off guard Together Lord well win because in truth you already have While evil still roams the power of Your name and Your blood rises up to defeat and bring us victory against every evil planned against us While malicious actions may disturb us we use the armor of God You have given us to stand firm You will bring justice in due time for all the harm and needless violence aimed at Your children Until then we remain in Your presence aligned with Your purposes and we look to You as our Supreme Commander and Protector Help us to avoid temptation and deliver us from evil Lord You are the Mighty One the One Who will ultimately bring all evil to light With You Jesus we are safe Amen',\n",
       " 'How do you extend lockdowns economic hardships unemployment fear death count dementia Joe etc in order to paint narrative mail in voting when did narrative start March early planned needed to save lives ballot harvesting in order to generate a future narrative election day which casts doubt as to legitimacy of POTUS win Constitutional Crisis not all mail in ballots counted how many mail in ballots lost or did not arrive in key battleground states which could have returned a different result we must investigate who cast a vote but it did not register we must go door to door if needed ballot harvest our lives are at stake the sky is falling in order to legally challenge delay results enact riots and chaos in an attempt to overturn coup detat',\n",
       " 'CRIMES AGAINST HUMANITY',\n",
       " 'What role will select military inserts play the bribe playbook known',\n",
       " 'What did we learn from past attempts',\n",
       " 'Spying surveillance campaign inserts WH inserts',\n",
       " 'Mueller',\n",
       " 'Impeachment',\n",
       " 'Why did it take an outsider to finally deliver the start of peace in the Middle East',\n",
       " 'Why did it take an outsider to finally deliver the start of finally holding China accountable',\n",
       " 'THE DISEASE CALLED CORRUPTION',\n",
       " 'Running RED',\n",
       " 'SEPT track follow events',\n",
       " 'Running RED',\n",
       " 'RIG FOR RED',\n",
       " 'Focus on content information',\n",
       " 'Research for yourself',\n",
       " 'gatekeeper',\n",
       " 'noun',\n",
       " 'a person that controls access as to information often acting as an arbiter of quality or legitimacy',\n",
       " 'an open internet allows innovators to bypass traditional gatekeepers and promote their work on its own merit',\n",
       " 'a guardian monitor',\n",
       " 'Deploy camouflage',\n",
       " 'Drop all references re Q Qanon etc to avoid ban termination censorship install',\n",
       " 'Algos sniffers bypass',\n",
       " 'Keep charging Midnight Riders',\n",
       " 'Reveres Midnight Ride',\n",
       " 'Delivery of free information',\n",
       " 'bypass controlled media narrative',\n",
       " 'This should be also',\n",
       " 'Sometimes non domestic sources of information provide a more accurate report',\n",
       " 'MIL SAT applications',\n",
       " 'Why did it take an outsider to finally deliver the start of peace in the middle east',\n",
       " 'Why did it take an outsider to finally deliver the start of peace in the middle east',\n",
       " 'News coverage Front pages',\n",
       " 'Missile strikes attempt to terminate',\n",
       " 'Peace doesnt sell',\n",
       " 'WAR fear does',\n",
       " 'Evil and corruption highest levels',\n",
       " 'The media is complicit',\n",
       " 'Fact checkers created to reinforce the same narrative propaganda they themselves created',\n",
       " 'Social media censor terminate silence anti narrative accounts',\n",
       " 'Echo',\n",
       " 'System of control',\n",
       " 'Mission keep the public controlled and in the dark',\n",
       " 'Information warfare',\n",
       " 'Add it all up',\n",
       " 'Virus',\n",
       " 'Riots organized ANTIFA',\n",
       " 'Fires',\n",
       " 'The Why',\n",
       " 'Make no mistake they will not concede on Election Night',\n",
       " 'Make no mistake they will contest this legally in battleground states',\n",
       " 'Make no mistake they will project doubt in the election results',\n",
       " 'Make no mistake they will organize massive riots and attempt Anarchy design',\n",
       " 'Playbook known',\n",
       " 'Spread Fire',\n",
       " 'wwwinstagramcom antwiththecuts',\n",
       " 'wwwinstagramcom p CFFgGxylzLm',\n",
       " 'FBIPortland',\n",
       " 'Hold the line Riders',\n",
       " 'Justice is coming',\n",
       " 'Already done',\n",
       " 'Guccifer',\n",
       " 'John Brennan',\n",
       " 'Seth Rich',\n",
       " 'Julian Assange',\n",
       " 'Who is financing',\n",
       " 'Follow the pen',\n",
       " 'Why are they provided safe haven by Ds',\n",
       " 'Insurgency can be defined as ‘ the organized use of subversion and violence to seize nullify or challenge political control of a region',\n",
       " 'Domestic terrorism',\n",
       " 'patriot',\n",
       " 'noun',\n",
       " 'a person who loves supports and defends his or her country and its interests with devotion',\n",
       " 'a person who loves their country and if necessary will fight for it',\n",
       " 'a person who vigorously supports their country and is prepared to defend it against enemies or detractors',\n",
       " 'a person who regards himself or herself as a defender especially of individual rights',\n",
       " 'against all enemies foreign and domestic',\n",
       " 'Worth remembering think what you see today',\n",
       " 'Insurgency can be defined as ‘ the organized use of subversion and violence to seize nullify or challenge political control of a region ’',\n",
       " 'Insurgents seek to subvert or displace the government and completely or partially control the resources and population of a given territory They do so through the use of force including guerrilla warfare terrorism and coercion intimidation propa ganda subversion and political mobilization Insurgents fight government forces only to the extent needed to achieve their political aims their main effort is not to kill counterinsurgents but rather to establish a competitive system of control over the population making it impossible for the government to administer its territory and people Insurgent activity is therefore designed to weaken government control and legitimacy while increasing insurgent control and influence',\n",
       " 'Insurgents require supporters recruits safe havens money supplies weapons and intelligence on government actions A robust insurgency can be waged with the support of just a small percentage of a given population',\n",
       " 'NEXT',\n",
       " 'Counterinsurgency may be defined as ‘ comprehensive civilian and military efforts taken to simultaneously defeat and contain insurgency and address its root causes ’',\n",
       " 'What happens when people in positions of power are sympathizers to the cause or part of that same ‘ organization ’ themselves',\n",
       " 'What is a ‘ safe zone ’',\n",
       " 'Why are riots conducted in specific D controlled locations',\n",
       " 'What happens when elected officials governors mayors handcuff the officers instead of criminals',\n",
       " 'What happens when elected officials governors mayors refuse to call in the national guard or other federal assistance',\n",
       " 'Sacrificing the lives and well being of the community for a calculated political gain or other',\n",
       " 'Does ANTIFA fear prosecution',\n",
       " 'Would they continue to operate if they did',\n",
       " 'What organized groups are bailing out rioters within hours of arrest',\n",
       " 'What happens post bailout',\n",
       " 'Do charges remain enforced or dropped by DA',\n",
       " 'DA will not act re “ low level ’ arrests',\n",
       " 'Have all refusal to bring charges been related to “ low level ” arrests',\n",
       " 'Sympathizer',\n",
       " 'Other',\n",
       " 'What happens when prosecutors board of county commissioner members volunteer firefighters etc are sympathetic to the cause',\n",
       " 'What happens if the organization ANTIFA itself is aware',\n",
       " 'Infiltration not invasion',\n",
       " 'Alexander Jones',\n",
       " 'Combat tactics Mr Ryan By turning into the path of the torpedo the Captain closed the distance before it could arm itself',\n",
       " 'Strength and honor warrior',\n",
       " 'We stand at the ready',\n",
       " 'Always',\n",
       " 'Know your enemy',\n",
       " 'Knowledge is power',\n",
       " 'How do you accomplish the following',\n",
       " 'Terminate history making economic gains made by POTUS prior to the election',\n",
       " 'Stall US China trade phase II buy China time prevent loss of billions locked new agreement',\n",
       " 'Terminate hold POTUS record attendance rallies across USA deplete and remove enthusiasm',\n",
       " 'Protect Biden from embarrassment re mental health clear cognitive decline QA rally attendance crowd size lack of enthusiasm etc',\n",
       " 'Protect Biden from Ukraine scandal re himself son C change of narrative',\n",
       " 'Protect Biden from sexual assault allegation C change narrative',\n",
       " 'Protect and shelter MeToo D created movement preserve to target future R sexual assault allegations allow hold vs Biden due to C narrative change',\n",
       " 'Create non digital pathway to rig Presidential election engage million mail in ballot distribution coordinated as early as April May to sidestep election night defeat no concede attempt ballot harvest media push we dont know how many ballots are left undelivered by postal service re legal challenge battleground states stall challenge push division chaos CLAS',\n",
       " 'Create division hatred fear campaign primarily scare senior citizens from voting in person on election day riots protests C death eliminate enough senior R votes counteract D to R defections',\n",
       " 'Create impression country divided use EU early war election gaming tactics against current administration',\n",
       " 'Propaganda blame attack current administration economic hardships death toll attack plan re safety and wellbeing re C failed push Biden stage Biden had answer to Pandemic early on country will heal w Biden victory violence will end w Biden victory',\n",
       " 'Change narrative administration treason corruption to POTUS C failure and death blame',\n",
       " 'Isolate faithful from each other remove ability to attend Church house of worship',\n",
       " 'Justify social media censorship by using C WHO claims as primary foundation extend beyond C to other political areas to remove and cut off forms of anti narrative communication seize control',\n",
       " 'Leave door open to Constitution crisis',\n",
       " 'Avoid delay public exposure of corruption accountability prevent loss of control power',\n",
       " 'Avoid delay loss of US taxpayer trillions due to loss of control inability to enact corrupt policy to send money overseas disguised as goodwill climate unregulated no audit policy',\n",
       " 'How do you accomplish the above',\n",
       " 'Who benefits the most',\n",
       " 'Who benefits the most',\n",
       " 'Virus or election',\n",
       " 'Lab or nature',\n",
       " 'Coincidence or foreknowledge',\n",
       " 'Difficult truths',\n",
       " 'EQUAL JUSTICE UNDER THE LAW AS WRITTEN',\n",
       " 'TRANSPARENCY DISCLOSURE AND ACCOUNTABILITY JUSTICE IS THE ONLY WAY FORWARD',\n",
       " 'FUTURE OF OUR REPUBLIC AT STAKE',\n",
       " 'WATERGATE x',\n",
       " 'SEPT track follow events',\n",
       " 'Did Kevin set his alarm',\n",
       " 'MSDNC CON the Country is divided and dementia Joe currently taking early stage dementia medication is leading across the board',\n",
       " 'HOW DO YOU AMPLIFY A DESIRED THEME NARRATIVE',\n",
       " 'MSDNC controls what you see digital echo',\n",
       " 'Twitter FB GOOG control what you see and what trends digital echo',\n",
       " 'Hollywood stars swarm to enforce trend echo',\n",
       " 'Blue checkmarks swarm to enforce digital echo',\n",
       " 'ANTIFA swarm to enforce non digital echo',\n",
       " 'Rage and emotion follow by those indoctrinated echo controlled',\n",
       " 'Define indoctrinate',\n",
       " 'to often repeat an idea or belief to someone in order to persuade them to accept it',\n",
       " 'Next grab rage emotion organized platforms by indoctrinated and project as majority zoom and enhance narrow focus as mainstream',\n",
       " 'System of control',\n",
       " 'Many choose the path of least resistance',\n",
       " 'For many you can not tell them the truth',\n",
       " 'You must show them',\n",
       " 'Only at the precipice will people find the will strength to change and break the system of control be free',\n",
       " 'You',\n",
       " 'Have',\n",
       " 'More',\n",
       " 'Than',\n",
       " 'You',\n",
       " 'Know',\n",
       " 'Attempts to normalize will fail',\n",
       " 'Who will be next',\n",
       " 'Deceivers',\n",
       " 'Welcome to the D party con',\n",
       " 'Stay safe',\n",
       " 'Be vigilant',\n",
       " 'Not organized',\n",
       " 'Painfully obvious',\n",
       " 'Antifacom redirect to Bidens donation page',\n",
       " 'Similar to BLM DNC',\n",
       " 'Coordinated',\n",
       " 'Analyze downloads',\n",
       " 'pre protests riots',\n",
       " 'start protests riots',\n",
       " 'Coincidence',\n",
       " 'Now think fires',\n",
       " 'See something',\n",
       " 'Say something',\n",
       " '“ Tyranny like hell is not easily conquered yet we have this consolation with us that the harder the conflict the more glorious the triumph ” Thomas Paine The American Crisis',\n",
       " 'Excellent Q you should ask as should every American',\n",
       " 'Program hits identifying structural points',\n",
       " 'If of those points fail to hit program passes as safe',\n",
       " 'Negative re artifact insertion',\n",
       " 'corner direct center approach',\n",
       " 'days',\n",
       " 'They will deploy a centralized picture frame approach next',\n",
       " 'Instructions to follow mod',\n",
       " 'is sufficient of total',\n",
       " 'More advanced',\n",
       " 'Consider black corner box insert top bottom left right',\n",
       " 'Sniffer can not distinguish at this time',\n",
       " 'FB TWIT using DARPA provided software to censor and restrict picture content using matching think reverse image upload one to find locate all cycling s',\n",
       " 'Meme combat approach',\n",
       " 'Adapt overcome',\n",
       " 'Debates',\n",
       " 'Biden camp will find excuse reason to terminate',\n",
       " 'Biden camp will be provided the questions ahead of time',\n",
       " 'Biden camp will be provided the questions ahead of time and assistance in the form of a special communication device',\n",
       " 'renegade',\n",
       " 'noun',\n",
       " 'a person who deserts a party or cause for another',\n",
       " 'an apostate from a religious faith',\n",
       " 'adjective',\n",
       " 'of or like a renegade traitorous',\n",
       " 'Why are Ds providing safe harbor safe zones for ANTIFA to operate',\n",
       " 'Coordinated',\n",
       " 'Read the playbook',\n",
       " 'Well done Midnight Rider',\n",
       " 'Past hours',\n",
       " 'Sensitive subject',\n",
       " 'Over the target',\n",
       " 'Knowing what you know now',\n",
       " 'Fact checkers installed misleading misinformation deliberate intent to deceive re anti narrative',\n",
       " 'Truth about history attacked altered reformatted',\n",
       " 'Why',\n",
       " 'System of information control',\n",
       " 'Narrative population control',\n",
       " 'Events then',\n",
       " 'Events today',\n",
       " 'Reconcile',\n",
       " 'The truth is right in front of you',\n",
       " 'Past playbook used today',\n",
       " 'Knowledge is power',\n",
       " 'Worth remembering',\n",
       " 'Infiltration and placement under',\n",
       " 'Find peace solace through prayer',\n",
       " 'There are good people standing behind you',\n",
       " 'Have faith in Humanity',\n",
       " 'Have faith in Yourself',\n",
       " 'Nothing can stop what is coming',\n",
       " 'Nothing',\n",
       " 'God bless',\n",
       " 'The illegal spy campaign by upstream collection went far beyond that of s transition team',\n",
       " 'Brennan lead F assist',\n",
       " 'Matters of NAT SEC',\n",
       " 'Was SCMueller brought on to provide cover for illegal spy op wall POTUS in a non attack political box',\n",
       " 'Seek and destroy lose incriminating evidence',\n",
       " 'They never thought she was going to lose sloppy',\n",
       " 'Nothing digital is ever really lost',\n",
       " 'What happens if is actively running a shadow command and control shadow presidency operation against the current duly elected POTUS',\n",
       " 'What former mid senior admin officials would need to be involved',\n",
       " 'What current mid senior admin officials would need to be involved',\n",
       " 'What key positions of power would be critical to the operation',\n",
       " 'How do you finance the operation',\n",
       " 'FBI mid senior officials terminated to date',\n",
       " 'DOJ mid senior officials terminated to date',\n",
       " 'Pentagon mid senior officials terminated to date',\n",
       " 'NATSEC mid senior officials terminated to date',\n",
       " 'State dept mid senior officials terminated to date',\n",
       " 'Exec office of the President',\n",
       " 'Office of the Vice President',\n",
       " 'Dir of Nat Intel',\n",
       " 'Sec of Defense',\n",
       " 'Sec of State',\n",
       " 'Dept of Homeland Sec',\n",
       " 'Dept of Treasury',\n",
       " 'US Attorney D of Columbia',\n",
       " 'Assistant US Attorney D of Columbia',\n",
       " 'US Attorney SDNY',\n",
       " 'Inspector gen intel comm',\n",
       " 'State dept inspector gen',\n",
       " 'Special rep for Ukraine negotiations',\n",
       " 'AMB to Ukraine',\n",
       " 'Centers for Disease Control and Prevention',\n",
       " 'CLAS Defense',\n",
       " 'CLAS Intel',\n",
       " 'Importance of controlled MSM propaganda what you see is not true what we say is true not what you see',\n",
       " 'Importance of controlling the narrative',\n",
       " 'All assets deployed',\n",
       " 'Nothing to lose',\n",
       " 'Treason',\n",
       " 'Sedition',\n",
       " 'Conspiracy',\n",
       " 'Information warfare',\n",
       " 'Irregular warfare',\n",
       " 'Insurgency',\n",
       " 'Infiltration not invasion',\n",
       " 'Clear and present danger to the United States of America',\n",
       " 'THE SHADOW PRESIDENCY OF',\n",
       " 'PREVENTION OF POWER RETURNING TO THE PEOPLE',\n",
       " 'POWER',\n",
       " 'CONTROL',\n",
       " 'PREVENTION OF ACCOUNTABILITY',\n",
       " 'PREVENTION OF TRANSPARANCY',\n",
       " 'WAR',\n",
       " 'A CRITICAL MOMENT IN TIME',\n",
       " 'Highly coordinated funded domestic terrorism',\n",
       " 'FEDs involved US rights c surveillance',\n",
       " 'D controlled areas',\n",
       " 'Media blackout',\n",
       " 'Election gaming',\n",
       " 'Hello Karli',\n",
       " 'Thank you and God bless',\n",
       " 'Keep charging Midnight Rider',\n",
       " 'THE SWAMP RUNS DEEP',\n",
       " 'Sometimes you can not tell people the truth',\n",
       " 'You must show them',\n",
       " 'Only then at the precipice will people find the will to change to participate',\n",
       " 'We the People have been betrayed for a very long time',\n",
       " 'WILL YOU STAND',\n",
       " 'FOR GOD AND COUNTRY',\n",
       " 'FOR FREEDOM',\n",
       " 'FOR HUMANITY',\n",
       " 'WHERE WE GO ONE',\n",
       " 'WE GO ALL',\n",
       " 'Interesting change of events',\n",
       " 'Weekly false attacks whistleblowers false',\n",
       " 'st Vindman coord AS whistleblower false narrative insert Ukraine Biden deflect returning to the news legal',\n",
       " 'AS backroom prep nd whistleblower',\n",
       " 'AS backroom prep rd whistleblower NATSEC',\n",
       " 'Pentagon SR backroom prep dry run campaign refusal',\n",
       " 'USDI JCS',\n",
       " 'Refusal to concede narr',\n",
       " 'Challenge legally battleground',\n",
       " 'Ballot harvest illegally CA',\n",
       " 'Everything at stake',\n",
       " 'Win by any means necessary',\n",
       " 'Plan accordingly November',\n",
       " 'What happens when CA is in serious debt and lost priority aid from the FED gov due to sanctuary status illegal',\n",
       " 'What happens when CA is in serious debt and all attempts to obtain a bailout from Pelosi inserted and pushed C aid packages have failed',\n",
       " 'What happens when CA is in serious debt and decides to implement resident overreach by extending statewide shutdowns incurring massive economic further pitfall',\n",
       " 'Average number of fires in CA per year last June Dec',\n",
       " 'Average number of fires June Dec',\n",
       " 'Outside of standard deviation',\n",
       " 'Stated causes of fires',\n",
       " 'Heat',\n",
       " 'Average temperatures of CA per year last June Dec',\n",
       " 'Outside of standard deviation',\n",
       " 'Power lines source',\n",
       " 'What changed',\n",
       " 'What CA programs re fire prevention forest brush have been severely cut',\n",
       " 'What other cuts have impacted fire prevention safety',\n",
       " 'How do you obtain FED money',\n",
       " 'Declare a State of Emergency and request billions in assistance',\n",
       " 'Welcome to CA',\n",
       " 'Modern day Midnight Riders',\n",
       " 'Theres a reason why they are fighting hard to censor defame you',\n",
       " 'Digital soldiers FightBack',\n",
       " 'Loyalists',\n",
       " 'Patriots',\n",
       " 'WWGWGA',\n",
       " 'They are being forced into the light for all to see',\n",
       " 'Keep faith in Humanity',\n",
       " 'Keep faith in Yourself',\n",
       " 'Light of the World',\n",
       " 'History repeats itself today',\n",
       " 'RE IRREGULAR WARFARE',\n",
       " 'RE TACTICS DEPLOYED v AMERICA',\n",
       " 'Compare Contrast',\n",
       " 'Then v Now',\n",
       " 'Then methods of violent intimidation deployed by SA',\n",
       " 'Now methods of violent intimidation deployed by Antifa',\n",
       " 'Then battles raged in the streets book burning flag burning destruction hate anti police etc',\n",
       " 'Now battles raging in the streets controlled by D party sympathizers anti republic',\n",
       " 'Then physical assaults of political opponents',\n",
       " 'Now physical assaults of political opponents',\n",
       " 'Then voter intimidation in National and local elections',\n",
       " 'Now voter intimidation in National and local elections coming',\n",
       " 'Then project anti fascist platform reality conform obey strong arm tactics deployed to silence opposing views',\n",
       " 'Now project anti fascist platform reality conform obey strong arm tactics deployed to silence opposing views',\n",
       " 'Then radical anti capitalistic platform socialism',\n",
       " 'Now radical anti capitalistic platform socialism push',\n",
       " 'Then force economic destruction as recruiting division tactic to drive enlistment rate',\n",
       " 'Now D party gov mayors close states force economic hardships C',\n",
       " 'Then SA carried out unchecked street violence against Jews and Nazi opponents',\n",
       " 'Now D gov mayors carried out unchecked deliberate non prosecution orders hour release of Antifa rioters arrested street violence – block by block takeovers',\n",
       " 'D gov mayors release of violent criminals many thousands from prisons under guise of C',\n",
       " 'Use of propaganda by Nazi Germany',\n",
       " 'Use of propaganda by MSDNC Social Media control of narrative – terminate opposing message censorship kill',\n",
       " 'Soros history',\n",
       " 'Assault on America',\n",
       " 'Ask yourself why are D party leaders refusing to condemn the violence',\n",
       " 'Ask yourself why are D party leaders refusing to seek a unified republic',\n",
       " 'IT WAS NEVER ABOUT THE VIRUS AND ALWAYS ABOUT THE ELECTION',\n",
       " 'Was the Nazi party ever truly destroyed eradicated',\n",
       " 'Did the belief carry on re deployed',\n",
       " 'Background of Soros',\n",
       " 'Why did it take a political outsider to finally confront China',\n",
       " 'Republican benefactor of conservative Christian groups Richard A Dasen Sr was charged with rape for allegedly paying a year old girl for sex Dasen who is married with grown children and several grandchildren has allegedly told police that over the past decade he paid more than million to have sex with a large number of young women',\n",
       " 'Democratic donor and billionaire Jeffrey Epstein ran an underage child sex brothel and was convicted of soliciting underage girls for prostitution',\n",
       " 'Democratic New York Congressman Anthony Weiner plead guilty to transferring obscene material to a minor as part of a plea agreement for sexted and sending Twitter DMs to underage girls as young as',\n",
       " 'Democratic donor activist and Hollywood producer Harvey Weinstein is being criminally prosecuted and civilly sued for years of sexual abuse that was well known “ secret ” in Hollywood including underage sexual activities with aspiring female actresses',\n",
       " 'Democratic activist and metoo proponent Asia Argento settled a lawsuit for sexual harassment stemming from sexual activities with an underage actor',\n",
       " 'Democratic Mayor of Racine Wisconsin Gary Becker was convicted of attempted child seduction child pornography and other child sex crimes',\n",
       " 'Democratic Seattle Mayor Ed Murray resigned after multiple accusations of child sexual abuse were levied against him including by family members',\n",
       " 'Democratic activist and aid to NYC Mayor De Blasio Jacob Schwartz was arrested on possession of child pornographic images',\n",
       " 'Democratic activist and actor Russell Simmons was sued based on an allegation of sexual assault where he coerced an underage model for sex',\n",
       " 'Democratic Governor of Oregon Neil Goldschmidt after being caught by a newspaper publicly admitted to having a past sexual relationship with a year old girl after the statute of limitations on the rape charges had expired',\n",
       " 'Democratic Illinois Congressman Mel Reynolds resigned from Congress after he was convicted of statutory rape of a year old campaign volunteer',\n",
       " 'Democratic New York Congressman Fred Richmond was arrested in Washington DC for soliciting sex from a year old boy',\n",
       " 'Democratic activist donor and director Roman Polanski fled the country after pleading guilty to statutory rape of a year old girl Democrats and Hollywood actors still defend him to this day including Whoopi Goldberg Martin Scorcese Woody Allen David Lynch Wim Wenders Pedro Almodovar Tilda Swinton and Monica Bellucci',\n",
       " 'Democratic State Senator from Alaska George Jacko was found guilty of sexual harassment of an underage legislative page',\n",
       " 'Democratic State Representative candidate for Colorado Andrew Myers was convicted for possession of child pornography and enticing children',\n",
       " 'Democratic Illinois Congressman Gus Savage was investigated by the Democrat controlled House Committee on Ethics for attempting to rape an underage female Peace Corps volunteer in Zaire The Committee concluded that while the events did occur his apology was sufficient and took no further action',\n",
       " 'Democratic activist donor and spokesperson for Subway Jared Fogle was convicted of distribution and receipt of child pornography and traveling to engage in illicit sexual conduct with a minor',\n",
       " 'Democratic State Department official Carl Carey under Hillary Clinton ’ s state department was arrested on ten counts of child porn possession',\n",
       " 'Democratic Maine Assistant Attorney General James Cameron was sentenced to just over years in federal prison for seven counts of child porn possession receipt and transmission',\n",
       " 'Democratic State Department official Daniel Rosen under Hillary Clinton ’ s state department was arrested and charged with allegedly soliciting sex from a minor over the internet',\n",
       " 'Democratic State Department official James Cafferty pleaded guilty to one count of transportation of child pornography',\n",
       " 'Democratic radio host Bernie Ward plead guilty to one count of sending child pornography over the InternetDemocratic deputy attorney general from California Raymond Liddy was arrested for possession of child pornography',\n",
       " 'Republican activist Marty Glickman aka “ Republican Marty ” was taken into custody by Florida police on four counts of unlawful sexual activity with an underage girl and one count of delivering the drug LSD',\n",
       " 'Republican legislative aide Howard L Brooks was charged with molesting a year old boy and possession of child pornography',\n",
       " 'Republican Senate candidate John Hathaway was accused of having sex with his year old baby sitter and withdrew his candidacy after the allegations were reported in the media',\n",
       " 'Republican preacher Stephen White who demanded a return to traditional values was sentenced to jail after offering to a year old boy for permission to perform oral sex on him',\n",
       " 'Republican talk show host Jon Matthews pleaded guilty to exposing his genitals to an year old girlRepublican anti gay activist Earl “ Butch ” Kimmerling was sentenced to years in prison for molesting an year old girl after he attempted to stop a gay couple from adopting her',\n",
       " 'Republican Party leader Paul Ingram pleaded guilty to six counts of raping his daughters and served years in federal prison',\n",
       " 'Republican election board official Kevin Coan was sentenced to two years probation for soliciting sex over the internet from a year old girl',\n",
       " 'Republican politician Andrew Buhr was charged with two counts of first degree sodomy with a year old boy',\n",
       " 'Republican politician Keith Westmoreland was arrested on seven felony counts of lewd and lascivious exhibition to girls under the age of ie exposing himself to children',\n",
       " 'Republican anti abortion activist John Allen Burt was charged with sexual misconduct involving a year old girl',\n",
       " 'Republican County Councilman Keola Childs pleaded guilty to molesting a male child',\n",
       " 'Republican activist John Butler was charged with criminal sexual assault on a teenage girlRepublican candidate Richard Gardner admitted to molesting his two daughters',\n",
       " 'Republican Councilman and former Marine Jack W Gardner was convicted of molesting a year old girl',\n",
       " 'Republican County Commissioner Merrill Robert Barter pleaded guilty to unlawful sexual contact and assault on a teenage boy',\n",
       " 'Republican City Councilman Fred C Smeltzer Jr pleaded no contest to raping a year old girl and served months in prison',\n",
       " 'Republican activist Parker J Bena pleaded guilty to possession of child pornography on his home computer and was sentenced to months in federal prison and fined',\n",
       " 'Republican parole board officer and former Colorado state representative Larry Jack Schwarz was fired after child pornography was found in his possession',\n",
       " 'Republican strategist and Citadel Military College graduate Robin Vanderwall was convicted in Virginia on five counts of soliciting sex from boys and girls over the internet',\n",
       " 'Republican city councilman Mark Harris who is described as a “ good military man ” and “ church goer ” was convicted of repeatedly having sex with an year old girl and sentenced to years in prison',\n",
       " 'Republican businessman Jon Grunseth withdrew his candidacy for Minnesota governor after allegations surfaced that he went swimming in the nude with four underage girls including his daughter',\n",
       " 'Republican director of the “ Young Republican Federation ” Nicholas Elizondo molested his year old daughter and was sentenced to six years in prison',\n",
       " 'Democratic California Congressman Tony Cárdenas is being sued in LA County for allegedly sexually abused a year old girl',\n",
       " 'Democratic aide to Senator Barbara Boxer Jeff Rosato plead guilty to charges of trading in child pornography',\n",
       " 'Democratic Alaskan State Representative Dean Westlake resigned from his seat after the media published a report alleging he fathered a child with a year old girl when he was',\n",
       " 'Democratic New Jersey State Assemblyman Neil Cohen was convicted of possession and distribution of child pornography',\n",
       " 'Republican Tim Nolan chairman of Donald Trump ’ s presidential campaign in Kentucky pled guilty to child sex trafficking and on February he was sentenced to serve years in prison',\n",
       " 'Republican state Senator Ralph Shortey was indicted on four counts of human trafficking and child pornography In November he pleaded guilty to one count of child sex trafficking in exchange for the dropping of the other charges',\n",
       " 'Republican anti abortion activist Howard Scott Heldreth is a convicted child rapist in Florida',\n",
       " 'Republican County Commissioner David Swartz pleaded guilty to molesting two girls under the age of and was sentenced to years in prison',\n",
       " 'Republican judge Mark Pazuhanich pleaded no contest to fondling a year old girl and was sentenced to years probation',\n",
       " 'Republican anti abortion activist Nicholas Morency pleaded guilty to possessing child pornography on his computer and offering a bounty to anybody who murders an abortion doctor',\n",
       " 'Republican legislator Edison Misla Aldarondo was sentenced to years in prison for raping his daughter between the ages of and',\n",
       " ...]"
      ]
     },
     "metadata": {},
     "execution_count": 107
    }
   ],
   "source": [
    "[item for item in flat_cleaned_list if item != 'Q']"
   ]
  },
  {
   "cell_type": "code",
   "execution_count": 64,
   "metadata": {},
   "outputs": [],
   "source": [
    "'''with open('flat_cleaned_list.pkl', 'wb') as f:\n",
    "    pickle.dump(flat_cleaned_list, f, pickle.HIGHEST_PROTOCOL)'''"
   ]
  },
  {
   "cell_type": "code",
   "execution_count": 65,
   "metadata": {},
   "outputs": [
    {
     "output_type": "execute_result",
     "data": {
      "text/plain": [
       "      number            datetime            name         source\n",
       "2346    2607 2018-12-12 23:43:11  Q !!mG7VJxZNCI  8ch/qresearch"
      ],
      "text/html": "<div>\n<style scoped>\n    .dataframe tbody tr th:only-of-type {\n        vertical-align: middle;\n    }\n\n    .dataframe tbody tr th {\n        vertical-align: top;\n    }\n\n    .dataframe thead th {\n        text-align: right;\n    }\n</style>\n<table border=\"1\" class=\"dataframe\">\n  <thead>\n    <tr style=\"text-align: right;\">\n      <th></th>\n      <th>number</th>\n      <th>datetime</th>\n      <th>name</th>\n      <th>source</th>\n    </tr>\n  </thead>\n  <tbody>\n    <tr>\n      <th>2346</th>\n      <td>2607</td>\n      <td>2018-12-12 23:43:11</td>\n      <td>Q !!mG7VJxZNCI</td>\n      <td>8ch/qresearch</td>\n    </tr>\n  </tbody>\n</table>\n</div>"
     },
     "metadata": {},
     "execution_count": 65
    }
   ],
   "source": [
    "Messages.info(2607)"
   ]
  },
  {
   "cell_type": "code",
   "execution_count": 104,
   "metadata": {},
   "outputs": [
    {
     "output_type": "execute_result",
     "data": {
      "text/plain": [
       "'Side by side graphic Locate and create SEARCH crumbs Who is No deals Q How can FBI Deputy Director Andrew McCabe the man in charge along with leakin James Comey of the Phony Hillary Clinton investigation including her illegally deleted emails be given for wifes campaign by Clinton Puppets during investigation Previous also logged in graphic form others Timestamps important Countdown Markers Q'"
      ]
     },
     "metadata": {},
     "execution_count": 104
    }
   ],
   "source": [
    "' '.join([''.join(nested_list) for nested_list in clean_string(4500)])"
   ]
  },
  {
   "cell_type": "code",
   "execution_count": 536,
   "metadata": {},
   "outputs": [
    {
     "output_type": "stream",
     "name": "stdout",
     "text": [
      ">>343\nhttps://twitter.com/CNNPolitics/status/1048324715469783040\nAnd so it begins..\nHow do you start a WAR?\n[Markers] matter.\nPlaybook [FAIL].\nQ\nPost Justice K confirmation.\nRUSSIA RUSSIA RUSSIA\nDEFLECT DECLAS \nDEFLECT BLAME\n[FOCUS RUSSIA >>> GLOBAL ENEMY]\n\"The Hunt For\" dropped - why?\nWhen was the unauthorized missile fired?\nWas it found/discovered prior to [Hunt]?\nRUSSIA SUB THREAT PUSH?\nRED_OCTOBER\nDouble meanings exist.\n……………..\nQ\n"
     ]
    }
   ],
   "source": [
    "for items in messages[2603]:\n",
    "    for div_op in items.findAll('div', class_='op'):\n",
    "        for ops_content in div_op.contents:  \n",
    "            print(ops_content.string)\n",
    "    else:\n",
    "        if items.string is not None:\n",
    "            print(items.string)"
   ]
  },
  {
   "cell_type": "code",
   "execution_count": 28,
   "metadata": {},
   "outputs": [
    {
     "output_type": "execute_result",
     "data": {
      "text/plain": [
       "['>>2770076Double meanings exist.QStay LOCAL (U.S.)GLOBAL = reflection of LOCAL.Think MIRROR.Know your enemy.\"Every battle is won before it\\'s ever fought.\"Knowledge is POWER.Q']"
      ]
     },
     "metadata": {},
     "execution_count": 28
    }
   ],
   "source": [
    "Messages.get(3000)"
   ]
  },
  {
   "cell_type": "code",
   "execution_count": 17,
   "metadata": {},
   "outputs": [
    {
     "output_type": "execute_result",
     "data": {
      "text/plain": [
       "['Fact checkers created in effort to reinforce propaganda [digestion]?',\n",
       " 'The battle to prevent truth from reaching the people.',\n",
       " 'The battle to maintain and push division.',\n",
       " 'Divided you are weak.',\n",
       " 'Divided you fight each other.',\n",
       " 'Divided you pose no threat.',\n",
       " 'System of control.',\n",
       " 'Information warfare.',\n",
       " 'Q']"
      ]
     },
     "metadata": {},
     "execution_count": 17
    }
   ],
   "source": [
    "# implemention if there are p strings in div if div == message or div == text\n",
    "[i.string for i in messages[10].div.children if i.string is not None]"
   ]
  },
  {
   "cell_type": "code",
   "execution_count": 18,
   "metadata": {},
   "outputs": [
    {
     "output_type": "execute_result",
     "data": {
      "text/plain": [
       "[True, True, True, True, True, True, True, True, True, True]"
      ]
     },
     "metadata": {},
     "execution_count": 18
    }
   ],
   "source": [
    "[i.name == 'p' for i in messages[10].div]"
   ]
  },
  {
   "cell_type": "code",
   "execution_count": 100,
   "metadata": {},
   "outputs": [
    {
     "output_type": "execute_result",
     "data": {
      "text/plain": [
       "[True, True, True, True, True, True, True, True, True, True]"
      ]
     },
     "metadata": {},
     "execution_count": 100
    }
   ],
   "source": [
    "[i.name == 'p' for i in messages[10].div.children]"
   ]
  },
  {
   "cell_type": "code",
   "execution_count": 98,
   "metadata": {},
   "outputs": [
    {
     "output_type": "execute_result",
     "data": {
      "text/plain": [
       "[<div class=\"op\" id=\"op235\">https:<em>//</em>nationalsecurityaction.org/who-we-are/We are Americans—former senior officials and policy experts, academics and civil society leaders—who have seen first-hand how the United States is stronger, safer and more respected in the world when we stand strong with our allies, pursue principled diplomacy, and stay true to the values that have long defined America at home and abroad.</div>,\n",
       " 'Well done, ',\n",
       " <abbr title=\"Anonymous\">Anon</abbr>,\n",
       " '.',\n",
       " 'Q']"
      ]
     },
     "metadata": {},
     "execution_count": 98
    }
   ],
   "source": [
    "[i for i in messages[3600].div.contents]"
   ]
  },
  {
   "cell_type": "code",
   "execution_count": 67,
   "metadata": {},
   "outputs": [],
   "source": [
    "for div_op in messages[3600].findAll('div', class_='op'):\n",
    "    for images in div_op.findAll('div', class_='images'):\n",
    "        images.extract()"
   ]
  },
  {
   "cell_type": "code",
   "execution_count": 69,
   "metadata": {},
   "outputs": [],
   "source": [
    "for a_ref in messages[3600].findAll('a', 'ref'):\n",
    "    a_ref.extract()"
   ]
  },
  {
   "cell_type": "code",
   "execution_count": 451,
   "metadata": {},
   "outputs": [
    {
     "output_type": "execute_result",
     "data": {
      "text/plain": [
       "['https:',\n",
       " '//',\n",
       " 'nationalsecurityaction.org/who-we-are/',\n",
       " 'We are Americans—former senior officials and policy experts, academics and civil society leaders—who have seen first-hand how the United States is stronger, safer and more respected in the world when we stand strong with our allies, pursue principled diplomacy, and stay true to the values that have long defined America at home and abroad.']"
      ]
     },
     "metadata": {},
     "execution_count": 451
    }
   ],
   "source": [
    "[i.string for i in messages[3600].div.div.contents]"
   ]
  },
  {
   "cell_type": "code",
   "execution_count": 452,
   "metadata": {},
   "outputs": [
    {
     "output_type": "execute_result",
     "data": {
      "text/plain": [
       "['Shall we play a game?',\n",
       " '[N]othing [C]an [S]top [W]hat [I]s [C]oming',\n",
       " 'NCSWIC',\n",
       " 'Who stepped down today [forced]?',\n",
       " 'More coming?',\n",
       " 'Why is this relevant?',\n",
       " \"How do you 'show' the public the truth?\",\n",
       " \"How do you 'safeguard' US elections post-POTUS?\",\n",
       " \"How do you 'remove' foreign interference and corruption and install US-owned voter ID law(s) and other safeguards? \",\n",
       " 'It had to be this way.',\n",
       " 'Sometimes you must walk through the darkness before you see the light. ',\n",
       " 'Q']"
      ]
     },
     "metadata": {},
     "execution_count": 452
    }
   ],
   "source": [
    "[i.string for i in messages[2].div if i.string is not None]"
   ]
  },
  {
   "cell_type": "code",
   "execution_count": 453,
   "metadata": {},
   "outputs": [
    {
     "output_type": "execute_result",
     "data": {
      "text/plain": [
       "[\"https://in.reuters.com/article/iran-economy-rouhani-sanctions/iran-parliament-censures-rouhani-in-sign-pragmatists-losing-sway-idINKCN1LD0DL [Hassan Rouhani] Who paid HUSSEIN to attend HARVARD LAW SCHOOL? Who is Prince Alwaleed bin Talal? Why would Prince Alwaleed bin Talal (Saudi Royal) pay HUSSEIN to attend HARVARD LAW SCHOOL? Was HUSSEIN a prominent political figure or a person of influence at the time? No. Who is Valerie Jarrett?  Where was she born? When did Valerie Jarrett hire Michelle Robinson? 1991 Timeline. https://www.thisisinsider.com/how-did-barack-and-michelle-obama-meet-2017-10#1991-they-got-engaged-in-a-simple-and-sweet-way-3 Who is Mayor (former) Richard Daley? Who is Mayor (current) Rahm Emanuel? HUSSEIN should be VERY nervous. BRENNAN should be VERY nervous. KERRY should be VERY nervous. MERKEL should be VERY nervous. +29 How were the pallets of cash divided? How many planes were used to transport?  Who operated the planes? What 'shadow' agency directed operations? Why wasn't the money [simply] wire transferred? US had AUTH to open bank-to-bank transfers. How do you prevent financial T logs? How were the cash withdrawals in EU categorized/labeled?  Where did the cash originate from? What time of day did the withdrawals occur?  Who provided SECURITY? Why wasn't Congress notified? Why was the U.S. Gov't kept in the DARK? US law broken? Did ALL planes land in the same location (airport)?  Why did [1] particular plane land outside of Iran? Why was a helicopter involved? [WHO] did the money go to? HOW DO YOU AUDIT A FOREIGN AID BIG BLOCK TRANSFER? Did Rouhani keep 'unknown' comms as insurance? What agency collects ALL FORMS OF DATA? What agency did @Snowden work for orig? Did he train on THE FARM? When did @Snowden join No Such Agency? Define 'Contractor'. Define the 'PRISM' program. What year did @Snowden release spec-details of PRISM? Mid 2013? IMPACT-LIMIT NSA's ability to utilize/collect?  FAKE NEWS push for Congressional restrictions? OPEN SOURCE PUSH to create COUNTER-DEF? PURPOSE? BLUE SKIES FOR CLOWN OP? When was the Joint Plan of Action (IRAN DEAL) executed?  Late 2013? Do you believe in coincidences? Nothing to See Here. Q \"]"
      ]
     },
     "metadata": {},
     "execution_count": 453
    }
   ],
   "source": [
    "[i.text for i in messages[3005].contents]"
   ]
  },
  {
   "cell_type": "code",
   "execution_count": 49,
   "metadata": {},
   "outputs": [
    {
     "output_type": "execute_result",
     "data": {
      "text/plain": [
       "['FISA (ABCs) v INSCOM NOFORN NSA INSCOM BRIDGE FISA = FISC Who is accountable to Congress (civilian body)?',\n",
       " \"Define 'State Secrets'.\",\n",
       " 'Process of obtaining a FISA warrant?',\n",
       " 'What must be DEMONSTRATED to be GRANTED?',\n",
       " 'Who must SIGN OFF?',\n",
       " \"Can 'select' individuals in senior positions of power be SHADOW BANNED from ACTIVE FISA WARRANTS / SURV?\",\n",
       " 'NAT SEC Sufficient evidence shown to demonstrate rogue elements of intelligence apparatus illegally violated FISA law (tenets) in coordinated effort w/ d+foreign allies to impact/mod the outcome of the 2016 Presidential election & safeguard against future uncover / criminal prosecution?',\n",
       " 'Who must sign off on FISA warrants?',\n",
       " 'Who directs the signers?',\n",
       " 'Given magnitude of spy campaign (U.S. Presidential Election Republican Party Nominee Candidate + President Elect + President of the United States) would HUSSEIN be required to DIRECT ORDER?',\n",
       " 'How would updates occur?',\n",
       " 'PDB?',\n",
       " 'Who has access to the PDB?',\n",
       " 'On-site CLAS briefings / SIT ROOM / OO / PEOC / N_C?',\n",
       " 'How often does a President use PEOC?',\n",
       " \"'Foreign' tangent req to obtain warrant to spy on U.S. ORIG?\",\n",
       " \"Define 'Projection'.\",\n",
       " 'What is Known?',\n",
       " 'Connections (them) to Russia/other F assets?',\n",
       " 'Who commands INSCOM?',\n",
       " 'Who commands No Such Agency?',\n",
       " 'Who has ULTIMATE command?',\n",
       " 'Q']"
      ]
     },
     "metadata": {},
     "execution_count": 49
    }
   ],
   "source": [
    "[i for i in Messages.sents(3009) if not i.startswith('https')]"
   ]
  },
  {
   "cell_type": "code",
   "execution_count": 526,
   "metadata": {},
   "outputs": [
    {
     "output_type": "execute_result",
     "data": {
      "text/plain": [
       "{' w ': 'with',\n",
       " '&': 'and',\n",
       " 'AUTH': 'authorization',\n",
       " 'BRENNAN': 'John Brennan',\n",
       " 'COVID19': 'covid',\n",
       " 'D': 'Democrats',\n",
       " 'GOOG': 'Google',\n",
       " \"Gov't\": 'government',\n",
       " 'HUSSEIN': 'Barack Obama',\n",
       " 'ID': 'identification',\n",
       " 'KERRY': 'John Kerry',\n",
       " \"M's\": 'marshalls',\n",
       " 'MERKEL': 'Angela Merkel',\n",
       " 'MS-13': 'ms thirteen',\n",
       " 'MSM': 'mainstream media',\n",
       " 'No Such Agency': 'NSA',\n",
       " 'Russia>D': 'Russia Democrats',\n",
       " 'SA': 'Saudi Arabia',\n",
       " 'U S Gov t': 'United States government',\n",
       " 'U.S.': 'United States',\n",
       " 'US': 'United States',\n",
       " '[D]': 'Democratic',\n",
       " 'comms': 'communications',\n",
       " \"d's\": 'democrats',\n",
       " 'ds': 'democrats',\n",
       " 'financial T': 'financial transactions',\n",
       " 'r v d': 'republicans vs democrats',\n",
       " \"r's\": 'republicans',\n",
       " 'rs': 'republicans',\n",
       " 'v': 'versus',\n",
       " 'v2': 'version two',\n",
       " 'w/': 'with'}"
      ]
     },
     "metadata": {},
     "execution_count": 526
    }
   ],
   "source": [
    "# sorted dict by creating a dict comprehension\n",
    "{k:v for k,v in zip(sorted(replace_dict.keys()), [replace_dict.get(i) for i in sorted(replace_dict.keys())])}"
   ]
  },
  {
   "cell_type": "code",
   "execution_count": 91,
   "metadata": {},
   "outputs": [
    {
     "output_type": "stream",
     "name": "stdout",
     "text": [
      "['Some of us come here to drop crumbs, just crumbs.', 'POTUS', ' is 100% insulated - any discussion suggesting he’s even a target is false.', 'POTUS', ' will not be addressing nation on any of these issues as people begin to be indicted and must remain neutral for pure optical reasons. To suggest this is the plan is false and should be common sense.', 'Focus on Military Intellingence/ State Secrets and why might that be used vs any three letter agency ', 'What ', 'SC', ' decision opened the door for a sitting President to activate - what must be showed?', 'Why is ', 'POTUS', ' surrounded by generals ^^', 'Again, there are a lot more good people than bad so have faith. This was a hostile takeover from an evil corrupt network of players (not just Democrats).', 'Don’t fool yourself into thinking Obama, Soros, Roth’s, Clinton’s etc have more power present day than ', 'POTUS', '. ', 'Operation Mockingbird ', 'Patriots are in control. Sit back and enjoy the show.']\n"
     ]
    }
   ],
   "source": [
    "for i in messages[-4].contents:\n",
    "    if i.attrs == {'class': ['text']}:\n",
    "        print([i.string for i in messages[-4].div.contents if i.string is not None])"
   ]
  },
  {
   "cell_type": "code",
   "execution_count": 92,
   "metadata": {},
   "outputs": [
    {
     "output_type": "execute_result",
     "data": {
      "text/plain": [
       "['Some of us come here to drop crumbs, just crumbs.',\n",
       " 'POTUS',\n",
       " ' is 100% insulated - any discussion suggesting he’s even a target is false.',\n",
       " 'POTUS',\n",
       " ' will not be addressing nation on any of these issues as people begin to be indicted and must remain neutral for pure optical reasons. To suggest this is the plan is false and should be common sense.',\n",
       " 'Focus on Military Intellingence/ State Secrets and why might that be used vs any three letter agency ',\n",
       " 'What ',\n",
       " 'SC',\n",
       " ' decision opened the door for a sitting President to activate - what must be showed?',\n",
       " 'Why is ',\n",
       " 'POTUS',\n",
       " ' surrounded by generals ^^',\n",
       " 'Again, there are a lot more good people than bad so have faith. This was a hostile takeover from an evil corrupt network of players (not just Democrats).',\n",
       " 'Don’t fool yourself into thinking Obama, Soros, Roth’s, Clinton’s etc have more power present day than ',\n",
       " 'POTUS',\n",
       " '. ',\n",
       " 'Operation Mockingbird ',\n",
       " 'Patriots are in control. Sit back and enjoy the show.']"
      ]
     },
     "metadata": {},
     "execution_count": 92
    }
   ],
   "source": [
    "[i.string for i in messages[-4].div.contents if i.string is not None]"
   ]
  },
  {
   "cell_type": "code",
   "execution_count": 93,
   "metadata": {},
   "outputs": [
    {
     "output_type": "execute_result",
     "data": {
      "text/plain": [
       "['Justice K >>> Highest Court in the Land.',\n",
       " 'Law & Order [majority] [U.S. Constitution] safeguarded. ',\n",
       " 'IT WAS OUR LAST CHANCE TO SAVE IT [Non-Force]',\n",
       " 'Now comes the real PAIN.',\n",
       " 'Now comes the real TRUTH.',\n",
       " 'BOOM',\n",
       " '\\u2002\\u2002\\u2002\\u2002\\u2002\\u2002\\u2002\\u2002BOOM',\n",
       " '\\u2002\\u2002\\u2002\\u2002\\u2002\\u2002\\u2002\\u2002\\u2002\\u2002\\u2002\\u2002\\u2002\\u2002\\u2002\\u2002BOOM',\n",
       " '\\u2002\\u2002\\u2002\\u2002\\u2002\\u2002\\u2002\\u2002\\u2002\\u2002\\u2002\\u2002\\u2002\\u2002\\u2002\\u2002\\u2002\\u2002\\u2002\\u2002\\u2002\\u2002\\u2002\\u2002BOOM',\n",
       " 'They want you DIVIDED.',\n",
       " 'DIVIDED by RACE.',\n",
       " 'DIVIDED by RELIGION.',\n",
       " 'DIVIDED by CULTURE.',\n",
       " 'DIVIDED by CLASS.',\n",
       " 'DIVIDED by POLITICAL AFFILIATION. ',\n",
       " 'DIVIDED YOU ARE WEAK.',\n",
       " 'TOGETHER YOU ARE STRONG.',\n",
       " 'This movement challenges their ‘forced’ narrative. ',\n",
       " 'This movement challenges people to not simply trust what is being reported.',\n",
       " 'Research for yourself.',\n",
       " 'Think for yourself.',\n",
       " 'Trust yourself.',\n",
       " 'This movement is not about one person or a group of people.',\n",
       " 'WE, the PEOPLE.',\n",
       " 'Save the Republic!',\n",
       " 'Hatred and Dissension in the Nation will Heal.',\n",
       " 'WHERE WE GO ONE, WE GO ALL.',\n",
       " 'Q']"
      ]
     },
     "metadata": {},
     "execution_count": 93
    }
   ],
   "source": [
    "Messages.get(2601)"
   ]
  },
  {
   "cell_type": "code",
   "execution_count": 212,
   "metadata": {},
   "outputs": [
    {
     "output_type": "stream",
     "name": "stdout",
     "text": [
      "['WELCOME TO THE DEMOCRAT PARTY.', 'The Party of threats, violence, intimidation, name-calling, racism, fascism, division, …..', '#WALKAWAY', '#VOTEREPUBLICAN', 'Q']\n"
     ]
    }
   ],
   "source": [
    "if messages[2600].children:\n",
    "    print([i.string for i in messages[2600].children])"
   ]
  },
  {
   "cell_type": "code",
   "execution_count": 96,
   "metadata": {},
   "outputs": [
    {
     "output_type": "execute_result",
     "data": {
      "text/plain": [
       "['WELCOME TO THE DEMOCRAT PARTY.',\n",
       " 'The Party of threats, violence, intimidation, name-calling, racism, fascism, division, …..',\n",
       " '#WALKAWAY',\n",
       " '#VOTEREPUBLICAN',\n",
       " 'Q']"
      ]
     },
     "metadata": {},
     "execution_count": 96
    }
   ],
   "source": [
    "[i.string for i in messages[2600]]"
   ]
  },
  {
   "cell_type": "code",
   "execution_count": 97,
   "metadata": {},
   "outputs": [
    {
     "output_type": "execute_result",
     "data": {
      "text/plain": [
       "['Shall we play a game?',\n",
       " '[N]othing [C]an [S]top [W]hat [I]s [C]oming',\n",
       " 'NCSWIC',\n",
       " 'Who stepped down today [forced]?',\n",
       " 'More coming?',\n",
       " 'Why is this relevant?',\n",
       " \"How do you 'show' the public the truth?\",\n",
       " \"How do you 'safeguard' US elections post-POTUS?\",\n",
       " \"How do you 'remove' foreign interference and corruption and install US-owned voter ID law(s) and other safeguards? \",\n",
       " 'It had to be this way.',\n",
       " 'Sometimes you must walk through the darkness before you see the light. ',\n",
       " 'Q']"
      ]
     },
     "metadata": {},
     "execution_count": 97
    }
   ],
   "source": [
    "[p.string for p in messages[2].div.contents if p.string is not None]"
   ]
  },
  {
   "cell_type": "code",
   "execution_count": 88,
   "metadata": {},
   "outputs": [
    {
     "output_type": "stream",
     "name": "stdout",
     "text": [
      "https:\n//\nnationalsecurityaction.org/who-we-are/\nWe are Americans—former senior officials and policy experts, academics and civil society leaders—who have seen first-hand how the United States is stronger, safer and more respected in the world when we stand strong with our allies, pursue principled diplomacy, and stay true to the values that have long defined America at home and abroad.\n"
     ]
    }
   ],
   "source": [
    "# this loop gets both the div op contents and the contents of the message which aren't in div op\n",
    "if messages[3600].attrs == {'class': ['message']}:\n",
    "    for p in messages[3600].contents:\n",
    "        for div_op in p.findAll('div', class_='op'):\n",
    "            for item in div_op.contents:\n",
    "                if item.string is not None:\n",
    "                    print(item.string)\n",
    "        if p.string is not None:\n",
    "            print(p.string)"
   ]
  },
  {
   "cell_type": "code",
   "execution_count": 90,
   "metadata": {},
   "outputs": [
    {
     "output_type": "execute_result",
     "data": {
      "text/plain": [
       "['>>343',\n",
       " 'https://twitter.com/CNNPolitics/status/1048324715469783040',\n",
       " 'And so it begins..',\n",
       " 'How do you start a WAR?',\n",
       " '[Markers] matter.',\n",
       " 'Playbook [FAIL].',\n",
       " 'Q',\n",
       " 'Post Justice K confirmation.',\n",
       " 'RUSSIA RUSSIA RUSSIA',\n",
       " 'Think ',\n",
       " 'UK',\n",
       " ' / ',\n",
       " 'AUS',\n",
       " ' >> RUSSIA RUSSIA RUSSIA',\n",
       " 'DEFLECT DECLAS ',\n",
       " 'DEFLECT BLAME',\n",
       " '[FOCUS RUSSIA >>> GLOBAL ENEMY]',\n",
       " '\"The Hunt For\" dropped - why?',\n",
       " 'When was the unauthorized missile fired?',\n",
       " 'Was it found/discovered prior to [Hunt]?',\n",
       " 'RUSSIA SUB THREAT PUSH?',\n",
       " 'RED_OCTOBER',\n",
       " 'Double meanings exist.',\n",
       " '……………..',\n",
       " 'Q']"
      ]
     },
     "metadata": {},
     "execution_count": 90
    }
   ],
   "source": [
    "alt_get(2603)"
   ]
  },
  {
   "cell_type": "code",
   "execution_count": 102,
   "metadata": {},
   "outputs": [
    {
     "output_type": "execute_result",
     "data": {
      "text/plain": [
       "['And so it begins',\n",
       " 'How do you start a WAR',\n",
       " 'Markers matter',\n",
       " 'Playbook FAIL',\n",
       " 'Q',\n",
       " 'Post Justice K confirmation',\n",
       " 'RUSSIA RUSSIA RUSSIA',\n",
       " 'Think',\n",
       " 'UK',\n",
       " 'AUS',\n",
       " 'RUSSIA RUSSIA RUSSIA',\n",
       " 'DEFLECT DECLAS',\n",
       " 'DEFLECT BLAME',\n",
       " 'FOCUS RUSSIA GLOBAL ENEMY',\n",
       " 'The Hunt For dropped why',\n",
       " 'When was the unauthorized missile fired',\n",
       " 'Was it found discovered prior to Hunt',\n",
       " 'RUSSIA SUB THREAT PUSH',\n",
       " 'RED OCTOBER',\n",
       " 'Double meanings exist',\n",
       " 'Q']"
      ]
     },
     "metadata": {},
     "execution_count": 102
    }
   ],
   "source": [
    "clean_string(2603)"
   ]
  },
  {
   "cell_type": "code",
   "execution_count": 86,
   "metadata": {},
   "outputs": [
    {
     "output_type": "execute_result",
     "data": {
      "text/plain": [
       "['nationalsecurityactionorg who we are',\n",
       " 'We are Americans—former senior officials and policy experts academics and civil society leaders—who have seen first hand how the United States is stronger safer and more respected in the world when we stand strong with our allies pursue principled diplomacy and stay true to the values that have long defined America at home and abroad',\n",
       " 'Well done',\n",
       " 'Anon',\n",
       " 'Q']"
      ]
     },
     "metadata": {},
     "execution_count": 86
    }
   ],
   "source": [
    "clean_string(3600)"
   ]
  },
  {
   "cell_type": "code",
   "execution_count": 377,
   "metadata": {},
   "outputs": [
    {
     "output_type": "execute_result",
     "data": {
      "text/plain": [
       "<div class=\"op\" id=\"op972\"><p>&gt;&gt;343</p><p><a href=\"https://twitter.com/CNNPolitics/status/1048324715469783040\" rel=\"nofollow\" target=\"_blank\">https://twitter.com/CNNPolitics/status/1048324715469783040</a></p><p>And so it begins..</p><p>How do you start a WAR?</p><p>[Markers] matter.</p><p>Playbook [FAIL].</p><p>Q</p></div>"
      ]
     },
     "metadata": {},
     "execution_count": 377
    }
   ],
   "source": [
    "messages[2603].find('div', class_=['op'])"
   ]
  },
  {
   "cell_type": "code",
   "execution_count": 83,
   "metadata": {},
   "outputs": [
    {
     "output_type": "stream",
     "name": "stdout",
     "text": [
      "Shall we play a game?\n[N]othing [C]an [S]top [W]hat [I]s [C]oming\nNCSWIC\nWho stepped down today [forced]?\nMore coming?\nWhy is this relevant?\nHow do you 'show' the public the truth?\nHow do you 'safeguard' US elections post-POTUS?\nHow do you 'remove' foreign interference and corruption and install US-owned voter ID law(s) and other safeguards? \nIt had to be this way.\nSometimes you must walk through the darkness before you see the light. \nQ\n"
     ]
    }
   ],
   "source": [
    "if messages[2].attrs == {'class': ['message']}:\n",
    "    for item in messages[2].contents:\n",
    "        for div_op in item.findAll('div', class_='op'):\n",
    "            for itm in div_op.contents:\n",
    "                print(itm.string)\n",
    "        for p_tag in item.findAll('p'):\n",
    "            if p_tag.string is not None:\n",
    "                print(p_tag.string)"
   ]
  },
  {
   "cell_type": "code",
   "execution_count": 75,
   "metadata": {},
   "outputs": [
    {
     "output_type": "stream",
     "name": "stdout",
     "text": [
      ">>146981635Hillary Clinton will be arrested between 7:45 AM - 8:30 AM EST on Monday - the morning on Oct 30, 2017.HRC extradition already in motion effective yesterday with several countries in case of cross border run. Passport approved to be flagged effective 10/30 @ 12:01am. Expect massive riots organized in defiance and others fleeing the US to occur. US M’s will conduct the operation while NG activated. Proof check: Locate a NG member and ask if activated for duty 10/30 across most major cities.\n"
     ]
    }
   ],
   "source": [
    "if messages[-1].next_element.attrs == {'class': ['text']}:\n",
    "    if 'p' in [i.name for i in messages[-1].next_element.children]:\n",
    "        print(messages[-1].text)\n",
    "    if 'p' not in [i.name for i in messages[-1].next_element.children]:\n",
    "        print(messages[-1].text)"
   ]
  },
  {
   "cell_type": "code",
   "execution_count": 74,
   "metadata": {},
   "outputs": [
    {
     "output_type": "stream",
     "name": "stdout",
     "text": [
      "WELCOME TO THE DEMOCRAT PARTY.\nThe Party of threats, violence, intimidation, name-calling, racism, fascism, division, …..\n#WALKAWAY\n#VOTEREPUBLICAN\nQ\n"
     ]
    }
   ],
   "source": [
    "if messages[2600].attrs == {'class': ['message']}:\n",
    "    if 'p' in [i.name for i in messages[2600].children]:\n",
    "        for p_tag in messages[2600].findAll('p'):\n",
    "            print(p_tag.string)"
   ]
  }
 ],
 "metadata": {
  "kernelspec": {
   "name": "python3",
   "display_name": "Python 3.9.2 64-bit",
   "metadata": {
    "interpreter": {
     "hash": "aee8b7b246df8f9039afb4144a1f6fd8d2ca17a180786b69acc140d282b71a49"
    }
   }
  },
  "language_info": {
   "codemirror_mode": {
    "name": "ipython",
    "version": 3
   },
   "file_extension": ".py",
   "mimetype": "text/x-python",
   "name": "python",
   "nbconvert_exporter": "python",
   "pygments_lexer": "ipython3",
   "version": "3.9.2-final"
  }
 },
 "nbformat": 4,
 "nbformat_minor": 5
}