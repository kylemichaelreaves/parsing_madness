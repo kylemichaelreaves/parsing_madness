{
 "cells": [
  {
   "cell_type": "markdown",
   "id": "statistical-suffering",
   "metadata": {},
   "source": [
    "# 1. Scraping qdrops.online with BeautifulSoup and parsing its content\n",
    "## 1.1 capturing\n",
    "the text we want is contained within this tag hiearcharchy: \n",
    "- div message -> text -> string if not None & p \n",
    "- div message -> div op -> string \n",
    "- div message -> abbr title, abbr.text\n",
    "- meta lar -> span: time, name, source, num\n",
    "\n",
    "### prematurely calling text or get_text() on div_text will render unnecessary text, text we'd later have to clean\n",
    "\n",
    "### tags to extract():\n",
    "- hyperlinks: https?\\S+\\b, www, twitter, instagram, etc (inevitably will have to regex)\n",
    "- a href\n",
    "- figure\n",
    "- figcaption\n",
    "- images\n",
    "- div op containing no text or string\n",
    "- replace punct with a single space, then replace spaces longer than 1 space with a single space\n",
    "- it also might make things easier tokenizing them before hand\n",
    "### cleaning \n",
    "- sub hyperlinks\n",
    "- lower text\n",
    "- split text \n",
    "- sub punctuation\n",
    "- sub digits \n",
    "- join split words back into string\n",
    "- append strings to list if strings \n",
    "- return list of cleaned strings \n",
    "## Recurring Problems\n",
    "### inconsistent tag use: br, p, text, abbr \n",
    "- many more tags could have been abbreviated or propertied with its value\n",
    "- pickling exceeds maximum recursion; solved by sys.get and set a higher recursion limit\n",
    "- runtime of requests is > 1 min: solved by loading the pickled object\n",
    "- unwanted text from hyperlinks, figcaptions, etc; solved by using BeautifulSoup extract() on unwanted objects"
   ]
  },
  {
   "cell_type": "code",
   "execution_count": 1,
   "id": "ready-layer",
   "metadata": {},
   "outputs": [],
   "source": [
    "import requests\n",
    "import nltk\n",
    "import os, sys\n",
    "import itertools\n",
    "import re, string\n",
    "import pandas as pd\n",
    "import pickle\n",
    "import timeit\n",
    "\n",
    "from string import punctuation, digits\n",
    "from collections import Counter\n",
    "from bs4 import BeautifulSoup, NavigableString, Tag\n",
    "from string import punctuation, digits\n",
    "from nltk.stem import WordNetLemmatizer\n",
    "from nltk.corpus import stopwords\n",
    "from nltk.cluster.util import cosine_distance\n",
    "from nltk import RegexpParser, Tree\n",
    "from nltk.util import ngrams\n",
    "\n",
    "punctuation += str('’‘–…“”')\n",
    "pd.set_option('display.max_colwidth', None)"
   ]
  },
  {
   "source": [
    "We don't have to execute the following cell, we can skip to opening the pickled object"
   ],
   "cell_type": "markdown",
   "metadata": {}
  },
  {
   "cell_type": "code",
   "execution_count": 3,
   "metadata": {},
   "outputs": [
    {
     "output_type": "execute_result",
     "data": {
      "text/plain": [
       "\"%%time\\nbase_url = 'https://qposts.online/page/' \\nurls = [base_url+str(i) for i in range(1, 105)]\\npage_requests = [requests.get(url) for url in urls]\\nsoups = [BeautifulSoup(page.text, 'html.parser') for page in page_requests]\\nmessages_original = [soups[i].findAll('div', 'message') for i in range(0, len(soups))]\\nmessages_flat = list(itertools.chain.from_iterable(messages))\\nmeta_lar = [soups[i].findAll('div', 'meta lar') for i in range(0, len(soups))]\""
      ]
     },
     "metadata": {},
     "execution_count": 3
    }
   ],
   "source": [
    "'''%%time\n",
    "base_url = 'https://qposts.online/page/' \n",
    "urls = [base_url+str(i) for i in range(1, 105)]\n",
    "page_requests = [requests.get(url) for url in urls]\n",
    "soups = [BeautifulSoup(page.text, 'html.parser') for page in page_requests]\n",
    "messages_original = [soups[i].findAll('div', 'message') for i in range(0, len(soups))]\n",
    "messages_flat = list(itertools.chain.from_iterable(messages))\n",
    "meta_lar = [soups[i].findAll('div', 'meta lar') for i in range(0, len(soups))]'''"
   ]
  },
  {
   "cell_type": "code",
   "execution_count": 2,
   "metadata": {},
   "outputs": [
    {
     "output_type": "execute_result",
     "data": {
      "text/plain": [
       "'/Users/kylereaves/Documents/GitHub/parsing_madness'"
      ]
     },
     "metadata": {},
     "execution_count": 2
    }
   ],
   "source": [
    "os.getcwd()"
   ]
  },
  {
   "cell_type": "code",
   "execution_count": 3,
   "metadata": {},
   "outputs": [],
   "source": [
    "index_df = pd.read_pickle('index_df.pkl')\n",
    "index_df.number = index_df.number.astype('int')\n",
    "date = [index_df.datetime[i].date() for i in range(0, len(index_df.datetime))]\n",
    "time = [index_df.datetime[i].time() for i in range(0, len(index_df.datetime))]\n",
    "dt_index = pd.MultiIndex.from_arrays([date, time])"
   ]
  },
  {
   "cell_type": "code",
   "execution_count": 4,
   "metadata": {},
   "outputs": [
    {
     "output_type": "stream",
     "name": "stdout",
     "text": [
      "CPU times: user 11.9 s, sys: 358 ms, total: 12.3 s\nWall time: 12.3 s\n"
     ]
    }
   ],
   "source": [
    "%%time \n",
    "with open('messages_flat.pkl', 'rb') as f:\n",
    "    messages = pickle.load(f)\n",
    "with open('meta_flat.pkl', 'rb') as f:\n",
    "    meta_lar = pickle.load(f)"
   ]
  },
  {
   "cell_type": "code",
   "execution_count": 5,
   "metadata": {},
   "outputs": [
    {
     "output_type": "stream",
     "name": "stdout",
     "text": [
      "CPU times: user 1.84 ms, sys: 1.36 ms, total: 3.2 ms\nWall time: 8.14 ms\n"
     ]
    }
   ],
   "source": [
    "%%time\n",
    "with open('names_joined.pkl', 'rb') as f:\n",
    "    names = pickle.load(f)\n",
    "with open('sources_joined.pkl', 'rb') as f:\n",
    "    sources = pickle.load(f)"
   ]
  },
  {
   "cell_type": "code",
   "execution_count": 5,
   "metadata": {},
   "outputs": [],
   "source": [
    "# if an item in Messages.split(i) is in replace_dict.keys(), replace i (the key) with its value\n",
    "replace_dict = {' w ': 'with',\n",
    " '&': 'and',\n",
    " 'AUTH': 'authorization',\n",
    " 'BRENNAN': 'John Brennan',\n",
    " 'COVID19': 'covid',\n",
    " 'D': 'Democrats',\n",
    " 'GOOG': 'Google',\n",
    " \"Gov't\": 'government',\n",
    " 'HUSSEIN': 'Barack Obama',\n",
    " 'ID': 'identification',\n",
    " 'KERRY': 'John Kerry',\n",
    " \"M's\": 'marshalls',\n",
    " 'MERKEL': 'Angela Merkel',\n",
    " 'MS-13': 'ms thirteen',\n",
    " 'MSM': 'mainstream media',\n",
    " 'No Such Agency': 'NSA',\n",
    " 'Russia>D': 'Russia Democrats',\n",
    " 'SA': 'Saudi Arabia',\n",
    " 'U S Gov t': 'United States government',\n",
    " 'U.S.': 'United States',\n",
    " 'US': 'United States',\n",
    " '[D]': 'Democratic',\n",
    " 'comms': 'communications',\n",
    " \"d's\": 'democrats',\n",
    " 'ds': 'democrats',\n",
    " 'financial T': 'financial transactions',\n",
    " 'r v d': 'republicans vs democrats',\n",
    " \"r's\": 'republicans',\n",
    " 'rs': 'republicans',\n",
    " 'v': 'versus',\n",
    " 'v2': 'version two',\n",
    " 'w/': 'with'}"
   ]
  },
  {
   "cell_type": "code",
   "execution_count": 6,
   "metadata": {},
   "outputs": [],
   "source": [
    "class Spans:\n",
    "    def __init__(self):\n",
    "        pass\n",
    "\n",
    "    def nums():\n",
    "        nums = [meta_lar[i].find('span', 'num').get_text() for i in range(0, len(meta_lar))]\n",
    "        return nums\n",
    "                \n",
    "    def sources():\n",
    "        sources = [meta_lar[i].find('span', 'source').get_text() for i in range(0, len(meta_lar))]\n",
    "        links = [meta_lar[i].find('span', 'source').contents[-1].get('href') for i in range(0, len(meta_lar))]\n",
    "        return sources\n",
    "    \n",
    "    def names():\n",
    "        names = [meta_lar[i].find('span', 'name').get_text() for i in range(0, len(meta_lar))]\n",
    "        return names\n",
    "                      \n",
    "    def dates():\n",
    "        date_list = [meta_lar[i].find('span', 'time').get_text()for i in range(0, len(meta_lar))]\n",
    "        dt_idx = pd.to_datetime(date_list, origin='unix', unit='s')\n",
    "        return dt_idx"
   ]
  },
  {
   "cell_type": "code",
   "execution_count": 72,
   "metadata": {},
   "outputs": [],
   "source": [
    "class Messages(object):\n",
    "    def __init__(self):\n",
    "        pass\n",
    "\n",
    "    def get(integer: int):\n",
    "        msg_list = []\n",
    "\n",
    "        for div_images in messages[integer].findAll('div', class_='images'):\n",
    "            div_images.extract()\n",
    "        for a_ref in messages[integer].findAll('a', class_='ref'):\n",
    "            a_ref.extract()\n",
    "        for a_href in messages[integer].findAll('a', class_='href'):\n",
    "            a_ref.extract()\n",
    "        for empty_line in messages[integer].findAll('p', class_='body-line empty'):\n",
    "            empty_line.extract()\n",
    "        for br_tag in messages[integer].findAll('br'):\n",
    "            br_tag.replace_with(' ')\n",
    "\n",
    "        for item in messages[integer]:\n",
    "            if isinstance(item, NavigableString) and item.name is None:\n",
    "                msg_list.append(item)\n",
    "            if isinstance(item, Tag) and item.name == 'p':\n",
    "                msg_list.append(item.string)\n",
    "            if isinstance(item, Tag) and item.name == 'div' and item.attrs == {'class': ['text']}:\n",
    "                msg_list.append(item.text)\n",
    "            if isinstance(item, Tag) and item.name == 'abbr':\n",
    "                msg_list.append(item.text)\n",
    "\n",
    "\n",
    "        cleaned = [item for item in msg_list if item != ' ' and item is not None]\n",
    "        cleaned2x = [item for item in cleaned if not item.startswith('https') and not item.startswith('in.') and not item.startswith('www')]\n",
    "        return cleaned2x\n",
    "\n",
    "    def dataframe(integer: int):\n",
    "        df = pd.DataFrame({'type': [type(i) for i in messages[integer]],\n",
    "                           'name': [i.name for i in messages[integer]],\n",
    "                           'attrs': [i.attrs for i in messages[integer]],\n",
    "                           'content': [i for i in messages[integer]]})\n",
    "        return df\n",
    "\n",
    "    def get_abbr(integer:int): \n",
    "        return Messages.dataframe(integer)[Messages.dataframe(integer).name == 'abbr']\n",
    "    \n",
    "    def info(integer:int):\n",
    "        return index_df[index_df.number == integer]\n",
    "\n",
    "    def sents(integer: int):\n",
    "        return nltk.sent_tokenize(' '.join(Messages.get(integer))) \n",
    "      \n",
    "    def joined(integer: int):\n",
    "        return ' '.join(Messages.get(integer))\n",
    "        \n",
    "    def split(integer: int):\n",
    "        return Messages.joined(integer).split()"
   ]
  },
  {
   "source": [
    "### using string with p tags saves us subing hyperlinks\n",
    "### add a conditional statement on the end to pop None from list"
   ],
   "cell_type": "markdown",
   "metadata": {}
  },
  {
   "cell_type": "code",
   "execution_count": 8,
   "metadata": {},
   "outputs": [],
   "source": [
    "def flatten(integer: int):\n",
    "    outter_list, cleaned_list = [], []\n",
    "    for items in Messages.split(integer):\n",
    "        if items.startswith('https') or items.startswith('in.') or items.startswith('www'):\n",
    "            continue\n",
    "        for char in items:\n",
    "            if char == '/' or char == '-' or char == '][' or char == '>':\n",
    "                items = re.sub(char, ' ', items)\n",
    "        else:\n",
    "            outter_list.append(items)\n",
    "\n",
    "    for i in nltk.sent_tokenize(' '.join(outter_list)):\n",
    "        i = re.sub('[%s]' % re.escape(string.punctuation), '', i)\n",
    "        i = re.sub('[%s]' % re.escape(string.digits), '', i)\n",
    "        cleaned_list.append(i)\n",
    "    words = [nltk.word_tokenize(i.strip()) for i in cleaned_list]\n",
    "    flat = list(itertools.chain.from_iterable(words))\n",
    "    return flat"
   ]
  },
  {
   "cell_type": "code",
   "execution_count": 9,
   "metadata": {},
   "outputs": [],
   "source": [
    "def clean(integer: int):\n",
    "    cleaned = [re.sub('/', ' ', item) for item in Messages.get(integer)]\n",
    "    cleaned = [re.sub('-', ' ', item) for item in cleaned]\n",
    "    cleaned = [re.sub('\\]\\[', ' ', item) for item in cleaned]\n",
    "    cleaned = [re.sub('[%s]' % re.escape(string.punctuation), '', item) for item in cleaned]\n",
    "    cleaned = [re.sub('[%s]' % re.escape(string.digits), '', item) for item in cleaned]\n",
    "    cleaned = [item.strip() for item in cleaned]\n",
    "    cleaned = [item for item in cleaned if item]\n",
    "    cleaned = [nltk.word_tokenize(item) for item in cleaned]\n",
    "    cleaned = [' '.join(item) for item in cleaned]\n",
    "    return cleaned"
   ]
  },
  {
   "cell_type": "code",
   "execution_count": 178,
   "metadata": {},
   "outputs": [
    {
     "output_type": "execute_result",
     "data": {
      "text/plain": [
       "['WELCOME TO THE DEMOCRAT PARTY.',\n",
       " 'The Party of threats, violence, intimidation, name-calling, racism, fascism, division, ….. #WALKAWAY #VOTEREPUBLICAN Q']"
      ]
     },
     "metadata": {},
     "execution_count": 178
    }
   ],
   "source": [
    "Messages.sents(2600)"
   ]
  },
  {
   "cell_type": "code",
   "execution_count": 156,
   "metadata": {},
   "outputs": [
    {
     "output_type": "execute_result",
     "data": {
      "text/plain": [
       "['Look HERE [RUSSIA]',\n",
       " 'DO NOT LOOK HERE [CHINA]',\n",
       " 'Worth 43 minutes of your time.',\n",
       " 'FAKE NEWS WILL NEVER REPORT.',\n",
       " 'Important to understand going forward.',\n",
       " 'FACTS MATTER.',\n",
       " 'Q']"
      ]
     },
     "metadata": {},
     "execution_count": 156
    }
   ],
   "source": [
    "Messages.get(2602)"
   ]
  },
  {
   "cell_type": "code",
   "execution_count": 165,
   "metadata": {},
   "outputs": [
    {
     "output_type": "execute_result",
     "data": {
      "text/plain": [
       "[('div', {'class': ['text']})]"
      ]
     },
     "metadata": {},
     "execution_count": 165
    }
   ],
   "source": [
    "[(i.name, i.attrs) for i in messages[2].children]"
   ]
  },
  {
   "cell_type": "code",
   "execution_count": 169,
   "metadata": {},
   "outputs": [
    {
     "output_type": "execute_result",
     "data": {
      "text/plain": [
       "[<div class=\"text\"><p>Shall we play a game?</p><p>[N]othing [C]an [S]top [W]hat [I]s [C]oming</p><p>NCSWIC</p><p>https:<em>//</em>www.cisa.gov/safecom/NCSWIC</p><p>Who stepped down today [forced]?</p><p>https:<em>//</em>www.cisa.gov/bryan-s-ware</p><p>More coming?</p><p>Why is this relevant?</p><p>How do you 'show' the public the truth?</p><p>How do you 'safeguard' US elections post-POTUS?</p><p>How do you 'remove' foreign interference and corruption and install US-owned voter ID law(s) and other safeguards? </p><p>It had to be this way.</p><p>Sometimes you must walk through the darkness before you see the light. </p><p>Q</p></div>]"
      ]
     },
     "metadata": {},
     "execution_count": 169
    }
   ],
   "source": [
    "[i for i in messages[2].children]"
   ]
  },
  {
   "cell_type": "code",
   "execution_count": 175,
   "metadata": {},
   "outputs": [
    {
     "output_type": "execute_result",
     "data": {
      "text/plain": [
       "('div', {'class': ['text']})"
      ]
     },
     "metadata": {},
     "execution_count": 175
    }
   ],
   "source": [
    "messages[2].next_element.name, messages[2].next_element.attrs"
   ]
  },
  {
   "cell_type": "code",
   "execution_count": 172,
   "metadata": {},
   "outputs": [
    {
     "output_type": "execute_result",
     "data": {
      "text/plain": [
       "['Shall we play a game?',\n",
       " '[N]othing [C]an [S]top [W]hat [I]s [C]oming',\n",
       " 'NCSWIC',\n",
       " 'Who stepped down today [forced]?',\n",
       " 'More coming?',\n",
       " 'Why is this relevant?',\n",
       " \"How do you 'show' the public the truth?\",\n",
       " \"How do you 'safeguard' US elections post-POTUS?\",\n",
       " \"How do you 'remove' foreign interference and corruption and install US-owned voter ID law(s) and other safeguards? \",\n",
       " 'It had to be this way.',\n",
       " 'Sometimes you must walk through the darkness before you see the light. ',\n",
       " 'Q']"
      ]
     },
     "metadata": {},
     "execution_count": 172
    }
   ],
   "source": [
    "[i.string for i in messages[2].div if i.string is not None]"
   ]
  },
  {
   "cell_type": "code",
   "execution_count": 17,
   "metadata": {},
   "outputs": [
    {
     "output_type": "stream",
     "name": "stdout",
     "text": [
      "True\nTrue\nTrue\nTrue\nTrue\nTrue\nTrue\nTrue\nTrue\nTrue\n"
     ]
    }
   ],
   "source": [
    "for i in messages[10].div:\n",
    "    print(i.name == 'p')"
   ]
  },
  {
   "cell_type": "code",
   "execution_count": 18,
   "metadata": {},
   "outputs": [
    {
     "output_type": "execute_result",
     "data": {
      "text/plain": [
       "[True, True, True, True, True, True, True, True, True, True]"
      ]
     },
     "metadata": {},
     "execution_count": 18
    }
   ],
   "source": [
    "[i.name == 'p' for i in messages[10].div]"
   ]
  },
  {
   "cell_type": "code",
   "execution_count": 19,
   "metadata": {},
   "outputs": [
    {
     "output_type": "execute_result",
     "data": {
      "text/plain": [
       "[True, True, True, True, True, True, True, True, True, True]"
      ]
     },
     "metadata": {},
     "execution_count": 19
    }
   ],
   "source": [
    "[i.name == 'p' for i in messages[10].div.children]"
   ]
  },
  {
   "cell_type": "code",
   "execution_count": 20,
   "metadata": {},
   "outputs": [
    {
     "output_type": "execute_result",
     "data": {
      "text/plain": [
       "['Fact checkers created in effort to reinforce propaganda [digestion]?',\n",
       " 'The battle to prevent truth from reaching the people.',\n",
       " 'The battle to maintain and push division.',\n",
       " 'Divided you are weak.',\n",
       " 'Divided you fight each other.',\n",
       " 'Divided you pose no threat.',\n",
       " 'System of control.',\n",
       " 'Information warfare.',\n",
       " 'Q']"
      ]
     },
     "metadata": {},
     "execution_count": 20
    }
   ],
   "source": [
    "[i.string for i in messages[10].div if i.string is not None]"
   ]
  },
  {
   "cell_type": "code",
   "execution_count": 64,
   "metadata": {},
   "outputs": [
    {
     "output_type": "execute_result",
     "data": {
      "text/plain": [
       "['Shall we play a game?',\n",
       " '[N]othing [C]an [S]top [W]hat [I]s [C]oming',\n",
       " 'NCSWIC',\n",
       " 'Who stepped down today [forced]?',\n",
       " 'More coming?',\n",
       " 'Why is this relevant?',\n",
       " \"How do you 'show' the public the truth?\",\n",
       " \"How do you 'safeguard' US elections post-POTUS?\",\n",
       " \"How do you 'remove' foreign interference and corruption and install US-owned voter ID law(s) and other safeguards? \",\n",
       " 'It had to be this way.',\n",
       " 'Sometimes you must walk through the darkness before you see the light. ',\n",
       " 'Q']"
      ]
     },
     "metadata": {},
     "execution_count": 64
    }
   ],
   "source": [
    "[i.string for i in messages[2].div if i.string is not None]"
   ]
  },
  {
   "cell_type": "code",
   "execution_count": 73,
   "metadata": {},
   "outputs": [
    {
     "output_type": "execute_result",
     "data": {
      "text/plain": [
       "                        type name                attrs  \\\n",
       "0  <class 'bs4.element.Tag'>  div  {'class': ['text']}   \n",
       "\n",
       "                                                                                                                                                                                                                                                                                                                                                                                                                                                                                                                                                                                  content  \n",
       "0  [[Shall we play a game?], [[N]othing [C]an [S]top [W]hat [I]s [C]oming], [NCSWIC], [https:, [//], www.cisa.gov/safecom/NCSWIC], [Who stepped down today [forced]?], [https:, [//], www.cisa.gov/bryan-s-ware], [More coming?], [Why is this relevant?], [How do you 'show' the public the truth?], [How do you 'safeguard' US elections post-POTUS?], [How do you 'remove' foreign interference and corruption and install US-owned voter ID law(s) and other safeguards? ], [It had to be this way.], [Sometimes you must walk through the darkness before you see the light. ], [Q]]  "
      ],
      "text/html": "<div>\n<style scoped>\n    .dataframe tbody tr th:only-of-type {\n        vertical-align: middle;\n    }\n\n    .dataframe tbody tr th {\n        vertical-align: top;\n    }\n\n    .dataframe thead th {\n        text-align: right;\n    }\n</style>\n<table border=\"1\" class=\"dataframe\">\n  <thead>\n    <tr style=\"text-align: right;\">\n      <th></th>\n      <th>type</th>\n      <th>name</th>\n      <th>attrs</th>\n      <th>content</th>\n    </tr>\n  </thead>\n  <tbody>\n    <tr>\n      <th>0</th>\n      <td>&lt;class 'bs4.element.Tag'&gt;</td>\n      <td>div</td>\n      <td>{'class': ['text']}</td>\n      <td>[[Shall we play a game?], [[N]othing [C]an [S]top [W]hat [I]s [C]oming], [NCSWIC], [https:, [//], www.cisa.gov/safecom/NCSWIC], [Who stepped down today [forced]?], [https:, [//], www.cisa.gov/bryan-s-ware], [More coming?], [Why is this relevant?], [How do you 'show' the public the truth?], [How do you 'safeguard' US elections post-POTUS?], [How do you 'remove' foreign interference and corruption and install US-owned voter ID law(s) and other safeguards? ], [It had to be this way.], [Sometimes you must walk through the darkness before you see the light. ], [Q]]</td>\n    </tr>\n  </tbody>\n</table>\n</div>"
     },
     "metadata": {},
     "execution_count": 73
    }
   ],
   "source": [
    "Messages.dataframe(2)"
   ]
  },
  {
   "cell_type": "code",
   "execution_count": 76,
   "metadata": {},
   "outputs": [
    {
     "output_type": "execute_result",
     "data": {
      "text/plain": [
       "                        type name                attrs  \\\n",
       "0  <class 'bs4.element.Tag'>  div  {'class': ['text']}   \n",
       "\n",
       "                                                                                                                                                                                                                                                                                                                                                                                                                                                                                                                                                                                                                                                                                                                                                                                                                                                                                                                                                                                                                                                                                                                                                                                                                                                                                                                                                                                                                                                                                                                                                                                                                                                                                                                                                                                                                                                                                                                                                                                                                                                                                            content  \n",
       "0  [https:, [//], in.reuters.com/article/iran-economy-rouhani-sanctions/iran-parliament-censures-rouhani-in-sign-pragmatists-losing-sway-idINKCN1LD0DL,  , [Hassan Rouhani],  , Who paid HUSSEIN to attend HARVARD LAW SCHOOL?,  , Who is Prince Alwaleed bin Talal?,  , Why would Prince Alwaleed bin Talal (Saudi Royal) pay HUSSEIN to attend HARVARD LAW SCHOOL?,  , Was HUSSEIN a prominent political figure or a person of influence at the time?,  , No.,  , Who is Valerie Jarrett? ,  , Where was she born?,  , When did Valerie Jarrett hire Michelle Robinson?,  , 1991,  , Timeline.,  , https:, [//], www.thisisinsider.com/how-did-barack-and-michelle-obama-meet-2017-10#1991-they-got-engaged-in-a-simple-and-sweet-way-3,  , Who is Mayor (former) Richard Daley?,  , Who is Mayor (current) Rahm Emanuel?,  , HUSSEIN should be VERY nervous.,  , BRENNAN should be VERY nervous.,  , KERRY should be VERY nervous.,  , MERKEL should be VERY nervous.,  , +29,  , How were the pallets of cash divided?,  , How many planes were used to transport? ,  , Who operated the planes?,  , What 'shadow' agency directed operations?,  , Why wasn't the money [simply] wire transferred?,  , US had AUTH to open bank-to-bank transfers.,  , How do you prevent financial T logs?,  , How were the cash withdrawals in , [EU],  categorized/labeled? ,  , Where did the cash originate from?,  , What time of day did the withdrawals occur? ,  , Who provided SECURITY?,  , Why wasn't Congress notified?,  , Why was the U.S. Gov't kept in the DARK?,  , US law broken?,  , Did ALL planes land in the same location (airport)? ,  , Why did [1] particular plane land outside of Iran?,  , Why was a helicopter involved?,  , [WHO] did the money go to?,  , HOW DO YOU AUDIT A FOREIGN AID BIG BLOCK TRANSFER?,  , Did Rouhani keep 'unknown' comms as insurance?,  , What agency collects ALL FORMS OF DATA?,  , What agency did , [@Snowden],  work for orig?,  , Did he train on THE FARM?,  , When did , [@Snowden],  join No Such Agency?,  , Define 'Contractor'.,  , ...]  "
      ],
      "text/html": "<div>\n<style scoped>\n    .dataframe tbody tr th:only-of-type {\n        vertical-align: middle;\n    }\n\n    .dataframe tbody tr th {\n        vertical-align: top;\n    }\n\n    .dataframe thead th {\n        text-align: right;\n    }\n</style>\n<table border=\"1\" class=\"dataframe\">\n  <thead>\n    <tr style=\"text-align: right;\">\n      <th></th>\n      <th>type</th>\n      <th>name</th>\n      <th>attrs</th>\n      <th>content</th>\n    </tr>\n  </thead>\n  <tbody>\n    <tr>\n      <th>0</th>\n      <td>&lt;class 'bs4.element.Tag'&gt;</td>\n      <td>div</td>\n      <td>{'class': ['text']}</td>\n      <td>[https:, [//], in.reuters.com/article/iran-economy-rouhani-sanctions/iran-parliament-censures-rouhani-in-sign-pragmatists-losing-sway-idINKCN1LD0DL,  , [Hassan Rouhani],  , Who paid HUSSEIN to attend HARVARD LAW SCHOOL?,  , Who is Prince Alwaleed bin Talal?,  , Why would Prince Alwaleed bin Talal (Saudi Royal) pay HUSSEIN to attend HARVARD LAW SCHOOL?,  , Was HUSSEIN a prominent political figure or a person of influence at the time?,  , No.,  , Who is Valerie Jarrett? ,  , Where was she born?,  , When did Valerie Jarrett hire Michelle Robinson?,  , 1991,  , Timeline.,  , https:, [//], www.thisisinsider.com/how-did-barack-and-michelle-obama-meet-2017-10#1991-they-got-engaged-in-a-simple-and-sweet-way-3,  , Who is Mayor (former) Richard Daley?,  , Who is Mayor (current) Rahm Emanuel?,  , HUSSEIN should be VERY nervous.,  , BRENNAN should be VERY nervous.,  , KERRY should be VERY nervous.,  , MERKEL should be VERY nervous.,  , +29,  , How were the pallets of cash divided?,  , How many planes were used to transport? ,  , Who operated the planes?,  , What 'shadow' agency directed operations?,  , Why wasn't the money [simply] wire transferred?,  , US had AUTH to open bank-to-bank transfers.,  , How do you prevent financial T logs?,  , How were the cash withdrawals in , [EU],  categorized/labeled? ,  , Where did the cash originate from?,  , What time of day did the withdrawals occur? ,  , Who provided SECURITY?,  , Why wasn't Congress notified?,  , Why was the U.S. Gov't kept in the DARK?,  , US law broken?,  , Did ALL planes land in the same location (airport)? ,  , Why did [1] particular plane land outside of Iran?,  , Why was a helicopter involved?,  , [WHO] did the money go to?,  , HOW DO YOU AUDIT A FOREIGN AID BIG BLOCK TRANSFER?,  , Did Rouhani keep 'unknown' comms as insurance?,  , What agency collects ALL FORMS OF DATA?,  , What agency did , [@Snowden],  work for orig?,  , Did he train on THE FARM?,  , When did , [@Snowden],  join No Such Agency?,  , Define 'Contractor'.,  , ...]</td>\n    </tr>\n  </tbody>\n</table>\n</div>"
     },
     "metadata": {},
     "execution_count": 76
    }
   ],
   "source": [
    " # dropping rows with the index accessor if their name == 'br\n",
    " Messages.dataframe(3005).drop(Messages.dataframe(3005)[Messages.dataframe(3005).name == 'br'].index)"
   ]
  },
  {
   "cell_type": "code",
   "execution_count": 77,
   "metadata": {},
   "outputs": [
    {
     "output_type": "execute_result",
     "data": {
      "text/plain": [
       "['Durham.', 'Q']"
      ]
     },
     "metadata": {},
     "execution_count": 77
    }
   ],
   "source": [
    "[p.string for p in messages[1].div.contents if p.string is not None]"
   ]
  },
  {
   "cell_type": "code",
   "execution_count": 78,
   "metadata": {},
   "outputs": [
    {
     "output_type": "execute_result",
     "data": {
      "text/plain": [
       "True"
      ]
     },
     "metadata": {},
     "execution_count": 78
    }
   ],
   "source": [
    "messages[1].attrs == {'class': ['message']}"
   ]
  },
  {
   "cell_type": "code",
   "execution_count": 121,
   "metadata": {},
   "outputs": [
    {
     "output_type": "stream",
     "name": "stdout",
     "text": [
      "['https://in.reuters.com/article/iran-economy-rouhani-sanctions/iran-parliament-censures-rouhani-in-sign-pragmatists-losing-sway-idINKCN1LD0DL [Hassan Rouhani] Who paid HUSSEIN to attend HARVARD LAW SCHOOL?', 'Who is Prince Alwaleed bin Talal?', 'Why would Prince Alwaleed bin Talal (Saudi Royal) pay HUSSEIN to attend HARVARD LAW SCHOOL?', 'Was HUSSEIN a prominent political figure or a person of influence at the time?', 'No.', 'Who is Valerie Jarrett?', 'Where was she born?', 'When did Valerie Jarrett hire Michelle Robinson?', '1991 Timeline.', 'https://www.thisisinsider.com/how-did-barack-and-michelle-obama-meet-2017-10#1991-they-got-engaged-in-a-simple-and-sweet-way-3 Who is Mayor (former) Richard Daley?', 'Who is Mayor (current) Rahm Emanuel?', 'HUSSEIN should be VERY nervous.', 'BRENNAN should be VERY nervous.', 'KERRY should be VERY nervous.', 'MERKEL should be VERY nervous.', '+29 How were the pallets of cash divided?', 'How many planes were used to transport?', 'Who operated the planes?', \"What 'shadow' agency directed operations?\", \"Why wasn't the money [simply] wire transferred?\", 'US had AUTH to open bank-to-bank transfers.', 'How do you prevent financial T logs?', 'How were the cash withdrawals in EU categorized/labeled?', 'Where did the cash originate from?', 'What time of day did the withdrawals occur?', 'Who provided SECURITY?', \"Why wasn't Congress notified?\", \"Why was the U.S. Gov't kept in the DARK?\", 'US law broken?', 'Did ALL planes land in the same location (airport)?', 'Why did [1] particular plane land outside of Iran?', 'Why was a helicopter involved?', '[WHO] did the money go to?', 'HOW DO YOU AUDIT A FOREIGN AID BIG BLOCK TRANSFER?', \"Did Rouhani keep 'unknown' comms as insurance?\", 'What agency collects ALL FORMS OF DATA?', 'What agency did @Snowden work for orig?', 'Did he train on THE FARM?', 'When did @Snowden join No Such Agency?', \"Define 'Contractor'.\", \"Define the 'PRISM' program.\", 'What year did @Snowden release spec-details of PRISM?', 'Mid 2013?', \"IMPACT-LIMIT NSA's ability to utilize/collect?\", 'FAKE NEWS push for Congressional restrictions?', 'OPEN SOURCE PUSH to create COUNTER-DEF?', 'PURPOSE?', 'BLUE SKIES FOR CLOWN OP?', 'When was the Joint Plan of Action (IRAN DEAL) executed?', 'Late 2013?', 'Do you believe in coincidences?', 'Nothing to See Here.', 'Q']\n"
     ]
    }
   ],
   "source": [
    "if messages[3005].attrs == {'class': ['message']}:\n",
    "    for i in messages[3005]:\n",
    "        print(nltk.sent_tokenize(i.text))"
   ]
  },
  {
   "cell_type": "code",
   "execution_count": 122,
   "metadata": {},
   "outputs": [
    {
     "output_type": "execute_result",
     "data": {
      "text/plain": [
       "[]"
      ]
     },
     "metadata": {},
     "execution_count": 122
    }
   ],
   "source": [
    "Messages.get(3005)"
   ]
  },
  {
   "cell_type": "code",
   "execution_count": 127,
   "metadata": {},
   "outputs": [
    {
     "output_type": "execute_result",
     "data": {
      "text/plain": [
       "True"
      ]
     },
     "metadata": {},
     "execution_count": 127
    }
   ],
   "source": [
    "messages[3005].name == 'div' and messages[3005].attrs == {'class': ['message']}"
   ]
  },
  {
   "cell_type": "code",
   "execution_count": 128,
   "metadata": {},
   "outputs": [
    {
     "output_type": "execute_result",
     "data": {
      "text/plain": [
       "True"
      ]
     },
     "metadata": {},
     "execution_count": 128
    }
   ],
   "source": [
    "messages[0].name == 'div' and messages[0].attrs == {'class': ['message']}"
   ]
  },
  {
   "cell_type": "code",
   "execution_count": 143,
   "metadata": {},
   "outputs": [
    {
     "output_type": "execute_result",
     "data": {
      "text/plain": [
       "[{'class': ['text']}]"
      ]
     },
     "metadata": {},
     "execution_count": 143
    }
   ],
   "source": [
    "[i.attrs for i in messages[0].children]"
   ]
  },
  {
   "cell_type": "code",
   "execution_count": 79,
   "metadata": {},
   "outputs": [
    {
     "output_type": "execute_result",
     "data": {
      "text/plain": [
       "['For the coming days ahead Ask yourself an honest question why would a billionaire who has it all fame fortune a warm and loving family friends etc want to endanger himself and his family by becoming POTUS Why would he want to target himself and those he cares about Does he need money Does he need fame What does he get out of this Does he want to make the US world a better place for his family and for those good and decent people who have long been taken advantage of Perhaps he could not stomach the thought of mass murders occurring to satisfy Moloch Perhaps he could not stomach the thought of children being kidnapped drugged and raped while leaders law enforcement of the world turn a blind eye Perhaps he was tired of seeing how certain races countries were being constantly abused and kept in need poor and suffering all for a specific purpose Perhaps he could not in good conscious see the world burn Why hours after the election did seven people travel to an undisclosed location to hold a very private highly secured guarded meeting Why didn ’ t HRC give a concession speech When was the last time a presidential candidate didn ’ t personally give a concession speech What happens if the border remained open and the MSM continued to brainwash At what point do Patriots and hard working men and woman become the minority What about voting machines Who owns the voting machines What about voter ID laws Photo ID When is it necessary and must be presented Make a list Laugh Reconcile Would the chances of defeating evil grow less and less with each passing year What does ‘ red line ’ mean Why again were the arrests made in SA so very important What strings were immediately cut Follow the money When does a bird sing Q']"
      ]
     },
     "metadata": {},
     "execution_count": 79
    }
   ],
   "source": [
    "clean(4800)"
   ]
  },
  {
   "cell_type": "code",
   "execution_count": 45,
   "metadata": {},
   "outputs": [],
   "source": [
    "index_list = [i for i,e in enumerate(Messages.split(4800)) if e in replace_dict.keys()]"
   ]
  },
  {
   "cell_type": "code",
   "execution_count": 47,
   "metadata": {},
   "outputs": [
    {
     "output_type": "execute_result",
     "data": {
      "text/plain": [
       "['&', 'MSM', 'ID', 'SA']"
      ]
     },
     "metadata": {},
     "execution_count": 47
    }
   ],
   "source": [
    "[e for i,e in enumerate(Messages.split(4800)) if i in index_list]"
   ]
  },
  {
   "cell_type": "code",
   "execution_count": 50,
   "metadata": {},
   "outputs": [
    {
     "output_type": "execute_result",
     "data": {
      "text/plain": [
       "     number            datetime            name                 source\n",
       "953    4000 2020-04-29 00:58:18  Q !!Hs1Jq13jV6  8kun/qresearch8953725"
      ],
      "text/html": "<div>\n<style scoped>\n    .dataframe tbody tr th:only-of-type {\n        vertical-align: middle;\n    }\n\n    .dataframe tbody tr th {\n        vertical-align: top;\n    }\n\n    .dataframe thead th {\n        text-align: right;\n    }\n</style>\n<table border=\"1\" class=\"dataframe\">\n  <thead>\n    <tr style=\"text-align: right;\">\n      <th></th>\n      <th>number</th>\n      <th>datetime</th>\n      <th>name</th>\n      <th>source</th>\n    </tr>\n  </thead>\n  <tbody>\n    <tr>\n      <th>953</th>\n      <td>4000</td>\n      <td>2020-04-29 00:58:18</td>\n      <td>Q !!Hs1Jq13jV6</td>\n      <td>8kun/qresearch8953725</td>\n    </tr>\n  </tbody>\n</table>\n</div>"
     },
     "metadata": {},
     "execution_count": 50
    }
   ],
   "source": [
    "index_df[index_df.number == 4000]"
   ]
  },
  {
   "cell_type": "code",
   "execution_count": 144,
   "metadata": {},
   "outputs": [
    {
     "output_type": "execute_result",
     "data": {
      "text/plain": [
       "['FISA (ABCs) v INSCOM NOFORN NSA INSCOM BRIDGE FISA = FISC Who is accountable to Congress (civilian body)?',\n",
       " \"Define 'State Secrets'.\",\n",
       " 'Process of obtaining a FISA warrant?',\n",
       " 'What must be DEMONSTRATED to be GRANTED?',\n",
       " 'Who must SIGN OFF?',\n",
       " \"Can 'select' individuals in senior positions of power be SHADOW BANNED from ACTIVE FISA WARRANTS / SURV?\",\n",
       " 'NAT SEC Sufficient evidence shown to demonstrate rogue elements of intelligence apparatus illegally violated FISA law (tenets) in coordinated effort w/ d+foreign allies to impact/mod the outcome of the 2016 Presidential election & safeguard against future uncover / criminal prosecution?',\n",
       " 'Who must sign off on FISA warrants?',\n",
       " 'Who directs the signers?',\n",
       " 'Given magnitude of spy campaign (U.S. Presidential Election Republican Party Nominee Candidate + President Elect + President of the United States) would HUSSEIN be required to DIRECT ORDER?',\n",
       " 'How would updates occur?',\n",
       " 'PDB?',\n",
       " 'Who has access to the PDB?',\n",
       " 'On-site CLAS briefings / SIT ROOM / OO / PEOC / N_C?',\n",
       " 'How often does a President use PEOC?',\n",
       " \"'Foreign' tangent req to obtain warrant to spy on U.S. ORIG?\",\n",
       " \"Define 'Projection'.\",\n",
       " 'What is Known?',\n",
       " 'Connections (them) to Russia/other F assets?',\n",
       " 'Who commands INSCOM?',\n",
       " 'Who commands No Such Agency?',\n",
       " 'Who has ULTIMATE command?',\n",
       " 'Q']"
      ]
     },
     "metadata": {},
     "execution_count": 144
    }
   ],
   "source": [
    "[i for i in Messages.sents(3009) if not i.startswith('https')]"
   ]
  },
  {
   "cell_type": "code",
   "execution_count": 145,
   "metadata": {},
   "outputs": [
    {
     "output_type": "execute_result",
     "data": {
      "text/plain": [
       "True"
      ]
     },
     "metadata": {},
     "execution_count": 145
    }
   ],
   "source": [
    "'ID' in replace_dict.keys()"
   ]
  },
  {
   "cell_type": "code",
   "execution_count": 321,
   "metadata": {},
   "outputs": [
    {
     "output_type": "execute_result",
     "data": {
      "text/plain": [
       "{' w ': 'with',\n",
       " '&': 'and',\n",
       " 'AUTH': 'authorization',\n",
       " 'BRENNAN': 'John Brennan',\n",
       " 'COVID19': 'covid',\n",
       " 'D': 'Democrats',\n",
       " 'GOOG': 'Google',\n",
       " \"Gov't\": 'government',\n",
       " 'HUSSEIN': 'Barack Obama',\n",
       " 'ID': 'identification',\n",
       " 'KERRY': 'John Kerry',\n",
       " \"M's\": 'marshalls',\n",
       " 'MERKEL': 'Angela Merkel',\n",
       " 'MS-13': 'ms thirteen',\n",
       " 'MSM': 'mainstream media',\n",
       " 'No Such Agency': 'NSA',\n",
       " 'Russia>D': 'Russia Democrats',\n",
       " 'SA': 'Saudi Arabia',\n",
       " 'U S Gov t': 'United States government',\n",
       " 'U.S.': 'United States',\n",
       " 'US': 'United States',\n",
       " '[D]': 'Democratic',\n",
       " 'comms': 'communications',\n",
       " \"d's\": 'democrats',\n",
       " 'ds': 'democrats',\n",
       " 'financial T': 'financial transactions',\n",
       " 'r v d': 'republicans vs democrats',\n",
       " \"r's\": 'republicans',\n",
       " 'rs': 'republicans',\n",
       " 'v': 'versus',\n",
       " 'v2': 'version two',\n",
       " 'w/': 'with'}"
      ]
     },
     "metadata": {},
     "execution_count": 321
    }
   ],
   "source": [
    "# sorted dict by creating a dict comprehension\n",
    "{k:v for k,v in zip(sorted(replace_dict.keys()), [replace_dict.get(i) for i in sorted(replace_dict.keys())])}"
   ]
  },
  {
   "cell_type": "code",
   "execution_count": 146,
   "metadata": {},
   "outputs": [
    {
     "output_type": "execute_result",
     "data": {
      "text/plain": [
       "'>>146981635 Hillary Clinton will be arrested between 7:45 AM - 8:30 AM EST on Monday - the morning on Oct 30, 2017.'"
      ]
     },
     "metadata": {},
     "execution_count": 146
    }
   ],
   "source": [
    "messages[-1].find('div', class_='op').text"
   ]
  },
  {
   "cell_type": "code",
   "execution_count": 88,
   "metadata": {},
   "outputs": [
    {
     "output_type": "execute_result",
     "data": {
      "text/plain": [
       "[<div class=\"text\">Some of us come here to drop crumbs, just crumbs.<br/><abbr title=\"President of the United States\">POTUS</abbr> is 100% insulated - any discussion suggesting he’s even a target is false.<br/><abbr title=\"President of the United States\">POTUS</abbr> will not be addressing nation on any of these issues as people begin to be indicted and must remain neutral for pure optical reasons. To suggest this is the plan is false and should be common sense.<br/>Focus on Military Intellingence/ State Secrets and why might that be used vs any three letter agency <br/>What <abbr title=\"Supreme Court, Special Counsel\">SC</abbr> decision opened the door for a sitting President to activate - what must be showed?<br/>Why is <abbr title=\"President of the United States\">POTUS</abbr> surrounded by generals ^^<br/>Again, there are a lot more good people than bad so have faith. This was a hostile takeover from an evil corrupt network of players (not just Democrats).<br/>Don’t fool yourself into thinking Obama, Soros, Roth’s, Clinton’s etc have more power present day than <abbr title=\"President of the United States\">POTUS</abbr>. <br/>Operation Mockingbird <br/>Patriots are in control. Sit back and enjoy the show.</div>]"
      ]
     },
     "metadata": {},
     "execution_count": 88
    }
   ],
   "source": [
    "messages[-4].contents"
   ]
  },
  {
   "cell_type": "code",
   "execution_count": 179,
   "metadata": {},
   "outputs": [
    {
     "output_type": "execute_result",
     "data": {
      "text/plain": [
       "['Justice K >>> Highest Court in the Land.',\n",
       " 'Law & Order [majority] [U.S. Constitution] safeguarded. ',\n",
       " 'IT WAS OUR LAST CHANCE TO SAVE IT [Non-Force]',\n",
       " 'Now comes the real PAIN.',\n",
       " 'Now comes the real TRUTH.',\n",
       " 'BOOM',\n",
       " '\\u2002\\u2002\\u2002\\u2002\\u2002\\u2002\\u2002\\u2002BOOM',\n",
       " '\\u2002\\u2002\\u2002\\u2002\\u2002\\u2002\\u2002\\u2002\\u2002\\u2002\\u2002\\u2002\\u2002\\u2002\\u2002\\u2002BOOM',\n",
       " '\\u2002\\u2002\\u2002\\u2002\\u2002\\u2002\\u2002\\u2002\\u2002\\u2002\\u2002\\u2002\\u2002\\u2002\\u2002\\u2002\\u2002\\u2002\\u2002\\u2002\\u2002\\u2002\\u2002\\u2002BOOM',\n",
       " 'They want you DIVIDED.',\n",
       " 'DIVIDED by RACE.',\n",
       " 'DIVIDED by RELIGION.',\n",
       " 'DIVIDED by CULTURE.',\n",
       " 'DIVIDED by CLASS.',\n",
       " 'DIVIDED by POLITICAL AFFILIATION. ',\n",
       " 'DIVIDED YOU ARE WEAK.',\n",
       " 'TOGETHER YOU ARE STRONG.',\n",
       " 'This movement challenges their ‘forced’ narrative. ',\n",
       " 'This movement challenges people to not simply trust what is being reported.',\n",
       " 'Research for yourself.',\n",
       " 'Think for yourself.',\n",
       " 'Trust yourself.',\n",
       " 'This movement is not about one person or a group of people.',\n",
       " 'WE, the PEOPLE.',\n",
       " 'Save the Republic!',\n",
       " 'Hatred and Dissension in the Nation will Heal.',\n",
       " 'WHERE WE GO ONE, WE GO ALL.',\n",
       " 'Q']"
      ]
     },
     "metadata": {},
     "execution_count": 179
    }
   ],
   "source": [
    "Messages.get(2601)"
   ]
  },
  {
   "cell_type": "code",
   "execution_count": 180,
   "metadata": {},
   "outputs": [
    {
     "output_type": "execute_result",
     "data": {
      "text/plain": [
       "['WELCOME TO THE DEMOCRAT PARTY',\n",
       " 'The Party of threats violence intimidation name calling racism fascism division …',\n",
       " 'WALKAWAY',\n",
       " 'VOTEREPUBLICAN',\n",
       " 'Q']"
      ]
     },
     "metadata": {},
     "execution_count": 180
    }
   ],
   "source": [
    "clean(2600)"
   ]
  },
  {
   "cell_type": "code",
   "execution_count": 150,
   "metadata": {},
   "outputs": [
    {
     "output_type": "execute_result",
     "data": {
      "text/plain": [
       "['Shall we play a gameNothing Can Stop What Is ComingNCSWIChttps wwwcisagov safecom NCSWICWho stepped down today forcedhttps wwwcisagov bryan s wareMore comingWhy is this relevantHow do you show the public the truthHow do you safeguard US elections post POTUSHow do you remove foreign interference and corruption and install US owned voter ID laws and other safeguards It had to be this waySometimes you must walk through the darkness before you see the light Q']"
      ]
     },
     "metadata": {},
     "execution_count": 150
    }
   ],
   "source": [
    "clean(2)"
   ]
  },
  {
   "cell_type": "code",
   "execution_count": 461,
   "metadata": {},
   "outputs": [
    {
     "output_type": "execute_result",
     "data": {
      "text/plain": [
       "['WELCOME TO THE DEMOCRAT PARTY.',\n",
       " 'The Party of threats, violence, intimidation, name-calling, racism, fascism, division, …..',\n",
       " '#WALKAWAY',\n",
       " '#VOTEREPUBLICAN',\n",
       " 'Q']"
      ]
     },
     "metadata": {},
     "execution_count": 461
    }
   ],
   "source": [
    "[i.string for i in messages[2600]]"
   ]
  },
  {
   "cell_type": "code",
   "execution_count": 181,
   "metadata": {},
   "outputs": [
    {
     "output_type": "execute_result",
     "data": {
      "text/plain": [
       "[\"Shall we play a game?[N]othing [C]an [S]top [W]hat [I]s [C]omingNCSWIChttps://www.cisa.gov/safecom/NCSWICWho stepped down today [forced]?https://www.cisa.gov/bryan-s-wareMore coming?Why is this relevant?How do you 'show' the public the truth?How do you 'safeguard' US elections post-POTUS?How do you 'remove' foreign interference and corruption and install US-owned voter ID law(s) and other safeguards? It had to be this way.Sometimes you must walk through the darkness before you see the light. Q\"]"
      ]
     },
     "metadata": {},
     "execution_count": 181
    }
   ],
   "source": [
    "Messages.get(2)"
   ]
  },
  {
   "cell_type": "code",
   "execution_count": 182,
   "metadata": {},
   "outputs": [
    {
     "output_type": "execute_result",
     "data": {
      "text/plain": [
       "['Durham.', 'Q']"
      ]
     },
     "metadata": {},
     "execution_count": 182
    }
   ],
   "source": [
    "[i.text for i in messages[1].div.contents]"
   ]
  },
  {
   "cell_type": "code",
   "execution_count": 100,
   "metadata": {},
   "outputs": [
    {
     "output_type": "execute_result",
     "data": {
      "text/plain": [
       "[None, 'Q']"
      ]
     },
     "metadata": {},
     "execution_count": 100
    }
   ],
   "source": [
    "[p.string for p in messages[0].div.contents]"
   ]
  },
  {
   "cell_type": "code",
   "execution_count": 102,
   "metadata": {},
   "outputs": [
    {
     "output_type": "execute_result",
     "data": {
      "text/plain": [
       "4"
      ]
     },
     "metadata": {},
     "execution_count": 102
    }
   ],
   "source": [
    "len(messages[4].div.contents)"
   ]
  },
  {
   "cell_type": "code",
   "execution_count": 103,
   "metadata": {},
   "outputs": [
    {
     "output_type": "execute_result",
     "data": {
      "text/plain": [
       "['Shall we play a game?',\n",
       " '[N]othing [C]an [S]top [W]hat [I]s [C]oming',\n",
       " 'NCSWIC',\n",
       " 'Who stepped down today [forced]?',\n",
       " 'More coming?',\n",
       " 'Why is this relevant?',\n",
       " \"How do you 'show' the public the truth?\",\n",
       " \"How do you 'safeguard' US elections post-POTUS?\",\n",
       " \"How do you 'remove' foreign interference and corruption and install US-owned voter ID law(s) and other safeguards? \",\n",
       " 'It had to be this way.',\n",
       " 'Sometimes you must walk through the darkness before you see the light. ',\n",
       " 'Q']"
      ]
     },
     "metadata": {},
     "execution_count": 103
    }
   ],
   "source": [
    "[p.string for p in messages[2].div.contents if p.string is not None]"
   ]
  },
  {
   "cell_type": "code",
   "execution_count": 571,
   "metadata": {},
   "outputs": [
    {
     "output_type": "execute_result",
     "data": {
      "text/plain": [
       "[<div class=\"images\"><figure><figcaption>78c1a07f-8252-4e76-bb81-8bbd003aae79.jpg</figcaption></figure><figure><figcaption>Whidbey-Island-missile-Mystery-streak-of-light-is-spotted-over-Whidbey.jpg</figcaption></figure></div>,\n",
       " <p><div class=\"op\" id=\"op972\"><div class=\"images\"><figure><figcaption>DVx_4xgVoAAYvkH.jpg</figcaption></figure></div><p>&gt;&gt;343</p><p></p><p>And so it begins..</p><p>How do you start a WAR?</p><p>[Markers] matter.</p><p>Playbook [FAIL].</p><p>Q</p></div></p>,\n",
       " <p>Post Justice K confirmation.</p>,\n",
       " <p>RUSSIA RUSSIA RUSSIA</p>,\n",
       " <p>Think <abbr title=\"United Kingdom\">UK</abbr> / <abbr title=\"Australia\">AUS</abbr> &gt;&gt; RUSSIA RUSSIA RUSSIA</p>,\n",
       " <p>DEFLECT DECLAS </p>,\n",
       " <p>DEFLECT BLAME</p>,\n",
       " <p>[FOCUS RUSSIA &gt;&gt;&gt; GLOBAL ENEMY]</p>,\n",
       " <p>\"The Hunt For\" dropped - why?</p>,\n",
       " <p>When was the unauthorized missile fired?</p>,\n",
       " <p>Was it found/discovered prior to [Hunt]?</p>,\n",
       " <p>RUSSIA SUB THREAT PUSH?</p>,\n",
       " <p>RED_OCTOBER</p>,\n",
       " <p>Double meanings exist.</p>,\n",
       " <p>……………..</p>,\n",
       " <p>Q</p>]"
      ]
     },
     "metadata": {},
     "execution_count": 571
    }
   ],
   "source": [
    "[i for i in messages[2603].contents]"
   ]
  },
  {
   "cell_type": "code",
   "execution_count": 540,
   "metadata": {},
   "outputs": [
    {
     "output_type": "execute_result",
     "data": {
      "text/plain": [
       "['Look HERE [RUSSIA]',\n",
       " 'DO NOT LOOK HERE [CHINA]',\n",
       " 'https://www.youtube.com/watch?v=aeVrMniBjSc',\n",
       " 'Worth 43 minutes of your time.',\n",
       " 'FAKE NEWS WILL NEVER REPORT.',\n",
       " 'Important to understand going forward.',\n",
       " 'FACTS MATTER.',\n",
       " 'Q']"
      ]
     },
     "metadata": {},
     "execution_count": 540
    }
   ],
   "source": [
    "[i.text for i in messages[2602].contents]"
   ]
  },
  {
   "cell_type": "code",
   "execution_count": 104,
   "metadata": {},
   "outputs": [
    {
     "output_type": "execute_result",
     "data": {
      "text/plain": [
       "('div', {'class': ['message']})"
      ]
     },
     "metadata": {},
     "execution_count": 104
    }
   ],
   "source": [
    "messages[2602].name, messages[2602].attrs"
   ]
  },
  {
   "cell_type": "code",
   "execution_count": 105,
   "metadata": {},
   "outputs": [
    {
     "output_type": "execute_result",
     "data": {
      "text/plain": [
       "{'class': ['text']}"
      ]
     },
     "metadata": {},
     "execution_count": 105
    }
   ],
   "source": [
    "messages[-1].contents[0].attrs"
   ]
  },
  {
   "cell_type": "code",
   "execution_count": 106,
   "metadata": {},
   "outputs": [
    {
     "output_type": "execute_result",
     "data": {
      "text/plain": [
       "['Post Justice K confirmation.',\n",
       " 'RUSSIA RUSSIA RUSSIA',\n",
       " 'DEFLECT DECLAS ',\n",
       " 'DEFLECT BLAME',\n",
       " '[FOCUS RUSSIA >>> GLOBAL ENEMY]',\n",
       " '\"The Hunt For\" dropped - why?',\n",
       " 'When was the unauthorized missile fired?',\n",
       " 'Was it found/discovered prior to [Hunt]?',\n",
       " 'RUSSIA SUB THREAT PUSH?',\n",
       " 'RED_OCTOBER',\n",
       " 'Double meanings exist.',\n",
       " '……………..',\n",
       " 'Q']"
      ]
     },
     "metadata": {},
     "execution_count": 106
    }
   ],
   "source": [
    "Messages.get(2603)"
   ]
  },
  {
   "cell_type": "code",
   "execution_count": 593,
   "metadata": {},
   "outputs": [
    {
     "output_type": "execute_result",
     "data": {
      "text/plain": [
       "['>>343',\n",
       " '',\n",
       " 'And so it begins..',\n",
       " 'How do you start a WAR?',\n",
       " '[Markers] matter.',\n",
       " 'Playbook [FAIL].',\n",
       " 'Q']"
      ]
     },
     "metadata": {},
     "execution_count": 593
    }
   ],
   "source": [
    "[i.text for i in messages[2603].find('div').contents]"
   ]
  },
  {
   "cell_type": "code",
   "execution_count": 107,
   "metadata": {},
   "outputs": [
    {
     "output_type": "execute_result",
     "data": {
      "text/plain": [
       "{'id': 'op972', 'class': ['op']}"
      ]
     },
     "metadata": {},
     "execution_count": 107
    }
   ],
   "source": [
    "messages[2603].find('div').attrs"
   ]
  },
  {
   "cell_type": "code",
   "execution_count": 218,
   "metadata": {},
   "outputs": [
    {
     "output_type": "stream",
     "name": "stdout",
     "text": [
      ">>343\nhttps://twitter.com/CNNPolitics/status/1048324715469783040\nAnd so it begins..\nHow do you start a WAR?\n[Markers] matter.\nPlaybook [FAIL].\nQ\nPost Justice K confirmation.\nRUSSIA RUSSIA RUSSIA\nDEFLECT DECLAS \nDEFLECT BLAME\n[FOCUS RUSSIA >>> GLOBAL ENEMY]\n\"The Hunt For\" dropped - why?\nWhen was the unauthorized missile fired?\nWas it found/discovered prior to [Hunt]?\nRUSSIA SUB THREAT PUSH?\nRED_OCTOBER\nDouble meanings exist.\n……………..\nQ\n"
     ]
    }
   ],
   "source": [
    "# this loop gets both the div op contents and the contents of the message which aren't in div op\n",
    "if messages[2603].attrs == {'class': ['message']}:\n",
    "    for p in messages[2603].contents:\n",
    "        for div_op in p.findAll('div', class_='op'):\n",
    "            for item in div_op.contents:\n",
    "                print(item.string)\n",
    "        if p.string is not None:\n",
    "            print(p.string)"
   ]
  },
  {
   "cell_type": "code",
   "execution_count": 109,
   "metadata": {},
   "outputs": [
    {
     "output_type": "execute_result",
     "data": {
      "text/plain": [
       "<div class=\"op\" id=\"op972\"><p>&gt;&gt;343</p><p><a href=\"https://twitter.com/CNNPolitics/status/1048324715469783040\" rel=\"nofollow\" target=\"_blank\">https://twitter.com/CNNPolitics/status/1048324715469783040</a></p><p>And so it begins..</p><p>How do you start a WAR?</p><p>[Markers] matter.</p><p>Playbook [FAIL].</p><p>Q</p></div>"
      ]
     },
     "metadata": {},
     "execution_count": 109
    }
   ],
   "source": [
    "messages[2603].find('div', class_=['op'])"
   ]
  },
  {
   "cell_type": "code",
   "execution_count": 608,
   "metadata": {},
   "outputs": [
    {
     "output_type": "execute_result",
     "data": {
      "text/plain": [
       "True"
      ]
     },
     "metadata": {},
     "execution_count": 608
    }
   ],
   "source": [
    "# if messages[i].attrs == {'class': ['op']}\n",
    "messages[2603].attrs == {'class': ['op']}"
   ]
  },
  {
   "cell_type": "code",
   "execution_count": 111,
   "metadata": {},
   "outputs": [
    {
     "output_type": "execute_result",
     "data": {
      "text/plain": [
       "['>>343',\n",
       " 'https://twitter.com/CNNPolitics/status/1048324715469783040',\n",
       " 'And so it begins..',\n",
       " 'How do you start a WAR?',\n",
       " '[Markers] matter.',\n",
       " 'Playbook [FAIL].',\n",
       " 'Q']"
      ]
     },
     "metadata": {},
     "execution_count": 111
    }
   ],
   "source": [
    "[p.string for p in messages[2603].p.div.contents]"
   ]
  },
  {
   "cell_type": "code",
   "execution_count": 221,
   "metadata": {},
   "outputs": [
    {
     "output_type": "stream",
     "name": "stdout",
     "text": [
      "Justice K >>> Highest Court in the Land.\nLaw & Order [majority] [U.S. Constitution] safeguarded. \nIT WAS OUR LAST CHANCE TO SAVE IT [Non-Force]\nhttps://www.youtube.com/watch?v=G2qIXXafxCQ\nNow comes the real PAIN.\nNow comes the real TRUTH.\nBOOM\n        BOOM\n                BOOM\n                        BOOM\nThey want you DIVIDED.\nDIVIDED by RACE.\nDIVIDED by RELIGION.\nDIVIDED by CULTURE.\nDIVIDED by CLASS.\nDIVIDED by POLITICAL AFFILIATION. \nDIVIDED YOU ARE WEAK.\nTOGETHER YOU ARE STRONG.\nThis movement challenges their ‘forced’ narrative. \nThis movement challenges people to not simply trust what is being reported.\nResearch for yourself.\nThink for yourself.\nTrust yourself.\nThis movement is not about one person or a group of people.\nWE, the PEOPLE.\nSave the Republic!\nHatred and Dissension in the Nation will Heal.\nWHERE WE GO ONE, WE GO ALL.\nQ\n"
     ]
    }
   ],
   "source": [
    "if messages[2601].attrs == {'class': ['message']}:\n",
    "    for p in messages[2601].contents:\n",
    "        for div_op in p.findAll('div', class_='op'):\n",
    "            for item in div_op.contents:\n",
    "                print(item.string)\n",
    "        if p.string is not None:\n",
    "            print(p.string)"
   ]
  },
  {
   "cell_type": "code",
   "execution_count": 222,
   "metadata": {},
   "outputs": [
    {
     "output_type": "execute_result",
     "data": {
      "text/plain": [
       "      number            datetime            name         source\n",
       "2352    2601 2018-12-12 22:22:57  Q !!mG7VJxZNCI  8ch/qresearch"
      ],
      "text/html": "<div>\n<style scoped>\n    .dataframe tbody tr th:only-of-type {\n        vertical-align: middle;\n    }\n\n    .dataframe tbody tr th {\n        vertical-align: top;\n    }\n\n    .dataframe thead th {\n        text-align: right;\n    }\n</style>\n<table border=\"1\" class=\"dataframe\">\n  <thead>\n    <tr style=\"text-align: right;\">\n      <th></th>\n      <th>number</th>\n      <th>datetime</th>\n      <th>name</th>\n      <th>source</th>\n    </tr>\n  </thead>\n  <tbody>\n    <tr>\n      <th>2352</th>\n      <td>2601</td>\n      <td>2018-12-12 22:22:57</td>\n      <td>Q !!mG7VJxZNCI</td>\n      <td>8ch/qresearch</td>\n    </tr>\n  </tbody>\n</table>\n</div>"
     },
     "metadata": {},
     "execution_count": 222
    }
   ],
   "source": [
    "Messages.info(2601)"
   ]
  },
  {
   "cell_type": "code",
   "execution_count": 301,
   "metadata": {},
   "outputs": [],
   "source": [
    "def alt_get(integer: int):\n",
    "    inner = []\n",
    "    if messages[integer].attrs == {'class': ['message']}:\n",
    "        for p in messages[integer].contents:\n",
    "            for div_op in p.findAll('div', class_='op'):\n",
    "                for item in div_op.contents:\n",
    "                    inner.append(item.string)\n",
    "            if p.string is not None:\n",
    "                inner.append(p.string)\n",
    "\n",
    "    if messages[integer].name == 'div' and messages[integer].next_element.attrs == {'class': ['text']}:\n",
    "        for p_tag in messages[integer].div.findAll('p'):\n",
    "            if p_tag.string is not None:\n",
    "                inner.append(p_tag.string)\n",
    "    \n",
    "    if messages[integer].next_element.attrs == {'class': ['text']}:\n",
    "        if 'p' not in [i.name for i in messages[integer].next_element.children]:\n",
    "            inner.append(messages[integer].text)\n",
    "\n",
    "    return inner"
   ]
  },
  {
   "cell_type": "code",
   "execution_count": 307,
   "metadata": {},
   "outputs": [
    {
     "output_type": "execute_result",
     "data": {
      "text/plain": [
       "['div', None, 'abbr', None, 'abbr', None, 'abbr', None]"
      ]
     },
     "metadata": {},
     "execution_count": 307
    }
   ],
   "source": [
    "[i.name for i in messages[-1].next_element.children]"
   ]
  },
  {
   "cell_type": "code",
   "execution_count": 303,
   "metadata": {},
   "outputs": [
    {
     "output_type": "execute_result",
     "data": {
      "text/plain": [
       "['>>146981635',\n",
       " ' ',\n",
       " 'Hillary Clinton will be arrested between 7:45 AM - 8:30 AM EST on Monday - the morning on Oct 30, 2017.',\n",
       " '>>146981635 Hillary Clinton will be arrested between 7:45 AM - 8:30 AM EST on Monday - the morning on Oct 30, 2017. HRC extradition already in motion effective yesterday with several countries in case of cross border run. Passport approved to be flagged effective 10/30 @ 12:01am. Expect massive riots organized in defiance and others fleeing the US to occur. US M’s will conduct the operation while NG activated. Proof check: Locate a NG member and ask if activated for duty 10/30 across most major cities.']"
      ]
     },
     "metadata": {},
     "execution_count": 303
    }
   ],
   "source": [
    "alt_get(-1)"
   ]
  },
  {
   "cell_type": "code",
   "execution_count": 302,
   "metadata": {},
   "outputs": [
    {
     "output_type": "execute_result",
     "data": {
      "text/plain": [
       "['Justice K >>> Highest Court in the Land.',\n",
       " 'Law & Order [majority] [U.S. Constitution] safeguarded. ',\n",
       " 'IT WAS OUR LAST CHANCE TO SAVE IT [Non-Force]',\n",
       " 'https://www.youtube.com/watch?v=G2qIXXafxCQ',\n",
       " 'Now comes the real PAIN.',\n",
       " 'Now comes the real TRUTH.',\n",
       " 'BOOM',\n",
       " '\\u2002\\u2002\\u2002\\u2002\\u2002\\u2002\\u2002\\u2002BOOM',\n",
       " '\\u2002\\u2002\\u2002\\u2002\\u2002\\u2002\\u2002\\u2002\\u2002\\u2002\\u2002\\u2002\\u2002\\u2002\\u2002\\u2002BOOM',\n",
       " '\\u2002\\u2002\\u2002\\u2002\\u2002\\u2002\\u2002\\u2002\\u2002\\u2002\\u2002\\u2002\\u2002\\u2002\\u2002\\u2002\\u2002\\u2002\\u2002\\u2002\\u2002\\u2002\\u2002\\u2002BOOM',\n",
       " 'They want you DIVIDED.',\n",
       " 'DIVIDED by RACE.',\n",
       " 'DIVIDED by RELIGION.',\n",
       " 'DIVIDED by CULTURE.',\n",
       " 'DIVIDED by CLASS.',\n",
       " 'DIVIDED by POLITICAL AFFILIATION. ',\n",
       " 'DIVIDED YOU ARE WEAK.',\n",
       " 'TOGETHER YOU ARE STRONG.',\n",
       " 'This movement challenges their ‘forced’ narrative. ',\n",
       " 'This movement challenges people to not simply trust what is being reported.',\n",
       " 'Research for yourself.',\n",
       " 'Think for yourself.',\n",
       " 'Trust yourself.',\n",
       " 'This movement is not about one person or a group of people.',\n",
       " 'WE, the PEOPLE.',\n",
       " 'Save the Republic!',\n",
       " 'Hatred and Dissension in the Nation will Heal.',\n",
       " 'WHERE WE GO ONE, WE GO ALL.',\n",
       " 'Q']"
      ]
     },
     "metadata": {},
     "execution_count": 302
    }
   ],
   "source": [
    "alt_get(2601)"
   ]
  },
  {
   "cell_type": "code",
   "execution_count": 250,
   "metadata": {},
   "outputs": [
    {
     "output_type": "execute_result",
     "data": {
      "text/plain": [
       "True"
      ]
     },
     "metadata": {},
     "execution_count": 250
    }
   ],
   "source": [
    "messages[2].name == 'div' and messages[2].next_element.attrs == {'class': ['text']}"
   ]
  },
  {
   "cell_type": "code",
   "execution_count": 269,
   "metadata": {},
   "outputs": [
    {
     "output_type": "execute_result",
     "data": {
      "text/plain": [
       "[' ',\n",
       " 'HRC',\n",
       " ' extradition already in motion effective yesterday with several countries in case of cross border run. Passport approved to be flagged effective 10/30 @ 12:01am. Expect massive riots organized in defiance and others fleeing the US to occur. US M’s will conduct the operation while ',\n",
       " 'NG',\n",
       " ' activated. Proof check: Locate a ',\n",
       " 'NG',\n",
       " ' member and ask if activated for duty 10/30 across most major cities.']"
      ]
     },
     "metadata": {},
     "execution_count": 269
    }
   ],
   "source": [
    "[p.string for p in messages[-1].div if p.string is not None]"
   ]
  },
  {
   "cell_type": "code",
   "execution_count": 277,
   "metadata": {},
   "outputs": [
    {
     "output_type": "execute_result",
     "data": {
      "text/plain": [
       "False"
      ]
     },
     "metadata": {},
     "execution_count": 277
    }
   ],
   "source": [
    "'p' in [i.name for i in messages[-1].next_element.children]"
   ]
  },
  {
   "cell_type": "code",
   "execution_count": 310,
   "metadata": {},
   "outputs": [],
   "source": [
    "if messages[2600].next_element.attrs == {'class': ['text']}:\n",
    "    if 'p' in [i.name for i in messages[-1].next_element.children]:\n",
    "        print(messages[-1].text)\n",
    "    if 'p' not in [i.name for i in messages[-1].next_element.children]:\n",
    "        print(messages[-1].text)"
   ]
  },
  {
   "cell_type": "code",
   "execution_count": 331,
   "metadata": {},
   "outputs": [
    {
     "output_type": "stream",
     "name": "stdout",
     "text": [
      "WELCOME TO THE DEMOCRAT PARTY.\nThe Party of threats, violence, intimidation, name-calling, racism, fascism, division, …..\n#WALKAWAY\n#VOTEREPUBLICAN\nQ\n"
     ]
    }
   ],
   "source": [
    "if messages[2600].attrs == {'class': ['message']}:\n",
    "    if 'p' in [i.name for i in messages[2600].children]:\n",
    "        for p_tag in messages[2600].findAll('p'):\n",
    "            print(p_tag.string)"
   ]
  }
 ],
 "metadata": {
  "kernelspec": {
   "name": "python3",
   "display_name": "Python 3.9.2 64-bit",
   "metadata": {
    "interpreter": {
     "hash": "aee8b7b246df8f9039afb4144a1f6fd8d2ca17a180786b69acc140d282b71a49"
    }
   }
  },
  "language_info": {
   "codemirror_mode": {
    "name": "ipython",
    "version": 3
   },
   "file_extension": ".py",
   "mimetype": "text/x-python",
   "name": "python",
   "nbconvert_exporter": "python",
   "pygments_lexer": "ipython3",
   "version": "3.9.2-final"
  }
 },
 "nbformat": 4,
 "nbformat_minor": 5
}