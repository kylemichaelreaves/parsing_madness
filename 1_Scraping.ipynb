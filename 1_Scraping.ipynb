{
 "cells": [
  {
   "cell_type": "markdown",
   "id": "statistical-suffering",
   "metadata": {},
   "source": [
    "# 1. Scraping qdrops.online with BeautifulSoup and parsing its content\n",
    "## 1.1 capturing\n",
    "the text we want is contained within this tag hiearcharchy: \n",
    "- div message -> text -> string if not None & p \n",
    "- div message -> div op -> string \n",
    "- div message -> abbr title, abbr.text\n",
    "- meta lar -> span: time, name, source, num\n",
    "\n",
    "### prematurely calling text or get_text() on div_text will render unnecessary text, text we'd later have to clean\n",
    "\n",
    "### tags to extract():\n",
    "- hyperlinks: https?\\S+\\b, www, twitter, instagram, etc (inevitably will have to regex)\n",
    "- a href\n",
    "- figure\n",
    "- figcaption\n",
    "- images\n",
    "- div op containing no text or string\n",
    "- replace punct with a single space, then replace spaces longer than 1 space with a single space\n",
    "- it also might make things easier tokenizing them before hand\n",
    "### cleaning \n",
    "- sub hyperlinks\n",
    "- lower text\n",
    "- split text \n",
    "- sub punctuation\n",
    "- sub digits \n",
    "- join split words back into string\n",
    "- append strings to list if strings \n",
    "- return list of cleaned strings \n",
    "## Recurring Problems\n",
    "### inconsistent tag use: br, p, text, abbr \n",
    "- many more tags could have been abbreviated or propertied with its value\n",
    "- pickling exceeds maximum recursion; solved by sys.get and set a higher recursion limit\n",
    "- runtime of requests is > 1 min: solved by loading the pickled object\n",
    "- unwanted text from hyperlinks, figcaptions, etc; solved by using BeautifulSoup extract() on unwanted objects"
   ]
  },
  {
   "cell_type": "code",
   "execution_count": 1,
   "id": "ready-layer",
   "metadata": {},
   "outputs": [],
   "source": [
    "import requests\n",
    "import nltk\n",
    "import os, sys\n",
    "import itertools\n",
    "import re, string\n",
    "import pandas as pd\n",
    "import pickle\n",
    "import timeit\n",
    "\n",
    "from string import punctuation, digits\n",
    "from collections import Counter\n",
    "from bs4 import BeautifulSoup, NavigableString, Tag\n",
    "from string import punctuation, digits\n",
    "from nltk.stem import WordNetLemmatizer\n",
    "from nltk.corpus import stopwords\n",
    "from nltk.cluster.util import cosine_distance\n",
    "from nltk import RegexpParser, Tree\n",
    "from nltk.util import ngrams\n",
    "\n",
    "punctuation += str('’‘–…“”')\n",
    "pd.set_option('display.max_colwidth', None)"
   ]
  },
  {
   "cell_type": "code",
   "execution_count": 3,
   "metadata": {},
   "outputs": [
    {
     "output_type": "execute_result",
     "data": {
      "text/plain": [
       "'/Users/kylereaves/Documents/GitHub/parsing_madness'"
      ]
     },
     "metadata": {},
     "execution_count": 3
    }
   ],
   "source": [
    "os.getcwd()"
   ]
  },
  {
   "cell_type": "code",
   "execution_count": 144,
   "metadata": {},
   "outputs": [],
   "source": [
    "index_df = pd.read_pickle('index_df.pkl')\n",
    "date = [index_df.datetime[i].date() for i in range(0, len(index_df.datetime))]\n",
    "time = [index_df.datetime[i].time() for i in range(0, len(index_df.datetime))]"
   ]
  },
  {
   "cell_type": "code",
   "execution_count": 181,
   "metadata": {},
   "outputs": [
    {
     "output_type": "execute_result",
     "data": {
      "text/plain": [
       "MultiIndex([('2020-12-08', 22:05:50),\n",
       "            ('2020-11-13', 05:20:55),\n",
       "            ('2020-11-13', 03:20:17),\n",
       "            ('2020-11-13', 02:32:39),\n",
       "            ('2020-11-03', 06:27:36),\n",
       "            ('2020-11-02', 22:48:50),\n",
       "            ('2020-10-31', 22:50:51),\n",
       "            ('2020-10-31', 22:49:26),\n",
       "            ('2020-10-31', 22:46:48),\n",
       "            ('2020-10-31', 22:44:04),\n",
       "            ...\n",
       "            ('2017-10-30', 02:57:27),\n",
       "            ('2017-10-30', 02:30:26),\n",
       "            ('2017-10-30', 02:18:17),\n",
       "            ('2017-10-30', 01:58:37),\n",
       "            ('2017-10-30', 01:48:50),\n",
       "            ('2017-10-29', 16:47:18),\n",
       "            ('2017-10-29', 16:11:40),\n",
       "            ('2017-10-29', 15:47:07),\n",
       "            ('2017-10-28', 22:15:48),\n",
       "            ('2017-10-28', 20:44:28)],\n",
       "           length=4953)"
      ]
     },
     "metadata": {},
     "execution_count": 181
    }
   ],
   "source": [
    "pd.MultiIndex.from_arrays([date, time])"
   ]
  },
  {
   "source": [
    "We don't have to execute the following cell, we can skip to opening the pickled object"
   ],
   "cell_type": "markdown",
   "metadata": {}
  },
  {
   "cell_type": "code",
   "execution_count": 3,
   "metadata": {},
   "outputs": [
    {
     "output_type": "execute_result",
     "data": {
      "text/plain": [
       "\"%%time\\nbase_url = 'https://qposts.online/page/' \\nurls = [base_url+str(i) for i in range(1, 105)]\\npage_requests = [requests.get(url) for url in urls]\\nsoups = [BeautifulSoup(page.text, 'html.parser') for page in page_requests]\\nmessages_original = [soups[i].findAll('div', 'message') for i in range(0, len(soups))]\\nmessages_flat = list(itertools.chain.from_iterable(messages))\\nmeta_lar = [soups[i].findAll('div', 'meta lar') for i in range(0, len(soups))]\""
      ]
     },
     "metadata": {},
     "execution_count": 3
    }
   ],
   "source": [
    "'''%%time\n",
    "base_url = 'https://qposts.online/page/' \n",
    "urls = [base_url+str(i) for i in range(1, 105)]\n",
    "page_requests = [requests.get(url) for url in urls]\n",
    "soups = [BeautifulSoup(page.text, 'html.parser') for page in page_requests]\n",
    "messages_original = [soups[i].findAll('div', 'message') for i in range(0, len(soups))]\n",
    "messages_flat = list(itertools.chain.from_iterable(messages))\n",
    "meta_lar = [soups[i].findAll('div', 'meta lar') for i in range(0, len(soups))]'''"
   ]
  },
  {
   "cell_type": "code",
   "execution_count": 4,
   "metadata": {},
   "outputs": [
    {
     "output_type": "stream",
     "name": "stdout",
     "text": [
      "CPU times: user 12.2 s, sys: 400 ms, total: 12.6 s\nWall time: 12.7 s\n"
     ]
    }
   ],
   "source": [
    "%%time \n",
    "with open('messages_flat.pkl', 'rb') as f:\n",
    "    messages = pickle.load(f)\n",
    "with open('meta_flat.pkl', 'rb') as f:\n",
    "    meta_lar = pickle.load(f)"
   ]
  },
  {
   "cell_type": "code",
   "execution_count": 5,
   "metadata": {},
   "outputs": [
    {
     "output_type": "stream",
     "name": "stdout",
     "text": [
      "CPU times: user 1.88 ms, sys: 1.08 ms, total: 2.96 ms\nWall time: 2.5 ms\n"
     ]
    }
   ],
   "source": [
    "%%time\n",
    "with open('names_joined.pkl', 'rb') as f:\n",
    "    names = pickle.load(f)\n",
    "with open('sources_joined.pkl', 'rb') as f:\n",
    "    sources = pickle.load(f)"
   ]
  },
  {
   "cell_type": "code",
   "execution_count": 6,
   "metadata": {},
   "outputs": [],
   "source": [
    "class Messages(object):\n",
    "    def __init__(self):\n",
    "        pass\n",
    "\n",
    "    def get(integer: int):\n",
    "        msg_list = []\n",
    "        for item in messages[integer]:\n",
    "            \n",
    "            if isinstance(item, NavigableString) and item.name is None:\n",
    "                msg_list.append(item.lower())\n",
    "            \n",
    "            if isinstance(item, Tag) and item.name == 'p':\n",
    "                msg_list.append(item.string)\n",
    "            \n",
    "            if isinstance(item, Tag) and item.name == 'div' and item.has_attr('class'):\n",
    "                contents = item.contents\n",
    "                for content in contents:\n",
    "                    if content.name == 'p':\n",
    "                        msg_list.append(content.string)\n",
    "                    if content.name == 'div':\n",
    "                        msg_list.append(content.text)\n",
    "                    if content.name == 'abbr':\n",
    "                        msg_list.append(content.text)\n",
    "                    if isinstance(content, NavigableString):\n",
    "                        msg_list.append(content.lower())\n",
    "            \n",
    "            for div_images in messages[integer].findAll('div', class_='images'):\n",
    "                div_images.extract()\n",
    "            for a_ref in messages[integer].findAll('a', class_='ref'):\n",
    "                a_ref.extract()\n",
    "            for a_href in messages[integer].findAll('a', class_='href'):\n",
    "                a_ref.extract()\n",
    "            for empty_line in messages[integer].findAll('p', class_='body-line empty'):\n",
    "                empty_line.extract()\n",
    "            for br_tag in messages[integer].findAll('br'):\n",
    "                br_tag.replace_with(' ')\n",
    "\n",
    "        cleaned = [item for item in msg_list if item !=\n",
    "                   ' ' and item is not None]\n",
    "\n",
    "        return cleaned\n",
    "\n",
    "    def dataframe(integer: int):\n",
    "        bs_df = pd.DataFrame({'type': [type(i) for i in messages[integer].div.children],\n",
    "                              'name': [i.name for i in messages[integer].div.children],\n",
    "                              'content': [i for i in messages[integer].div.children]})\n",
    "        return bs_df\n",
    "    \n",
    "    def sents(integer: int):\n",
    "        return nltk.sent_tokenize(' '.join(Messages.get(integer)))\n",
    "\n",
    "    def joined(integer: int):\n",
    "        return ' '.join(Messages.get(integer))\n",
    "\n",
    "    def split(integer: int):\n",
    "        return Messages.joined(integer).split()"
   ]
  },
  {
   "cell_type": "code",
   "execution_count": 27,
   "metadata": {},
   "outputs": [],
   "source": [
    "class Spans:\n",
    "    def __init__(self):\n",
    "        pass\n",
    "\n",
    "    def nums():\n",
    "        nums = [meta_lar[i].find('span', 'num').get_text() for i in range(0, len(meta_lar))]\n",
    "        return nums\n",
    "                \n",
    "    def sources():\n",
    "        sources = [meta_lar[i].find('span', 'source').get_text() for i in range(0, len(meta_lar))]\n",
    "        links = [meta_lar[i].find('span', 'source').contents[-1].get('href') for i in range(0, len(meta_lar))]\n",
    "        return sources\n",
    "    \n",
    "    def names():\n",
    "        names = [meta_lar[i].find('span', 'name').get_text() for i in range(0, len(meta_lar))]\n",
    "        return names\n",
    "                      \n",
    "    def dates():\n",
    "        date_list = [meta_lar[i].find('span', 'time').get_text()for i in range(0, len(meta_lar))]\n",
    "        dt_idx = pd.to_datetime(date_list, origin='unix', unit='s')\n",
    "        return dt_idx"
   ]
  },
  {
   "cell_type": "code",
   "execution_count": 137,
   "metadata": {},
   "outputs": [],
   "source": [
    "replace_dict = {\n",
    "    'r v d': 'republicans vs democrats',\n",
    "    'rs': 'republicans',\n",
    "    \"r's\": 'republicans',\n",
    "    \"d's\": 'democrats',\n",
    "    'ds': 'democrats',\n",
    "    '[D]': 'Democratic',\n",
    "    'US': 'United States',\n",
    "    ' w ': 'with',\n",
    "    'w/' : 'with',\n",
    "    '&' : 'and',\n",
    "    'president of the united states': 'potus',\n",
    "    'federal bureau of investigation': 'fbi',\n",
    "    'MS-13': 'ms-thirteen',\n",
    "    'COVID19': 'covid',\n",
    "    \"M's\": 'marshalls'\n",
    "}"
   ]
  },
  {
   "source": [
    "### using string with p tags saves us subing hyperlinks\n",
    "### add a conditional statement on the end to pop None from list"
   ],
   "cell_type": "markdown",
   "metadata": {}
  },
  {
   "cell_type": "code",
   "execution_count": 9,
   "metadata": {},
   "outputs": [
    {
     "output_type": "execute_result",
     "data": {
      "text/plain": [
       "['https://twitter.com/BrentScher/status/1322015793593360384',\n",
       " 'Fact checkers created in effort to reinforce propaganda [digestion]?',\n",
       " 'The battle to prevent truth from reaching the people.',\n",
       " 'The battle to maintain and push division.',\n",
       " 'Divided you are weak.',\n",
       " 'Divided you fight each other.',\n",
       " 'Divided you pose no threat.',\n",
       " 'System of control.',\n",
       " 'Information warfare.',\n",
       " 'Q']"
      ]
     },
     "metadata": {},
     "execution_count": 9
    }
   ],
   "source": [
    "[i.text for i in messages[10].div.children]"
   ]
  },
  {
   "cell_type": "code",
   "execution_count": 10,
   "metadata": {},
   "outputs": [
    {
     "output_type": "execute_result",
     "data": {
      "text/plain": [
       "['Fact checkers created in effort to reinforce propaganda [digestion]?',\n",
       " 'The battle to prevent truth from reaching the people.',\n",
       " 'The battle to maintain and push division.',\n",
       " 'Divided you are weak.',\n",
       " 'Divided you fight each other.',\n",
       " 'Divided you pose no threat.',\n",
       " 'System of control.',\n",
       " 'Information warfare.',\n",
       " 'Q']"
      ]
     },
     "metadata": {},
     "execution_count": 10
    }
   ],
   "source": [
    "[i.string for i in messages[10].div.children if i.string is not None]"
   ]
  },
  {
   "cell_type": "code",
   "execution_count": 11,
   "metadata": {},
   "outputs": [
    {
     "output_type": "execute_result",
     "data": {
      "text/plain": [
       "['strong', None]"
      ]
     },
     "metadata": {},
     "execution_count": 11
    }
   ],
   "source": [
    "[i.name for i in meta_lar[1].find('span', 'name').children]"
   ]
  },
  {
   "cell_type": "code",
   "execution_count": 12,
   "metadata": {},
   "outputs": [
    {
     "output_type": "execute_result",
     "data": {
      "text/plain": [
       "[('span', {'class': ['num']}),\n",
       " ('span', {'class': ['time']}),\n",
       " ('span', {'class': ['name']}),\n",
       " ('span', {'class': ['source']}),\n",
       " ('span', {'class': ['copy']})]"
      ]
     },
     "metadata": {},
     "execution_count": 12
    }
   ],
   "source": [
    "[(i.name, i.attrs) for i in meta_lar[0].children]"
   ]
  },
  {
   "cell_type": "code",
   "execution_count": 13,
   "metadata": {},
   "outputs": [
    {
     "output_type": "execute_result",
     "data": {
      "text/plain": [
       "pandas.core.frame.DataFrame"
      ]
     },
     "metadata": {},
     "execution_count": 13
    }
   ],
   "source": [
    "#drop entire row if name == br?\n",
    "type(Messages.dataframe(4950))"
   ]
  },
  {
   "source": [
    "Now that we have the index taken care of, we can now focus on how to replace\n",
    "\n",
    "abbr keys with their values in the the dictionary we've been adding too\n",
    "\n",
    "Remember the are abbrs we want to skip as an exception: POTUS, FBI, HRC, abbrs\n",
    "\n",
    "whose meaning is obvious and likely won't cloud our analysis of the language "
   ],
   "cell_type": "markdown",
   "metadata": {}
  },
  {
   "cell_type": "code",
   "execution_count": 138,
   "metadata": {},
   "outputs": [
    {
     "output_type": "execute_result",
     "data": {
      "text/plain": [
       "{'r v d': 'republicans vs democrats',\n",
       " 'rs': 'republicans',\n",
       " \"r's\": 'republicans',\n",
       " \"d's\": 'democrats',\n",
       " 'ds': 'democrats',\n",
       " '[D]': 'Democratic',\n",
       " 'US': 'United States',\n",
       " ' w ': 'with',\n",
       " 'w/': 'with',\n",
       " '&': 'and',\n",
       " 'president of the united states': 'potus',\n",
       " 'federal bureau of investigation': 'fbi',\n",
       " 'MS-13': 'ms-thirteen',\n",
       " 'COVID19': 'covid',\n",
       " \"M's\": 'marshalls'}"
      ]
     },
     "metadata": {},
     "execution_count": 138
    }
   ],
   "source": [
    "replace_dict"
   ]
  },
  {
   "source": [
    "To fix for Messages.dataframe, drop if nane == 'br' or content == ' '"
   ],
   "cell_type": "markdown",
   "metadata": {}
  },
  {
   "cell_type": "code",
   "execution_count": 187,
   "metadata": {},
   "outputs": [
    {
     "output_type": "execute_result",
     "data": {
      "text/plain": [
       "                                     type  name  \\\n",
       "0   <class 'bs4.element.NavigableString'>  None   \n",
       "2   <class 'bs4.element.NavigableString'>  None   \n",
       "3               <class 'bs4.element.Tag'>  abbr   \n",
       "4   <class 'bs4.element.NavigableString'>  None   \n",
       "6   <class 'bs4.element.NavigableString'>  None   \n",
       "8   <class 'bs4.element.NavigableString'>  None   \n",
       "10  <class 'bs4.element.NavigableString'>  None   \n",
       "12  <class 'bs4.element.NavigableString'>  None   \n",
       "14  <class 'bs4.element.NavigableString'>  None   \n",
       "16  <class 'bs4.element.NavigableString'>  None   \n",
       "18  <class 'bs4.element.NavigableString'>  None   \n",
       "20  <class 'bs4.element.NavigableString'>  None   \n",
       "22  <class 'bs4.element.NavigableString'>  None   \n",
       "24  <class 'bs4.element.NavigableString'>  None   \n",
       "26  <class 'bs4.element.NavigableString'>  None   \n",
       "27              <class 'bs4.element.Tag'>  abbr   \n",
       "28  <class 'bs4.element.NavigableString'>  None   \n",
       "30  <class 'bs4.element.NavigableString'>  None   \n",
       "32  <class 'bs4.element.NavigableString'>  None   \n",
       "33              <class 'bs4.element.Tag'>  abbr   \n",
       "34  <class 'bs4.element.NavigableString'>  None   \n",
       "36  <class 'bs4.element.NavigableString'>  None   \n",
       "38  <class 'bs4.element.NavigableString'>  None   \n",
       "40  <class 'bs4.element.NavigableString'>  None   \n",
       "42  <class 'bs4.element.NavigableString'>  None   \n",
       "43              <class 'bs4.element.Tag'>  abbr   \n",
       "44  <class 'bs4.element.NavigableString'>  None   \n",
       "46  <class 'bs4.element.NavigableString'>  None   \n",
       "47              <class 'bs4.element.Tag'>  abbr   \n",
       "48  <class 'bs4.element.NavigableString'>  None   \n",
       "50  <class 'bs4.element.NavigableString'>  None   \n",
       "52  <class 'bs4.element.NavigableString'>  None   \n",
       "54  <class 'bs4.element.NavigableString'>  None   \n",
       "56  <class 'bs4.element.NavigableString'>  None   \n",
       "57              <class 'bs4.element.Tag'>  abbr   \n",
       "58  <class 'bs4.element.NavigableString'>  None   \n",
       "60  <class 'bs4.element.NavigableString'>  None   \n",
       "62  <class 'bs4.element.NavigableString'>  None   \n",
       "64  <class 'bs4.element.NavigableString'>  None   \n",
       "66  <class 'bs4.element.NavigableString'>  None   \n",
       "\n",
       "                                                                                                                                                                                 content  \n",
       "0                                                                                                                                                             For the coming days ahead.  \n",
       "2   Ask yourself an honest question, why would a billionaire who has it all, fame, fortune, a warm and loving family, friends, etc. want to endanger himself and his family by becoming   \n",
       "3                                                                                                                                                                                [POTUS]  \n",
       "4                                                                                                                                                                                     ?   \n",
       "6                                                                                                                         Why would he want to target himself and those he cares about?   \n",
       "8                                                                                                                                                                    Does he need money?  \n",
       "10                                                                                                                                                                    Does he need fame?  \n",
       "12                                                                                                                                                         What does he get out of this?  \n",
       "14                                          Does he want to make the US/world a better place for his family and for those good and decent people who have long been taken advantage of?   \n",
       "16                                                                                                 Perhaps he could not stomach the thought of mass murders occurring to satisfy Moloch?  \n",
       "18                                Perhaps he could not stomach the thought of children being kidnapped, drugged, and raped while leaders/law enforcement of the world turn a blind eye.   \n",
       "20                               Perhaps he was tired of seeing how certain races/countries were being constantly abused and kept in need/poor/and suffering all for a specific purpose.  \n",
       "22                                                                                                                           Perhaps he could not in good conscious see the world burn.   \n",
       "24                                           Why, hours after the election, did seven people travel to an undisclosed location to hold a very private & highly secured/guarded meeting?   \n",
       "26                                                                                                                                                                           Why didn’t   \n",
       "27                                                                                                                                                                                 [HRC]  \n",
       "28                                                                                                                                                            give a concession speech?   \n",
       "30                                                                                           When was the last time a presidential candidate didn’t personally give a concession speech?  \n",
       "32                                                                                                                                     What happens if the border remained open and the   \n",
       "33                                                                                                                                                                                 [MSM]  \n",
       "34                                                                                                                                                               continued to brainwash?  \n",
       "36                                                                                                       At what point do Patriots, and hard working men and woman, become the minority?  \n",
       "38                                                                                                                                                           What about voting machines?  \n",
       "40                                                                                                                                                         Who owns the voting machines?  \n",
       "42                                                                                                                                                                     What about voter   \n",
       "43                                                                                                                                                                                  [ID]  \n",
       "44                                                                                                                                                                                 laws?  \n",
       "46                                                                                                                                                                                Photo   \n",
       "47                                                                                                                                                                                  [ID]  \n",
       "48                                                                                                                     ? When is it necessary and must be presented? Make a list. Laugh.  \n",
       "50                                                                                                                                                                            Reconcile.  \n",
       "52                                                                                                        Would the chances of defeating evil grow less and less with each passing year?  \n",
       "54                                                                                                                                                           What does ‘red line’ mean?   \n",
       "56                                                                                                                                                 Why, again, were the arrests made in   \n",
       "57                                                                                                                                                                                  [SA]  \n",
       "58                                                                                                                                                                   so very important?   \n",
       "60                                                                                                                                                    What strings were immediately cut?  \n",
       "62                                                                                                                                                                     Follow the money.  \n",
       "64                                                                                                                                                                When does a bird sing?  \n",
       "66                                                                                                                                                                                     Q  "
      ],
      "text/html": "<div>\n<style scoped>\n    .dataframe tbody tr th:only-of-type {\n        vertical-align: middle;\n    }\n\n    .dataframe tbody tr th {\n        vertical-align: top;\n    }\n\n    .dataframe thead th {\n        text-align: right;\n    }\n</style>\n<table border=\"1\" class=\"dataframe\">\n  <thead>\n    <tr style=\"text-align: right;\">\n      <th></th>\n      <th>type</th>\n      <th>name</th>\n      <th>content</th>\n    </tr>\n  </thead>\n  <tbody>\n    <tr>\n      <th>0</th>\n      <td>&lt;class 'bs4.element.NavigableString'&gt;</td>\n      <td>None</td>\n      <td>For the coming days ahead.</td>\n    </tr>\n    <tr>\n      <th>2</th>\n      <td>&lt;class 'bs4.element.NavigableString'&gt;</td>\n      <td>None</td>\n      <td>Ask yourself an honest question, why would a billionaire who has it all, fame, fortune, a warm and loving family, friends, etc. want to endanger himself and his family by becoming</td>\n    </tr>\n    <tr>\n      <th>3</th>\n      <td>&lt;class 'bs4.element.Tag'&gt;</td>\n      <td>abbr</td>\n      <td>[POTUS]</td>\n    </tr>\n    <tr>\n      <th>4</th>\n      <td>&lt;class 'bs4.element.NavigableString'&gt;</td>\n      <td>None</td>\n      <td>?</td>\n    </tr>\n    <tr>\n      <th>6</th>\n      <td>&lt;class 'bs4.element.NavigableString'&gt;</td>\n      <td>None</td>\n      <td>Why would he want to target himself and those he cares about?</td>\n    </tr>\n    <tr>\n      <th>8</th>\n      <td>&lt;class 'bs4.element.NavigableString'&gt;</td>\n      <td>None</td>\n      <td>Does he need money?</td>\n    </tr>\n    <tr>\n      <th>10</th>\n      <td>&lt;class 'bs4.element.NavigableString'&gt;</td>\n      <td>None</td>\n      <td>Does he need fame?</td>\n    </tr>\n    <tr>\n      <th>12</th>\n      <td>&lt;class 'bs4.element.NavigableString'&gt;</td>\n      <td>None</td>\n      <td>What does he get out of this?</td>\n    </tr>\n    <tr>\n      <th>14</th>\n      <td>&lt;class 'bs4.element.NavigableString'&gt;</td>\n      <td>None</td>\n      <td>Does he want to make the US/world a better place for his family and for those good and decent people who have long been taken advantage of?</td>\n    </tr>\n    <tr>\n      <th>16</th>\n      <td>&lt;class 'bs4.element.NavigableString'&gt;</td>\n      <td>None</td>\n      <td>Perhaps he could not stomach the thought of mass murders occurring to satisfy Moloch?</td>\n    </tr>\n    <tr>\n      <th>18</th>\n      <td>&lt;class 'bs4.element.NavigableString'&gt;</td>\n      <td>None</td>\n      <td>Perhaps he could not stomach the thought of children being kidnapped, drugged, and raped while leaders/law enforcement of the world turn a blind eye.</td>\n    </tr>\n    <tr>\n      <th>20</th>\n      <td>&lt;class 'bs4.element.NavigableString'&gt;</td>\n      <td>None</td>\n      <td>Perhaps he was tired of seeing how certain races/countries were being constantly abused and kept in need/poor/and suffering all for a specific purpose.</td>\n    </tr>\n    <tr>\n      <th>22</th>\n      <td>&lt;class 'bs4.element.NavigableString'&gt;</td>\n      <td>None</td>\n      <td>Perhaps he could not in good conscious see the world burn.</td>\n    </tr>\n    <tr>\n      <th>24</th>\n      <td>&lt;class 'bs4.element.NavigableString'&gt;</td>\n      <td>None</td>\n      <td>Why, hours after the election, did seven people travel to an undisclosed location to hold a very private &amp; highly secured/guarded meeting?</td>\n    </tr>\n    <tr>\n      <th>26</th>\n      <td>&lt;class 'bs4.element.NavigableString'&gt;</td>\n      <td>None</td>\n      <td>Why didn’t</td>\n    </tr>\n    <tr>\n      <th>27</th>\n      <td>&lt;class 'bs4.element.Tag'&gt;</td>\n      <td>abbr</td>\n      <td>[HRC]</td>\n    </tr>\n    <tr>\n      <th>28</th>\n      <td>&lt;class 'bs4.element.NavigableString'&gt;</td>\n      <td>None</td>\n      <td>give a concession speech?</td>\n    </tr>\n    <tr>\n      <th>30</th>\n      <td>&lt;class 'bs4.element.NavigableString'&gt;</td>\n      <td>None</td>\n      <td>When was the last time a presidential candidate didn’t personally give a concession speech?</td>\n    </tr>\n    <tr>\n      <th>32</th>\n      <td>&lt;class 'bs4.element.NavigableString'&gt;</td>\n      <td>None</td>\n      <td>What happens if the border remained open and the</td>\n    </tr>\n    <tr>\n      <th>33</th>\n      <td>&lt;class 'bs4.element.Tag'&gt;</td>\n      <td>abbr</td>\n      <td>[MSM]</td>\n    </tr>\n    <tr>\n      <th>34</th>\n      <td>&lt;class 'bs4.element.NavigableString'&gt;</td>\n      <td>None</td>\n      <td>continued to brainwash?</td>\n    </tr>\n    <tr>\n      <th>36</th>\n      <td>&lt;class 'bs4.element.NavigableString'&gt;</td>\n      <td>None</td>\n      <td>At what point do Patriots, and hard working men and woman, become the minority?</td>\n    </tr>\n    <tr>\n      <th>38</th>\n      <td>&lt;class 'bs4.element.NavigableString'&gt;</td>\n      <td>None</td>\n      <td>What about voting machines?</td>\n    </tr>\n    <tr>\n      <th>40</th>\n      <td>&lt;class 'bs4.element.NavigableString'&gt;</td>\n      <td>None</td>\n      <td>Who owns the voting machines?</td>\n    </tr>\n    <tr>\n      <th>42</th>\n      <td>&lt;class 'bs4.element.NavigableString'&gt;</td>\n      <td>None</td>\n      <td>What about voter</td>\n    </tr>\n    <tr>\n      <th>43</th>\n      <td>&lt;class 'bs4.element.Tag'&gt;</td>\n      <td>abbr</td>\n      <td>[ID]</td>\n    </tr>\n    <tr>\n      <th>44</th>\n      <td>&lt;class 'bs4.element.NavigableString'&gt;</td>\n      <td>None</td>\n      <td>laws?</td>\n    </tr>\n    <tr>\n      <th>46</th>\n      <td>&lt;class 'bs4.element.NavigableString'&gt;</td>\n      <td>None</td>\n      <td>Photo</td>\n    </tr>\n    <tr>\n      <th>47</th>\n      <td>&lt;class 'bs4.element.Tag'&gt;</td>\n      <td>abbr</td>\n      <td>[ID]</td>\n    </tr>\n    <tr>\n      <th>48</th>\n      <td>&lt;class 'bs4.element.NavigableString'&gt;</td>\n      <td>None</td>\n      <td>? When is it necessary and must be presented? Make a list. Laugh.</td>\n    </tr>\n    <tr>\n      <th>50</th>\n      <td>&lt;class 'bs4.element.NavigableString'&gt;</td>\n      <td>None</td>\n      <td>Reconcile.</td>\n    </tr>\n    <tr>\n      <th>52</th>\n      <td>&lt;class 'bs4.element.NavigableString'&gt;</td>\n      <td>None</td>\n      <td>Would the chances of defeating evil grow less and less with each passing year?</td>\n    </tr>\n    <tr>\n      <th>54</th>\n      <td>&lt;class 'bs4.element.NavigableString'&gt;</td>\n      <td>None</td>\n      <td>What does ‘red line’ mean?</td>\n    </tr>\n    <tr>\n      <th>56</th>\n      <td>&lt;class 'bs4.element.NavigableString'&gt;</td>\n      <td>None</td>\n      <td>Why, again, were the arrests made in</td>\n    </tr>\n    <tr>\n      <th>57</th>\n      <td>&lt;class 'bs4.element.Tag'&gt;</td>\n      <td>abbr</td>\n      <td>[SA]</td>\n    </tr>\n    <tr>\n      <th>58</th>\n      <td>&lt;class 'bs4.element.NavigableString'&gt;</td>\n      <td>None</td>\n      <td>so very important?</td>\n    </tr>\n    <tr>\n      <th>60</th>\n      <td>&lt;class 'bs4.element.NavigableString'&gt;</td>\n      <td>None</td>\n      <td>What strings were immediately cut?</td>\n    </tr>\n    <tr>\n      <th>62</th>\n      <td>&lt;class 'bs4.element.NavigableString'&gt;</td>\n      <td>None</td>\n      <td>Follow the money.</td>\n    </tr>\n    <tr>\n      <th>64</th>\n      <td>&lt;class 'bs4.element.NavigableString'&gt;</td>\n      <td>None</td>\n      <td>When does a bird sing?</td>\n    </tr>\n    <tr>\n      <th>66</th>\n      <td>&lt;class 'bs4.element.NavigableString'&gt;</td>\n      <td>None</td>\n      <td>Q</td>\n    </tr>\n  </tbody>\n</table>\n</div>"
     },
     "metadata": {},
     "execution_count": 187
    }
   ],
   "source": [
    "Messages.dataframe(4800).drop(Messages.dataframe(4800)[Messages.dataframe(4800).content == ' '].index)"
   ]
  },
  {
   "cell_type": "code",
   "execution_count": null,
   "metadata": {},
   "outputs": [],
   "source": []
  }
 ],
 "metadata": {
  "kernelspec": {
   "name": "python3",
   "display_name": "Python 3.9.2 64-bit",
   "metadata": {
    "interpreter": {
     "hash": "aee8b7b246df8f9039afb4144a1f6fd8d2ca17a180786b69acc140d282b71a49"
    }
   }
  },
  "language_info": {
   "codemirror_mode": {
    "name": "ipython",
    "version": 3
   },
   "file_extension": ".py",
   "mimetype": "text/x-python",
   "name": "python",
   "nbconvert_exporter": "python",
   "pygments_lexer": "ipython3",
   "version": "3.9.2-final"
  }
 },
 "nbformat": 4,
 "nbformat_minor": 5
}