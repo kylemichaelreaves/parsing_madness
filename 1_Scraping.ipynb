{
 "cells": [
  {
   "cell_type": "markdown",
   "id": "statistical-suffering",
   "metadata": {},
   "source": [
    "# 1. Scraping qdrops.online with BeautifulSoup and parsing its content\n",
    "## 1.1 capturing\n",
    "the text we want is contained within this tag hiearcharchy: \n",
    "- div message -> text -> string if not None & p \n",
    "- div message -> div op -> string \n",
    "- div message -> abbr title, abbr.text\n",
    "- meta lar -> span: time, name, source, num\n",
    "\n",
    "### prematurely calling text or get_text() on div_text will render unnecessary text, text we'd later have to clean\n",
    "\n",
    "### tags to extract():\n",
    "- hyperlinks: https?\\S+\\b, www, twitter, instagram, etc (inevitably will have to regex)\n",
    "- a href\n",
    "- figure\n",
    "- figcaption\n",
    "- images\n",
    "- div op containing no text or string\n",
    "- replace punct with a single space, then replace spaces longer than 1 space with a single space\n",
    "- it also might make things easier tokenizing them before hand\n",
    "### cleaning \n",
    "- sub hyperlinks\n",
    "- lower text\n",
    "- split text \n",
    "- sub punctuation\n",
    "- sub digits \n",
    "- join split words back into string\n",
    "- append strings to list if strings \n",
    "- return list of cleaned strings \n",
    "## Recurring Problems\n",
    "### inconsistent tag use: br, p, text, abbr \n",
    "- many more tags could have been abbreviated or propertied with its value\n",
    "- pickling exceeds maximum recursion; solved by sys.get and set a higher recursion limit\n",
    "- runtime of requests is > 1 min: solved by loading the pickled object\n",
    "- unwanted text from hyperlinks, figcaptions, etc; solved by using BeautifulSoup extract() on unwanted objects"
   ]
  },
  {
   "cell_type": "code",
   "execution_count": 1,
   "id": "ready-layer",
   "metadata": {},
   "outputs": [],
   "source": [
    "import requests\n",
    "import nltk\n",
    "import os, sys\n",
    "import itertools\n",
    "import re, string\n",
    "import pandas as pd\n",
    "import pickle\n",
    "\n",
    "from string import punctuation, digits\n",
    "from collections import Counter\n",
    "from bs4 import BeautifulSoup, NavigableString, Tag\n",
    "from string import punctuation, digits\n",
    "from nltk.stem import WordNetLemmatizer\n",
    "from nltk.corpus import stopwords\n",
    "\n",
    "punctuation += str('’‘–…“”')\n",
    "pd.set_option('display.max_colwidth', None)"
   ]
  },
  {
   "source": [
    "We don't have to execute the following cell, we can skip to opening the pickled object"
   ],
   "cell_type": "markdown",
   "metadata": {}
  },
  {
   "cell_type": "code",
   "execution_count": 3,
   "metadata": {},
   "outputs": [
    {
     "output_type": "execute_result",
     "data": {
      "text/plain": [
       "\"%%time\\nbase_url = 'https://qposts.online/page/' \\nurls = [base_url+str(i) for i in range(1, 105)]\\npage_requests = [requests.get(url) for url in urls]\\nsoups = [BeautifulSoup(page.text, 'html.parser') for page in page_requests]\\nmessages_original = [soups[i].findAll('div', 'message') for i in range(0, len(soups))]\\nmessages_flat = list(itertools.chain.from_iterable(messages))\\nmeta_lar = [soups[i].findAll('div', 'meta lar') for i in range(0, len(soups))]\""
      ]
     },
     "metadata": {},
     "execution_count": 3
    }
   ],
   "source": [
    "'''%%time\n",
    "base_url = 'https://qposts.online/page/' \n",
    "urls = [base_url+str(i) for i in range(1, 105)]\n",
    "page_requests = [requests.get(url) for url in urls]\n",
    "soups = [BeautifulSoup(page.text, 'html.parser') for page in page_requests]\n",
    "messages_original = [soups[i].findAll('div', 'message') for i in range(0, len(soups))]\n",
    "messages_flat = list(itertools.chain.from_iterable(messages))\n",
    "meta_lar = [soups[i].findAll('div', 'meta lar') for i in range(0, len(soups))]'''"
   ]
  },
  {
   "cell_type": "code",
   "execution_count": 2,
   "metadata": {},
   "outputs": [],
   "source": [
    "index_df = pd.read_pickle('index_df.pkl')\n",
    "index_df.number = index_df.number.astype('int')\n",
    "date = [index_df.datetime[i].date() for i in range(0, len(index_df.datetime))]\n",
    "time = [index_df.datetime[i].time() for i in range(0, len(index_df.datetime))]\n",
    "dt_index = pd.MultiIndex.from_arrays([date, time])"
   ]
  },
  {
   "cell_type": "code",
   "execution_count": 3,
   "metadata": {},
   "outputs": [
    {
     "output_type": "stream",
     "name": "stdout",
     "text": [
      "CPU times: user 12 s, sys: 400 ms, total: 12.4 s\nWall time: 12.5 s\n"
     ]
    }
   ],
   "source": [
    "%%time \n",
    "with open('messages_flat.pkl', 'rb') as f:\n",
    "    messages = pickle.load(f)\n",
    "with open('meta_flat.pkl', 'rb') as f:\n",
    "    meta_lar = pickle.load(f)"
   ]
  },
  {
   "cell_type": "code",
   "execution_count": 4,
   "metadata": {},
   "outputs": [
    {
     "output_type": "stream",
     "name": "stdout",
     "text": [
      "CPU times: user 6.95 s, sys: 150 ms, total: 7.1 s\nWall time: 7.13 s\n"
     ]
    }
   ],
   "source": [
    "%%time\n",
    "with open('names_joined.pkl', 'rb') as f:\n",
    "    names = pickle.load(f)\n",
    "with open('sources_joined.pkl', 'rb') as f:\n",
    "    sources = pickle.load(f)\n",
    "with open('flat_df_list.pkl', 'rb') as f:\n",
    "    flat_df_list = pickle.load(f)"
   ]
  },
  {
   "cell_type": "code",
   "execution_count": 5,
   "metadata": {},
   "outputs": [],
   "source": [
    "for message in messages:\n",
    "    for a_ref in message.findAll('a', class_='ref'):\n",
    "        a_ref.extract()\n",
    "    for images in message.findAll('div', class_='images'):\n",
    "        images.extract()\n",
    "    for br_tags in message.findAll('br'):\n",
    "        br_tags.extract()"
   ]
  },
  {
   "cell_type": "code",
   "execution_count": 6,
   "metadata": {},
   "outputs": [],
   "source": [
    "# if an item in Messages.split(i) is in replace_dict.keys(), replace i (the key) with its value\n",
    "replace_dict = {' w ': 'with',\n",
    " '&': 'and',\n",
    " 'AUTH': 'authorization',\n",
    " 'BRENNAN': 'John Brennan',\n",
    " 'COVID19': 'covid',\n",
    " 'D': 'Democrats',\n",
    " 'GOOG': 'Google',\n",
    " \"Gov't\": 'government',\n",
    " 'HUSSEIN': 'Barack Obama',\n",
    " 'ID': 'identification',\n",
    " 'KERRY': 'John Kerry',\n",
    " \"M's\": 'marshalls',\n",
    " 'MERKEL': 'Angela Merkel',\n",
    " 'MS-13': 'ms thirteen',\n",
    " 'MSM': 'mainstream media',\n",
    " 'No Such Agency': 'NSA',\n",
    " 'Russia>D': 'Russia Democrats',\n",
    " 'SA': 'Saudi Arabia',\n",
    " 'U S Gov t': 'United States government',\n",
    " 'U.S.': 'United States',\n",
    " 'US': 'United States',\n",
    " '[D]': 'Democratic',\n",
    " 'comms': 'communications',\n",
    " \"d's\": 'democrats',\n",
    " 'ds': 'democrats',\n",
    " 'financial T': 'financial transactions',\n",
    " 'r v d': 'republicans vs democrats',\n",
    " \"r's\": 'republicans',\n",
    " 'rs': 'republicans',\n",
    " 'v': 'versus',\n",
    " 'v2': 'version two',\n",
    " 'w/': 'with'}"
   ]
  },
  {
   "cell_type": "code",
   "execution_count": 7,
   "metadata": {},
   "outputs": [],
   "source": [
    "class Spans:\n",
    "    def __init__(self):\n",
    "        pass\n",
    "\n",
    "    def nums():\n",
    "        nums = [meta_lar[i].find('span', 'num').get_text() for i in range(0, len(meta_lar))]\n",
    "        return nums\n",
    "                \n",
    "    def sources():\n",
    "        sources = [meta_lar[i].find('span', 'source').get_text() for i in range(0, len(meta_lar))]\n",
    "        links = [meta_lar[i].find('span', 'source').contents[-1].get('href') for i in range(0, len(meta_lar))]\n",
    "        return sources\n",
    "    \n",
    "    def names():\n",
    "        names = [meta_lar[i].find('span', 'name').get_text() for i in range(0, len(meta_lar))]\n",
    "        return names\n",
    "                      \n",
    "    def dates():\n",
    "        date_list = [meta_lar[i].find('span', 'time').get_text()for i in range(0, len(meta_lar))]\n",
    "        dt_idx = pd.to_datetime(date_list, origin='unix', unit='s')\n",
    "        return dt_idx"
   ]
  },
  {
   "cell_type": "code",
   "execution_count": 8,
   "metadata": {},
   "outputs": [],
   "source": [
    "class Messages(object):\n",
    "    def __init__(self):\n",
    "        pass\n",
    "\n",
    "    def get(integer: int):\n",
    "        msg_list = []\n",
    "\n",
    "        for div_images in messages[integer].findAll('div', class_='images'):\n",
    "            div_images.extract()\n",
    "        for a_ref in messages[integer].findAll('a', class_='ref'):\n",
    "            a_ref.extract()\n",
    "        for a_href in messages[integer].findAll('a', class_='href'):\n",
    "            a_ref.extract()\n",
    "        for empty_line in messages[integer].findAll('p', class_='body-line empty'):\n",
    "            empty_line.extract()\n",
    "        for br_tag in messages[integer].findAll('br'):\n",
    "            br_tag.replace_with(' ')\n",
    "\n",
    "        for item in messages[integer]:\n",
    "            if isinstance(item, NavigableString) and item.name is None:\n",
    "                msg_list.append(item)\n",
    "            if isinstance(item, Tag) and item.name == 'p':\n",
    "                msg_list.append(item.string)\n",
    "            if isinstance(item, Tag) and item.name == 'div' and item.attrs == {'class': ['text']}:\n",
    "                msg_list.append(item.text)\n",
    "            if isinstance(item, Tag) and item.name == 'abbr':\n",
    "                msg_list.append(item.text)\n",
    "\n",
    "\n",
    "        cleaned = [item for item in msg_list if item != ' ' and item is not None]\n",
    "        cleaned2x = [item for item in cleaned if not item.startswith('https') and not item.startswith('in.') and not item.startswith('www')]\n",
    "        return cleaned2x\n",
    "\n",
    "    def dataframe(integer: int):\n",
    "        df = pd.DataFrame({'type': [type(i) for i in messages[integer]],\n",
    "                           'name': [i.name for i in messages[integer]],\n",
    "                           'attrs': [i.attrs for i in messages[integer]],\n",
    "                           'content': [i for i in messages[integer]]})\n",
    "        return df\n",
    "\n",
    "    def get_abbr(integer:int): \n",
    "        return Messages.dataframe(integer)[Messages.dataframe(integer).name == 'abbr']\n",
    "    \n",
    "    def info(integer:int):\n",
    "        return index_df[index_df.number == integer]\n",
    "\n",
    "    def sents(integer: int):\n",
    "        return nltk.sent_tokenize(' '.join(Messages.get(integer))) \n",
    "      \n",
    "    def joined(integer: int):\n",
    "        return ' '.join(Messages.get(integer))\n",
    "        \n",
    "    def split(integer: int):\n",
    "        return Messages.joined(integer).split()\n",
    "    \n",
    "    def children(integer: int): \n",
    "        name = messages[integer].div.name\n",
    "        attr = messages[integer].div.attrs\n",
    "        parent = name, attr\n",
    "        children = [i.name for i in messages[integer].div.children]\n",
    "        return parent, children"
   ]
  },
  {
   "cell_type": "code",
   "execution_count": 12,
   "metadata": {},
   "outputs": [],
   "source": [
    "'''def clean(integer: str):\n",
    "    cleaned = [re.sub('/', ' ', item) for item in integer]\n",
    "    cleaned = [re.sub('-', ' ', item) for item in cleaned]\n",
    "    cleaned = [re.sub('\\]\\[', ' ', item) for item in cleaned]\n",
    "    cleaned = [re.sub('[%s]' % re.escape(string.punctuation), '', item) for item in cleaned]\n",
    "    cleaned = [re.sub('[%s]' % re.escape(string.digits), '', item) for item in cleaned]\n",
    "    cleaned = [item.strip() for item in cleaned]\n",
    "    cleaned = [item for item in cleaned if item]\n",
    "    #cleaned = [nltk.word_tokenize(item) for item in cleaned]\n",
    "    #cleaned = [' '.join(item) for item in cleaned]\n",
    "    return cleaned'''"
   ]
  },
  {
   "cell_type": "code",
   "execution_count": 13,
   "metadata": {},
   "outputs": [],
   "source": [
    "'''def get(integer: int):\n",
    "    inner_list = []\n",
    "    if messages[integer].attrs == {'class': ['message']}:\n",
    "     \n",
    "        for item in messages[integer].contents:\n",
    "       \n",
    "            for div_op in item.findAll('div', class_='op'):\n",
    "                for itm in div_op.contents:\n",
    "                    if itm not in inner_list:\n",
    "                        inner_list.append(itm.string)\n",
    "            for abbr_tag in item.findAll('abbr'):\n",
    "                abbr_tag.replace_with(abbr_tag.text)\n",
    "        if messages[integer].div.name == 'div' and messages[integer].div.attrs == {'class': ['text']}:\n",
    "            if messages[integer].div.next_element.name == 'p':\n",
    "                for p_tag in messages[integer].div.findAll('p'):\n",
    "                    if p_tag.string is not None:\n",
    "                        inner_list.append(p_tag.string)\n",
    "            \n",
    "            else:\n",
    "                for content in item.contents:\n",
    "                    if isinstance(content, NavigableString):\n",
    "                        if content in inner_list:\n",
    "                            continue\n",
    "                        else:\n",
    "                            inner_list.append(content)\n",
    "\n",
    "    return inner_list'''              "
   ]
  },
  {
   "cell_type": "code",
   "execution_count": 9,
   "metadata": {},
   "outputs": [],
   "source": [
    "def alt_get(integer: int):\n",
    "    inner = []\n",
    "    for items in messages[integer]:\n",
    "        # creating this exception made the function iterable\n",
    "        if isinstance(items, NavigableString):\n",
    "            continue\n",
    "        else:\n",
    "            for div_op in items.findAll('div', class_='op'):\n",
    "                for ops_content in div_op.contents:  \n",
    "                    inner.append(ops_content.string)\n",
    "            else:\n",
    "                if items.string is not None:\n",
    "                    inner.append(items.string)\n",
    "                else:\n",
    "                    for item_content in items.contents:\n",
    "                        if item_content.string is not None:\n",
    "                            inner.append(item_content.string)\n",
    "    cleaned = [item for item in inner if item and item != ' ']\n",
    "    return cleaned "
   ]
  },
  {
   "cell_type": "code",
   "execution_count": 56,
   "metadata": {},
   "outputs": [],
   "source": [
    "def clean_string(integer: int):\n",
    "    inner = []\n",
    "    for line in alt_get(integer):\n",
    "        if line.startswith('https'):\n",
    "            continue\n",
    "        else:\n",
    "            cleaned = re.sub('/', ' ', line)\n",
    "            cleaned = re.sub('-', ' ', cleaned)\n",
    "            cleaned = re.sub('_', ' ', cleaned)\n",
    "            cleaned = re.sub('\\]\\[', ' ', cleaned)\n",
    "            cleaned = re.sub('…', '', cleaned)\n",
    "            cleaned = re.sub('[%s]' % re.escape(string.punctuation), '', cleaned)\n",
    "            cleaned = re.sub('[%s]' % re.escape(string.digits), '', cleaned)\n",
    "            inner.append(cleaned.strip())\n",
    "    stripped = [item for item in inner if item]\n",
    "    words = [nltk.word_tokenize(word) for word in stripped]\n",
    "    joined = [' '.join(inner_list) for inner_list in words]\n",
    "    return joined"
   ]
  },
  {
   "cell_type": "code",
   "execution_count": 54,
   "metadata": {},
   "outputs": [
    {
     "output_type": "execute_result",
     "data": {
      "text/plain": [
       "['DOITQ',\n",
       " 'honored at the you Q we are at the ready and the anon morale is very very high lets do this',\n",
       " 'UNITED WE STAND',\n",
       " 'STRONG TOGETHER',\n",
       " 'We are honored',\n",
       " 'ANONS are selfless nameless faceless fameless and FEARLESS',\n",
       " 'We are grateful',\n",
       " 'Q']"
      ]
     },
     "metadata": {},
     "execution_count": 54
    }
   ],
   "source": [
    "clean_string(2624)"
   ]
  },
  {
   "cell_type": "code",
   "execution_count": 63,
   "metadata": {},
   "outputs": [],
   "source": [
    "flat_cleaned_list = list(itertools.chain.from_iterable(pd.DataFrame({'cleaned_strings': [clean_string(i) for i in range(0, len(messages))]})['cleaned_strings'].tolist()))"
   ]
  },
  {
   "cell_type": "code",
   "execution_count": 64,
   "metadata": {},
   "outputs": [],
   "source": [
    "with open('flat_cleaned_list.pkl', 'wb') as f:\n",
    "    pickle.dump(flat_cleaned_list, f, pickle.HIGHEST_PROTOCOL)"
   ]
  },
  {
   "cell_type": "code",
   "execution_count": 41,
   "metadata": {},
   "outputs": [
    {
     "output_type": "execute_result",
     "data": {
      "text/plain": [
       "      number            datetime            name         source\n",
       "2344    2609 2018-12-12 23:43:49  Q !!mG7VJxZNCI  8ch/qresearch"
      ],
      "text/html": "<div>\n<style scoped>\n    .dataframe tbody tr th:only-of-type {\n        vertical-align: middle;\n    }\n\n    .dataframe tbody tr th {\n        vertical-align: top;\n    }\n\n    .dataframe thead th {\n        text-align: right;\n    }\n</style>\n<table border=\"1\" class=\"dataframe\">\n  <thead>\n    <tr style=\"text-align: right;\">\n      <th></th>\n      <th>number</th>\n      <th>datetime</th>\n      <th>name</th>\n      <th>source</th>\n    </tr>\n  </thead>\n  <tbody>\n    <tr>\n      <th>2344</th>\n      <td>2609</td>\n      <td>2018-12-12 23:43:49</td>\n      <td>Q !!mG7VJxZNCI</td>\n      <td>8ch/qresearch</td>\n    </tr>\n  </tbody>\n</table>\n</div>"
     },
     "metadata": {},
     "execution_count": 41
    }
   ],
   "source": [
    "Messages.info(2607)"
   ]
  },
  {
   "source": [
    "# as string "
   ],
   "cell_type": "markdown",
   "metadata": {}
  },
  {
   "cell_type": "code",
   "execution_count": 22,
   "metadata": {},
   "outputs": [
    {
     "output_type": "execute_result",
     "data": {
      "text/plain": [
       "'Hillary Clinton will be arrested between AM AM EST on Monday the morning on Oct HRC extradition already in motion effective yesterday with several countries in case of cross border run Passport approved to be flagged effective am Expect massive riots organized in defiance and others fleeing the US to occur US M ’ s will conduct the operation while NG activated Proof check Locate a NG member and ask if activated for duty across most major cities'"
      ]
     },
     "metadata": {},
     "execution_count": 22
    }
   ],
   "source": [
    "' '.join([' '.join(nested_list) for nested_list in clean_string(4952)])"
   ]
  },
  {
   "cell_type": "code",
   "execution_count": 536,
   "metadata": {},
   "outputs": [
    {
     "output_type": "stream",
     "name": "stdout",
     "text": [
      ">>343\nhttps://twitter.com/CNNPolitics/status/1048324715469783040\nAnd so it begins..\nHow do you start a WAR?\n[Markers] matter.\nPlaybook [FAIL].\nQ\nPost Justice K confirmation.\nRUSSIA RUSSIA RUSSIA\nDEFLECT DECLAS \nDEFLECT BLAME\n[FOCUS RUSSIA >>> GLOBAL ENEMY]\n\"The Hunt For\" dropped - why?\nWhen was the unauthorized missile fired?\nWas it found/discovered prior to [Hunt]?\nRUSSIA SUB THREAT PUSH?\nRED_OCTOBER\nDouble meanings exist.\n……………..\nQ\n"
     ]
    }
   ],
   "source": [
    "for items in messages[2603]:\n",
    "    for div_op in items.findAll('div', class_='op'):\n",
    "        for ops_content in div_op.contents:  \n",
    "            print(ops_content.string)\n",
    "    else:\n",
    "        if items.string is not None:\n",
    "            print(items.string)"
   ]
  },
  {
   "cell_type": "code",
   "execution_count": 63,
   "metadata": {},
   "outputs": [],
   "source": [
    "#with open('flat_df_list.pkl', 'wb') as f:\n",
    "#    pickle.dump(flat_df['drop_contents'].tolist(), f, pickle.HIGHEST_PROTOCOL)"
   ]
  },
  {
   "cell_type": "code",
   "execution_count": 64,
   "metadata": {},
   "outputs": [
    {
     "output_type": "stream",
     "name": "stdout",
     "text": [
      "CPU times: user 5.96 s, sys: 150 ms, total: 6.11 s\nWall time: 6.13 s\n"
     ]
    }
   ],
   "source": [
    "%%time \n",
    "with open('flat_df_list.pkl', 'rb') as f:\n",
    "    flat_df_list = pickle.load(f)"
   ]
  },
  {
   "cell_type": "code",
   "execution_count": 28,
   "metadata": {},
   "outputs": [
    {
     "output_type": "execute_result",
     "data": {
      "text/plain": [
       "['>>2770076Double meanings exist.QStay LOCAL (U.S.)GLOBAL = reflection of LOCAL.Think MIRROR.Know your enemy.\"Every battle is won before it\\'s ever fought.\"Knowledge is POWER.Q']"
      ]
     },
     "metadata": {},
     "execution_count": 28
    }
   ],
   "source": [
    "Messages.get(3000)"
   ]
  },
  {
   "cell_type": "code",
   "execution_count": 17,
   "metadata": {},
   "outputs": [
    {
     "output_type": "execute_result",
     "data": {
      "text/plain": [
       "['Fact checkers created in effort to reinforce propaganda [digestion]?',\n",
       " 'The battle to prevent truth from reaching the people.',\n",
       " 'The battle to maintain and push division.',\n",
       " 'Divided you are weak.',\n",
       " 'Divided you fight each other.',\n",
       " 'Divided you pose no threat.',\n",
       " 'System of control.',\n",
       " 'Information warfare.',\n",
       " 'Q']"
      ]
     },
     "metadata": {},
     "execution_count": 17
    }
   ],
   "source": [
    "# implemention if there are p strings in div if div == message or div == text\n",
    "[i.string for i in messages[10].div.children if i.string is not None]"
   ]
  },
  {
   "cell_type": "code",
   "execution_count": 18,
   "metadata": {},
   "outputs": [
    {
     "output_type": "execute_result",
     "data": {
      "text/plain": [
       "[True, True, True, True, True, True, True, True, True, True]"
      ]
     },
     "metadata": {},
     "execution_count": 18
    }
   ],
   "source": [
    "[i.name == 'p' for i in messages[10].div]"
   ]
  },
  {
   "cell_type": "code",
   "execution_count": 19,
   "metadata": {},
   "outputs": [
    {
     "output_type": "execute_result",
     "data": {
      "text/plain": [
       "[True, True, True, True, True, True, True, True, True, True]"
      ]
     },
     "metadata": {},
     "execution_count": 19
    }
   ],
   "source": [
    "[i.name == 'p' for i in messages[10].div.children]"
   ]
  },
  {
   "cell_type": "code",
   "execution_count": 59,
   "metadata": {},
   "outputs": [
    {
     "output_type": "execute_result",
     "data": {
      "text/plain": [
       "['>>1393269', 'Well done, ', 'Anon', '.', 'Q']"
      ]
     },
     "metadata": {},
     "execution_count": 59
    }
   ],
   "source": [
    "[i.string for i in messages[3600].div if i.string is not None]"
   ]
  },
  {
   "cell_type": "code",
   "execution_count": 450,
   "metadata": {},
   "outputs": [
    {
     "output_type": "execute_result",
     "data": {
      "text/plain": [
       "[<div class=\"op\" id=\"op235\">https:<em>//</em>nationalsecurityaction.org/who-we-are/We are Americans—former senior officials and policy experts, academics and civil society leaders—who have seen first-hand how the United States is stronger, safer and more respected in the world when we stand strong with our allies, pursue principled diplomacy, and stay true to the values that have long defined America at home and abroad.</div>,\n",
       " 'Well done, ',\n",
       " 'Anon',\n",
       " '.',\n",
       " 'Q']"
      ]
     },
     "metadata": {},
     "execution_count": 450
    }
   ],
   "source": [
    "[i for i in messages[3600].div.contents]"
   ]
  },
  {
   "cell_type": "code",
   "execution_count": 67,
   "metadata": {},
   "outputs": [],
   "source": [
    "for div_op in messages[3600].findAll('div', class_='op'):\n",
    "    for images in div_op.findAll('div', class_='images'):\n",
    "        images.extract()"
   ]
  },
  {
   "cell_type": "code",
   "execution_count": 69,
   "metadata": {},
   "outputs": [],
   "source": [
    "for a_ref in messages[3600].findAll('a', 'ref'):\n",
    "    a_ref.extract()"
   ]
  },
  {
   "cell_type": "code",
   "execution_count": 451,
   "metadata": {},
   "outputs": [
    {
     "output_type": "execute_result",
     "data": {
      "text/plain": [
       "['https:',\n",
       " '//',\n",
       " 'nationalsecurityaction.org/who-we-are/',\n",
       " 'We are Americans—former senior officials and policy experts, academics and civil society leaders—who have seen first-hand how the United States is stronger, safer and more respected in the world when we stand strong with our allies, pursue principled diplomacy, and stay true to the values that have long defined America at home and abroad.']"
      ]
     },
     "metadata": {},
     "execution_count": 451
    }
   ],
   "source": [
    "[i.string for i in messages[3600].div.div.contents]"
   ]
  },
  {
   "cell_type": "code",
   "execution_count": 452,
   "metadata": {},
   "outputs": [
    {
     "output_type": "execute_result",
     "data": {
      "text/plain": [
       "['Shall we play a game?',\n",
       " '[N]othing [C]an [S]top [W]hat [I]s [C]oming',\n",
       " 'NCSWIC',\n",
       " 'Who stepped down today [forced]?',\n",
       " 'More coming?',\n",
       " 'Why is this relevant?',\n",
       " \"How do you 'show' the public the truth?\",\n",
       " \"How do you 'safeguard' US elections post-POTUS?\",\n",
       " \"How do you 'remove' foreign interference and corruption and install US-owned voter ID law(s) and other safeguards? \",\n",
       " 'It had to be this way.',\n",
       " 'Sometimes you must walk through the darkness before you see the light. ',\n",
       " 'Q']"
      ]
     },
     "metadata": {},
     "execution_count": 452
    }
   ],
   "source": [
    "[i.string for i in messages[2].div if i.string is not None]"
   ]
  },
  {
   "cell_type": "code",
   "execution_count": 453,
   "metadata": {},
   "outputs": [
    {
     "output_type": "execute_result",
     "data": {
      "text/plain": [
       "[\"https://in.reuters.com/article/iran-economy-rouhani-sanctions/iran-parliament-censures-rouhani-in-sign-pragmatists-losing-sway-idINKCN1LD0DL [Hassan Rouhani] Who paid HUSSEIN to attend HARVARD LAW SCHOOL? Who is Prince Alwaleed bin Talal? Why would Prince Alwaleed bin Talal (Saudi Royal) pay HUSSEIN to attend HARVARD LAW SCHOOL? Was HUSSEIN a prominent political figure or a person of influence at the time? No. Who is Valerie Jarrett?  Where was she born? When did Valerie Jarrett hire Michelle Robinson? 1991 Timeline. https://www.thisisinsider.com/how-did-barack-and-michelle-obama-meet-2017-10#1991-they-got-engaged-in-a-simple-and-sweet-way-3 Who is Mayor (former) Richard Daley? Who is Mayor (current) Rahm Emanuel? HUSSEIN should be VERY nervous. BRENNAN should be VERY nervous. KERRY should be VERY nervous. MERKEL should be VERY nervous. +29 How were the pallets of cash divided? How many planes were used to transport?  Who operated the planes? What 'shadow' agency directed operations? Why wasn't the money [simply] wire transferred? US had AUTH to open bank-to-bank transfers. How do you prevent financial T logs? How were the cash withdrawals in EU categorized/labeled?  Where did the cash originate from? What time of day did the withdrawals occur?  Who provided SECURITY? Why wasn't Congress notified? Why was the U.S. Gov't kept in the DARK? US law broken? Did ALL planes land in the same location (airport)?  Why did [1] particular plane land outside of Iran? Why was a helicopter involved? [WHO] did the money go to? HOW DO YOU AUDIT A FOREIGN AID BIG BLOCK TRANSFER? Did Rouhani keep 'unknown' comms as insurance? What agency collects ALL FORMS OF DATA? What agency did @Snowden work for orig? Did he train on THE FARM? When did @Snowden join No Such Agency? Define 'Contractor'. Define the 'PRISM' program. What year did @Snowden release spec-details of PRISM? Mid 2013? IMPACT-LIMIT NSA's ability to utilize/collect?  FAKE NEWS push for Congressional restrictions? OPEN SOURCE PUSH to create COUNTER-DEF? PURPOSE? BLUE SKIES FOR CLOWN OP? When was the Joint Plan of Action (IRAN DEAL) executed?  Late 2013? Do you believe in coincidences? Nothing to See Here. Q \"]"
      ]
     },
     "metadata": {},
     "execution_count": 453
    }
   ],
   "source": [
    "[i.text for i in messages[3005].contents]"
   ]
  },
  {
   "cell_type": "code",
   "execution_count": 49,
   "metadata": {},
   "outputs": [
    {
     "output_type": "execute_result",
     "data": {
      "text/plain": [
       "['FISA (ABCs) v INSCOM NOFORN NSA INSCOM BRIDGE FISA = FISC Who is accountable to Congress (civilian body)?',\n",
       " \"Define 'State Secrets'.\",\n",
       " 'Process of obtaining a FISA warrant?',\n",
       " 'What must be DEMONSTRATED to be GRANTED?',\n",
       " 'Who must SIGN OFF?',\n",
       " \"Can 'select' individuals in senior positions of power be SHADOW BANNED from ACTIVE FISA WARRANTS / SURV?\",\n",
       " 'NAT SEC Sufficient evidence shown to demonstrate rogue elements of intelligence apparatus illegally violated FISA law (tenets) in coordinated effort w/ d+foreign allies to impact/mod the outcome of the 2016 Presidential election & safeguard against future uncover / criminal prosecution?',\n",
       " 'Who must sign off on FISA warrants?',\n",
       " 'Who directs the signers?',\n",
       " 'Given magnitude of spy campaign (U.S. Presidential Election Republican Party Nominee Candidate + President Elect + President of the United States) would HUSSEIN be required to DIRECT ORDER?',\n",
       " 'How would updates occur?',\n",
       " 'PDB?',\n",
       " 'Who has access to the PDB?',\n",
       " 'On-site CLAS briefings / SIT ROOM / OO / PEOC / N_C?',\n",
       " 'How often does a President use PEOC?',\n",
       " \"'Foreign' tangent req to obtain warrant to spy on U.S. ORIG?\",\n",
       " \"Define 'Projection'.\",\n",
       " 'What is Known?',\n",
       " 'Connections (them) to Russia/other F assets?',\n",
       " 'Who commands INSCOM?',\n",
       " 'Who commands No Such Agency?',\n",
       " 'Who has ULTIMATE command?',\n",
       " 'Q']"
      ]
     },
     "metadata": {},
     "execution_count": 49
    }
   ],
   "source": [
    "[i for i in Messages.sents(3009) if not i.startswith('https')]"
   ]
  },
  {
   "cell_type": "code",
   "execution_count": 526,
   "metadata": {},
   "outputs": [
    {
     "output_type": "execute_result",
     "data": {
      "text/plain": [
       "{' w ': 'with',\n",
       " '&': 'and',\n",
       " 'AUTH': 'authorization',\n",
       " 'BRENNAN': 'John Brennan',\n",
       " 'COVID19': 'covid',\n",
       " 'D': 'Democrats',\n",
       " 'GOOG': 'Google',\n",
       " \"Gov't\": 'government',\n",
       " 'HUSSEIN': 'Barack Obama',\n",
       " 'ID': 'identification',\n",
       " 'KERRY': 'John Kerry',\n",
       " \"M's\": 'marshalls',\n",
       " 'MERKEL': 'Angela Merkel',\n",
       " 'MS-13': 'ms thirteen',\n",
       " 'MSM': 'mainstream media',\n",
       " 'No Such Agency': 'NSA',\n",
       " 'Russia>D': 'Russia Democrats',\n",
       " 'SA': 'Saudi Arabia',\n",
       " 'U S Gov t': 'United States government',\n",
       " 'U.S.': 'United States',\n",
       " 'US': 'United States',\n",
       " '[D]': 'Democratic',\n",
       " 'comms': 'communications',\n",
       " \"d's\": 'democrats',\n",
       " 'ds': 'democrats',\n",
       " 'financial T': 'financial transactions',\n",
       " 'r v d': 'republicans vs democrats',\n",
       " \"r's\": 'republicans',\n",
       " 'rs': 'republicans',\n",
       " 'v': 'versus',\n",
       " 'v2': 'version two',\n",
       " 'w/': 'with'}"
      ]
     },
     "metadata": {},
     "execution_count": 526
    }
   ],
   "source": [
    "# sorted dict by creating a dict comprehension\n",
    "{k:v for k,v in zip(sorted(replace_dict.keys()), [replace_dict.get(i) for i in sorted(replace_dict.keys())])}"
   ]
  },
  {
   "cell_type": "code",
   "execution_count": 145,
   "metadata": {},
   "outputs": [
    {
     "output_type": "stream",
     "name": "stdout",
     "text": [
      "['Some of us come here to drop crumbs, just crumbs.', 'POTUS', ' is 100% insulated - any discussion suggesting he’s even a target is false.', 'POTUS', ' will not be addressing nation on any of these issues as people begin to be indicted and must remain neutral for pure optical reasons. To suggest this is the plan is false and should be common sense.', 'Focus on Military Intellingence/ State Secrets and why might that be used vs any three letter agency ', 'What ', 'SC', ' decision opened the door for a sitting President to activate - what must be showed?', 'Why is ', 'POTUS', ' surrounded by generals ^^', 'Again, there are a lot more good people than bad so have faith. This was a hostile takeover from an evil corrupt network of players (not just Democrats).', 'Don’t fool yourself into thinking Obama, Soros, Roth’s, Clinton’s etc have more power present day than ', 'POTUS', '. ', 'Operation Mockingbird ', 'Patriots are in control. Sit back and enjoy the show.']\n"
     ]
    }
   ],
   "source": [
    "for i in messages[-4].contents:\n",
    "    if i.attrs == {'class': ['text']}:\n",
    "        print([i.string for i in messages[-4].div.contents if i.string is not None])"
   ]
  },
  {
   "cell_type": "code",
   "execution_count": 146,
   "metadata": {},
   "outputs": [
    {
     "output_type": "execute_result",
     "data": {
      "text/plain": [
       "['Some of us come here to drop crumbs, just crumbs.',\n",
       " 'POTUS',\n",
       " ' is 100% insulated - any discussion suggesting he’s even a target is false.',\n",
       " 'POTUS',\n",
       " ' will not be addressing nation on any of these issues as people begin to be indicted and must remain neutral for pure optical reasons. To suggest this is the plan is false and should be common sense.',\n",
       " 'Focus on Military Intellingence/ State Secrets and why might that be used vs any three letter agency ',\n",
       " 'What ',\n",
       " 'SC',\n",
       " ' decision opened the door for a sitting President to activate - what must be showed?',\n",
       " 'Why is ',\n",
       " 'POTUS',\n",
       " ' surrounded by generals ^^',\n",
       " 'Again, there are a lot more good people than bad so have faith. This was a hostile takeover from an evil corrupt network of players (not just Democrats).',\n",
       " 'Don’t fool yourself into thinking Obama, Soros, Roth’s, Clinton’s etc have more power present day than ',\n",
       " 'POTUS',\n",
       " '. ',\n",
       " 'Operation Mockingbird ',\n",
       " 'Patriots are in control. Sit back and enjoy the show.']"
      ]
     },
     "metadata": {},
     "execution_count": 146
    }
   ],
   "source": [
    "[i.string for i in messages[-4].div.contents if i.string is not None]"
   ]
  },
  {
   "cell_type": "code",
   "execution_count": 179,
   "metadata": {},
   "outputs": [
    {
     "output_type": "execute_result",
     "data": {
      "text/plain": [
       "['Justice K >>> Highest Court in the Land.',\n",
       " 'Law & Order [majority] [U.S. Constitution] safeguarded. ',\n",
       " 'IT WAS OUR LAST CHANCE TO SAVE IT [Non-Force]',\n",
       " 'Now comes the real PAIN.',\n",
       " 'Now comes the real TRUTH.',\n",
       " 'BOOM',\n",
       " '\\u2002\\u2002\\u2002\\u2002\\u2002\\u2002\\u2002\\u2002BOOM',\n",
       " '\\u2002\\u2002\\u2002\\u2002\\u2002\\u2002\\u2002\\u2002\\u2002\\u2002\\u2002\\u2002\\u2002\\u2002\\u2002\\u2002BOOM',\n",
       " '\\u2002\\u2002\\u2002\\u2002\\u2002\\u2002\\u2002\\u2002\\u2002\\u2002\\u2002\\u2002\\u2002\\u2002\\u2002\\u2002\\u2002\\u2002\\u2002\\u2002\\u2002\\u2002\\u2002\\u2002BOOM',\n",
       " 'They want you DIVIDED.',\n",
       " 'DIVIDED by RACE.',\n",
       " 'DIVIDED by RELIGION.',\n",
       " 'DIVIDED by CULTURE.',\n",
       " 'DIVIDED by CLASS.',\n",
       " 'DIVIDED by POLITICAL AFFILIATION. ',\n",
       " 'DIVIDED YOU ARE WEAK.',\n",
       " 'TOGETHER YOU ARE STRONG.',\n",
       " 'This movement challenges their ‘forced’ narrative. ',\n",
       " 'This movement challenges people to not simply trust what is being reported.',\n",
       " 'Research for yourself.',\n",
       " 'Think for yourself.',\n",
       " 'Trust yourself.',\n",
       " 'This movement is not about one person or a group of people.',\n",
       " 'WE, the PEOPLE.',\n",
       " 'Save the Republic!',\n",
       " 'Hatred and Dissension in the Nation will Heal.',\n",
       " 'WHERE WE GO ONE, WE GO ALL.',\n",
       " 'Q']"
      ]
     },
     "metadata": {},
     "execution_count": 179
    }
   ],
   "source": [
    "Messages.get(2601)"
   ]
  },
  {
   "cell_type": "code",
   "execution_count": 212,
   "metadata": {},
   "outputs": [
    {
     "output_type": "stream",
     "name": "stdout",
     "text": [
      "['WELCOME TO THE DEMOCRAT PARTY.', 'The Party of threats, violence, intimidation, name-calling, racism, fascism, division, …..', '#WALKAWAY', '#VOTEREPUBLICAN', 'Q']\n"
     ]
    }
   ],
   "source": [
    "if messages[2600].children:\n",
    "    print([i.string for i in messages[2600].children])"
   ]
  },
  {
   "cell_type": "code",
   "execution_count": 213,
   "metadata": {},
   "outputs": [
    {
     "output_type": "execute_result",
     "data": {
      "text/plain": [
       "['WELCOME TO THE DEMOCRAT PARTY.',\n",
       " 'The Party of threats, violence, intimidation, name-calling, racism, fascism, division, …..',\n",
       " '#WALKAWAY',\n",
       " '#VOTEREPUBLICAN',\n",
       " 'Q']"
      ]
     },
     "metadata": {},
     "execution_count": 213
    }
   ],
   "source": [
    "[i.string for i in messages[2600]]"
   ]
  },
  {
   "cell_type": "code",
   "execution_count": 463,
   "metadata": {},
   "outputs": [
    {
     "output_type": "execute_result",
     "data": {
      "text/plain": [
       "[\"Shall we play a game?[N]othing [C]an [S]top [W]hat [I]s [C]omingNCSWIChttps://www.cisa.gov/safecom/NCSWICWho stepped down today [forced]?https://www.cisa.gov/bryan-s-wareMore coming?Why is this relevant?How do you 'show' the public the truth?How do you 'safeguard' US elections post-POTUS?How do you 'remove' foreign interference and corruption and install US-owned voter ID law(s) and other safeguards? It had to be this way.Sometimes you must walk through the darkness before you see the light. Q\"]"
      ]
     },
     "metadata": {},
     "execution_count": 463
    }
   ],
   "source": [
    "Messages.get(2)"
   ]
  },
  {
   "cell_type": "code",
   "execution_count": 464,
   "metadata": {},
   "outputs": [
    {
     "output_type": "execute_result",
     "data": {
      "text/plain": [
       "['Shall we play a game?',\n",
       " '[N]othing [C]an [S]top [W]hat [I]s [C]oming',\n",
       " 'NCSWIC',\n",
       " 'Who stepped down today [forced]?',\n",
       " 'More coming?',\n",
       " 'Why is this relevant?',\n",
       " \"How do you 'show' the public the truth?\",\n",
       " \"How do you 'safeguard' US elections post-POTUS?\",\n",
       " \"How do you 'remove' foreign interference and corruption and install US-owned voter ID law(s) and other safeguards? \",\n",
       " 'It had to be this way.',\n",
       " 'Sometimes you must walk through the darkness before you see the light. ',\n",
       " 'Q']"
      ]
     },
     "metadata": {},
     "execution_count": 464
    }
   ],
   "source": [
    "[p.string for p in messages[2].div.contents if p.string is not None]"
   ]
  },
  {
   "cell_type": "code",
   "execution_count": 465,
   "metadata": {},
   "outputs": [
    {
     "output_type": "execute_result",
     "data": {
      "text/plain": [
       "[<p><div class=\"op\" id=\"op972\"><p>&gt;&gt;343</p><p><a href=\"https://twitter.com/CNNPolitics/status/1048324715469783040\" rel=\"nofollow\" target=\"_blank\">https://twitter.com/CNNPolitics/status/1048324715469783040</a></p><p>And so it begins..</p><p>How do you start a WAR?</p><p>[Markers] matter.</p><p>Playbook [FAIL].</p><p>Q</p></div></p>,\n",
       " <p>Post Justice K confirmation.</p>,\n",
       " <p>RUSSIA RUSSIA RUSSIA</p>,\n",
       " <p>Think UK / AUS &gt;&gt; RUSSIA RUSSIA RUSSIA</p>,\n",
       " <p>DEFLECT DECLAS </p>,\n",
       " <p>DEFLECT BLAME</p>,\n",
       " <p>[FOCUS RUSSIA &gt;&gt;&gt; GLOBAL ENEMY]</p>,\n",
       " <p>\"The Hunt For\" dropped - why?</p>,\n",
       " <p>When was the unauthorized missile fired?</p>,\n",
       " <p>Was it found/discovered prior to [Hunt]?</p>,\n",
       " <p>RUSSIA SUB THREAT PUSH?</p>,\n",
       " <p>RED_OCTOBER</p>,\n",
       " <p>Double meanings exist.</p>,\n",
       " <p>……………..</p>,\n",
       " <p>Q</p>]"
      ]
     },
     "metadata": {},
     "execution_count": 465
    }
   ],
   "source": [
    "[i for i in messages[2603].contents]"
   ]
  },
  {
   "cell_type": "code",
   "execution_count": 540,
   "metadata": {},
   "outputs": [
    {
     "output_type": "execute_result",
     "data": {
      "text/plain": [
       "['Look HERE [RUSSIA]',\n",
       " 'DO NOT LOOK HERE [CHINA]',\n",
       " 'https://www.youtube.com/watch?v=aeVrMniBjSc',\n",
       " 'Worth 43 minutes of your time.',\n",
       " 'FAKE NEWS WILL NEVER REPORT.',\n",
       " 'Important to understand going forward.',\n",
       " 'FACTS MATTER.',\n",
       " 'Q']"
      ]
     },
     "metadata": {},
     "execution_count": 540
    }
   ],
   "source": [
    "[i.text for i in messages[2602].contents]"
   ]
  },
  {
   "cell_type": "code",
   "execution_count": 104,
   "metadata": {},
   "outputs": [
    {
     "output_type": "execute_result",
     "data": {
      "text/plain": [
       "('div', {'class': ['message']})"
      ]
     },
     "metadata": {},
     "execution_count": 104
    }
   ],
   "source": [
    "messages[2602].name, messages[2602].attrs"
   ]
  },
  {
   "cell_type": "code",
   "execution_count": 105,
   "metadata": {},
   "outputs": [
    {
     "output_type": "execute_result",
     "data": {
      "text/plain": [
       "{'class': ['text']}"
      ]
     },
     "metadata": {},
     "execution_count": 105
    }
   ],
   "source": [
    "messages[-1].contents[0].attrs"
   ]
  },
  {
   "cell_type": "code",
   "execution_count": 467,
   "metadata": {},
   "outputs": [
    {
     "output_type": "execute_result",
     "data": {
      "text/plain": [
       "['Post Justice K confirmation.',\n",
       " 'RUSSIA RUSSIA RUSSIA',\n",
       " 'DEFLECT DECLAS ',\n",
       " 'DEFLECT BLAME',\n",
       " '[FOCUS RUSSIA >>> GLOBAL ENEMY]',\n",
       " '\"The Hunt For\" dropped - why?',\n",
       " 'When was the unauthorized missile fired?',\n",
       " 'Was it found/discovered prior to [Hunt]?',\n",
       " 'RUSSIA SUB THREAT PUSH?',\n",
       " 'RED_OCTOBER',\n",
       " 'Double meanings exist.',\n",
       " '……………..',\n",
       " 'Q']"
      ]
     },
     "metadata": {},
     "execution_count": 467
    }
   ],
   "source": [
    "Messages.get(2603)"
   ]
  },
  {
   "source": [
    "We know that Messages.get() isn't returning all of the text\n",
    "\n",
    "these are a contents of a div-op within a message:"
   ],
   "cell_type": "markdown",
   "metadata": {}
  },
  {
   "cell_type": "code",
   "execution_count": 375,
   "metadata": {},
   "outputs": [
    {
     "output_type": "execute_result",
     "data": {
      "text/plain": [
       "['>>343',\n",
       " 'https://twitter.com/CNNPolitics/status/1048324715469783040',\n",
       " 'And so it begins..',\n",
       " 'How do you start a WAR?',\n",
       " '[Markers] matter.',\n",
       " 'Playbook [FAIL].',\n",
       " 'Q']"
      ]
     },
     "metadata": {},
     "execution_count": 375
    }
   ],
   "source": [
    "[i.text for i in messages[2603].find('div').contents]"
   ]
  },
  {
   "cell_type": "code",
   "execution_count": 472,
   "metadata": {},
   "outputs": [
    {
     "output_type": "execute_result",
     "data": {
      "text/plain": [
       "['>>343',\n",
       " 'https://twitter.com/CNNPolitics/status/1048324715469783040',\n",
       " 'And so it begins..',\n",
       " 'How do you start a WAR?',\n",
       " '[Markers] matter.',\n",
       " 'Playbook [FAIL].',\n",
       " 'Q',\n",
       " '>>343',\n",
       " 'https://twitter.com/CNNPolitics/status/1048324715469783040',\n",
       " 'And so it begins..',\n",
       " 'How do you start a WAR?',\n",
       " '[Markers] matter.',\n",
       " 'Playbook [FAIL].',\n",
       " 'Q']"
      ]
     },
     "metadata": {},
     "execution_count": 472
    }
   ],
   "source": [
    "get(2603)"
   ]
  },
  {
   "cell_type": "code",
   "execution_count": 470,
   "metadata": {},
   "outputs": [],
   "source": [
    "# this loop gets both the div op contents and the contents of the message which aren't in div op\n",
    "if messages[0].attrs == {'class': ['message']}:\n",
    "    for p in messages[0].contents:\n",
    "        for div_op in p.findAll('div', class_='op'):\n",
    "            for item in div_op.contents:\n",
    "                print(item.text)\n",
    "        if p.string is not None:\n",
    "            print(p.string)"
   ]
  },
  {
   "cell_type": "code",
   "execution_count": 149,
   "metadata": {},
   "outputs": [
    {
     "output_type": "stream",
     "name": "stdout",
     "text": [
      "https:\n//\nnationalsecurityaction.org/who-we-are/\nWe are Americans—former senior officials and policy experts, academics and civil society leaders—who have seen first-hand how the United States is stronger, safer and more respected in the world when we stand strong with our allies, pursue principled diplomacy, and stay true to the values that have long defined America at home and abroad.\n"
     ]
    }
   ],
   "source": [
    "# this loop gets both the div op contents and the contents of the message which aren't in div op\n",
    "if messages[3600].attrs == {'class': ['message']}:\n",
    "    for p in messages[3600].contents:\n",
    "        for div_op in p.findAll('div', class_='op'):\n",
    "            for item in div_op.contents:\n",
    "                if item.string is not None:\n",
    "                    print(item.string)\n",
    "        if p.string is not None:\n",
    "            print(p.string)"
   ]
  },
  {
   "cell_type": "code",
   "execution_count": 471,
   "metadata": {},
   "outputs": [
    {
     "output_type": "execute_result",
     "data": {
      "text/plain": [
       "['https:',\n",
       " '//',\n",
       " 'nationalsecurityaction.org/who-we-are/',\n",
       " 'We are Americans—former senior officials and policy experts, academics and civil society leaders—who have seen first-hand how the United States is stronger, safer and more respected in the world when we stand strong with our allies, pursue principled diplomacy, and stay true to the values that have long defined America at home and abroad.',\n",
       " 'https://nationalsecurityaction.org/who-we-are/We are Americans—former senior officials and policy experts, academics and civil society leaders—who have seen first-hand how the United States is stronger, safer and more respected in the world when we stand strong with our allies, pursue principled diplomacy, and stay true to the values that have long defined America at home and abroad.Well done, Anon.Q']"
      ]
     },
     "metadata": {},
     "execution_count": 471
    }
   ],
   "source": [
    "alt_get(3600)"
   ]
  },
  {
   "cell_type": "code",
   "execution_count": 377,
   "metadata": {},
   "outputs": [
    {
     "output_type": "execute_result",
     "data": {
      "text/plain": [
       "<div class=\"op\" id=\"op972\"><p>&gt;&gt;343</p><p><a href=\"https://twitter.com/CNNPolitics/status/1048324715469783040\" rel=\"nofollow\" target=\"_blank\">https://twitter.com/CNNPolitics/status/1048324715469783040</a></p><p>And so it begins..</p><p>How do you start a WAR?</p><p>[Markers] matter.</p><p>Playbook [FAIL].</p><p>Q</p></div>"
      ]
     },
     "metadata": {},
     "execution_count": 377
    }
   ],
   "source": [
    "messages[2603].find('div', class_=['op'])"
   ]
  },
  {
   "cell_type": "code",
   "execution_count": 378,
   "metadata": {},
   "outputs": [
    {
     "output_type": "stream",
     "name": "stdout",
     "text": [
      "Shall we play a game?\n[N]othing [C]an [S]top [W]hat [I]s [C]oming\nNCSWIC\nWho stepped down today [forced]?\nMore coming?\nWhy is this relevant?\nHow do you 'show' the public the truth?\nHow do you 'safeguard' US elections post-POTUS?\nHow do you 'remove' foreign interference and corruption and install US-owned voter ID law(s) and other safeguards? \nIt had to be this way.\nSometimes you must walk through the darkness before you see the light. \nQ\n"
     ]
    }
   ],
   "source": [
    "if messages[2].attrs == {'class': ['message']}:\n",
    "    for item in messages[2].contents:\n",
    "        for div_op in item.findAll('div', class_='op'):\n",
    "            for itm in div_op.contents:\n",
    "                print(itm.string)\n",
    "        for p_tag in item.findAll('p'):\n",
    "            if p_tag.string is not None:\n",
    "                print(p_tag.string)"
   ]
  },
  {
   "cell_type": "code",
   "execution_count": 352,
   "metadata": {},
   "outputs": [
    {
     "output_type": "execute_result",
     "data": {
      "text/plain": [
       "[<p>Shall we play a game?</p>,\n",
       " <p>[N]othing [C]an [S]top [W]hat [I]s [C]oming</p>,\n",
       " <p>NCSWIC</p>,\n",
       " <p>https:<em>//</em>www.cisa.gov/safecom/NCSWIC</p>,\n",
       " <p>Who stepped down today [forced]?</p>,\n",
       " <p>https:<em>//</em>www.cisa.gov/bryan-s-ware</p>,\n",
       " <p>More coming?</p>,\n",
       " <p>Why is this relevant?</p>,\n",
       " <p>How do you 'show' the public the truth?</p>,\n",
       " <p>How do you 'safeguard' US elections post-POTUS?</p>,\n",
       " <p>How do you 'remove' foreign interference and corruption and install US-owned voter ID law(s) and other safeguards? </p>,\n",
       " <p>It had to be this way.</p>,\n",
       " <p>Sometimes you must walk through the darkness before you see the light. </p>,\n",
       " <p>Q</p>]"
      ]
     },
     "metadata": {},
     "execution_count": 352
    }
   ],
   "source": [
    "[i for i in messages[2].div.children]"
   ]
  },
  {
   "cell_type": "code",
   "execution_count": 427,
   "metadata": {},
   "outputs": [
    {
     "output_type": "stream",
     "name": "stdout",
     "text": [
      "['https:', '//', 'nationalsecurityaction.org/who-we-are/', 'We are Americans—former senior officials and policy experts, academics and civil society leaders—who have seen first-hand how the United States is stronger, safer and more respected in the world when we stand strong with our allies, pursue principled diplomacy, and stay true to the values that have long defined America at home and abroad.']\n"
     ]
    }
   ],
   "source": [
    "if messages[3600].div.div.has_attr('class'):\n",
    "    print([i.string for i in messages[3600].div.div if i.string is not None])"
   ]
  },
  {
   "cell_type": "code",
   "execution_count": 195,
   "metadata": {},
   "outputs": [
    {
     "output_type": "execute_result",
     "data": {
      "text/plain": [
       "True"
      ]
     },
     "metadata": {},
     "execution_count": 195
    }
   ],
   "source": [
    "messages[2].name == 'div' and messages[2].next_element.attrs == {'class': ['text']}"
   ]
  },
  {
   "cell_type": "code",
   "execution_count": 196,
   "metadata": {},
   "outputs": [
    {
     "output_type": "execute_result",
     "data": {
      "text/plain": [
       "['>>147005381',\n",
       " 'HRC',\n",
       " ' extradition already in motion effective yesterday with several countries in case of cross border run. Passport approved to be flagged effective 10/30 @ 12:01am. Expect massive riots organized in defiance and others fleeing the US to occur. US M’s will conduct the operation while ',\n",
       " 'NG',\n",
       " ' activated. Proof check: Locate a ',\n",
       " 'NG',\n",
       " ' member and ask if activated for duty 10/30 across most major cities.']"
      ]
     },
     "metadata": {},
     "execution_count": 196
    }
   ],
   "source": [
    "[p.string for p in messages[-1].div if p.string is not None]"
   ]
  },
  {
   "cell_type": "code",
   "execution_count": 428,
   "metadata": {},
   "outputs": [
    {
     "output_type": "execute_result",
     "data": {
      "text/plain": [
       "False"
      ]
     },
     "metadata": {},
     "execution_count": 428
    }
   ],
   "source": [
    "'p' in [i.name for i in messages[-1].next_element.children]"
   ]
  },
  {
   "cell_type": "code",
   "execution_count": 198,
   "metadata": {},
   "outputs": [
    {
     "output_type": "stream",
     "name": "stdout",
     "text": [
      ">>147005381>>146981635Hillary Clinton will be arrested between 7:45 AM - 8:30 AM EST on Monday - the morning on Oct 30, 2017.HRC extradition already in motion effective yesterday with several countries in case of cross border run. Passport approved to be flagged effective 10/30 @ 12:01am. Expect massive riots organized in defiance and others fleeing the US to occur. US M’s will conduct the operation while NG activated. Proof check: Locate a NG member and ask if activated for duty 10/30 across most major cities.\n"
     ]
    }
   ],
   "source": [
    "if messages[-1].next_element.attrs == {'class': ['text']}:\n",
    "    if 'p' in [i.name for i in messages[-1].next_element.children]:\n",
    "        print(messages[-1].text)\n",
    "    if 'p' not in [i.name for i in messages[-1].next_element.children]:\n",
    "        print(messages[-1].text)"
   ]
  },
  {
   "cell_type": "code",
   "execution_count": 429,
   "metadata": {},
   "outputs": [
    {
     "output_type": "stream",
     "name": "stdout",
     "text": [
      "WELCOME TO THE DEMOCRAT PARTY.\nThe Party of threats, violence, intimidation, name-calling, racism, fascism, division, …..\n#WALKAWAY\n#VOTEREPUBLICAN\nQ\n"
     ]
    }
   ],
   "source": [
    "if messages[2600].attrs == {'class': ['message']}:\n",
    "    if 'p' in [i.name for i in messages[2600].children]:\n",
    "        for p_tag in messages[2600].findAll('p'):\n",
    "            print(p_tag.string)"
   ]
  },
  {
   "cell_type": "code",
   "execution_count": 430,
   "metadata": {},
   "outputs": [
    {
     "output_type": "execute_result",
     "data": {
      "text/plain": [
       "<div class=\"message\"><div class=\"text\"><p>Nothing can stop what is coming.</p><p>Nothing!</p><p>Q</p></div></div>"
      ]
     },
     "metadata": {},
     "execution_count": 430
    }
   ],
   "source": [
    "messages[3]"
   ]
  },
  {
   "cell_type": "code",
   "execution_count": 431,
   "metadata": {},
   "outputs": [
    {
     "output_type": "execute_result",
     "data": {
      "text/plain": [
       "[<div class=\"op\" id=\"op1\"><br/></div>,\n",
       " <br/>,\n",
       " 'The choice to know will be yours.',\n",
       " <br/>,\n",
       " 'https:',\n",
       " <em>//</em>,\n",
       " 'twitter.com/s8n/status/671489910281498624?lang=en',\n",
       " <br/>,\n",
       " 'Q',\n",
       " <br/>]"
      ]
     },
     "metadata": {},
     "execution_count": 431
    }
   ],
   "source": [
    "[item for item in messages[3099].div.contents]"
   ]
  }
 ],
 "metadata": {
  "kernelspec": {
   "name": "python3",
   "display_name": "Python 3.9.2 64-bit",
   "metadata": {
    "interpreter": {
     "hash": "aee8b7b246df8f9039afb4144a1f6fd8d2ca17a180786b69acc140d282b71a49"
    }
   }
  },
  "language_info": {
   "codemirror_mode": {
    "name": "ipython",
    "version": 3
   },
   "file_extension": ".py",
   "mimetype": "text/x-python",
   "name": "python",
   "nbconvert_exporter": "python",
   "pygments_lexer": "ipython3",
   "version": "3.9.2-final"
  }
 },
 "nbformat": 4,
 "nbformat_minor": 5
}