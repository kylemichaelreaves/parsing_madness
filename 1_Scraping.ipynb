{
 "cells": [
  {
   "cell_type": "markdown",
   "id": "statistical-suffering",
   "metadata": {},
   "source": [
    "# 1. Scraping qdrops.online with BeautifulSoup and parsing its content\n",
    "## 1.1 capturing\n",
    "the text we want is contained within this tag hiearcharchy: \n",
    "- div message -> text -> string if not None & p \n",
    "- div message -> div op -> string \n",
    "- div message -> abbr title, abbr.text\n",
    "- meta lar -> span: time, name, source, num\n",
    "\n",
    "### prematurely calling text or get_text() on div_text will render unnecessary text, text we'd later have to clean\n",
    "\n",
    "### tags to extract():\n",
    "- hyperlinks: https?\\S+\\b, www, twitter, instagram, etc (inevitably will have to regex)\n",
    "- a href\n",
    "- figure\n",
    "- figcaption\n",
    "- images\n",
    "- div op containing no text or string\n",
    "- replace punct with a single space, then replace spaces longer than 1 space with a single space\n",
    "- it also might make things easier tokenizing them before hand\n",
    "### cleaning \n",
    "- sub hyperlinks\n",
    "- lower text\n",
    "- split text \n",
    "- sub punctuation\n",
    "- sub digits \n",
    "- join split words back into string\n",
    "- append strings to list if strings \n",
    "- return list of cleaned strings \n",
    "## Recurring Problems\n",
    "### inconsistent tag use: br, p, text, abbr \n",
    "- many more tags could have been abbreviated or propertied with its value\n",
    "- pickling exceeds maximum recursion; solved by sys.get and set a higher recursion limit\n",
    "- runtime of requests is > 1 min: solved by loading the pickled object\n",
    "- unwanted text from hyperlinks, figcaptions, etc; solved by using BeautifulSoup extract() on unwanted objects"
   ]
  },
  {
   "cell_type": "code",
   "execution_count": 1,
   "id": "ready-layer",
   "metadata": {},
   "outputs": [],
   "source": [
    "import requests\n",
    "import nltk\n",
    "import os, sys\n",
    "import itertools\n",
    "import re, string\n",
    "import pandas as pd\n",
    "import pickle\n",
    "import timeit\n",
    "\n",
    "from string import punctuation, digits\n",
    "from collections import Counter\n",
    "from bs4 import BeautifulSoup, NavigableString, Tag\n",
    "from string import punctuation, digits\n",
    "from nltk.stem import WordNetLemmatizer\n",
    "from nltk.corpus import stopwords\n",
    "from nltk.cluster.util import cosine_distance\n",
    "from nltk import RegexpParser, Tree\n",
    "from nltk.util import ngrams\n",
    "\n",
    "punctuation += str('’‘–…“”')\n",
    "pd.set_option('display.max_colwidth', None)"
   ]
  },
  {
   "source": [
    "We don't have to execute the following cell, we can skip to opening the pickled object"
   ],
   "cell_type": "markdown",
   "metadata": {}
  },
  {
   "cell_type": "code",
   "execution_count": 3,
   "metadata": {},
   "outputs": [
    {
     "output_type": "execute_result",
     "data": {
      "text/plain": [
       "\"%%time\\nbase_url = 'https://qposts.online/page/' \\nurls = [base_url+str(i) for i in range(1, 105)]\\npage_requests = [requests.get(url) for url in urls]\\nsoups = [BeautifulSoup(page.text, 'html.parser') for page in page_requests]\\nmessages_original = [soups[i].findAll('div', 'message') for i in range(0, len(soups))]\\nmessages_flat = list(itertools.chain.from_iterable(messages))\\nmeta_lar = [soups[i].findAll('div', 'meta lar') for i in range(0, len(soups))]\""
      ]
     },
     "metadata": {},
     "execution_count": 3
    }
   ],
   "source": [
    "'''%%time\n",
    "base_url = 'https://qposts.online/page/' \n",
    "urls = [base_url+str(i) for i in range(1, 105)]\n",
    "page_requests = [requests.get(url) for url in urls]\n",
    "soups = [BeautifulSoup(page.text, 'html.parser') for page in page_requests]\n",
    "messages_original = [soups[i].findAll('div', 'message') for i in range(0, len(soups))]\n",
    "messages_flat = list(itertools.chain.from_iterable(messages))\n",
    "meta_lar = [soups[i].findAll('div', 'meta lar') for i in range(0, len(soups))]'''"
   ]
  },
  {
   "cell_type": "code",
   "execution_count": 2,
   "metadata": {},
   "outputs": [
    {
     "output_type": "execute_result",
     "data": {
      "text/plain": [
       "'/Users/kylereaves/Documents/GitHub/parsing_madness'"
      ]
     },
     "metadata": {},
     "execution_count": 2
    }
   ],
   "source": [
    "os.getcwd()"
   ]
  },
  {
   "cell_type": "code",
   "execution_count": 3,
   "metadata": {},
   "outputs": [],
   "source": [
    "index_df = pd.read_pickle('index_df.pkl')\n",
    "index_df.number = index_df.number.astype('int')\n",
    "date = [index_df.datetime[i].date() for i in range(0, len(index_df.datetime))]\n",
    "time = [index_df.datetime[i].time() for i in range(0, len(index_df.datetime))]\n",
    "dt_index = pd.MultiIndex.from_arrays([date, time])"
   ]
  },
  {
   "cell_type": "code",
   "execution_count": 139,
   "metadata": {},
   "outputs": [
    {
     "output_type": "stream",
     "name": "stdout",
     "text": [
      "CPU times: user 15.8 s, sys: 428 ms, total: 16.3 s\nWall time: 16.4 s\n"
     ]
    }
   ],
   "source": [
    "%%time \n",
    "with open('messages_flat.pkl', 'rb') as f:\n",
    "    messages = pickle.load(f)\n",
    "with open('meta_flat.pkl', 'rb') as f:\n",
    "    meta_lar = pickle.load(f)"
   ]
  },
  {
   "cell_type": "code",
   "execution_count": 5,
   "metadata": {},
   "outputs": [
    {
     "output_type": "stream",
     "name": "stdout",
     "text": [
      "CPU times: user 1.84 ms, sys: 1.36 ms, total: 3.2 ms\nWall time: 8.14 ms\n"
     ]
    }
   ],
   "source": [
    "%%time\n",
    "with open('names_joined.pkl', 'rb') as f:\n",
    "    names = pickle.load(f)\n",
    "with open('sources_joined.pkl', 'rb') as f:\n",
    "    sources = pickle.load(f)"
   ]
  },
  {
   "cell_type": "code",
   "execution_count": 7,
   "metadata": {},
   "outputs": [],
   "source": [
    "class Spans:\n",
    "    def __init__(self):\n",
    "        pass\n",
    "\n",
    "    def nums():\n",
    "        nums = [meta_lar[i].find('span', 'num').get_text() for i in range(0, len(meta_lar))]\n",
    "        return nums\n",
    "                \n",
    "    def sources():\n",
    "        sources = [meta_lar[i].find('span', 'source').get_text() for i in range(0, len(meta_lar))]\n",
    "        links = [meta_lar[i].find('span', 'source').contents[-1].get('href') for i in range(0, len(meta_lar))]\n",
    "        return sources\n",
    "    \n",
    "    def names():\n",
    "        names = [meta_lar[i].find('span', 'name').get_text() for i in range(0, len(meta_lar))]\n",
    "        return names\n",
    "                      \n",
    "    def dates():\n",
    "        date_list = [meta_lar[i].find('span', 'time').get_text()for i in range(0, len(meta_lar))]\n",
    "        dt_idx = pd.to_datetime(date_list, origin='unix', unit='s')\n",
    "        return dt_idx"
   ]
  },
  {
   "cell_type": "code",
   "execution_count": 143,
   "metadata": {},
   "outputs": [],
   "source": [
    "class Messages(object):\n",
    "    def __init__(self):\n",
    "        pass\n",
    "\n",
    "    def get(integer: int):\n",
    "        msg_list = []\n",
    "\n",
    "        for item in messages[integer].div:\n",
    "            \n",
    "            if isinstance(item, NavigableString) and item.name is None:\n",
    "                msg_list.append(item)\n",
    "            \n",
    "            if isinstance(item, Tag) and item.name == 'p':\n",
    "                msg_list.append(item.string)\n",
    "            \n",
    "            if isinstance(item, Tag) and item.name == 'div' and item.attrs == {'class': ['text']}:\n",
    "                msg_list.append(item.text)\n",
    "\n",
    "            if isinstance(item, Tag) and item.name == 'abbr':\n",
    "                msg_list.append(item.text)\n",
    "            \n",
    "            for div_images in messages[integer].findAll('div', class_='images'):\n",
    "                div_images.extract()\n",
    "            for a_ref in messages[integer].findAll('a', class_='ref'):\n",
    "                a_ref.extract()\n",
    "            for a_href in messages[integer].findAll('a', class_='href'):\n",
    "                a_ref.extract()\n",
    "            for empty_line in messages[integer].findAll('p', class_='body-line empty'):\n",
    "                empty_line.extract()\n",
    "            for br_tag in messages[integer].findAll('br'):\n",
    "                br_tag.replace_with(' ')\n",
    "\n",
    "        cleaned = [item for item in msg_list if item != ' ' and item is not None]\n",
    "        cleaned2x = [item for item in cleaned if not item.startswith('https') and not item.startswith('in.') and not item.startswith('www')]\n",
    "        return cleaned2x\n",
    "\n",
    "    def dataframe(integer: int):\n",
    "        df = pd.DataFrame({'type': [type(i) for i in messages[integer].div.children],\n",
    "                           'name': [i.name for i in messages[integer].div.children],\n",
    "                           'content': [i for i in messages[integer].div.children]})\n",
    "        return df\n",
    "\n",
    "    def get_abbr(integer:int): \n",
    "        return Messages.dataframe(integer)[Messages.dataframe(integer).name == 'abbr']\n",
    "    \n",
    "    def info(integer:int):\n",
    "        return index_df[index_df.number == integer]\n",
    "\n",
    "    def sents(integer: int):\n",
    "        return nltk.sent_tokenize(' '.join(Messages.get(integer))) \n",
    "      \n",
    "    def joined(integer: int):\n",
    "        return ' '.join(Messages.get(integer))\n",
    "        \n",
    "    def split(integer: int):\n",
    "        return Messages.joined(integer).split()"
   ]
  },
  {
   "cell_type": "code",
   "execution_count": 8,
   "metadata": {},
   "outputs": [],
   "source": [
    "# if an item in Messages.split(i) is in replace_dict.keys(), replace i (the key) with its value\n",
    "replace_dict = {'r v d': 'republicans vs democrats',\n",
    " 'rs': 'republicans',\n",
    " \"r's\": 'republicans',\n",
    " \"d's\": 'democrats',\n",
    " 'ds': 'democrats',\n",
    " '[D]': 'Democratic',\n",
    " 'US': 'United States',\n",
    " ' w ': 'with',\n",
    " 'w/': 'with',\n",
    " '&': 'and',\n",
    " 'MSM': 'mainstream media',\n",
    " 'ID': 'identification',\n",
    " 'SA': 'Saudi Arabia',\n",
    " 'MS-13': 'ms thirteen',\n",
    " 'COVID19': 'covid',\n",
    " \"M's\": 'marshalls',\n",
    " 'HUSSEIN': 'Barack Obama',\n",
    " 'BRENNAN': 'John Brennan',\n",
    " 'MERKEL': 'Angela Merkel',\n",
    " 'KERRY': 'John Kerry',\n",
    " 'v2': 'version two',\n",
    " 'U.S.': 'United States',\n",
    " \"Gov't\": 'government'}"
   ]
  },
  {
   "source": [
    "### using string with p tags saves us subing hyperlinks\n",
    "### add a conditional statement on the end to pop None from list"
   ],
   "cell_type": "markdown",
   "metadata": {}
  },
  {
   "cell_type": "code",
   "execution_count": 86,
   "metadata": {},
   "outputs": [],
   "source": [
    "def swap(integer: int):\n",
    "    outter_list, cleaned_list = [], []\n",
    "    for items in Messages.split(integer):\n",
    "        if items.startswith('https') or items.startswith('in.') or items.startswith('www'):\n",
    "            continue\n",
    "        for char in items:\n",
    "            if char == '/' or char == '-' or char == '][' or char == '>':\n",
    "                items = re.sub(char, ' ', items)\n",
    "        else:\n",
    "            outter_list.append(items)\n",
    "\n",
    "    for i in nltk.sent_tokenize(' '.join(outter_list)):\n",
    "        i = re.sub('[%s]' % re.escape(string.punctuation), '', i)\n",
    "        i = re.sub('[%s]' % re.escape(string.digits), '', i)\n",
    "        cleaned_list.append(i)\n",
    "    words = [nltk.word_tokenize(i.strip()) for i in cleaned_list]\n",
    "    flat = list(itertools.chain.from_iterable(words))\n",
    "    return flat"
   ]
  },
  {
   "cell_type": "code",
   "execution_count": 169,
   "metadata": {},
   "outputs": [],
   "source": [
    "def strip(integer: int):\n",
    "    sents = []\n",
    "    for item_list in [nltk.word_tokenize(word) for word in Messages.sents(integer)]:\n",
    "        for item in item_list:\n",
    "            if item in string.punctuation or item in string.digits or item in string.digits:\n",
    "                continue\n",
    "            else:\n",
    "                sents.append(item)\n",
    "    return ' '.join(sents)"
   ]
  },
  {
   "cell_type": "code",
   "execution_count": 190,
   "metadata": {},
   "outputs": [],
   "source": [
    "def clean(integer: int):\n",
    "    cleaned = [re.sub('[%s]' % re.escape(string.punctuation), ' ', item) for item in Messages.get(integer)]\n",
    "    cleaned = [re.sub('[%s]' % re.escape(string.digits), '', item) for item in cleaned]\n",
    "    cleaned = [item.strip() for item in cleaned]\n",
    "    cleaned = [item for item in cleaned if item]\n",
    "    cleaned = [nltk.word_tokenize(item) for item in cleaned]\n",
    "    cleaned = [' '.join(item) for item in cleaned]\n",
    "    return cleaned"
   ]
  },
  {
   "cell_type": "code",
   "execution_count": 191,
   "metadata": {},
   "outputs": [
    {
     "output_type": "execute_result",
     "data": {
      "text/plain": [
       "['Hassan Rouhani',\n",
       " 'Who paid HUSSEIN to attend HARVARD LAW SCHOOL',\n",
       " 'Who is Prince Alwaleed bin Talal',\n",
       " 'Why would Prince Alwaleed bin Talal Saudi Royal pay HUSSEIN to attend HARVARD LAW SCHOOL',\n",
       " 'Was HUSSEIN a prominent political figure or a person of influence at the time',\n",
       " 'No',\n",
       " 'Who is Valerie Jarrett',\n",
       " 'Where was she born',\n",
       " 'When did Valerie Jarrett hire Michelle Robinson',\n",
       " 'Timeline',\n",
       " 'Who is Mayor former Richard Daley',\n",
       " 'Who is Mayor current Rahm Emanuel',\n",
       " 'HUSSEIN should be VERY nervous',\n",
       " 'BRENNAN should be VERY nervous',\n",
       " 'KERRY should be VERY nervous',\n",
       " 'MERKEL should be VERY nervous',\n",
       " 'How were the pallets of cash divided',\n",
       " 'How many planes were used to transport',\n",
       " 'Who operated the planes',\n",
       " 'What shadow agency directed operations',\n",
       " 'Why wasn t the money simply wire transferred',\n",
       " 'US had AUTH to open bank to bank transfers',\n",
       " 'How do you prevent financial T logs',\n",
       " 'How were the cash withdrawals in',\n",
       " 'EU',\n",
       " 'categorized labeled',\n",
       " 'Where did the cash originate from',\n",
       " 'What time of day did the withdrawals occur',\n",
       " 'Who provided SECURITY',\n",
       " 'Why wasn t Congress notified',\n",
       " 'Why was the U S Gov t kept in the DARK',\n",
       " 'US law broken',\n",
       " 'Did ALL planes land in the same location airport',\n",
       " 'Why did particular plane land outside of Iran',\n",
       " 'Why was a helicopter involved',\n",
       " 'WHO did the money go to',\n",
       " 'HOW DO YOU AUDIT A FOREIGN AID BIG BLOCK TRANSFER',\n",
       " 'Did Rouhani keep unknown comms as insurance',\n",
       " 'What agency collects ALL FORMS OF DATA',\n",
       " 'What agency did',\n",
       " 'Snowden',\n",
       " 'work for orig',\n",
       " 'Did he train on THE FARM',\n",
       " 'When did',\n",
       " 'Snowden',\n",
       " 'join No Such Agency',\n",
       " 'Define Contractor',\n",
       " 'Define the PRISM program',\n",
       " 'What year did',\n",
       " 'Snowden',\n",
       " 'release spec details of PRISM',\n",
       " 'Mid',\n",
       " 'IMPACT LIMIT',\n",
       " 'NSA',\n",
       " 's ability to utilize collect',\n",
       " 'FAKE NEWS push for Congressional restrictions',\n",
       " 'OPEN SOURCE PUSH to create COUNTER DEF',\n",
       " 'PURPOSE',\n",
       " 'BLUE SKIES FOR CLOWN',\n",
       " 'OP',\n",
       " 'When was the Joint Plan of Action IRAN DEAL executed',\n",
       " 'Late',\n",
       " 'Do you believe in coincidences',\n",
       " 'Nothing to See Here',\n",
       " 'Q']"
      ]
     },
     "metadata": {},
     "execution_count": 191
    }
   ],
   "source": [
    "clean(3005)"
   ]
  },
  {
   "cell_type": "code",
   "execution_count": 171,
   "metadata": {},
   "outputs": [
    {
     "output_type": "execute_result",
     "data": {
      "text/plain": [
       "\"Hassan Rouhani Who paid HUSSEIN to attend HARVARD LAW SCHOOL Who is Prince Alwaleed bin Talal Why would Prince Alwaleed bin Talal Saudi Royal pay HUSSEIN to attend HARVARD LAW SCHOOL Was HUSSEIN a prominent political figure or a person of influence at the time No Who is Valerie Jarrett Where was she born When did Valerie Jarrett hire Michelle Robinson 1991 Timeline Who is Mayor former Richard Daley Who is Mayor current Rahm Emanuel HUSSEIN should be VERY nervous BRENNAN should be VERY nervous KERRY should be VERY nervous MERKEL should be VERY nervous +29 How were the pallets of cash divided How many planes were used to transport Who operated the planes What 'shadow agency directed operations Why was n't the money simply wire transferred US had AUTH to open bank-to-bank transfers How do you prevent financial T logs How were the cash withdrawals in EU categorized/labeled Where did the cash originate from What time of day did the withdrawals occur Who provided SECURITY Why was n't Congress notified Why was the U.S. Gov't kept in the DARK US law broken Did ALL planes land in the same location airport Why did particular plane land outside of Iran Why was a helicopter involved WHO did the money go to HOW DO YOU AUDIT A FOREIGN AID BIG BLOCK TRANSFER Did Rouhani keep 'unknown comms as insurance What agency collects ALL FORMS OF DATA What agency did Snowden work for orig Did he train on THE FARM When did Snowden join No Such Agency Define 'Contractor Define the 'PRISM program What year did Snowden release spec-details of PRISM Mid 2013 IMPACT-LIMIT NSA 's ability to utilize/collect FAKE NEWS push for Congressional restrictions OPEN SOURCE PUSH to create COUNTER-DEF PURPOSE BLUE SKIES FOR CLOWN OP When was the Joint Plan of Action IRAN DEAL executed Late 2013 Do you believe in coincidences Nothing to See Here Q\""
      ]
     },
     "metadata": {},
     "execution_count": 171
    }
   ],
   "source": [
    "strip(3005)"
   ]
  },
  {
   "cell_type": "code",
   "execution_count": 41,
   "metadata": {},
   "outputs": [
    {
     "output_type": "execute_result",
     "data": {
      "text/plain": [
       "['Fact checkers created in effort to reinforce propaganda [digestion]?',\n",
       " 'The battle to prevent truth from reaching the people.',\n",
       " 'The battle to maintain and push division.',\n",
       " 'Divided you are weak.',\n",
       " 'Divided you fight each other.',\n",
       " 'Divided you pose no threat.',\n",
       " 'System of control.',\n",
       " 'Information warfare.',\n",
       " 'Q']"
      ]
     },
     "metadata": {},
     "execution_count": 41
    }
   ],
   "source": [
    "[i.string for i in messages[10].div if i.string is not None]"
   ]
  },
  {
   "cell_type": "code",
   "execution_count": 45,
   "metadata": {},
   "outputs": [
    {
     "output_type": "stream",
     "name": "stdout",
     "text": [
      "True\nTrue\nTrue\nTrue\nTrue\nTrue\nTrue\nTrue\nTrue\nTrue\n"
     ]
    }
   ],
   "source": [
    "for i in messages[10].div:\n",
    "    print(i.name == 'p')"
   ]
  },
  {
   "cell_type": "code",
   "execution_count": 48,
   "metadata": {},
   "outputs": [
    {
     "output_type": "execute_result",
     "data": {
      "text/plain": [
       "[True, True, True, True, True, True, True, True, True, True]"
      ]
     },
     "metadata": {},
     "execution_count": 48
    }
   ],
   "source": [
    "[i.name == 'p' for i in messages[10].div]"
   ]
  },
  {
   "cell_type": "code",
   "execution_count": 53,
   "metadata": {},
   "outputs": [
    {
     "output_type": "execute_result",
     "data": {
      "text/plain": [
       "[True, True, True, True, True, True, True, True, True, True]"
      ]
     },
     "metadata": {},
     "execution_count": 53
    }
   ],
   "source": [
    "[i.name == 'p' for i in messages[10].div.children]"
   ]
  },
  {
   "cell_type": "code",
   "execution_count": 9,
   "metadata": {},
   "outputs": [
    {
     "output_type": "execute_result",
     "data": {
      "text/plain": [
       "['Fact checkers created in effort to reinforce propaganda [digestion]?',\n",
       " 'The battle to prevent truth from reaching the people.',\n",
       " 'The battle to maintain and push division.',\n",
       " 'Divided you are weak.',\n",
       " 'Divided you fight each other.',\n",
       " 'Divided you pose no threat.',\n",
       " 'System of control.',\n",
       " 'Information warfare.',\n",
       " 'Q']"
      ]
     },
     "metadata": {},
     "execution_count": 9
    }
   ],
   "source": [
    "[i.string for i in messages[10].div if i.string is not None]"
   ]
  },
  {
   "cell_type": "code",
   "execution_count": 10,
   "metadata": {},
   "outputs": [
    {
     "output_type": "execute_result",
     "data": {
      "text/plain": [
       "['Shall we play a game?',\n",
       " '[N]othing [C]an [S]top [W]hat [I]s [C]oming',\n",
       " 'NCSWIC',\n",
       " 'Who stepped down today [forced]?',\n",
       " 'More coming?',\n",
       " 'Why is this relevant?',\n",
       " \"How do you 'show' the public the truth?\",\n",
       " \"How do you 'safeguard' US elections post-POTUS?\",\n",
       " \"How do you 'remove' foreign interference and corruption and install US-owned voter ID law(s) and other safeguards? \",\n",
       " 'It had to be this way.',\n",
       " 'Sometimes you must walk through the darkness before you see the light. ',\n",
       " 'Q']"
      ]
     },
     "metadata": {},
     "execution_count": 10
    }
   ],
   "source": [
    "[i.string for i in messages[2].div if i.string is not None]"
   ]
  },
  {
   "cell_type": "code",
   "execution_count": 11,
   "metadata": {},
   "outputs": [
    {
     "output_type": "execute_result",
     "data": {
      "text/plain": [
       "                        type name  \\\n",
       "0  <class 'bs4.element.Tag'>    p   \n",
       "1  <class 'bs4.element.Tag'>    p   \n",
       "2  <class 'bs4.element.Tag'>    p   \n",
       "3  <class 'bs4.element.Tag'>    p   \n",
       "4  <class 'bs4.element.Tag'>    p   \n",
       "5  <class 'bs4.element.Tag'>    p   \n",
       "6  <class 'bs4.element.Tag'>    p   \n",
       "7  <class 'bs4.element.Tag'>    p   \n",
       "8  <class 'bs4.element.Tag'>    p   \n",
       "9  <class 'bs4.element.Tag'>    p   \n",
       "\n",
       "                                                                  content  \n",
       "0       [https:, [//], twitter.com/BrentScher/status/1322015793593360384]  \n",
       "1  [Fact checkers created in effort to reinforce propaganda [digestion]?]  \n",
       "2                 [The battle to prevent truth from reaching the people.]  \n",
       "3                             [The battle to maintain and push division.]  \n",
       "4                                                 [Divided you are weak.]  \n",
       "5                                         [Divided you fight each other.]  \n",
       "6                                           [Divided you pose no threat.]  \n",
       "7                                                    [System of control.]  \n",
       "8                                                  [Information warfare.]  \n",
       "9                                                                     [Q]  "
      ],
      "text/html": "<div>\n<style scoped>\n    .dataframe tbody tr th:only-of-type {\n        vertical-align: middle;\n    }\n\n    .dataframe tbody tr th {\n        vertical-align: top;\n    }\n\n    .dataframe thead th {\n        text-align: right;\n    }\n</style>\n<table border=\"1\" class=\"dataframe\">\n  <thead>\n    <tr style=\"text-align: right;\">\n      <th></th>\n      <th>type</th>\n      <th>name</th>\n      <th>content</th>\n    </tr>\n  </thead>\n  <tbody>\n    <tr>\n      <th>0</th>\n      <td>&lt;class 'bs4.element.Tag'&gt;</td>\n      <td>p</td>\n      <td>[https:, [//], twitter.com/BrentScher/status/1322015793593360384]</td>\n    </tr>\n    <tr>\n      <th>1</th>\n      <td>&lt;class 'bs4.element.Tag'&gt;</td>\n      <td>p</td>\n      <td>[Fact checkers created in effort to reinforce propaganda [digestion]?]</td>\n    </tr>\n    <tr>\n      <th>2</th>\n      <td>&lt;class 'bs4.element.Tag'&gt;</td>\n      <td>p</td>\n      <td>[The battle to prevent truth from reaching the people.]</td>\n    </tr>\n    <tr>\n      <th>3</th>\n      <td>&lt;class 'bs4.element.Tag'&gt;</td>\n      <td>p</td>\n      <td>[The battle to maintain and push division.]</td>\n    </tr>\n    <tr>\n      <th>4</th>\n      <td>&lt;class 'bs4.element.Tag'&gt;</td>\n      <td>p</td>\n      <td>[Divided you are weak.]</td>\n    </tr>\n    <tr>\n      <th>5</th>\n      <td>&lt;class 'bs4.element.Tag'&gt;</td>\n      <td>p</td>\n      <td>[Divided you fight each other.]</td>\n    </tr>\n    <tr>\n      <th>6</th>\n      <td>&lt;class 'bs4.element.Tag'&gt;</td>\n      <td>p</td>\n      <td>[Divided you pose no threat.]</td>\n    </tr>\n    <tr>\n      <th>7</th>\n      <td>&lt;class 'bs4.element.Tag'&gt;</td>\n      <td>p</td>\n      <td>[System of control.]</td>\n    </tr>\n    <tr>\n      <th>8</th>\n      <td>&lt;class 'bs4.element.Tag'&gt;</td>\n      <td>p</td>\n      <td>[Information warfare.]</td>\n    </tr>\n    <tr>\n      <th>9</th>\n      <td>&lt;class 'bs4.element.Tag'&gt;</td>\n      <td>p</td>\n      <td>[Q]</td>\n    </tr>\n  </tbody>\n</table>\n</div>"
     },
     "metadata": {},
     "execution_count": 11
    }
   ],
   "source": [
    "Messages.dataframe(10)"
   ]
  },
  {
   "cell_type": "code",
   "execution_count": 12,
   "metadata": {},
   "outputs": [
    {
     "output_type": "execute_result",
     "data": {
      "text/plain": [
       "                        type name  \\\n",
       "0  <class 'bs4.element.Tag'>  div   \n",
       "1  <class 'bs4.element.Tag'>    p   \n",
       "2  <class 'bs4.element.Tag'>    p   \n",
       "3  <class 'bs4.element.Tag'>    p   \n",
       "4  <class 'bs4.element.Tag'>    p   \n",
       "\n",
       "                                                                                                                                             content  \n",
       "0  [[[<img data-src=\"/assets/images/127cd473f34edb4b3107629dcd3ec4cc73b1b306993e5877397c9cf7d6fe5c2c.png\" src=\"/img/loading.svg\"/>], [sgrZzEo.png]]]  \n",
       "1                                                                                       [Thank you for your service to our Country, Mr. Trey Gowdy!]  \n",
       "2                                                                                    [Thank you for your service to our Country, Mr. Bob Goodlatte!]  \n",
       "3                                                                                                        [Your sacrifices will never be forgotten. ]  \n",
       "4                                                                                                                                               [Q+]  "
      ],
      "text/html": "<div>\n<style scoped>\n    .dataframe tbody tr th:only-of-type {\n        vertical-align: middle;\n    }\n\n    .dataframe tbody tr th {\n        vertical-align: top;\n    }\n\n    .dataframe thead th {\n        text-align: right;\n    }\n</style>\n<table border=\"1\" class=\"dataframe\">\n  <thead>\n    <tr style=\"text-align: right;\">\n      <th></th>\n      <th>type</th>\n      <th>name</th>\n      <th>content</th>\n    </tr>\n  </thead>\n  <tbody>\n    <tr>\n      <th>0</th>\n      <td>&lt;class 'bs4.element.Tag'&gt;</td>\n      <td>div</td>\n      <td>[[[&lt;img data-src=\"/assets/images/127cd473f34edb4b3107629dcd3ec4cc73b1b306993e5877397c9cf7d6fe5c2c.png\" src=\"/img/loading.svg\"/&gt;], [sgrZzEo.png]]]</td>\n    </tr>\n    <tr>\n      <th>1</th>\n      <td>&lt;class 'bs4.element.Tag'&gt;</td>\n      <td>p</td>\n      <td>[Thank you for your service to our Country, Mr. Trey Gowdy!]</td>\n    </tr>\n    <tr>\n      <th>2</th>\n      <td>&lt;class 'bs4.element.Tag'&gt;</td>\n      <td>p</td>\n      <td>[Thank you for your service to our Country, Mr. Bob Goodlatte!]</td>\n    </tr>\n    <tr>\n      <th>3</th>\n      <td>&lt;class 'bs4.element.Tag'&gt;</td>\n      <td>p</td>\n      <td>[Your sacrifices will never be forgotten. ]</td>\n    </tr>\n    <tr>\n      <th>4</th>\n      <td>&lt;class 'bs4.element.Tag'&gt;</td>\n      <td>p</td>\n      <td>[Q+]</td>\n    </tr>\n  </tbody>\n</table>\n</div>"
     },
     "metadata": {},
     "execution_count": 12
    }
   ],
   "source": [
    "Messages.dataframe(2500)"
   ]
  },
  {
   "cell_type": "code",
   "execution_count": 13,
   "metadata": {},
   "outputs": [
    {
     "output_type": "execute_result",
     "data": {
      "text/plain": [
       "                                      type  name  \\\n",
       "0    <class 'bs4.element.NavigableString'>  None   \n",
       "1                <class 'bs4.element.Tag'>    em   \n",
       "2    <class 'bs4.element.NavigableString'>  None   \n",
       "3                <class 'bs4.element.Tag'>    br   \n",
       "4    <class 'bs4.element.NavigableString'>  None   \n",
       "..                                     ...   ...   \n",
       "127              <class 'bs4.element.Tag'>    br   \n",
       "128  <class 'bs4.element.NavigableString'>  None   \n",
       "129              <class 'bs4.element.Tag'>    br   \n",
       "130  <class 'bs4.element.NavigableString'>  None   \n",
       "131              <class 'bs4.element.Tag'>    br   \n",
       "\n",
       "                                                                                                                                  content  \n",
       "0                                                                                                                                  https:  \n",
       "1                                                                                                                                    [//]  \n",
       "2    in.reuters.com/article/iran-economy-rouhani-sanctions/iran-parliament-censures-rouhani-in-sign-pragmatists-losing-sway-idINKCN1LD0DL  \n",
       "3                                                                                                                                      []  \n",
       "4                                                                                                                        [Hassan Rouhani]  \n",
       "..                                                                                                                                    ...  \n",
       "127                                                                                                                                    []  \n",
       "128                                                                                                                  Nothing to See Here.  \n",
       "129                                                                                                                                    []  \n",
       "130                                                                                                                                     Q  \n",
       "131                                                                                                                                    []  \n",
       "\n",
       "[132 rows x 3 columns]"
      ],
      "text/html": "<div>\n<style scoped>\n    .dataframe tbody tr th:only-of-type {\n        vertical-align: middle;\n    }\n\n    .dataframe tbody tr th {\n        vertical-align: top;\n    }\n\n    .dataframe thead th {\n        text-align: right;\n    }\n</style>\n<table border=\"1\" class=\"dataframe\">\n  <thead>\n    <tr style=\"text-align: right;\">\n      <th></th>\n      <th>type</th>\n      <th>name</th>\n      <th>content</th>\n    </tr>\n  </thead>\n  <tbody>\n    <tr>\n      <th>0</th>\n      <td>&lt;class 'bs4.element.NavigableString'&gt;</td>\n      <td>None</td>\n      <td>https:</td>\n    </tr>\n    <tr>\n      <th>1</th>\n      <td>&lt;class 'bs4.element.Tag'&gt;</td>\n      <td>em</td>\n      <td>[//]</td>\n    </tr>\n    <tr>\n      <th>2</th>\n      <td>&lt;class 'bs4.element.NavigableString'&gt;</td>\n      <td>None</td>\n      <td>in.reuters.com/article/iran-economy-rouhani-sanctions/iran-parliament-censures-rouhani-in-sign-pragmatists-losing-sway-idINKCN1LD0DL</td>\n    </tr>\n    <tr>\n      <th>3</th>\n      <td>&lt;class 'bs4.element.Tag'&gt;</td>\n      <td>br</td>\n      <td>[]</td>\n    </tr>\n    <tr>\n      <th>4</th>\n      <td>&lt;class 'bs4.element.NavigableString'&gt;</td>\n      <td>None</td>\n      <td>[Hassan Rouhani]</td>\n    </tr>\n    <tr>\n      <th>...</th>\n      <td>...</td>\n      <td>...</td>\n      <td>...</td>\n    </tr>\n    <tr>\n      <th>127</th>\n      <td>&lt;class 'bs4.element.Tag'&gt;</td>\n      <td>br</td>\n      <td>[]</td>\n    </tr>\n    <tr>\n      <th>128</th>\n      <td>&lt;class 'bs4.element.NavigableString'&gt;</td>\n      <td>None</td>\n      <td>Nothing to See Here.</td>\n    </tr>\n    <tr>\n      <th>129</th>\n      <td>&lt;class 'bs4.element.Tag'&gt;</td>\n      <td>br</td>\n      <td>[]</td>\n    </tr>\n    <tr>\n      <th>130</th>\n      <td>&lt;class 'bs4.element.NavigableString'&gt;</td>\n      <td>None</td>\n      <td>Q</td>\n    </tr>\n    <tr>\n      <th>131</th>\n      <td>&lt;class 'bs4.element.Tag'&gt;</td>\n      <td>br</td>\n      <td>[]</td>\n    </tr>\n  </tbody>\n</table>\n<p>132 rows × 3 columns</p>\n</div>"
     },
     "metadata": {},
     "execution_count": 13
    }
   ],
   "source": [
    "Messages.dataframe(3005)"
   ]
  },
  {
   "cell_type": "code",
   "execution_count": 14,
   "metadata": {},
   "outputs": [
    {
     "output_type": "execute_result",
     "data": {
      "text/plain": [
       "                                      type  name  \\\n",
       "0    <class 'bs4.element.NavigableString'>  None   \n",
       "1                <class 'bs4.element.Tag'>    em   \n",
       "2    <class 'bs4.element.NavigableString'>  None   \n",
       "4    <class 'bs4.element.NavigableString'>  None   \n",
       "6    <class 'bs4.element.NavigableString'>  None   \n",
       "..                                     ...   ...   \n",
       "122  <class 'bs4.element.NavigableString'>  None   \n",
       "124  <class 'bs4.element.NavigableString'>  None   \n",
       "126  <class 'bs4.element.NavigableString'>  None   \n",
       "128  <class 'bs4.element.NavigableString'>  None   \n",
       "130  <class 'bs4.element.NavigableString'>  None   \n",
       "\n",
       "                                                                                                                                  content  \n",
       "0                                                                                                                                  https:  \n",
       "1                                                                                                                                    [//]  \n",
       "2    in.reuters.com/article/iran-economy-rouhani-sanctions/iran-parliament-censures-rouhani-in-sign-pragmatists-losing-sway-idINKCN1LD0DL  \n",
       "4                                                                                                                        [Hassan Rouhani]  \n",
       "6                                                                                          Who paid HUSSEIN to attend HARVARD LAW SCHOOL?  \n",
       "..                                                                                                                                    ...  \n",
       "122                                                                              When was the Joint Plan of Action (IRAN DEAL) executed?   \n",
       "124                                                                                                                            Late 2013?  \n",
       "126                                                                                                       Do you believe in coincidences?  \n",
       "128                                                                                                                  Nothing to See Here.  \n",
       "130                                                                                                                                     Q  \n",
       "\n",
       "[74 rows x 3 columns]"
      ],
      "text/html": "<div>\n<style scoped>\n    .dataframe tbody tr th:only-of-type {\n        vertical-align: middle;\n    }\n\n    .dataframe tbody tr th {\n        vertical-align: top;\n    }\n\n    .dataframe thead th {\n        text-align: right;\n    }\n</style>\n<table border=\"1\" class=\"dataframe\">\n  <thead>\n    <tr style=\"text-align: right;\">\n      <th></th>\n      <th>type</th>\n      <th>name</th>\n      <th>content</th>\n    </tr>\n  </thead>\n  <tbody>\n    <tr>\n      <th>0</th>\n      <td>&lt;class 'bs4.element.NavigableString'&gt;</td>\n      <td>None</td>\n      <td>https:</td>\n    </tr>\n    <tr>\n      <th>1</th>\n      <td>&lt;class 'bs4.element.Tag'&gt;</td>\n      <td>em</td>\n      <td>[//]</td>\n    </tr>\n    <tr>\n      <th>2</th>\n      <td>&lt;class 'bs4.element.NavigableString'&gt;</td>\n      <td>None</td>\n      <td>in.reuters.com/article/iran-economy-rouhani-sanctions/iran-parliament-censures-rouhani-in-sign-pragmatists-losing-sway-idINKCN1LD0DL</td>\n    </tr>\n    <tr>\n      <th>4</th>\n      <td>&lt;class 'bs4.element.NavigableString'&gt;</td>\n      <td>None</td>\n      <td>[Hassan Rouhani]</td>\n    </tr>\n    <tr>\n      <th>6</th>\n      <td>&lt;class 'bs4.element.NavigableString'&gt;</td>\n      <td>None</td>\n      <td>Who paid HUSSEIN to attend HARVARD LAW SCHOOL?</td>\n    </tr>\n    <tr>\n      <th>...</th>\n      <td>...</td>\n      <td>...</td>\n      <td>...</td>\n    </tr>\n    <tr>\n      <th>122</th>\n      <td>&lt;class 'bs4.element.NavigableString'&gt;</td>\n      <td>None</td>\n      <td>When was the Joint Plan of Action (IRAN DEAL) executed?</td>\n    </tr>\n    <tr>\n      <th>124</th>\n      <td>&lt;class 'bs4.element.NavigableString'&gt;</td>\n      <td>None</td>\n      <td>Late 2013?</td>\n    </tr>\n    <tr>\n      <th>126</th>\n      <td>&lt;class 'bs4.element.NavigableString'&gt;</td>\n      <td>None</td>\n      <td>Do you believe in coincidences?</td>\n    </tr>\n    <tr>\n      <th>128</th>\n      <td>&lt;class 'bs4.element.NavigableString'&gt;</td>\n      <td>None</td>\n      <td>Nothing to See Here.</td>\n    </tr>\n    <tr>\n      <th>130</th>\n      <td>&lt;class 'bs4.element.NavigableString'&gt;</td>\n      <td>None</td>\n      <td>Q</td>\n    </tr>\n  </tbody>\n</table>\n<p>74 rows × 3 columns</p>\n</div>"
     },
     "metadata": {},
     "execution_count": 14
    }
   ],
   "source": [
    " Messages.dataframe(3005).drop(Messages.dataframe(3005)[Messages.dataframe(3005).name == 'br'].index)"
   ]
  },
  {
   "cell_type": "code",
   "execution_count": 98,
   "metadata": {},
   "outputs": [
    {
     "output_type": "execute_result",
     "data": {
      "text/plain": [
       "['Fact checkers created in effort to reinforce propaganda [digestion]?',\n",
       " 'The battle to prevent truth from reaching the people.',\n",
       " 'The battle to maintain and push division.',\n",
       " 'Divided you are weak.',\n",
       " 'Divided you fight each other.',\n",
       " 'Divided you pose no threat.',\n",
       " 'System of control.',\n",
       " 'Information warfare.',\n",
       " 'Q']"
      ]
     },
     "metadata": {},
     "execution_count": 98
    }
   ],
   "source": [
    "Messages.get(10)"
   ]
  },
  {
   "cell_type": "code",
   "execution_count": 97,
   "metadata": {},
   "outputs": [
    {
     "output_type": "execute_result",
     "data": {
      "text/plain": [
       "['Fact checkers created in effort to reinforce propaganda [digestion]?',\n",
       " 'The battle to prevent truth from reaching the people.',\n",
       " 'The battle to maintain and push division.',\n",
       " 'Divided you are weak.',\n",
       " 'Divided you fight each other.',\n",
       " 'Divided you pose no threat.',\n",
       " 'System of control.',\n",
       " 'Information warfare.',\n",
       " 'Q']"
      ]
     },
     "metadata": {},
     "execution_count": 97
    }
   ],
   "source": [
    "list(itertools.chain.from_iterable([nltk.sent_tokenize(i) for i in Messages.get(10)]))"
   ]
  },
  {
   "cell_type": "code",
   "execution_count": 17,
   "metadata": {},
   "outputs": [
    {
     "output_type": "execute_result",
     "data": {
      "text/plain": [
       "['strong', None]"
      ]
     },
     "metadata": {},
     "execution_count": 17
    }
   ],
   "source": [
    "[i.name for i in meta_lar[1].find('span', 'name').children]"
   ]
  },
  {
   "cell_type": "code",
   "execution_count": 18,
   "metadata": {},
   "outputs": [
    {
     "output_type": "execute_result",
     "data": {
      "text/plain": [
       "[('span', {'class': ['num']}),\n",
       " ('span', {'class': ['time']}),\n",
       " ('span', {'class': ['name']}),\n",
       " ('span', {'class': ['source']}),\n",
       " ('span', {'class': ['copy']})]"
      ]
     },
     "metadata": {},
     "execution_count": 18
    }
   ],
   "source": [
    "[(i.name, i.attrs) for i in meta_lar[0].children]"
   ]
  },
  {
   "cell_type": "code",
   "execution_count": 19,
   "metadata": {},
   "outputs": [
    {
     "output_type": "execute_result",
     "data": {
      "text/plain": [
       "pandas.core.frame.DataFrame"
      ]
     },
     "metadata": {},
     "execution_count": 19
    }
   ],
   "source": [
    "#drop entire row if name == br?\n",
    "type(Messages.dataframe(4950))"
   ]
  },
  {
   "cell_type": "code",
   "execution_count": 21,
   "metadata": {},
   "outputs": [],
   "source": [
    "index_list = [i for i,e in enumerate(Messages.split(4800)) if e in replace_dict.keys()]"
   ]
  },
  {
   "cell_type": "code",
   "execution_count": 22,
   "metadata": {},
   "outputs": [
    {
     "output_type": "execute_result",
     "data": {
      "text/plain": [
       "['highly']"
      ]
     },
     "metadata": {},
     "execution_count": 22
    }
   ],
   "source": [
    "[e for i,e in enumerate(Messages.split(4800)) if i == 182]"
   ]
  },
  {
   "cell_type": "code",
   "execution_count": 23,
   "metadata": {},
   "outputs": [
    {
     "output_type": "execute_result",
     "data": {
      "text/plain": [
       "['&', 'MSM', 'ID', 'SA']"
      ]
     },
     "metadata": {},
     "execution_count": 23
    }
   ],
   "source": [
    "[e for i,e in enumerate(Messages.split(4800)) if i in index_list]"
   ]
  },
  {
   "cell_type": "code",
   "execution_count": 24,
   "metadata": {},
   "outputs": [
    {
     "output_type": "execute_result",
     "data": {
      "text/plain": [
       "'and'"
      ]
     },
     "metadata": {},
     "execution_count": 24
    }
   ],
   "source": [
    "replace_dict.get('&')"
   ]
  },
  {
   "source": [
    "Replace an abbr with its value in the replacement_dict: \n",
    "\n",
    "for scanner function: "
   ],
   "cell_type": "markdown",
   "metadata": {}
  },
  {
   "cell_type": "code",
   "execution_count": 25,
   "metadata": {},
   "outputs": [
    {
     "output_type": "stream",
     "name": "stdout",
     "text": [
      "How\nbad\nis\nthe\ncorruption?\nFBI\n(past/present)#1#1\n#2+29\n(16)DOJ\n(past/present)#1#1#2\n+18\nSTATE\n(past/present)#1#1+41Removal\nis\nthe\nleast\nof\ntheir\nproblems.Projection.Russia>D/HRCTwitter\nBots>GOOG\noperated\n(not\nRussia)/Narrative\nand\nPolitical\nSLANTBIDEN\n/\nCHINA.BIG\nDEVELOPMENT.TRAITORS\nEVERYWHERE.AMERICA\nFOR\nSALE.FLYNN.Targeted.Why?Who\nknows\nwhere\nthe\nbodies\nare\nburied?CLEARED\nOF\nALL\nCHARGES.TRUMP\nADMIN\nv2?Election\ntheft.Last\nhope.Congressional\nfocus.Impeach.They\nthink\nyou\nare\nSTUPID.They\nthink\nyou\nwill\nfollow\nthe\nSTARS.They\nopenly\ncall\nyou\nSHEEP/CATTLE.THERE\nWILL\nCOME\nA\nTIME\nNONE\nOF\nTHEM\nWILL\nBE\nABLE\nTO\nWALK\nDOWN\nTHE\nSTREET.BIGGEST\nFEAR.PUBLIC\nAWAKENING.Q\n"
     ]
    }
   ],
   "source": [
    "# How we will implement the swap when the words are broken down as far as they can go, ie when there aren't any - or / separating words\n",
    "for item in Messages.split(4000):\n",
    "    if item in replace_dict.keys():\n",
    "        item =  replace_dict.get(item)\n",
    "        print(item)\n",
    "    else:\n",
    "        print(item)"
   ]
  },
  {
   "cell_type": "code",
   "execution_count": 87,
   "metadata": {},
   "outputs": [
    {
     "output_type": "stream",
     "name": "stdout",
     "text": [
      "How\nbad\nis\nthe\ncorruption\nFBI\npast\npresent\nDOJ\npast\npresent\nSTATE\npast\npresent\nRemoval\nis\nthe\nleast\nof\ntheir\nproblems\nProjection\nRussia\nD\nHRC\nTwitter\nBots\nGOOG\noperated\nnot\nRussia\nNarrative\nPolitical\nSLANT\nBIDEN\nCHINA\nBIG\nDEVELOPMENT\nTRAITORS\nEVERYWHERE\nAMERICA\nFOR\nSALE\nFLYNN\nTargeted\nWhy\nWho\nknows\nwhere\nthe\nbodies\nare\nburied\nCLEARED\nOF\nALL\nCHARGES\nTRUMP\nADMIN\nv\nElection\ntheft\nLast\nhope\nCongressional\nfocus\nImpeach\nThey\nthink\nyou\nare\nSTUPID\nThey\nthink\nyou\nwill\nfollow\nthe\nSTARS\nThey\nopenly\ncall\nyou\nSHEEP\nCATTLE\nTHERE\nWILL\nCOME\nA\nTIME\nNONE\nOF\nTHEM\nWILL\nBE\nABLE\nTO\nWALK\nDOWN\nTHE\nSTREET\nBIGGEST\nFEAR\nPUBLIC\nAWAKENING\nQ\n"
     ]
    }
   ],
   "source": [
    "for item in swap(4000):\n",
    "    if item in replace_dict.keys():\n",
    "        item =  replace_dict.get(item)\n",
    "        print(item)\n",
    "    else:\n",
    "        print(item)"
   ]
  },
  {
   "cell_type": "code",
   "execution_count": 88,
   "metadata": {},
   "outputs": [],
   "source": [
    "replace_dict.update({'v': 'versus', 'D': 'Democrats', 'GOOG': 'Google'})"
   ]
  },
  {
   "cell_type": "code",
   "execution_count": 91,
   "metadata": {},
   "outputs": [
    {
     "output_type": "execute_result",
     "data": {
      "text/plain": [
       "{'r v d': 'republicans vs democrats',\n",
       " 'rs': 'republicans',\n",
       " \"r's\": 'republicans',\n",
       " \"d's\": 'democrats',\n",
       " 'ds': 'democrats',\n",
       " '[D]': 'Democratic',\n",
       " 'US': 'United States',\n",
       " ' w ': 'with',\n",
       " 'w/': 'with',\n",
       " '&': 'and',\n",
       " 'MSM': 'mainstream media',\n",
       " 'ID': 'identification',\n",
       " 'SA': 'Saudi Arabia',\n",
       " 'MS-13': 'ms thirteen',\n",
       " 'COVID19': 'covid',\n",
       " \"M's\": 'marshalls',\n",
       " 'HUSSEIN': 'Barack Obama',\n",
       " 'BRENNAN': 'John Brennan',\n",
       " 'MERKEL': 'Angela Merkel',\n",
       " 'KERRY': 'John Kerry',\n",
       " 'v2': 'version two',\n",
       " 'U.S.': 'United States',\n",
       " \"Gov't\": 'government',\n",
       " 'comms': 'communications',\n",
       " 'financial T': 'financial transactions',\n",
       " 'No Such Agency': 'NSA',\n",
       " 'v': 'versus',\n",
       " 'D': 'Democrats',\n",
       " 'GOOG': 'Google'}"
      ]
     },
     "metadata": {},
     "execution_count": 91
    }
   ],
   "source": [
    "replace_dict"
   ]
  },
  {
   "cell_type": "code",
   "execution_count": 85,
   "metadata": {},
   "outputs": [
    {
     "output_type": "execute_result",
     "data": {
      "text/plain": [
       "     number            datetime            name                 source\n",
       "953    4000 2020-04-29 00:58:18  Q !!Hs1Jq13jV6  8kun/qresearch8953725"
      ],
      "text/html": "<div>\n<style scoped>\n    .dataframe tbody tr th:only-of-type {\n        vertical-align: middle;\n    }\n\n    .dataframe tbody tr th {\n        vertical-align: top;\n    }\n\n    .dataframe thead th {\n        text-align: right;\n    }\n</style>\n<table border=\"1\" class=\"dataframe\">\n  <thead>\n    <tr style=\"text-align: right;\">\n      <th></th>\n      <th>number</th>\n      <th>datetime</th>\n      <th>name</th>\n      <th>source</th>\n    </tr>\n  </thead>\n  <tbody>\n    <tr>\n      <th>953</th>\n      <td>4000</td>\n      <td>2020-04-29 00:58:18</td>\n      <td>Q !!Hs1Jq13jV6</td>\n      <td>8kun/qresearch8953725</td>\n    </tr>\n  </tbody>\n</table>\n</div>"
     },
     "metadata": {},
     "execution_count": 85
    }
   ],
   "source": [
    "index_df[index_df.number == 4000]"
   ]
  },
  {
   "cell_type": "code",
   "execution_count": 26,
   "metadata": {},
   "outputs": [
    {
     "output_type": "execute_result",
     "data": {
      "text/plain": [
       "59           EU\n",
       "89     @Snowden\n",
       "95     @Snowden\n",
       "103    @Snowden\n",
       "109         NSA\n",
       "119          OP\n",
       "Name: content, dtype: object"
      ]
     },
     "metadata": {},
     "execution_count": 26
    }
   ],
   "source": [
    "Messages.get_abbr(3005)['content'].explode()"
   ]
  },
  {
   "source": [
    "this should be the new split logic; what happens otherwise is that the link will be broken up\n",
    "\n",
    "this way, we can edit it out in one pass \n"
   ],
   "cell_type": "markdown",
   "metadata": {}
  },
  {
   "cell_type": "code",
   "execution_count": 119,
   "metadata": {},
   "outputs": [
    {
     "output_type": "execute_result",
     "data": {
      "text/plain": [
       "['[Hassan Rouhani]',\n",
       " 'Who paid HUSSEIN to attend HARVARD LAW SCHOOL?',\n",
       " 'Who is Prince Alwaleed bin Talal?',\n",
       " 'Why would Prince Alwaleed bin Talal (Saudi Royal) pay HUSSEIN to attend HARVARD LAW SCHOOL?',\n",
       " 'Was HUSSEIN a prominent political figure or a person of influence at the time?',\n",
       " 'No.',\n",
       " 'Who is Valerie Jarrett? ',\n",
       " 'Where was she born?',\n",
       " 'When did Valerie Jarrett hire Michelle Robinson?',\n",
       " '1991',\n",
       " 'Timeline.',\n",
       " 'Who is Mayor (former) Richard Daley?',\n",
       " 'Who is Mayor (current) Rahm Emanuel?',\n",
       " 'HUSSEIN should be VERY nervous.',\n",
       " 'BRENNAN should be VERY nervous.',\n",
       " 'KERRY should be VERY nervous.',\n",
       " 'MERKEL should be VERY nervous.',\n",
       " '+29',\n",
       " 'How were the pallets of cash divided?',\n",
       " 'How many planes were used to transport? ',\n",
       " 'Who operated the planes?',\n",
       " \"What 'shadow' agency directed operations?\",\n",
       " \"Why wasn't the money [simply] wire transferred?\",\n",
       " 'US had AUTH to open bank-to-bank transfers.',\n",
       " 'How do you prevent financial T logs?',\n",
       " 'How were the cash withdrawals in ',\n",
       " 'EU',\n",
       " ' categorized/labeled? ',\n",
       " 'Where did the cash originate from?',\n",
       " 'What time of day did the withdrawals occur? ',\n",
       " 'Who provided SECURITY?',\n",
       " \"Why wasn't Congress notified?\",\n",
       " \"Why was the U.S. Gov't kept in the DARK?\",\n",
       " 'US law broken?',\n",
       " 'Did ALL planes land in the same location (airport)? ',\n",
       " 'Why did [1] particular plane land outside of Iran?',\n",
       " 'Why was a helicopter involved?',\n",
       " '[WHO] did the money go to?',\n",
       " 'HOW DO YOU AUDIT A FOREIGN AID BIG BLOCK TRANSFER?',\n",
       " \"Did Rouhani keep 'unknown' comms as insurance?\",\n",
       " 'What agency collects ALL FORMS OF DATA?',\n",
       " 'What agency did ',\n",
       " '@Snowden',\n",
       " ' work for orig?',\n",
       " 'Did he train on THE FARM?',\n",
       " 'When did ',\n",
       " '@Snowden',\n",
       " ' join No Such Agency?',\n",
       " \"Define 'Contractor'.\",\n",
       " \"Define the 'PRISM' program.\",\n",
       " 'What year did ',\n",
       " '@Snowden',\n",
       " ' release spec-details of PRISM?',\n",
       " 'Mid 2013?',\n",
       " 'IMPACT-LIMIT ',\n",
       " 'NSA',\n",
       " \"'s ability to utilize/collect? \",\n",
       " 'FAKE NEWS push for Congressional restrictions?',\n",
       " 'OPEN SOURCE PUSH to create COUNTER-DEF?',\n",
       " 'PURPOSE?',\n",
       " 'BLUE SKIES FOR CLOWN ',\n",
       " 'OP',\n",
       " '?',\n",
       " 'When was the Joint Plan of Action (IRAN DEAL) executed? ',\n",
       " 'Late 2013?',\n",
       " 'Do you believe in coincidences?',\n",
       " 'Nothing to See Here.',\n",
       " 'Q']"
      ]
     },
     "metadata": {},
     "execution_count": 119
    }
   ],
   "source": [
    "[i for i in Messages.get(integer) if not i.startswith('https') and not i.startswith('in.') and not i.startswith('www.')]"
   ]
  },
  {
   "cell_type": "code",
   "execution_count": 109,
   "metadata": {},
   "outputs": [
    {
     "output_type": "execute_result",
     "data": {
      "text/plain": [
       "[['https:',\n",
       "  'in.reuters.com/article/iran-economy-rouhani-sanctions/iran-parliament-censures-rouhani-in-sign-pragmatists-losing-sway-idINKCN1LD0DL',\n",
       "  '[Hassan',\n",
       "  'Rouhani]',\n",
       "  'Who',\n",
       "  'paid',\n",
       "  'HUSSEIN',\n",
       "  'to',\n",
       "  'attend',\n",
       "  'HARVARD',\n",
       "  'LAW',\n",
       "  'SCHOOL?'],\n",
       " ['Who', 'is', 'Prince', 'Alwaleed', 'bin', 'Talal?'],\n",
       " ['Why',\n",
       "  'would',\n",
       "  'Prince',\n",
       "  'Alwaleed',\n",
       "  'bin',\n",
       "  'Talal',\n",
       "  '(Saudi',\n",
       "  'Royal)',\n",
       "  'pay',\n",
       "  'HUSSEIN',\n",
       "  'to',\n",
       "  'attend',\n",
       "  'HARVARD',\n",
       "  'LAW',\n",
       "  'SCHOOL?'],\n",
       " ['Was',\n",
       "  'HUSSEIN',\n",
       "  'a',\n",
       "  'prominent',\n",
       "  'political',\n",
       "  'figure',\n",
       "  'or',\n",
       "  'a',\n",
       "  'person',\n",
       "  'of',\n",
       "  'influence',\n",
       "  'at',\n",
       "  'the',\n",
       "  'time?'],\n",
       " ['No.'],\n",
       " ['Who', 'is', 'Valerie', 'Jarrett?'],\n",
       " ['Where', 'was', 'she', 'born?'],\n",
       " ['When', 'did', 'Valerie', 'Jarrett', 'hire', 'Michelle', 'Robinson?'],\n",
       " ['1991', 'Timeline.'],\n",
       " ['https:',\n",
       "  'www.thisisinsider.com/how-did-barack-and-michelle-obama-meet-2017-10#1991-they-got-engaged-in-a-simple-and-sweet-way-3',\n",
       "  'Who',\n",
       "  'is',\n",
       "  'Mayor',\n",
       "  '(former)',\n",
       "  'Richard',\n",
       "  'Daley?'],\n",
       " ['Who', 'is', 'Mayor', '(current)', 'Rahm', 'Emanuel?'],\n",
       " ['HUSSEIN', 'should', 'be', 'VERY', 'nervous.'],\n",
       " ['BRENNAN', 'should', 'be', 'VERY', 'nervous.'],\n",
       " ['KERRY', 'should', 'be', 'VERY', 'nervous.'],\n",
       " ['MERKEL', 'should', 'be', 'VERY', 'nervous.'],\n",
       " ['+29', 'How', 'were', 'the', 'pallets', 'of', 'cash', 'divided?'],\n",
       " ['How', 'many', 'planes', 'were', 'used', 'to', 'transport?'],\n",
       " ['Who', 'operated', 'the', 'planes?'],\n",
       " ['What', \"'shadow'\", 'agency', 'directed', 'operations?'],\n",
       " ['Why', \"wasn't\", 'the', 'money', '[simply]', 'wire', 'transferred?'],\n",
       " ['US', 'had', 'AUTH', 'to', 'open', 'bank-to-bank', 'transfers.'],\n",
       " ['How', 'do', 'you', 'prevent', 'financial', 'T', 'logs?'],\n",
       " ['How',\n",
       "  'were',\n",
       "  'the',\n",
       "  'cash',\n",
       "  'withdrawals',\n",
       "  'in',\n",
       "  'EU',\n",
       "  'categorized/labeled?'],\n",
       " ['Where', 'did', 'the', 'cash', 'originate', 'from?'],\n",
       " ['What', 'time', 'of', 'day', 'did', 'the', 'withdrawals', 'occur?'],\n",
       " ['Who', 'provided', 'SECURITY?'],\n",
       " ['Why', \"wasn't\", 'Congress', 'notified?'],\n",
       " ['Why', 'was', 'the', 'U.S.', \"Gov't\", 'kept', 'in', 'the', 'DARK?'],\n",
       " ['US', 'law', 'broken?'],\n",
       " ['Did',\n",
       "  'ALL',\n",
       "  'planes',\n",
       "  'land',\n",
       "  'in',\n",
       "  'the',\n",
       "  'same',\n",
       "  'location',\n",
       "  '(airport)?'],\n",
       " ['Why',\n",
       "  'did',\n",
       "  '[1]',\n",
       "  'particular',\n",
       "  'plane',\n",
       "  'land',\n",
       "  'outside',\n",
       "  'of',\n",
       "  'Iran?'],\n",
       " ['Why', 'was', 'a', 'helicopter', 'involved?'],\n",
       " ['[WHO]', 'did', 'the', 'money', 'go', 'to?'],\n",
       " ['HOW',\n",
       "  'DO',\n",
       "  'YOU',\n",
       "  'AUDIT',\n",
       "  'A',\n",
       "  'FOREIGN',\n",
       "  'AID',\n",
       "  'BIG',\n",
       "  'BLOCK',\n",
       "  'TRANSFER?'],\n",
       " ['Did', 'Rouhani', 'keep', \"'unknown'\", 'comms', 'as', 'insurance?'],\n",
       " ['What', 'agency', 'collects', 'ALL', 'FORMS', 'OF', 'DATA?'],\n",
       " ['What', 'agency', 'did', '@Snowden', 'work', 'for', 'orig?'],\n",
       " ['Did', 'he', 'train', 'on', 'THE', 'FARM?'],\n",
       " ['When', 'did', '@Snowden', 'join', 'No', 'Such', 'Agency?'],\n",
       " ['Define', \"'Contractor'.\"],\n",
       " ['Define', 'the', \"'PRISM'\", 'program.'],\n",
       " ['What',\n",
       "  'year',\n",
       "  'did',\n",
       "  '@Snowden',\n",
       "  'release',\n",
       "  'spec-details',\n",
       "  'of',\n",
       "  'PRISM?'],\n",
       " ['Mid', '2013?'],\n",
       " ['IMPACT-LIMIT', 'NSA', \"'s\", 'ability', 'to', 'utilize/collect?'],\n",
       " ['FAKE', 'NEWS', 'push', 'for', 'Congressional', 'restrictions?'],\n",
       " ['OPEN', 'SOURCE', 'PUSH', 'to', 'create', 'COUNTER-DEF?'],\n",
       " ['PURPOSE?'],\n",
       " ['BLUE', 'SKIES', 'FOR', 'CLOWN', 'OP', '?'],\n",
       " ['When',\n",
       "  'was',\n",
       "  'the',\n",
       "  'Joint',\n",
       "  'Plan',\n",
       "  'of',\n",
       "  'Action',\n",
       "  '(IRAN',\n",
       "  'DEAL)',\n",
       "  'executed?'],\n",
       " ['Late', '2013?'],\n",
       " ['Do', 'you', 'believe', 'in', 'coincidences?'],\n",
       " ['Nothing', 'to', 'See', 'Here.'],\n",
       " ['Q']]"
      ]
     },
     "metadata": {},
     "execution_count": 109
    }
   ],
   "source": [
    "[Messages.sents(3005)[i].split() for i in range(0, len(Messages.sents(3005)))]"
   ]
  },
  {
   "cell_type": "code",
   "execution_count": 105,
   "metadata": {},
   "outputs": [
    {
     "output_type": "execute_result",
     "data": {
      "text/plain": [
       "[['Fact',\n",
       "  'checkers',\n",
       "  'created',\n",
       "  'in',\n",
       "  'effort',\n",
       "  'to',\n",
       "  'reinforce',\n",
       "  'propaganda',\n",
       "  '[digestion]?'],\n",
       " ['The',\n",
       "  'battle',\n",
       "  'to',\n",
       "  'prevent',\n",
       "  'truth',\n",
       "  'from',\n",
       "  'reaching',\n",
       "  'the',\n",
       "  'people.'],\n",
       " ['The', 'battle', 'to', 'maintain', 'and', 'push', 'division.'],\n",
       " ['Divided', 'you', 'are', 'weak.'],\n",
       " ['Divided', 'you', 'fight', 'each', 'other.'],\n",
       " ['Divided', 'you', 'pose', 'no', 'threat.'],\n",
       " ['System', 'of', 'control.'],\n",
       " ['Information', 'warfare.'],\n",
       " ['Q']]"
      ]
     },
     "metadata": {},
     "execution_count": 105
    }
   ],
   "source": [
    "[i.split() for i in Messages.get(10)]"
   ]
  },
  {
   "cell_type": "code",
   "execution_count": null,
   "metadata": {},
   "outputs": [],
   "source": [
    "# Messages.split() should return a flat list of words that've been split\n",
    "# Tokenize the sentences into words\n",
    "# are any of the items in the list also in replace_dict.keys()? If they are, swap out?"
   ]
  },
  {
   "cell_type": "code",
   "execution_count": 81,
   "metadata": {},
   "outputs": [
    {
     "output_type": "execute_result",
     "data": {
      "text/plain": [
       "['FISA  (ABCs) v INSCOM NOFORN NSA  INSCOM BRIDGE FISA  = FISC Who is accountable to Congress (civilian body)?',\n",
       " \"Define 'State Secrets'.\",\n",
       " 'Process of obtaining a  FISA  warrant?',\n",
       " 'What must be DEMONSTRATED to be GRANTED?',\n",
       " 'Who must SIGN OFF?',\n",
       " \"Can 'select' individuals in senior positions of power be SHADOW BANNED from ACTIVE  FISA  WARRANTS / SURV?\",\n",
       " 'NAT  SEC Sufficient evidence shown to demonstrate rogue elements of intelligence apparatus illegally violated  FISA  law (tenets) in coordinated effort w/ d+foreign allies to impact/mod the outcome of the 2016 Presidential election & safeguard against future uncover / criminal prosecution?',\n",
       " 'Who must sign off on  FISA  warrants?',\n",
       " 'Who directs the signers?',\n",
       " 'Given magnitude of spy campaign (U.S. Presidential Election Republican Party Nominee Candidate + President Elect + President of the United States) would HUSSEIN be required to DIRECT ORDER?',\n",
       " 'How would updates occur?',\n",
       " 'PDB?',\n",
       " 'Who has access to the PDB?',\n",
       " 'On-site CLAS briefings / SIT ROOM / OO / PEOC / N_C?',\n",
       " 'How often does a President use PEOC?',\n",
       " \"'Foreign' tangent req to obtain warrant to spy on U.S. ORIG?\",\n",
       " \"Define 'Projection'.\",\n",
       " 'What is Known?',\n",
       " 'Connections (them) to Russia/other F assets?',\n",
       " 'Who commands INSCOM?',\n",
       " 'Who commands No Such Agency?',\n",
       " 'Who has ULTIMATE command?',\n",
       " 'Q']"
      ]
     },
     "metadata": {},
     "execution_count": 81
    }
   ],
   "source": [
    "[i for i in Messages.sents(3009) if not i.startswith('https')]"
   ]
  },
  {
   "cell_type": "code",
   "execution_count": 77,
   "metadata": {},
   "outputs": [
    {
     "output_type": "execute_result",
     "data": {
      "text/plain": [
       "['HRC',\n",
       " 'extradition',\n",
       " 'already',\n",
       " 'in',\n",
       " 'motion',\n",
       " 'effective',\n",
       " 'yesterday',\n",
       " 'with',\n",
       " 'several',\n",
       " 'countries',\n",
       " 'in',\n",
       " 'case',\n",
       " 'of',\n",
       " 'cross',\n",
       " 'border',\n",
       " 'run',\n",
       " 'Passport',\n",
       " 'approved',\n",
       " 'to',\n",
       " 'be',\n",
       " 'flagged',\n",
       " 'effective',\n",
       " 'am',\n",
       " 'Expect',\n",
       " 'massive',\n",
       " 'riots',\n",
       " 'organized',\n",
       " 'in',\n",
       " 'defiance',\n",
       " 'and',\n",
       " 'others',\n",
       " 'fleeing',\n",
       " 'the',\n",
       " 'US',\n",
       " 'to',\n",
       " 'occur',\n",
       " 'US',\n",
       " 'M',\n",
       " '’',\n",
       " 's',\n",
       " 'will',\n",
       " 'conduct',\n",
       " 'the',\n",
       " 'operation',\n",
       " 'while',\n",
       " 'NG',\n",
       " 'activated',\n",
       " 'Proof',\n",
       " 'check',\n",
       " 'Locate',\n",
       " 'a',\n",
       " 'NG',\n",
       " 'member',\n",
       " 'and',\n",
       " 'ask',\n",
       " 'if',\n",
       " 'activated',\n",
       " 'for',\n",
       " 'duty',\n",
       " 'across',\n",
       " 'most',\n",
       " 'major',\n",
       " 'cities']"
      ]
     },
     "metadata": {},
     "execution_count": 77
    }
   ],
   "source": [
    "swap(-1)"
   ]
  },
  {
   "cell_type": "code",
   "execution_count": 90,
   "metadata": {},
   "outputs": [],
   "source": [
    "replace_dict.update({'comms': 'communications'})"
   ]
  },
  {
   "cell_type": "code",
   "execution_count": null,
   "metadata": {},
   "outputs": [],
   "source": [
    "# after the chars are joined back together, if the item is in the replace_dict.keys():\n",
    "# item = replace_dict.get(item)\n",
    "# THEN the items can be joined back together to be sent tokenized"
   ]
  },
  {
   "cell_type": "code",
   "execution_count": 33,
   "metadata": {},
   "outputs": [],
   "source": [
    "replace_dict.update({'financial T': 'financial transactions'})"
   ]
  },
  {
   "cell_type": "code",
   "execution_count": 34,
   "metadata": {},
   "outputs": [],
   "source": [
    "replace_dict.update({'No Such Agency': 'NSA'})"
   ]
  },
  {
   "cell_type": "code",
   "execution_count": 35,
   "metadata": {},
   "outputs": [
    {
     "output_type": "execute_result",
     "data": {
      "text/plain": [
       "True"
      ]
     },
     "metadata": {},
     "execution_count": 35
    }
   ],
   "source": [
    "'No Such Agency' in replace_dict.keys()"
   ]
  },
  {
   "cell_type": "code",
   "execution_count": 36,
   "metadata": {},
   "outputs": [
    {
     "output_type": "execute_result",
     "data": {
      "text/plain": [
       "True"
      ]
     },
     "metadata": {},
     "execution_count": 36
    }
   ],
   "source": [
    "\"Gov't\" in replace_dict.keys()"
   ]
  },
  {
   "cell_type": "code",
   "execution_count": 144,
   "metadata": {},
   "outputs": [],
   "source": [
    "def check_string(integer: int):\n",
    "    length = len(Messages.split(integer))\n",
    "    \n",
    "    for s in Messages.split(integer):  \n",
    "        str_length = [len(s) for s in Messages.split(3005)]\n",
    "        word_idx = Messages.split(integer).index(s)\n",
    "\n",
    "        for char in s:           \n",
    "            for idx in range(0, length):\n",
    "                char_list = [char for char in Messages.split(integer)[idx] if char in string.punctuation]\n",
    "                char_idx = [i for i,e in enumerate(Messages.split(integer)[idx]) if e in string.punctuation]\n",
    "\n",
    "        return str_length"
   ]
  },
  {
   "source": [
    "index of characters in the string which are punctuation"
   ],
   "cell_type": "markdown",
   "metadata": {}
  },
  {
   "cell_type": "code",
   "execution_count": 38,
   "metadata": {},
   "outputs": [
    {
     "output_type": "execute_result",
     "data": {
      "text/plain": [
       "[4, 25, 32, 74, 79, 84, 89, 124, 173, 179, 224]"
      ]
     },
     "metadata": {},
     "execution_count": 38
    }
   ],
   "source": [
    "[i for i,e in enumerate(swap(3005)) if e in replace_dict.keys()]"
   ]
  },
  {
   "cell_type": "code",
   "execution_count": 39,
   "metadata": {},
   "outputs": [
    {
     "output_type": "execute_result",
     "data": {
      "text/plain": [
       "['HUSSEIN',\n",
       " 'HUSSEIN',\n",
       " 'HUSSEIN',\n",
       " 'HUSSEIN',\n",
       " 'BRENNAN',\n",
       " 'KERRY',\n",
       " 'MERKEL',\n",
       " 'US',\n",
       " 'US',\n",
       " 'US',\n",
       " 'comms']"
      ]
     },
     "metadata": {},
     "execution_count": 39
    }
   ],
   "source": [
    "[e for i,e in enumerate(swap(3005)) if e in replace_dict.keys()]"
   ]
  },
  {
   "source": [
    "index and characters on the first string as a tuple"
   ],
   "cell_type": "markdown",
   "metadata": {}
  },
  {
   "cell_type": "code",
   "execution_count": 107,
   "metadata": {},
   "outputs": [
    {
     "output_type": "execute_result",
     "data": {
      "text/plain": [
       "[(5, ':'),\n",
       " (6, '/'),\n",
       " (7, '/'),\n",
       " (10, '.'),\n",
       " (18, '.'),\n",
       " (22, '/'),\n",
       " (30, '/'),\n",
       " (35, '-'),\n",
       " (43, '-'),\n",
       " (51, '-'),\n",
       " (61, '/'),\n",
       " (66, '-'),\n",
       " (77, '-'),\n",
       " (86, '-'),\n",
       " (94, '-'),\n",
       " (97, '-'),\n",
       " (102, '-'),\n",
       " (114, '-'),\n",
       " (121, '-'),\n",
       " (126, '-')]"
      ]
     },
     "metadata": {},
     "execution_count": 107
    }
   ],
   "source": [
    "[(i,e) for i,e in enumerate(Messages.split(3005)[0]) if e in string.punctuation]"
   ]
  },
  {
   "cell_type": "code",
   "execution_count": 93,
   "metadata": {},
   "outputs": [
    {
     "output_type": "execute_result",
     "data": {
      "text/plain": [
       "False"
      ]
     },
     "metadata": {},
     "execution_count": 93
    }
   ],
   "source": [
    "'AUTH' in replace_dict.keys()"
   ]
  },
  {
   "cell_type": "code",
   "execution_count": 92,
   "metadata": {},
   "outputs": [
    {
     "output_type": "execute_result",
     "data": {
      "text/plain": [
       "{' w ': 'with',\n",
       " '&': 'and',\n",
       " 'BRENNAN': 'John Brennan',\n",
       " 'COVID19': 'covid',\n",
       " 'D': 'Democrats',\n",
       " 'GOOG': 'Google',\n",
       " \"Gov't\": 'government',\n",
       " 'HUSSEIN': 'Barack Obama',\n",
       " 'ID': 'identification',\n",
       " 'KERRY': 'John Kerry',\n",
       " \"M's\": 'marshalls',\n",
       " 'MERKEL': 'Angela Merkel',\n",
       " 'MS-13': 'ms thirteen',\n",
       " 'MSM': 'mainstream media',\n",
       " 'No Such Agency': 'NSA',\n",
       " 'SA': 'Saudi Arabia',\n",
       " 'U.S.': 'United States',\n",
       " 'US': 'United States',\n",
       " '[D]': 'Democratic',\n",
       " 'comms': 'communications',\n",
       " \"d's\": 'democrats',\n",
       " 'ds': 'democrats',\n",
       " 'financial T': 'financial transactions',\n",
       " 'r v d': 'republicans vs democrats',\n",
       " \"r's\": 'republicans',\n",
       " 'rs': 'republicans',\n",
       " 'v': 'versus',\n",
       " 'v2': 'version two',\n",
       " 'w/': 'with'}"
      ]
     },
     "metadata": {},
     "execution_count": 92
    }
   ],
   "source": [
    "# sorted dict by creating a dict comprehension\n",
    "{k:v for k,v in zip(sorted(replace_dict.keys()), [replace_dict.get(i) for i in sorted(replace_dict.keys())])}"
   ]
  },
  {
   "cell_type": "code",
   "execution_count": null,
   "metadata": {},
   "outputs": [],
   "source": []
  }
 ],
 "metadata": {
  "kernelspec": {
   "name": "python3",
   "display_name": "Python 3.9.2 64-bit",
   "metadata": {
    "interpreter": {
     "hash": "aee8b7b246df8f9039afb4144a1f6fd8d2ca17a180786b69acc140d282b71a49"
    }
   }
  },
  "language_info": {
   "codemirror_mode": {
    "name": "ipython",
    "version": 3
   },
   "file_extension": ".py",
   "mimetype": "text/x-python",
   "name": "python",
   "nbconvert_exporter": "python",
   "pygments_lexer": "ipython3",
   "version": "3.9.2-final"
  }
 },
 "nbformat": 4,
 "nbformat_minor": 5
}