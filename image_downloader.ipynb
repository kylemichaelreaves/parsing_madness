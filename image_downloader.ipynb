{
 "cells": [
  {
   "cell_type": "markdown",
   "id": "expected-console",
   "metadata": {},
   "source": [
    "# Image Downloader\n",
    "#### This notebook is intended to implement a downloader\n",
    "#### Those images will be loaded back into the dataframe...eventually"
   ]
  },
  {
   "cell_type": "code",
   "execution_count": null,
   "id": "entire-concord",
   "metadata": {},
   "outputs": [],
   "source": [
    "# def image_downloader(url, folder):\n",
    "#    try:\n",
    "#        os.makedir(os.path.join(os.getcwd(), folder))\n",
    "#    except:\n",
    "#        pass\n",
    "#    os.chdir(os.path.join(os.getcwd(), folder))\n",
    "#    r = requests.get(url)\n",
    "#    soup = BeautifulSoup(r.text, 'html.parser')\n",
    "#    images = soup.find_all('img')\n",
    "#    for image in images:\n",
    "#        name = image['alt']\n",
    "#        link = image['src']\n",
    "#        with open(name):\n",
    "#            pass"
   ]
  },
  {
   "cell_type": "code",
   "execution_count": null,
   "metadata": {},
   "outputs": [],
   "source": [
    "# for figure in figures:\n",
    "#    name = figure.figcaption.text #[:-4]\n",
    "#    link = base_url + figure.a['href']            \n",
    "#    with open(name, 'wb') as f:\n",
    "#        im = requests.get(link)\n",
    "#        if name in os.listdir():\n",
    "#            print('Skipping: {0} is already in directory.'.format(name))\n",
    "#        if name not in os.listdir():\n",
    "#            f.write(im.content)\n",
    "#            print('Writing: ', name)"
   ]
  },
  {
   "cell_type": "code",
   "execution_count": null,
   "metadata": {},
   "outputs": [],
   "source": [
    "#names = [name.text for name in soup.findAll('figcaption')]\n",
    "#figures = soup.findAll('figure')\n",
    "#figure_links = [(base_url + figure.a['href']) for figure in figures]"
   ]
  },
  {
   "cell_type": "code",
   "execution_count": null,
   "metadata": {},
   "outputs": [],
   "source": [
    "# this loop is specifically for requesting image hyperlinks\n",
    "\n",
    "#number = 0\n",
    "#for r in r_s:\n",
    "#    if r.status_code == 200:\n",
    "#        with open(str(number)+'.jpg', 'wb') as f:\n",
    "#            number += 1\n",
    "#            r.raw_decode_content = True\n",
    "#            shutil.copyfileobj(r.raw, f)\n",
    "\n",
    "\n",
    "# image_url = plt.imread('https://qposts.online/assets/images/86995bcbf3259c3a976db841eebdafac17b46d8b2985574475a60a8608af1f0d.jpg')\n",
    "# plt.imshow(image_url)\n",
    "# plt.show()\n",
    "\n",
    "# img = mpim.imread('image1')\n",
    "# imgplot = plt.imshow(img)\n",
    "# plt.show()\n",
    "\n",
    "# plt.imshow(io.imread('democrat_party_crumbling_held_up_by_cnn_msnbc_cbs_nyt.jpg'))\n",
    "# [display(Image(file)) for file in file_list]\n",
    "# plt.imshow(io.imread('Elf4vVlWoAAJHjQ.jpg'))"
   ]
  }
 ],
 "metadata": {
  "kernelspec": {
   "display_name": "Python 3.9.1",
   "language": "python",
   "name": "python3"
  },
  "language_info": {
   "codemirror_mode": {
    "name": "ipython",
    "version": 3
   },
   "file_extension": ".py",
   "mimetype": "text/x-python",
   "name": "python",
   "nbconvert_exporter": "python",
   "pygments_lexer": "ipython3",
   "version": "3.9.1"
  }
 },
 "nbformat": 4,
 "nbformat_minor": 5
}