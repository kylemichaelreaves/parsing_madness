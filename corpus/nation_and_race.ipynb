{
 "cells": [
  {
   "cell_type": "code",
   "execution_count": 21,
   "id": "three-teacher",
   "metadata": {},
   "outputs": [],
   "source": [
    "import re\n",
    "import numpy as np\n",
    "import string\n",
    "\n",
    "from nltk import *\n",
    "from nltk.corpus import stopwords"
   ]
  },
  {
   "cell_type": "code",
   "execution_count": 3,
   "id": "seeing-trigger",
   "metadata": {},
   "outputs": [],
   "source": [
    "punct = string.punctuation + str('’') + str('“') + str('”') + str('‘') + str('–') + str('…')\n",
    "stop_words = set(stopwords.words('english'))"
   ]
  },
  {
   "cell_type": "code",
   "execution_count": 11,
   "id": "intermediate-showcase",
   "metadata": {},
   "outputs": [],
   "source": [
    "nation_and_race = open('/Users/kylereaves/Desktop/conspiratorial_texts/mein_kampf/11_race_and_nation.txt', 'r')\n",
    "content = nation_and_race.read()"
   ]
  },
  {
   "cell_type": "code",
   "execution_count": 12,
   "id": "immediate-desperate",
   "metadata": {},
   "outputs": [],
   "source": [
    "def clean_text(text):\n",
    "    text = re.sub(r'\\n', ' ', text)\n",
    "    text = re.sub('- ', '', text)\n",
    "    text = re.sub(r'[0-9]', '', text)\n",
    "    return text"
   ]
  },
  {
   "cell_type": "code",
   "execution_count": 13,
   "id": "explicit-cooling",
   "metadata": {},
   "outputs": [],
   "source": [
    "sentences = sent_tokenize(clean_text(content))\n",
    "words = [word_tokenize(sent) for sent in sentences],
   ]
  },
  {
   "cell_type": "code",
   "execution_count": 14,
   "id": "presidential-venture",
   "metadata": {},
   "outputs": [],
   "source": [
    "def split_sentences(sentences):\n",
    "    list = []\n",
    "    for sentence in sentences:\n",
    "        list.append(sentence.split())\n",
    "    return list"
   ]
  },
  {
   "cell_type": "code",
   "execution_count": 15,
   "id": "spiritual-agency",
   "metadata": {},
   "outputs": [],
   "source": [
    "tagged = [pos_tag(word) for word in words],
   ]
  },
  {
   "cell_type": "code",
   "execution_count": 22,
   "id": "compact-things",
   "metadata": {},
   "outputs": [],
   "source": [
    "string = ' '.join(sentences)"
   ]
  },
  {
   "cell_type": "code",
   "execution_count": 26,
   "id": "meaning-seller",
   "metadata": {},
   "outputs": [],
   "source": [
    "np.savetxt('nation_and_race.txt', [string], fmt='%s')"
   ]
  }
 ],
 "metadata": {
  "kernelspec": {
   "display_name": "Python 3.9.1",
   "language": "python",
   "name": "python3"
  },
  "language_info": {
   "codemirror_mode": {
    "name": "ipython",
    "version": 3
   },
   "file_extension": ".py",
   "mimetype": "text/x-python",
   "name": "python",
   "nbconvert_exporter": "python",
   "pygments_lexer": "ipython3",
   "version": "3.9.1"
  }
 },
 "nbformat": 4,
 "nbformat_minor": 5
}
