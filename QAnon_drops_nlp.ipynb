{
 "cells": [
  {
   "cell_type": "markdown",
   "metadata": {},
   "source": [
    "# Parsing Madness:\n",
    "## analyzing linguistic and thematic patterns in QAnon 'drops'\n",
    "## An exercise in web scraping, database creation and management, and natural language processing\n",
    "##### beautiful soup -> pandas dataframe\n",
    "##### request -> soup -> imgs and text -> pandas dataframe"
   ]
  },
  {
   "cell_type": "code",
   "execution_count": 1,
   "metadata": {},
   "outputs": [],
   "source": [
    "from bs4 import BeautifulSoup\n",
    "from itertools import islice, zip_longest \n",
    "from skimage import io\n",
    "import matplotlib.pyplot as plt\n",
    "import matplotlib.pyplot as mpim\n",
    "import requests\n",
    "import itertools\n",
    "import re\n",
    "import string \n",
    "import nltk\n",
    "from nltk.corpus import stopwords\n",
    "from nltk import RegexpParser, Tree\n",
    "from nltk.util import ngrams\n",
    "import shutil\n",
    "import urllib.request\n",
    "from urllib.request import Request, urlopen\n",
    "import os\n",
    "from IPython.display import Image\n",
    "import pandas as pd\n",
    "import numpy as np\n",
    "import datetime as dt\n",
    "import pickle\n",
    "from collections import Counter"
   ]
  },
  {
   "cell_type": "code",
   "execution_count": 2,
   "metadata": {},
   "outputs": [
    {
     "output_type": "execute_result",
     "data": {
      "text/plain": [
       "'/Users/kylereaves/Documents/GitHub/parsing_madness'"
      ]
     },
     "metadata": {},
     "execution_count": 2
    }
   ],
   "source": [
    "os.getcwd()"
   ]
  },
  {
   "cell_type": "code",
   "execution_count": 3,
   "metadata": {},
   "outputs": [],
   "source": [
    "base_url = 'https://qposts.online'\n",
    "# since there are 104 pages total, an object to capture them all is created\n",
    "urls = ['https://qposts.online/page/{}'.format(i) for i in range(1, 105)]\n",
    "# a list comprehension requesting each url\n",
    "requests_urls = [requests.get(url) for url in urls]\n",
    "# a soup object for all of the requests \n",
    "soups = [BeautifulSoup(url.text, 'html.parser') for url in requests_urls]\n",
    "\n",
    "# the images and content of message will serve as the data for the dataframe\n",
    "all_images = [soup.findAll('img') for soup in soups]\n",
    "all_messages = [soup.findAll('div', 'message') for soup in soups]\n",
    "# the information contained in meta will serve as the dataframe's index\n",
    "all_meta = [soup.findAll('div', {'class': ['meta', 'lar']}) for soup in soups]"
   ]
  },
  {
   "cell_type": "code",
   "execution_count": 4,
   "metadata": {},
   "outputs": [],
   "source": [
    "all_nums = []\n",
    "all_times = []\n",
    "for meta in all_meta:\n",
    "    for div in meta:\n",
    "        for span in div.findAll('span', {'class': ['num']}):\n",
    "            all_nums.append(span.text)\n",
    "        for span in div.findAll('span', {'class': ['time']}):\n",
    "            all_times.append(span.text)\n",
    "\n",
    "all_dates = pd.to_datetime(all_times, unit='s').date\n",
    "all_hours = pd.to_datetime(all_times, unit='s').time\n",
    "# some days Q posted multiple times; a multiindex is useful here\n",
    "all_multi = pd.MultiIndex.from_arrays([all_dates, all_hours], names=['date', 'hour'])\n",
    "\n",
    "\n",
    "# the website contains inconsistent tag use; the earliest posts use <br>'s\n",
    "# while the later posts use <p>; this needed to be accounted for with an if statement \n",
    "all_total = []\n",
    "for message in all_messages:\n",
    "    for msg in message:\n",
    "        inner = []\n",
    "        for br in msg.findAll('br'):\n",
    "            br.replace_with(' ')\n",
    "        for text in msg.findAll('div', class_='text'):\n",
    "            if text.next_element.name == 'p':\n",
    "                for p in text.findAll('p'):\n",
    "                    inner.append(p.get_text())\n",
    "            else:\n",
    "                inner.append(text.get_text())\n",
    "        for img in msg.findAll('img'):\n",
    "            inner.append(base_url+img['data-src'])\n",
    "        all_total.append([i for i in inner if i])"
   ]
  },
  {
   "cell_type": "code",
   "execution_count": 5,
   "metadata": {},
   "outputs": [
    {
     "output_type": "execute_result",
     "data": {
      "text/plain": [
       "\"with open('total_pickled.pkl', 'rb') as f:\\n    total_pickled = pickle.load(f)\""
      ]
     },
     "metadata": {},
     "execution_count": 5
    }
   ],
   "source": [
    "'''with open('total_pickled.pkl', 'rb') as f:\n",
    "    total_pickled = pickle.load(f)'''"
   ]
  },
  {
   "cell_type": "code",
   "execution_count": 6,
   "metadata": {},
   "outputs": [],
   "source": [
    "q_df = pd.DataFrame({'number': all_nums, 'q_drop': all_total}, index=all_multi)\n",
    "q_df['number'] = q_df['number'].astype('float')\n",
    "q_df['q_drop'] = q_df['q_drop'].astype('str')\n",
    "pd.set_option('display.max_colwidth', None)  \n",
    "\n",
    "def search(query):\n",
    "    query_df = q_df.loc[q_df.q_drop.str.contains(query)].copy()\n",
    "    return query_df"
   ]
  },
  {
   "cell_type": "code",
   "execution_count": 7,
   "metadata": {},
   "outputs": [],
   "source": [
    "#list(itertools.chain.from_iterable(total_pickled))"
   ]
  },
  {
   "cell_type": "code",
   "execution_count": 8,
   "metadata": {},
   "outputs": [
    {
     "output_type": "execute_result",
     "data": {
      "text/plain": [
       "\"names = [name.text for name in soup.findAll('figcaption')]\\nfigures = soup.findAll('figure')\\nfigure_links = [(base_url + figure.a['href']) for figure in figures]\""
      ]
     },
     "metadata": {},
     "execution_count": 8
    }
   ],
   "source": [
    "'''names = [name.text for name in soup.findAll('figcaption')]\n",
    "figures = soup.findAll('figure')\n",
    "figure_links = [(base_url + figure.a['href']) for figure in figures]'''"
   ]
  },
  {
   "cell_type": "code",
   "execution_count": 10,
   "metadata": {},
   "outputs": [],
   "source": [
    "def image_downloader(url, folder):\n",
    "    try:\n",
    "        os.makedir(os.path.join(os.getcwd(), folder))\n",
    "    except:\n",
    "        pass\n",
    "    os.chdir(os.path.join(os.getcwd(), folder))\n",
    "    r = requests.get(url)\n",
    "    soup = BeautifulSoup(r.text, 'html.parser')\n",
    "    images = soup.find_all('img')\n",
    "    for image in images:\n",
    "        name = image['alt']\n",
    "        link = image['src']\n",
    "        with open(name):\n",
    "            pass"
   ]
  },
  {
   "cell_type": "markdown",
   "metadata": {},
   "source": [
    "## function to download images"
   ]
  },
  {
   "cell_type": "code",
   "execution_count": 16,
   "metadata": {},
   "outputs": [
    {
     "name": "stdout",
     "output_type": "stream",
     "text": [
      "Skipping: GodBlessAmerica.png is already in directory.\n",
      "Skipping: largest_flying_flag_in_america.jpg is already in directory.\n",
      "Skipping: Elf4vVlWoAAJHjQ.jpg is already in directory.\n",
      "Skipping: Elf4vVoW0AUO87D.jpg is already in directory.\n",
      "Skipping: Elf4vVkX0AAMM0b.jpg is already in directory.\n",
      "Skipping: Elf4vVpXUAE04fm.jpg is already in directory.\n",
      "Skipping: Screen_Shot_2020_10_22_at_6_48_37_PM.png is already in directory.\n",
      "Skipping: 1603384746326.jpg is already in directory.\n",
      "Skipping: EJ6EtDcWoAAnhTJ.png is already in directory.\n",
      "Skipping: EJ6EtDjWsAE4e7H.png is already in directory.\n",
      "Skipping: EJ6EtDYXYAEr4sZ.png is already in directory.\n",
      "Skipping: Bishop.jpg is already in directory.\n",
      "Skipping: David_Bowdich.jpg is already in directory.\n",
      "Skipping: Haspel.jpg is already in directory.\n",
      "Skipping: EdWDTBXVcAAwnm0.png is already in directory.\n",
      "Skipping: Ek4G8urXIAEKasf.jpg is already in directory.\n",
      "Skipping: EMAqDm9UUAE3wDQ.png is already in directory.\n",
      "Skipping: ELT3m8uXYAAWTPV.jpg is already in directory.\n",
      "Skipping: Dkrr0VeXgAArTN3.jpg is already in directory.\n",
      "Skipping: EJ380AEUcAAfI_w.jpg is already in directory.\n",
      "Skipping: D0MMzlYX4AEDm_u.jpg is already in directory.\n",
      "Skipping: 7ey66blhcww31.jpg is already in directory.\n",
      "Skipping: democrat_party_crumbling_held_up_by_cnn_msnbc_cbs_nyt.jpg is already in directory.\n",
      "Skipping: The_Great_Awakening_Crowd_Meme_570x350.jpg is already in directory.\n",
      "Skipping: Eb8qK6QU4AAV1NH.jpg is already in directory.\n",
      "Skipping: EFRvhYTXUAAo08y.jpg is already in directory.\n"
     ]
    }
   ],
   "source": [
    "for figure in figures:\n",
    "    name = figure.figcaption.text #[:-4]\n",
    "    link = base_url + figure.a['href']            \n",
    "    with open(name, 'wb') as f:\n",
    "        im = requests.get(link)\n",
    "        if name in os.listdir():\n",
    "            print('Skipping: {0} is already in directory.'.format(name))\n",
    "        if name not in os.listdir():\n",
    "            f.write(im.content)\n",
    "            print('Writing: ', name)"
   ]
  },
  {
   "cell_type": "markdown",
   "metadata": {},
   "source": [
    "## request and display the links in links"
   ]
  },
  {
   "cell_type": "code",
   "execution_count": 15,
   "metadata": {},
   "outputs": [
    {
     "output_type": "execute_result",
     "data": {
      "text/plain": [
       "\"number = 0\\nfor r in r_s:\\n    if r.status_code == 200:\\n        with open(str(number)+'.jpg', 'wb') as f:\\n            number += 1\\n            r.raw_decode_content = True\\n            shutil.copyfileobj(r.raw, f)\""
      ]
     },
     "metadata": {},
     "execution_count": 15
    }
   ],
   "source": [
    "# this loop is specifically for requesting image hyperlinks\n",
    "\n",
    "\"\"\"number = 0\n",
    "for r in r_s:\n",
    "    if r.status_code == 200:\n",
    "        with open(str(number)+'.jpg', 'wb') as f:\n",
    "            number += 1\n",
    "            r.raw_decode_content = True\n",
    "            shutil.copyfileobj(r.raw, f)\"\"\""
   ]
  },
  {
   "cell_type": "code",
   "execution_count": 16,
   "metadata": {},
   "outputs": [],
   "source": [
    "# image_url = plt.imread('https://qposts.online/assets/images/86995bcbf3259c3a976db841eebdafac17b46d8b2985574475a60a8608af1f0d.jpg')\n",
    "# plt.imshow(image_url)\n",
    "# plt.show()"
   ]
  },
  {
   "cell_type": "code",
   "execution_count": 17,
   "metadata": {},
   "outputs": [
    {
     "output_type": "execute_result",
     "data": {
      "text/plain": [
       "\"img = mpim.imread('image1')\\nimgplot = plt.imshow(img)\\nplt.show()\""
      ]
     },
     "metadata": {},
     "execution_count": 17
    }
   ],
   "source": [
    "'''img = mpim.imread('image1')\n",
    "imgplot = plt.imshow(img)\n",
    "plt.show()'''"
   ]
  },
  {
   "cell_type": "code",
   "execution_count": 18,
   "metadata": {},
   "outputs": [
    {
     "output_type": "execute_result",
     "data": {
      "text/plain": [
       "\"plt.imshow(io.imread('democrat_party_crumbling_held_up_by_cnn_msnbc_cbs_nyt.jpg'))\""
      ]
     },
     "metadata": {},
     "execution_count": 18
    }
   ],
   "source": [
    "'''plt.imshow(io.imread('democrat_party_crumbling_held_up_by_cnn_msnbc_cbs_nyt.jpg'))'''"
   ]
  },
  {
   "cell_type": "code",
   "execution_count": 19,
   "metadata": {},
   "outputs": [],
   "source": [
    "# [display(Image(file)) for file in file_list]"
   ]
  },
  {
   "cell_type": "code",
   "execution_count": 20,
   "metadata": {},
   "outputs": [
    {
     "output_type": "execute_result",
     "data": {
      "text/plain": [
       "\"plt.imshow(io.imread('Elf4vVlWoAAJHjQ.jpg'))\""
      ]
     },
     "metadata": {},
     "execution_count": 20
    }
   ],
   "source": [
    "'''plt.imshow(io.imread('Elf4vVlWoAAJHjQ.jpg'))'''"
   ]
  },
  {
   "source": [
    "## Natural Language Processing\n",
    "\n",
    "**steps for cleaning data**:\n",
    "* concact text into one string\n",
    "* make the text lowercase\n",
    "* remove punctuation \n",
    "* remove urls\n",
    "* remove numbers"
   ],
   "cell_type": "markdown",
   "metadata": {}
  },
  {
   "cell_type": "code",
   "execution_count": 9,
   "metadata": {},
   "outputs": [],
   "source": [
    "only_text = []\n",
    "for message in all_messages:\n",
    "    for msg in message:\n",
    "        inner = []\n",
    "        for br in msg.findAll('br'):\n",
    "            br.replace_with(' ')\n",
    "        for text in msg.findAll('div', class_='text'):\n",
    "            if text.next_element.name == 'p':\n",
    "                for p in text.findAll('p'):\n",
    "                    inner.append(p.get_text())\n",
    "        only_text.append([i for i in inner if i])"
   ]
  },
  {
   "cell_type": "code",
   "execution_count": 10,
   "metadata": {},
   "outputs": [],
   "source": [
    "flat_only_text = list(itertools.chain.from_iterable(only_text))\n",
    "str_flat_only_text = str(flat_only_text)\n",
    "punct = string.punctuation"
   ]
  },
  {
   "cell_type": "code",
   "execution_count": 11,
   "metadata": {},
   "outputs": [],
   "source": [
    "def text_cleaning(text):\n",
    "    text = re.sub(r'http\\S+', '', text)\n",
    "    text = re.sub(r'[[\\]]', '', text)\n",
    "    text = re.sub('[%s]' % re.escape(punct), '', text)\n",
    "    text = re.sub(r'\\\\u2002', '', text)\n",
    "    text = re.sub(r'>>\\d+', '', text)\n",
    "    text = re.sub(r'\\w+.jp(e*)g|\\w+.png', '', text)\n",
    "    text = re.sub(r'\\t', '', text)\n",
    "    text = re.sub(r'…|_|!', '', text)\n",
    "    return text"
   ]
  },
  {
   "cell_type": "code",
   "execution_count": 12,
   "metadata": {},
   "outputs": [],
   "source": [
    "cleaned_text = text_cleaning(str_flat_only_text)\n",
    "tokens = [word for word in nltk.word_tokenize(cleaned_text) if word not in punct]\n",
    "pos_tags = nltk.pos_tag(tokens)"
   ]
  },
  {
   "cell_type": "code",
   "execution_count": 13,
   "metadata": {},
   "outputs": [],
   "source": [
    "cleaned_text = []\n",
    "for text in only_text:\n",
    "    for i in text:\n",
    "        cleaned_text.append(text_cleaning(i))"
   ]
  },
  {
   "source": [
    "'Q' is a stopword that would obscure the analysis of the text"
   ],
   "cell_type": "markdown",
   "metadata": {}
  },
  {
   "cell_type": "code",
   "execution_count": 21,
   "metadata": {},
   "outputs": [],
   "source": [
    "flat_cleaned_text = [text for text in cleaned_text if text and text != 'Q']"
   ]
  },
  {
   "cell_type": "code",
   "execution_count": 27,
   "metadata": {},
   "outputs": [],
   "source": [
    "stopped = [nltk.word_tokenize(tokens) for tokens in flat_cleaned_text]\n",
    "tagged = [nltk.pos_tag(stop) for stop in stopped]"
   ]
  },
  {
   "cell_type": "code",
   "execution_count": 18,
   "metadata": {},
   "outputs": [
    {
     "output_type": "execute_result",
     "data": {
      "text/plain": [
       "                     number  \\\n",
       "date       hour               \n",
       "2019-11-11 23:23:51  3581.0   \n",
       "2018-12-06 23:56:20  2561.0   \n",
       "2018-12-03 22:41:45  2546.0   \n",
       "2018-06-28 16:33:42  1621.0   \n",
       "2017-11-22 01:18:17   179.0   \n",
       "2017-11-02 18:44:21    55.0   \n",
       "\n",
       "                                                                                                                                                                                                                                                                                                                                                                                                                                                                                                                                                                                                                                                                                                                                                                                                                                                                                                                                                                                                                                                                                                                                                                                                                                                                                                                                                                                                                                                                                                                                                                                                                                                                                                                                                                                    q_drop  \n",
       "date       hour                                                                                                                                                                                                                                                                                                                                                                                                                                                                                                                                                                                                                                                                                                                                                                                                                                                                                                                                                                                                                                                                                                                                                                                                                                                                                                                                                                                                                                                                                                                                                                                                                                                                                                                                                                             \n",
       "2019-11-11 23:23:51                                                                                                                                                                                                                                                                                                                                                                                                                                                                                                                                                                                                                                                                                                                                                                                                                                                                                                                                                                                                                             ['\"Calm Before the Storm.\" - POTUS', \"Month/Day 'Q' public campaign initiated? \", \"Month/Day 'Durham' initiated?\", 'What famous crime family did Durham target?', '\"Also spearheaded mob prosecutions of the [Gambino], Genovese and Patriarca crime families.\"', 'http://content.time.com/time/nation/article/0,8599,1918738,00.html', 'What AB[C] agency did Durham target?', 'How are messages sent?', 'https://www.rollingstone.com/culture/culture-news/frank-cali-murder-mafia-boss-qanon-motive-anthony-comello-861777/', '[Dec 12 2018] ', '\"What if there\\'s another prosecutor (outside of DC) assigned by SESSIONS w/ the same mandate/authority?\" - Q', 'Do you believe in coincidences?', '5:5?', 'Be ready, Patriots.', 'Q']  \n",
       "2018-12-06 23:56:20                                                                                                                                                                                                                                                                                                                                                                                                                                                               ['>>4186896https://thehill.com/opinion/white-house/420131-feds-received-whistleblower-evidence-in-2017-alleging-clinton-foundationRead carefully.Why is \"The Clinton Foundation\" back in the news?Q', 'https://thehill.com/opinion/white-house/420131-feds-received-whistleblower-evidence-in-2017-alleging-clinton-foundation', 'Read carefully.', 'Why is \"The Clinton Foundation\" back in the news?', 'Q', 'When did POTUS make the statement \"Calm Before the Storm?\"', 'When was HUBER activated by SESSIONS?', 'Who was/is assigned to HUBER?', 'ACTING AG PRIMARY PURPOSE?', 'SCARAMUCCI MODEL?', 'PUBLIC OPINION (OPTICS) DO NOT MATTER.', 'What was leaked today (on purpose?)?', 'https://twitter.com/johnrobertsFox/status/1070749777334292481', 'HUBER to testify re: Clinton Foundation?', \"HUBER to reveal 'active' probe actively underway into organization?\", \"OIG to release report #2 [overview indicating many 'potentially criminal referrals' made]?\", '\"We do not discuss active/ongoing DOJ / FBI investigations.\"', 'MIL INTEL', 'FISA', 'THE WORLD IS WATCHING.', 'Q', 'https://thehill.com/opinion/white-house/420131-feds-received-whistleblower-evidence-in-2017-alleging-clinton-foundation', 'Read carefully.', 'Why is \"The Clinton Foundation\" back in the news?', 'Q']  \n",
       "2018-12-03 22:41:45                                                                                                                                                                                                                                                                                                                                                                                                                                                                                                                                                                                                                                                                                                                                                                                                                                                                                                                                                                                                                    ['>>4134817>>4134775Okay. Is the plot moving forward? I think we all understand the characters and conflict at this point. Time for the plot twist? Declas, FINALLY?', '>>4134775', 'Okay. Is the plot moving forward? I think we all understand the characters and conflict at this point. Time for the plot twist? Declas, FINALLY?', 'The President of the United States initiated and confirmed the order when he stated \"The Calm Before the Storm.\"', 'When was the statement made?', 'When did \"Q\" go active?', 'Watch the News.', 'Watch the FBI.', 'Watch the DOJ.', 'Q', '>>4134775', 'Okay. Is the plot moving forward? I think we all understand the characters and conflict at this point. Time for the plot twist? Declas, FINALLY?']  \n",
       "2018-06-28 16:33:42                                                                                                                                                                                                                                                                                                                                                                                                                                                                                                                                                                                                                                                                                                                                                                                                                                                                                                                                                                                                                                                                                                                                                                                                                                                                                                                                                                                  ['We remember you, Mr. VIP! https://mobile.twitter.com/Q_ANONBaby/status/1012232994646581248 WWG1WGA! Where did the Storm derive from? Some things leave lasting impressions. Listen carefully. https://m.youtube.com/watch?v=B5T7Gr5oJbM&feature=youtu.be When did POTUS make the statement? When did we arrive to start the awakening? You have more than you know. Fireworks. Q ']  \n",
       "2017-11-22 01:18:17  ['>>150398185>>150395774 >What stringer was provided (2) days prior to event? _Conf_D-TT_^_v891_0600_yes _green1_0600 Bunker Apple Yellow Sky [… + 1]  confirm 0600 (time) yes Green 0600 (time) Base Green Yellow (condition yellow?) Air  >What were the keywords in the stringer? confirm green Yellow Sky   >Guide to reading map? legend, past provides the future, questions provide the answers  >Lord d R. ++ target  >Who was the pilot of the plane? Green  >What was countered? Unknown to us  >Who was on the ground (outside) shortly before the collision?  \"Unnamed\" Rothschild  >Who was in the home shortly before the collision? Unknown to us now, was \"dog grooming event\"  >Learn to read the map. trying really hard, is like herding kittens in here sometimes  >We may have overestimated your ability. you came to us for certain strengths but there are weaknesses as well, some being exploited not enough focus  answer the questions build the big picture break it back down make memes for the normies to calm & educate  so we\\'ll be ready for the StormShadow war. Act II, Scene IV. (Movie idea – thoughts?) (Characters) Good guy (pilot of helicopter). Bad guy (pilot of plane). Targets (on ground and in home). (Story) Upon receipt of the ‘go’ code - Good guy flies during a blackout window provided by unknown agency w/ unknowns (ordinary people by the look of it) to a select location (re: highly classified mission) who was given the \\'go\\' order by \\'x\\' to execute (delivery – (3) for care_). Bad guy intercepts message due to rogue operator embedded in tactical observation unit and takes out Good guy by top down invisible attack.  Mission failure. Encore: What has since occurred by Targets? Q']  \n",
       "2017-11-02 18:44:21                                                                                                                                                                                                                                                                                                                                                                                                                                                                                                                                                                                                                                                                                                                                                                                                                                                                                                                                                                                                                                                                                                                                                                                                                                                                                                                                                                                                                                                                                                                                                                                                                                                                       ['Look to Twitter: Exactly this: \"My fellow Americans, the Storm is upon us.......\" God bless.']  "
      ],
      "text/html": "<div>\n<style scoped>\n    .dataframe tbody tr th:only-of-type {\n        vertical-align: middle;\n    }\n\n    .dataframe tbody tr th {\n        vertical-align: top;\n    }\n\n    .dataframe thead th {\n        text-align: right;\n    }\n</style>\n<table border=\"1\" class=\"dataframe\">\n  <thead>\n    <tr style=\"text-align: right;\">\n      <th></th>\n      <th></th>\n      <th>number</th>\n      <th>q_drop</th>\n    </tr>\n    <tr>\n      <th>date</th>\n      <th>hour</th>\n      <th></th>\n      <th></th>\n    </tr>\n  </thead>\n  <tbody>\n    <tr>\n      <th>2019-11-11</th>\n      <th>23:23:51</th>\n      <td>3581.0</td>\n      <td>['\"Calm Before the Storm.\" - POTUS', \"Month/Day 'Q' public campaign initiated? \", \"Month/Day 'Durham' initiated?\", 'What famous crime family did Durham target?', '\"Also spearheaded mob prosecutions of the [Gambino], Genovese and Patriarca crime families.\"', 'http://content.time.com/time/nation/article/0,8599,1918738,00.html', 'What AB[C] agency did Durham target?', 'How are messages sent?', 'https://www.rollingstone.com/culture/culture-news/frank-cali-murder-mafia-boss-qanon-motive-anthony-comello-861777/', '[Dec 12 2018] ', '\"What if there\\'s another prosecutor (outside of DC) assigned by SESSIONS w/ the same mandate/authority?\" - Q', 'Do you believe in coincidences?', '5:5?', 'Be ready, Patriots.', 'Q']</td>\n    </tr>\n    <tr>\n      <th>2018-12-06</th>\n      <th>23:56:20</th>\n      <td>2561.0</td>\n      <td>['&gt;&gt;4186896https://thehill.com/opinion/white-house/420131-feds-received-whistleblower-evidence-in-2017-alleging-clinton-foundationRead carefully.Why is \"The Clinton Foundation\" back in the news?Q', 'https://thehill.com/opinion/white-house/420131-feds-received-whistleblower-evidence-in-2017-alleging-clinton-foundation', 'Read carefully.', 'Why is \"The Clinton Foundation\" back in the news?', 'Q', 'When did POTUS make the statement \"Calm Before the Storm?\"', 'When was HUBER activated by SESSIONS?', 'Who was/is assigned to HUBER?', 'ACTING AG PRIMARY PURPOSE?', 'SCARAMUCCI MODEL?', 'PUBLIC OPINION (OPTICS) DO NOT MATTER.', 'What was leaked today (on purpose?)?', 'https://twitter.com/johnrobertsFox/status/1070749777334292481', 'HUBER to testify re: Clinton Foundation?', \"HUBER to reveal 'active' probe actively underway into organization?\", \"OIG to release report #2 [overview indicating many 'potentially criminal referrals' made]?\", '\"We do not discuss active/ongoing DOJ / FBI investigations.\"', 'MIL INTEL', 'FISA', 'THE WORLD IS WATCHING.', 'Q', 'https://thehill.com/opinion/white-house/420131-feds-received-whistleblower-evidence-in-2017-alleging-clinton-foundation', 'Read carefully.', 'Why is \"The Clinton Foundation\" back in the news?', 'Q']</td>\n    </tr>\n    <tr>\n      <th>2018-12-03</th>\n      <th>22:41:45</th>\n      <td>2546.0</td>\n      <td>['&gt;&gt;4134817&gt;&gt;4134775Okay. Is the plot moving forward? I think we all understand the characters and conflict at this point. Time for the plot twist? Declas, FINALLY?', '&gt;&gt;4134775', 'Okay. Is the plot moving forward? I think we all understand the characters and conflict at this point. Time for the plot twist? Declas, FINALLY?', 'The President of the United States initiated and confirmed the order when he stated \"The Calm Before the Storm.\"', 'When was the statement made?', 'When did \"Q\" go active?', 'Watch the News.', 'Watch the FBI.', 'Watch the DOJ.', 'Q', '&gt;&gt;4134775', 'Okay. Is the plot moving forward? I think we all understand the characters and conflict at this point. Time for the plot twist? Declas, FINALLY?']</td>\n    </tr>\n    <tr>\n      <th>2018-06-28</th>\n      <th>16:33:42</th>\n      <td>1621.0</td>\n      <td>['We remember you, Mr. VIP! https://mobile.twitter.com/Q_ANONBaby/status/1012232994646581248 WWG1WGA! Where did the Storm derive from? Some things leave lasting impressions. Listen carefully. https://m.youtube.com/watch?v=B5T7Gr5oJbM&amp;feature=youtu.be When did POTUS make the statement? When did we arrive to start the awakening? You have more than you know. Fireworks. Q ']</td>\n    </tr>\n    <tr>\n      <th>2017-11-22</th>\n      <th>01:18:17</th>\n      <td>179.0</td>\n      <td>['&gt;&gt;150398185&gt;&gt;150395774 &gt;What stringer was provided (2) days prior to event? _Conf_D-TT_^_v891_0600_yes _green1_0600 Bunker Apple Yellow Sky [… + 1]  confirm 0600 (time) yes Green 0600 (time) Base Green Yellow (condition yellow?) Air  &gt;What were the keywords in the stringer? confirm green Yellow Sky   &gt;Guide to reading map? legend, past provides the future, questions provide the answers  &gt;Lord d R. ++ target  &gt;Who was the pilot of the plane? Green  &gt;What was countered? Unknown to us  &gt;Who was on the ground (outside) shortly before the collision?  \"Unnamed\" Rothschild  &gt;Who was in the home shortly before the collision? Unknown to us now, was \"dog grooming event\"  &gt;Learn to read the map. trying really hard, is like herding kittens in here sometimes  &gt;We may have overestimated your ability. you came to us for certain strengths but there are weaknesses as well, some being exploited not enough focus  answer the questions build the big picture break it back down make memes for the normies to calm &amp; educate  so we\\'ll be ready for the StormShadow war. Act II, Scene IV. (Movie idea – thoughts?) (Characters) Good guy (pilot of helicopter). Bad guy (pilot of plane). Targets (on ground and in home). (Story) Upon receipt of the ‘go’ code - Good guy flies during a blackout window provided by unknown agency w/ unknowns (ordinary people by the look of it) to a select location (re: highly classified mission) who was given the \\'go\\' order by \\'x\\' to execute (delivery – (3) for care_). Bad guy intercepts message due to rogue operator embedded in tactical observation unit and takes out Good guy by top down invisible attack.  Mission failure. Encore: What has since occurred by Targets? Q']</td>\n    </tr>\n    <tr>\n      <th>2017-11-02</th>\n      <th>18:44:21</th>\n      <td>55.0</td>\n      <td>['Look to Twitter: Exactly this: \"My fellow Americans, the Storm is upon us.......\" God bless.']</td>\n    </tr>\n  </tbody>\n</table>\n</div>"
     },
     "metadata": {},
     "execution_count": 18
    }
   ],
   "source": [
    "search('the Storm')"
   ]
  },
  {
   "cell_type": "code",
   "execution_count": null,
   "metadata": {},
   "outputs": [],
   "source": []
  }
 ],
 "metadata": {
  "kernelspec": {
   "display_name": "Python 3.9.1",
   "language": "python",
   "name": "python3"
  },
  "language_info": {
   "codemirror_mode": {
    "name": "ipython",
    "version": 3
   },
   "file_extension": ".py",
   "mimetype": "text/x-python",
   "name": "python",
   "nbconvert_exporter": "python",
   "pygments_lexer": "ipython3",
   "version": "3.9.1-final"
  },
  "toc-autonumbering": false,
  "toc-showcode": false,
  "toc-showmarkdowntxt": true,
  "toc-showtags": false
 },
 "nbformat": 4,
 "nbformat_minor": 4
}